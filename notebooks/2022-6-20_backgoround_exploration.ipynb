{
 "cells": [
  {
   "cell_type": "markdown",
   "id": "b2120292-996e-45c4-8e36-36d7f8679c2b",
   "metadata": {},
   "source": [
    "# Background creation and parameter exploration"
   ]
  },
  {
   "cell_type": "markdown",
   "id": "508f1d00-e66b-40d9-afc5-51e116abdff1",
   "metadata": {},
   "source": [
    "## Explored\n",
    "- Creation of a flat background/seq\n",
    "- Influencial parameters in creating a flat background/seq"
   ]
  },
  {
   "cell_type": "markdown",
   "id": "0a72050b-55a4-41ff-8627-ff82fdc49ebc",
   "metadata": {},
   "source": [
    "## Goal\n",
    "- Obtain a standard set of parameters for creating a flat seq."
   ]
  },
  {
   "cell_type": "code",
   "execution_count": 1,
   "id": "881fe14f-e758-4108-bc95-c0cb75361b7f",
   "metadata": {},
   "outputs": [],
   "source": [
    "# Importing libraries\n",
    "\n",
    "from basenji import dataset, seqnn, dna_io,stream\n",
    "import matplotlib.pyplot as plt\n",
    "import matplotlib.gridspec as gridspec\n",
    "import bioframe \n",
    "import pandas as pd\n",
    "import numpy as np \n",
    "import os\n",
    "import json\n",
    "from io import StringIO\n",
    "import seaborn as sns\n",
    "import akita_utils \n",
    "import tensorflow as tf\n",
    "import pysam\n",
    "import h5py"
   ]
  },
  {
   "cell_type": "markdown",
   "id": "0332a607-88fb-4866-ae63-97e3e40dca1e",
   "metadata": {},
   "source": [
    "# Getting genomic data"
   ]
  },
  {
   "cell_type": "code",
   "execution_count": 2,
   "id": "d9d213b2-895c-40bc-80b4-674a6415c76f",
   "metadata": {},
   "outputs": [],
   "source": [
    "genome_fasta = '/project/fudenber_735/genomes/mm10/mm10.fa'\n",
    "genome_open = pysam.Fastafile(genome_fasta)"
   ]
  },
  {
   "cell_type": "markdown",
   "id": "5c4fa0d4-eeff-4733-9f60-19e4e1ab7a52",
   "metadata": {},
   "source": [
    "# Loading akita model"
   ]
  },
  {
   "cell_type": "code",
   "execution_count": 3,
   "id": "40a0bf0d-860a-4b3c-9ef9-13dd4f319b7a",
   "metadata": {},
   "outputs": [
    {
     "name": "stdout",
     "output_type": "stream",
     "text": [
      "2.4.1\n"
     ]
    },
    {
     "name": "stderr",
     "output_type": "stream",
     "text": [
      "2022-07-25 12:10:48.391185: I tensorflow/core/platform/cpu_feature_guard.cc:142] This TensorFlow binary is optimized with oneAPI Deep Neural Network Library (oneDNN) to use the following CPU instructions in performance-critical operations:  SSE4.1 SSE4.2 AVX AVX2 AVX512F FMA\n",
      "To enable them in other operations, rebuild TensorFlow with the appropriate compiler flags.\n"
     ]
    },
    {
     "name": "stdout",
     "output_type": "stream",
     "text": [
      "built\n",
      "restored\n"
     ]
    },
    {
     "data": {
      "text/plain": [
       "(512, 130305, (130305,))"
      ]
     },
     "execution_count": 3,
     "metadata": {},
     "output_type": "execute_result"
    }
   ],
   "source": [
    "os.environ[\"CUDA_VISIBLE_DEVICES\"] = '-1'\n",
    "print(tf.__version__)\n",
    "\n",
    "head_i = 1 #mouse\n",
    "model_num = 1 #which fold to use\n",
    "\n",
    "base_dir = '/project/fudenber_735/tensorflow_models/akita/v2/models/'\n",
    "model_dir = base_dir+\"/f\"+str(model_num)+\"c0/train/\"\n",
    "model_file  = model_dir+'/model'+str(head_i)+'_best.h5'\n",
    "\n",
    "params_file = model_dir+'/params.json'\n",
    "with open(params_file) as params_open:\n",
    "    params = json.load(params_open)\n",
    "    params_model = params['model']\n",
    "    params_train = params['train']\n",
    "seq_length = params_model['seq_length']\n",
    "params_model['verbose'] = False\n",
    "seqnn_model = seqnn.SeqNN(params_model)\n",
    "print('built')\n",
    "seqnn_model.restore(model_file, head_i=head_i)\n",
    "print('restored')\n",
    "\n",
    "hic_diags = params_model['diagonal_offset']\n",
    "try:\n",
    "    target_crop = params_model['trunk'][-2]['cropping']\n",
    "except:\n",
    "    target_crop = params_model['target_crop']\n",
    "target_length_cropped = int((seq_length//2048 - target_crop*2 - hic_diags)* ((seq_length//2048 - target_crop*2 - hic_diags) +1)/2) \n",
    "target_map_size = seq_length//2048  - target_crop*2 \n",
    "triu_tup = np.triu_indices(target_map_size,2)\n",
    "target_map_size, target_length_cropped, triu_tup[0].shape"
   ]
  },
  {
   "cell_type": "markdown",
   "id": "813b2086-efa8-41c7-a5b3-5e1ae2728031",
   "metadata": {},
   "source": [
    "# Fetching chromosome data to explore background creation"
   ]
  },
  {
   "cell_type": "code",
   "execution_count": 4,
   "id": "9c6cd103-e89a-4963-9fa4-e8d24e2b54ea",
   "metadata": {},
   "outputs": [
    {
     "data": {
      "text/html": [
       "<div>\n",
       "<style scoped>\n",
       "    .dataframe tbody tr th:only-of-type {\n",
       "        vertical-align: middle;\n",
       "    }\n",
       "\n",
       "    .dataframe tbody tr th {\n",
       "        vertical-align: top;\n",
       "    }\n",
       "\n",
       "    .dataframe thead th {\n",
       "        text-align: right;\n",
       "    }\n",
       "</style>\n",
       "<table border=\"1\" class=\"dataframe\">\n",
       "  <thead>\n",
       "    <tr style=\"text-align: right;\">\n",
       "      <th></th>\n",
       "      <th>chrom</th>\n",
       "      <th>start</th>\n",
       "      <th>end</th>\n",
       "      <th>GC</th>\n",
       "    </tr>\n",
       "  </thead>\n",
       "  <tbody>\n",
       "    <tr>\n",
       "      <th>0</th>\n",
       "      <td>chr1</td>\n",
       "      <td>40415232</td>\n",
       "      <td>41725952</td>\n",
       "      <td>0.407777</td>\n",
       "    </tr>\n",
       "    <tr>\n",
       "      <th>1</th>\n",
       "      <td>chr1</td>\n",
       "      <td>42708992</td>\n",
       "      <td>44019712</td>\n",
       "      <td>0.424985</td>\n",
       "    </tr>\n",
       "    <tr>\n",
       "      <th>2</th>\n",
       "      <td>chr1</td>\n",
       "      <td>42053632</td>\n",
       "      <td>43364352</td>\n",
       "      <td>0.424847</td>\n",
       "    </tr>\n",
       "    <tr>\n",
       "      <th>3</th>\n",
       "      <td>chr1</td>\n",
       "      <td>41725952</td>\n",
       "      <td>43036672</td>\n",
       "      <td>0.411407</td>\n",
       "    </tr>\n",
       "    <tr>\n",
       "      <th>4</th>\n",
       "      <td>chr1</td>\n",
       "      <td>43036672</td>\n",
       "      <td>44347392</td>\n",
       "      <td>0.417725</td>\n",
       "    </tr>\n",
       "    <tr>\n",
       "      <th>...</th>\n",
       "      <td>...</td>\n",
       "      <td>...</td>\n",
       "      <td>...</td>\n",
       "      <td>...</td>\n",
       "    </tr>\n",
       "    <tr>\n",
       "      <th>6033</th>\n",
       "      <td>chrX</td>\n",
       "      <td>99241984</td>\n",
       "      <td>100552704</td>\n",
       "      <td>0.424162</td>\n",
       "    </tr>\n",
       "    <tr>\n",
       "      <th>6034</th>\n",
       "      <td>chrX</td>\n",
       "      <td>120532992</td>\n",
       "      <td>121843712</td>\n",
       "      <td>0.367963</td>\n",
       "    </tr>\n",
       "    <tr>\n",
       "      <th>6035</th>\n",
       "      <td>chrX</td>\n",
       "      <td>139360256</td>\n",
       "      <td>140670976</td>\n",
       "      <td>0.407839</td>\n",
       "    </tr>\n",
       "    <tr>\n",
       "      <th>6036</th>\n",
       "      <td>chrX</td>\n",
       "      <td>128737280</td>\n",
       "      <td>130048000</td>\n",
       "      <td>0.370827</td>\n",
       "    </tr>\n",
       "    <tr>\n",
       "      <th>6037</th>\n",
       "      <td>chrX</td>\n",
       "      <td>101535744</td>\n",
       "      <td>102846464</td>\n",
       "      <td>0.430301</td>\n",
       "    </tr>\n",
       "  </tbody>\n",
       "</table>\n",
       "<p>6038 rows × 4 columns</p>\n",
       "</div>"
      ],
      "text/plain": [
       "     chrom      start        end        GC\n",
       "0     chr1   40415232   41725952  0.407777\n",
       "1     chr1   42708992   44019712  0.424985\n",
       "2     chr1   42053632   43364352  0.424847\n",
       "3     chr1   41725952   43036672  0.411407\n",
       "4     chr1   43036672   44347392  0.417725\n",
       "...    ...        ...        ...       ...\n",
       "6033  chrX   99241984  100552704  0.424162\n",
       "6034  chrX  120532992  121843712  0.367963\n",
       "6035  chrX  139360256  140670976  0.407839\n",
       "6036  chrX  128737280  130048000  0.370827\n",
       "6037  chrX  101535744  102846464  0.430301\n",
       "\n",
       "[6038 rows x 4 columns]"
      ]
     },
     "execution_count": 4,
     "metadata": {},
     "output_type": "execute_result"
    }
   ],
   "source": [
    "chromsizes = bioframe.read_chromsizes('/project/fudenber_735/tensorflow_models/akita/v2/data/mm10/sequences.bed')\n",
    "dframe = pd.DataFrame(chromsizes)\n",
    "dframe['end'] = dframe['length']+ 1310720\n",
    "dframe = dframe.reset_index()\n",
    "dframe.rename(columns = {'index' : 'chrom', 'length':'start'}, inplace = True)\n",
    "df = bioframe.frac_gc(dframe, bioframe.load_fasta('/project/fudenber_735/genomes/mm10/mm10.fa'), return_input=True)\n",
    "\n",
    "df"
   ]
  },
  {
   "cell_type": "code",
   "execution_count": 5,
   "id": "65002b84-7a13-455e-b290-a893f4246508",
   "metadata": {},
   "outputs": [],
   "source": [
    "# visualizing the gc content distribution\n",
    "\n",
    "# plt.hist( df['GC'].values, 100);\n",
    "# np.percentile(df['GC'].dropna().values, np.linspace(1,99,5))"
   ]
  },
  {
   "cell_type": "markdown",
   "id": "e66a7411-5169-4011-aeb7-0a8067155ff9",
   "metadata": {},
   "source": [
    "# Generating a sample for down stream analysis"
   ]
  },
  {
   "cell_type": "code",
   "execution_count": 6,
   "id": "e4cf45c4-4b2d-4c1e-8b88-abcef8c719c7",
   "metadata": {},
   "outputs": [
    {
     "name": "stdout",
     "output_type": "stream",
     "text": [
      "Whole distribution: [1216, 274, 18, 1076, 600]\n",
      "Sampled datapoints: [1216, 274, 18, 1076, 600]\n"
     ]
    }
   ],
   "source": [
    "super_set = []\n",
    "error = 0.0001\n",
    "\n",
    "for gc in np.percentile(df['GC'].dropna().values, np.linspace(1,99,5)):\n",
    "    for i in range(df.shape[0]):\n",
    "        if gc-error <= df['GC'].values[i] <= gc+error:\n",
    "            super_set += [i]\n",
    "            break\n",
    "\n",
    "super_set = list(set(super_set)); print(f'Whole distribution: {super_set}')\n",
    "sample_set = super_set; print(f'Sampled datapoints: {sample_set}')"
   ]
  },
  {
   "cell_type": "markdown",
   "id": "c1dc8428-9d1e-462d-a79f-52665f4dcdd3",
   "metadata": {},
   "source": [
    "# Making predictions for the sampled data"
   ]
  },
  {
   "cell_type": "code",
   "execution_count": 7,
   "id": "7bcec881-a0fb-4c4a-afc5-2ae681d79fb0",
   "metadata": {},
   "outputs": [
    {
     "name": "stderr",
     "output_type": "stream",
     "text": [
      "2022-07-25 12:12:27.645574: I tensorflow/compiler/mlir/mlir_graph_optimization_pass.cc:116] None of the MLIR optimization passes are enabled (registered 2)\n",
      "2022-07-25 12:12:27.646209: I tensorflow/core/platform/profile_utils/cpu_utils.cc:112] CPU Frequency: 2100000000 Hz\n"
     ]
    }
   ],
   "source": [
    "predictions=[]\n",
    "\n",
    "for ind in set(sample_set):\n",
    "    chrom, start, end, gc = df.iloc[ind][['chrom','start','end','GC']]\n",
    "    genome_open = pysam.Fastafile(genome_fasta)\n",
    "    seq = genome_open.fetch(chrom, start, end).upper()\n",
    "    seq_1hot = dna_io.dna_1hot(seq)\n",
    "    predictions.append(seq_1hot)\n",
    "    \n",
    "predictions = np.array(predictions)\n",
    "predictions = seqnn_model.predict(predictions, batch_size=6)"
   ]
  },
  {
   "cell_type": "markdown",
   "id": "ffc76fbf-82c7-4686-b109-23c1c62cc6e9",
   "metadata": {},
   "source": [
    "# Creating flat backroung seqs from sampled data"
   ]
  },
  {
   "cell_type": "code",
   "execution_count": 8,
   "id": "3c4d913e-7596-474a-aa4d-4e05331cc83e",
   "metadata": {},
   "outputs": [],
   "source": [
    "# Paramaters for all analysis downstream\n",
    "max_iters = 10\n",
    "batch_size = 5\n",
    "shuffle_k = 8 \n",
    "ctcf_thresh = 8 \n",
    "scores_thresh = 5500 \n",
    "scores_pixelwise_thresh = .05\n",
    "new_dataframe = df.iloc[[ind for ind in set(sample_set)]]\n",
    "# ---------------------------------------------------------------\n",
    "\n",
    "# For comparison further down\n",
    "shuffle_set = [2,4,8] # shuffling basepairs to sample for comparison\n",
    "ctcf_thresh_set = [8,15,30]\n",
    "# scores_thresh_set = [5000,5500,6000] # ctcf thresholds to sample for comparison"
   ]
  },
  {
   "cell_type": "code",
   "execution_count": null,
   "id": "8b679d50-f298-46f8-9ab7-2fd5d9df026a",
   "metadata": {},
   "outputs": [
    {
     "name": "stdout",
     "output_type": "stream",
     "text": [
      "ind 0 , iter  0 , for chr3 71278592 72589312\n",
      "success: best seq, thresh 7292.0  pixelwise 0.04974 time 9.742296695709229\n",
      "max iters exceeded, final time 9.742296695709229\n",
      "ind 1 , iter  0 , for chr1 158789632 160100352\n",
      "trying: best seq, thresh 6664.0  pixelwise 0.0582\n",
      "ind 1 , iter  1 , for chr1 158789632 160100352\n",
      "trying: best seq, thresh 6870.0  pixelwise 0.06836\n",
      "ind 1 , iter  2 , for chr1 158789632 160100352\n",
      "success: best seq, thresh 6252.0  pixelwise 0.0379 time 29.642657041549683\n",
      "max iters exceeded, final time 29.642657041549683\n",
      "ind 2 , iter  0 , for chr1 36810752 38121472\n",
      "trying: best seq, thresh 9950.0  pixelwise 0.08856\n",
      "ind 2 , iter  1 , for chr1 36810752 38121472\n",
      "trying: best seq, thresh 10130.0  pixelwise 0.1026\n",
      "ind 2 , iter  2 , for chr1 36810752 38121472\n",
      "trying: best seq, thresh 8380.0  pixelwise 0.09845\n",
      "ind 2 , iter  3 , for chr1 36810752 38121472\n",
      "trying: best seq, thresh 7988.0  pixelwise 0.06506\n",
      "ind 2 , iter  4 , for chr1 36810752 38121472\n",
      "trying: best seq, thresh 7400.0  pixelwise 0.1351\n",
      "ind 2 , iter  5 , for chr1 36810752 38121472\n",
      "trying: best seq, thresh 9390.0  pixelwise 0.1234\n",
      "ind 2 , iter  6 , for chr1 36810752 38121472\n",
      "trying: best seq, thresh 9830.0  pixelwise 0.1241\n",
      "ind 2 , iter  7 , for chr1 36810752 38121472\n",
      "trying: best seq, thresh 10216.0  pixelwise 0.1254\n",
      "ind 2 , iter  8 , for chr1 36810752 38121472\n",
      "trying: best seq, thresh 11260.0  pixelwise 0.0857\n",
      "ind 2 , iter  9 , for chr1 36810752 38121472\n",
      "trying: best seq, thresh 7296.0  pixelwise 0.119\n",
      "max iters exceeded, final time 109.17751502990723\n",
      "ind 3 , iter  0 , for chr3 81334272 82644992\n"
     ]
    }
   ],
   "source": [
    "flat_seqs = akita_utils.create_flat_seqs(seqnn_model=seqnn_model, \n",
    "                                        genome_fasta=genome_fasta, \n",
    "                                        seq_length=seq_length, \n",
    "                                        dataframe=new_dataframe, \n",
    "                                        max_iters = max_iters, \n",
    "                                        batch_size = batch_size, \n",
    "                                        shuffle_k = shuffle_k, \n",
    "                                        ctcf_thresh = ctcf_thresh, \n",
    "                                        scores_thresh = scores_thresh, \n",
    "                                        scores_pixelwise_thresh = scores_pixelwise_thresh )"
   ]
  },
  {
   "cell_type": "markdown",
   "id": "33ec0250-4258-49a1-bdd1-e8e3f6789016",
   "metadata": {},
   "source": [
    "# Visualizing the created flat seqs' contact maps"
   ]
  },
  {
   "cell_type": "code",
   "execution_count": null,
   "id": "9e81d9f7-bc22-4a4c-b3a6-3a395fabd1f0",
   "metadata": {},
   "outputs": [],
   "source": [
    "fig = plt.figure(figsize=(6* 2 , 6 *  len(sample_set) ), constrained_layout=True)     \n",
    "spec = fig.add_gridspec(ncols=2, nrows=len(sample_set), hspace=0.1, wspace=0.1)#\n",
    "           \n",
    "target_ind = 0\n",
    "vmin=-2; vmax=2\n",
    "\n",
    "for i in range(len(sample_set)):\n",
    "    \n",
    "    flat_pred = flat_seqs[i][1]\n",
    "    gc        = flat_seqs[i][-1]\n",
    "    back_pred = predictions[i]\n",
    "\n",
    "    mat = akita_utils.from_upper_triu(back_pred[:,target_ind], target_map_size,hic_diags)\n",
    "    ax1 = fig.add_subplot(spec[i,0])\n",
    "    im = ax1.matshow(mat, cmap='RdBu_r', vmin=vmin, vmax=vmax)# \n",
    "    plt.colorbar(im, fraction=.04, pad = 0.05, ticks=[-2,-1, 0, 1,2])\n",
    "    plt.title(f'Sequence_{i} GC content_{gc} ** before **')       \n",
    "           \n",
    "    mat = akita_utils.from_upper_triu(flat_pred[:,target_ind], target_map_size,hic_diags)\n",
    "    ax2 = fig.add_subplot(spec[i,1])\n",
    "    im = ax2.matshow(mat, cmap='RdBu_r', vmin=vmin, vmax=vmax)\n",
    "    plt.colorbar(im, fraction=.04, pad = 0.05, ticks=[-2,-1, 0, 1,2])       \n",
    "    plt.title(f'Sequence_{i} GC content_{gc} ** after **')       \n",
    "        \n",
    "plt.show()"
   ]
  },
  {
   "cell_type": "markdown",
   "id": "6a7af998-6087-41a6-9e3f-be2dc4d59b2a",
   "metadata": {},
   "source": [
    "# General distribution of scores"
   ]
  },
  {
   "cell_type": "code",
   "execution_count": null,
   "id": "b4a23869-62f3-4e21-b507-75e1f17eea20",
   "metadata": {},
   "outputs": [],
   "source": [
    "scores_before = {}\n",
    "\n",
    "for gc in sample_set:\n",
    "    new_dataframe = df.iloc[[gc]]\n",
    "    for k in shuffle_set:\n",
    "        print(gc,k)\n",
    "        scores_before[gc,k] = akita_utils.custom_calculate_scores(  seqnn_model=seqnn_model, \n",
    "                                                                    genome_fasta=genome_fasta, \n",
    "                                                                    seq_length=seq_length, \n",
    "                                                                    dataframe=new_dataframe, \n",
    "                                                                    max_iters = max_iters, \n",
    "                                                                    batch_size = batch_size, \n",
    "                                                                    shuffle_k = k, \n",
    "                                                                    ctcf_thresh = ctcf_thresh, \n",
    "                                                                    scores_thresh = scores_thresh,\n",
    "                                                                    scores_pixelwise_thresh = scores_pixelwise_thresh)\n",
    "        \n",
    "# scores_before"
   ]
  },
  {
   "cell_type": "markdown",
   "id": "46347c1b-d315-47cc-b0cb-9e5132a7c677",
   "metadata": {},
   "source": [
    "# Visualing the scores' distribution for the created flat seqs"
   ]
  },
  {
   "cell_type": "code",
   "execution_count": null,
   "id": "fe10c27b-7375-40da-a62b-a035c5e64258",
   "metadata": {
    "tags": []
   },
   "outputs": [],
   "source": [
    "fig = plt.figure(figsize=(6* len(shuffle_set) , 6 *  len(sample_set) ), constrained_layout=True)     \n",
    "spec = fig.add_gridspec(ncols=len(shuffle_set), nrows=len(sample_set), hspace=0.1, wspace=0.1)\n",
    "           \n",
    "for ind in sample_set:\n",
    "    chrom, start, end, gc = df.iloc[ind][['chrom','start','end','GC']]\n",
    "    for k in shuffle_set:\n",
    "        ax1 = fig.add_subplot(spec[sample_set.index(ind),shuffle_set.index(k)])\n",
    "        \n",
    "        temp_scores_before = []\n",
    "        for i in scores_before[ind,k]:\n",
    "            temp_scores_before =+ i\n",
    "        \n",
    "        kde_df_before = pd.DataFrame(temp_scores_before, columns=[\"score\"])\n",
    "        sns.kdeplot(data=kde_df_before, x=\"score\", bw_adjust=.2, fill=True)\n",
    "        \n",
    "        plt.title(f'GC_{gc} k_{k} score distributions')\n",
    "        plt.legend()\n",
    "\n",
    "plt.show()\n",
    "plt.close()"
   ]
  },
  {
   "cell_type": "markdown",
   "id": "c2dcfeb7-4447-4603-aa7d-af57d70b83b8",
   "metadata": {
    "tags": []
   },
   "source": [
    "# Some observations\n",
    "\n",
    "With a threshold of 6000;\n",
    "\n",
    "As the gc content lowers, scores below threshold are obtained in k=8, some low scores can be obtained in the k=4,2. For really low gc content, more low scores can be obtained for k=4.\n",
    "\n",
    "This implies k=8 is the best option over a wide range of gc content distribution and thus will be used futher on."
   ]
  },
  {
   "cell_type": "code",
   "execution_count": null,
   "id": "9d4969b1-22fb-4ddf-aa1c-4dc924e2f929",
   "metadata": {},
   "outputs": [],
   "source": [
    "shuffle_set = [8]"
   ]
  },
  {
   "cell_type": "markdown",
   "id": "5272b6e7-1904-4327-9868-a11c9feacef9",
   "metadata": {},
   "source": [
    "# Now we focus on how to maskout some CTCF motifs to lower the structure in our maps\n"
   ]
  },
  {
   "cell_type": "code",
   "execution_count": null,
   "id": "839631a2-c8fc-437f-ae6a-fbcaa12ba3a3",
   "metadata": {},
   "outputs": [],
   "source": [
    "# max_iters=50\n",
    "# batch_size=6\n",
    "\n",
    "# scores_storage_random_masking = mutation_search(    seqnn_model=seqnn_model,\n",
    "#                                                     genome_fasta=genome_fasta,\n",
    "#                                                     seq_length=seq_length,\n",
    "#                                                     dataframe= new_dataframe,\n",
    "#                                                     max_iters=max_iters,\n",
    "#                                                     batch_size=batch_size,\n",
    "#                                                     masking=0)\n",
    "\n",
    "# print('**********************************')\n",
    "\n",
    "# scores_storage_motif_masking = mutation_search(     seqnn_model=seqnn_model,\n",
    "#                                                     genome_fasta=genome_fasta,\n",
    "#                                                     seq_length=seq_length,\n",
    "#                                                     dataframe= new_dataframe,\n",
    "#                                                     max_iters=max_iters,\n",
    "#                                                     batch_size=batch_size,\n",
    "#                                                     masking=1)\n",
    "\n",
    "# print('**********************************')\n",
    "\n",
    "# scores_storage_all_random = mutation_search(        seqnn_model=seqnn_model,\n",
    "#                                                     genome_fasta=genome_fasta,\n",
    "#                                                     seq_length=seq_length,\n",
    "#                                                     dataframe= new_dataframe,\n",
    "#                                                     max_iters=max_iters,\n",
    "#                                                     batch_size=batch_size)"
   ]
  },
  {
   "cell_type": "code",
   "execution_count": null,
   "id": "bada4530-007c-4404-b093-93f9bef33d2c",
   "metadata": {},
   "outputs": [],
   "source": [
    "# Y_1 = []\n",
    "# Y_2 = []\n",
    "# Y_3 = []\n",
    "\n",
    "# for i in scores_storage_random_masking:\n",
    "#     for j in scores_storage_random_masking[i]:\n",
    "#         Y_1 += j.tolist()\n",
    "\n",
    "# for i in scores_storage_motif_masking:\n",
    "#     for j in scores_storage_motif_masking[i]:\n",
    "#         Y_2 += j.tolist()        \n",
    "\n",
    "# for i in scores_storage_all_random:\n",
    "#     for j in scores_storage_all_random[i]:\n",
    "#         Y_3 += j.tolist()\n",
    "\n",
    "# kde_1 = pd.DataFrame(Y_1, columns=[\"score\"])\n",
    "# kde_2 = pd.DataFrame(Y_2, columns=[\"score\"])\n",
    "# kde_3 = pd.DataFrame(Y_3, columns=[\"score\"])\n",
    "# sns.kdeplot(data=kde_1, x=\"score\", bw_adjust=.2, label='random masking', fill=True)  \n",
    "# sns.kdeplot(data=kde_2, x=\"score\", bw_adjust=.2, label='motif masking', fill=True)    \n",
    "# sns.kdeplot(data=kde_3, x=\"score\", bw_adjust=.2, label='all random', fill=True)    \n",
    "# plt.legend()\n",
    "# plt.show()"
   ]
  },
  {
   "cell_type": "markdown",
   "id": "b40970a0-0b46-4025-ab0f-ec1c7ffe942a",
   "metadata": {
    "tags": []
   },
   "source": [
    "# Some observations\n",
    "\n",
    "For high gc content, there is no success for k=2,4.  As the gc content lowers, some success can be obtained in the k=4. For really low gc content, more success can be obtained for k=4.\n",
    "\n",
    "This implies k=8 is the best option over a wide range of gc content distribution."
   ]
  },
  {
   "cell_type": "markdown",
   "id": "85af6f4c-6425-4e5c-81bb-cf644b787712",
   "metadata": {},
   "source": [
    "# Now we try different thresholds to maskout the CTCF motifs\n",
    "### (strength of motif)"
   ]
  },
  {
   "cell_type": "code",
   "execution_count": null,
   "id": "cedddf3c-4e94-41b0-8999-c65228218673",
   "metadata": {},
   "outputs": [],
   "source": [
    "scores_thresh_after = {}\n",
    "\n",
    "scores_thresh_set = ctcf_thresh_set\n",
    "for gc in sample_set:\n",
    "    new_dataframe = df.iloc[[gc]]\n",
    "    ctcf_thresh_set\n",
    "    for score in scores_thresh_set:\n",
    "        print(gc,score)\n",
    "        scores_thresh_after[gc,score] = akita_utils.custom_calculate_scores(seqnn_model = seqnn_model, \n",
    "                                                            genome_fasta = genome_fasta, \n",
    "                                                            seq_length = seq_length, \n",
    "                                                            dataframe = new_dataframe, \n",
    "                                                            max_iters = max_iters, \n",
    "                                                            batch_size = batch_size, \n",
    "                                                            shuffle_k = 8, \n",
    "                                                            ctcf_thresh = score,#ctcf_thresh, \n",
    "                                                            scores_thresh = scores_thresh,#score, \n",
    "                                                            scores_pixelwise_thresh = scores_pixelwise_thresh,\n",
    "                                                            success_scores = 1,                \n",
    "                                                            masking = True)"
   ]
  },
  {
   "cell_type": "markdown",
   "id": "1f124164-1429-4bca-a936-170c7dccc255",
   "metadata": {},
   "source": [
    "# Visualing the scores' distribution for the created seqs"
   ]
  },
  {
   "cell_type": "code",
   "execution_count": null,
   "id": "3f5088bb-2a4d-4d64-97f2-ba52f97f590a",
   "metadata": {},
   "outputs": [],
   "source": [
    "fig1 = plt.figure(figsize=(6* len(scores_thresh_set) , 6 *  len(sample_set) ), constrained_layout=True)     \n",
    "spec1 = fig1.add_gridspec(ncols=len(scores_thresh_set), nrows=len(sample_set), hspace=0.1, wspace=0.1)#\n",
    "           \n",
    "for ind in sample_set:\n",
    "    chrom, start, end, gc = df.iloc[ind][['chrom','start','end','GC']]\n",
    "    for score in scores_thresh_set:\n",
    "        ax1 = fig1.add_subplot(spec1[sample_set.index(ind),scores_thresh_set.index(score)])\n",
    "        \n",
    "        temp_scores_thresh_after = []\n",
    "        for i in scores_thresh_after[ind,score]:\n",
    "            temp_scores_thresh_after =+ i\n",
    "        \n",
    "        kde_df_after = pd.DataFrame(temp_scores_thresh_after, columns=[\"score\"])\n",
    "        sns.kdeplot(data=kde_df_after, x=\"score\", bw_adjust=.1, fill=True)\n",
    "        ax1.legend()        \n",
    "        plt.title(f'GC_{gc} scores_thresh_{score}')\n",
    "\n",
    "plt.show()\n",
    "plt.close()"
   ]
  },
  {
   "cell_type": "markdown",
   "id": "7c07b483-4d91-4f49-96b3-d3b629fe0fc9",
   "metadata": {
    "tags": []
   },
   "source": [
    "# Some observations\n",
    "\n",
    "\n",
    "For high gc content and low threshold, there is no success.  As the gc content lowers, some success can be obtained in higher thresholds. For really low gc content, more success can be obtained for lower thresholds.\n",
    "\n",
    "This implies that to create a background seq, you need a reasonably low gc content and threshold."
   ]
  },
  {
   "cell_type": "markdown",
   "id": "72759254-964a-4f20-920d-dbbef6c7924e",
   "metadata": {},
   "source": [
    "# Now we focus on effect of masking to basepairs shuffled.  "
   ]
  },
  {
   "cell_type": "code",
   "execution_count": null,
   "id": "fee5b6b7-cad3-4ad0-8864-f4b0f8199157",
   "metadata": {
    "tags": []
   },
   "outputs": [],
   "source": [
    "scores_shuffle_after = {}\n",
    "\n",
    "for gc in sample_set:\n",
    "    new_dataframe = df.iloc[[gc]]\n",
    "    for k in shuffle_set:\n",
    "        print(gc,k)\n",
    "        scores_shuffle_after[gc,k] = akita_utils.custom_calculate_scores(seqnn_model = seqnn_model, \n",
    "                                                                    genome_fasta = genome_fasta, \n",
    "                                                                    seq_length = seq_length, \n",
    "                                                                    dataframe = new_dataframe, \n",
    "                                                                    max_iters = max_iters, \n",
    "                                                                    batch_size = batch_size, \n",
    "                                                                    shuffle_k = k, \n",
    "                                                                    ctcf_thresh = ctcf_thresh, \n",
    "                                                                    scores_thresh = scores_thresh, \n",
    "                                                                    scores_pixelwise_thresh = scores_pixelwise_thresh,\n",
    "                                                                    success_scores = 1,\n",
    "                                                                    masking = False)"
   ]
  },
  {
   "cell_type": "markdown",
   "id": "48555afd-540c-40d6-8912-eea1f53bb12f",
   "metadata": {},
   "source": [
    "# Visualizing the resultant score distributions."
   ]
  },
  {
   "cell_type": "code",
   "execution_count": null,
   "id": "de158571-8ab5-4209-b3f0-ad1e441a865b",
   "metadata": {},
   "outputs": [],
   "source": [
    "fig = plt.figure(figsize=(6* len(shuffle_set) , 6 *  len(sample_set) ), constrained_layout=True)     \n",
    "spec = fig.add_gridspec(ncols=len(shuffle_set), nrows=len(sample_set), hspace=0.1, wspace=0.1)\n",
    "           \n",
    "for ind in sample_set:\n",
    "    chrom, start, end, gc = df.iloc[ind][['chrom','start','end','GC']]\n",
    "    for k in shuffle_set:\n",
    "        ax1 = fig.add_subplot(spec[sample_set.index(ind),shuffle_set.index(k)])\n",
    "        # plt.hist(scores_after[gc,k],5)\n",
    "        \n",
    "        temp_scores_shuffle_after = []\n",
    "        for i in scores_shuffle_after[ind,k]:\n",
    "            temp_scores_shuffle_after =+ i\n",
    "            \n",
    "        temp_scores_before = []\n",
    "        for i in scores_before[ind,k]:\n",
    "            temp_scores_before =+ i\n",
    "        \n",
    "        kde_df_after = pd.DataFrame(temp_scores_shuffle_after, columns=[\"score\"])\n",
    "        kde_df_before = pd.DataFrame(temp_scores_before, columns=[\"score\"])\n",
    "        sns.kdeplot(data=kde_df_after, x=\"score\", bw_adjust=.1, label='after',fill=True)\n",
    "        sns.kdeplot(data=kde_df_before, x=\"score\", bw_adjust=.1, label='before',fill=True)#\n",
    "        ax1.legend()\n",
    "        plt.title(f'GC_{gc} k_{k} before and after masking')\n",
    "plt.show()\n",
    "plt.close()"
   ]
  },
  {
   "cell_type": "markdown",
   "id": "c79a0db0-cdd2-40b2-9b0d-08319172c065",
   "metadata": {
    "tags": []
   },
   "source": [
    "# Final observations\n",
    "\n",
    "The first parameter for focus when desighing a background seq is the gc content of the initial seq.\n",
    "Seq with lower gc are preffeerd\n",
    "\n",
    "The second parameter is the shuffling basepairs, k=8 is prefferd\n",
    "\n",
    "Third is threshold, i have chosen 6000"
   ]
  }
 ],
 "metadata": {
  "kernelspec": {
   "display_name": "basenji-gpu",
   "language": "python",
   "name": "basenji-gpu"
  },
  "language_info": {
   "codemirror_mode": {
    "name": "ipython",
    "version": 3
   },
   "file_extension": ".py",
   "mimetype": "text/x-python",
   "name": "python",
   "nbconvert_exporter": "python",
   "pygments_lexer": "ipython3",
   "version": "3.8.0"
  }
 },
 "nbformat": 4,
 "nbformat_minor": 5
}
