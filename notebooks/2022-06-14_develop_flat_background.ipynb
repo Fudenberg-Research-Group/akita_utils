{
 "cells": [
  {
   "cell_type": "code",
   "execution_count": 2,
   "id": "881fe14f-e758-4108-bc95-c0cb75361b7f",
   "metadata": {},
   "outputs": [],
   "source": [
    "import matplotlib.pyplot as plt\n",
    "import bioframe \n",
    "import pandas as pd\n",
    "import numpy as np \n",
    "import os\n",
    "import json\n",
    "from io import StringIO\n",
    "\n",
    "from akita_utils import *\n",
    "import pysam\n",
    "import h5py\n",
    "genome_open = pysam.Fastafile('/project/fudenber_735/genomes/mm10/mm10.fa')"
   ]
  },
  {
   "cell_type": "code",
   "execution_count": 188,
   "id": "40a0bf0d-860a-4b3c-9ef9-13dd4f319b7a",
   "metadata": {},
   "outputs": [
    {
     "name": "stdout",
     "output_type": "stream",
     "text": [
      "2.6.2\n",
      "built\n",
      "restored\n"
     ]
    },
    {
     "data": {
      "text/plain": [
       "(512, 130305, (130305,))"
      ]
     },
     "execution_count": 188,
     "metadata": {},
     "output_type": "execute_result"
    }
   ],
   "source": [
    "import os\n",
    "os.environ[\"CUDA_VISIBLE_DEVICES\"] = '-1'\n",
    "import tensorflow as tf\n",
    "print(tf.__version__)\n",
    "\n",
    "import pysam\n",
    "from basenji import dataset, seqnn, dna_io,stream\n",
    "head_i = 1 #mouse\n",
    "model_num = 1 #which fold to use\n",
    "\n",
    "base_dir = '/project/fudenber_735/tensorflow_models/akita/v2/models/'\n",
    "model_dir = base_dir+\"/f\"+str(model_num)+\"c0/train/\"\n",
    "model_file  = model_dir+'/model'+str(head_i)+'_best.h5'\n",
    "\n",
    "params_file = model_dir+'/params.json'\n",
    "with open(params_file) as params_open:\n",
    "    params = json.load(params_open)\n",
    "    params_model = params['model']\n",
    "    params_train = params['train']\n",
    "seq_length = params_model['seq_length']\n",
    "params_model['verbose'] = False\n",
    "seqnn_model = seqnn.SeqNN(params_model)\n",
    "print('built')\n",
    "seqnn_model.restore(model_file, head_i=head_i)\n",
    "print('restored')\n",
    "\n",
    "hic_diags = params_model['diagonal_offset']\n",
    "try:\n",
    "    target_crop = params_model['trunk'][-2]['cropping']\n",
    "except:\n",
    "    target_crop = params_model['target_crop']\n",
    "target_length_cropped = int((seq_length//2048 - target_crop*2 - hic_diags)* ((seq_length//2048 - target_crop*2 - hic_diags) +1)/2) \n",
    "target_map_size = seq_length//2048  - target_crop*2 \n",
    "triu_tup = np.triu_indices(target_map_size,2)\n",
    "target_map_size, target_length_cropped, triu_tup[0].shape"
   ]
  },
  {
   "cell_type": "code",
   "execution_count": 3,
   "id": "44b2cf0e-c206-4551-b1df-c1491a97b1a6",
   "metadata": {},
   "outputs": [
    {
     "name": "stdout",
     "output_type": "stream",
     "text": [
      "orig 26544 filt 26515\n",
      "29 duplicates removed\n",
      "orig 26544 filt 26515\n",
      "29 duplicates removed\n"
     ]
    },
    {
     "data": {
      "text/plain": [
       "(26515, 28)"
      ]
     },
     "execution_count": 3,
     "metadata": {},
     "output_type": "execute_result"
    }
   ],
   "source": [
    "akita_XL_dir = '/project/fudenber_735/tensorflow_models/akita/v2/analysis/'\n",
    "df_model1_perm = h5_to_df(akita_XL_dir+'permute_boundaries_motifs_ctcf_mm10_model1/scd.h5')\n",
    "df_model7_perm = h5_to_df(akita_XL_dir+'permute_boundaries_motifs_ctcf_mm10_model7/scd.h5')\n",
    "df = df_model1_perm.copy()\n",
    "df['SCD'] = .5* (df_model1_perm['SCD'].values+df_model7_perm['SCD'].values)\n",
    "df['INS-64'] = .5* (df_model1_perm['INS-64'].values+df_model7_perm['INS-64'].values)\n",
    "df['span'] = df['span'].str.decode('utf8')\n",
    "df.shape"
   ]
  },
  {
   "cell_type": "code",
   "execution_count": 4,
   "id": "7ad9108c-3629-49c8-ac56-80895a184b8e",
   "metadata": {},
   "outputs": [
    {
     "name": "stdout",
     "output_type": "stream",
     "text": [
      "0\n",
      "1000\n",
      "2000\n",
      "3000\n",
      "4000\n"
     ]
    }
   ],
   "source": [
    "## append scores for full mut and all ctcf mut to table\n",
    "score_10k = np.zeros((len(df),))\n",
    "score_all_ctcf = np.zeros((len(df),))\n",
    "for i in np.unique(df['boundary_index'].values):\n",
    "    if np.mod(i,1000)==0: print(i)\n",
    "    inds = df['boundary_index'].values== i \n",
    "    df_boundary = df.iloc[inds]\n",
    "    score_10k[inds] = df_boundary.iloc[-1]['SCD']\n",
    "    if len(df_boundary)> 2:\n",
    "        score_all_ctcf[inds] = df_boundary.iloc[-2]['SCD']\n",
    "df['score_all_ctcf']= score_all_ctcf\n",
    "df['score_10k']= score_10k\n"
   ]
  },
  {
   "cell_type": "code",
   "execution_count": 5,
   "id": "f1538f8d-ba7c-486b-a8f3-8ef1106c091c",
   "metadata": {},
   "outputs": [],
   "source": [
    "# considering only single ctcf mutations \n",
    "# require that they fall in an overall boundary that has some saliency\n",
    "# TODO: also require that the neighboring bins don't have a more salient boundary?\n",
    "# suffix _2 means _motif\n",
    "sites = df.iloc[ (df['strand_2'].values != 'nan') *\n",
    "                 (df['score_all_ctcf'].values > 5)\n",
    "                ].copy()\n",
    "\n",
    "# extracting start/end of motif from span\n",
    "sites  = pd.concat([\n",
    "                sites, \n",
    "                sites['span'].str.split('-', expand=True).astype(int).rename(columns={0:'start_2',1:'end_2'}).copy()],axis=1)\n",
    "sites.reset_index(inplace=True,drop=True)"
   ]
  },
  {
   "cell_type": "code",
   "execution_count": 6,
   "id": "a1430c07-8902-4e39-9489-3489a172a8a9",
   "metadata": {},
   "outputs": [
    {
     "data": {
      "text/plain": [
       "(0, 4414, 26515, 4414)"
      ]
     },
     "execution_count": 6,
     "metadata": {},
     "output_type": "execute_result"
    }
   ],
   "source": [
    "# require that sites don't overlap rmsk !\n",
    "# this is important for sineB2 in mice, maybe other things as well\n",
    "\n",
    "rmsk_cols = pd.read_csv(StringIO('bin\tswScore\tmilliDiv\tmilliDel\tmilliIns\tgenoName\tgenoStart\tgenoEnd\tgenoLeft\tstrand\trepName\trepClass\trepFamily\trepStart\trepEnd\trepLeft\tid'),sep= '\\t')\n",
    "rmsk = pd.read_table('/project/fudenber_735/genomes/mm10/database/rmsk.txt.gz', names=rmsk_cols.keys())\n",
    "rmsk.rename(columns={'genoName':'chrom','genoStart':'start','genoEnd':'end'}, inplace=True)\n",
    "                     \n",
    "sites = bioframe.count_overlaps(\n",
    "                    sites, \n",
    "                    rmsk[['chrom','start','end']], cols1=['chrom','start_2','end_2'])\n",
    "sites = sites.iloc[sites['count'].values==0]\n",
    "sites.reset_index(inplace=True,drop=True)\n",
    "if sites.duplicated().sum() > 0: \n",
    "    raise ValueError(\"no duplicates allowed\")\n",
    "    \n",
    "sites['count'].sum(), (sites['count']==0).sum(), len(df), len(sites)"
   ]
  },
  {
   "cell_type": "code",
   "execution_count": 7,
   "id": "638a1293-36db-404a-82d1-db0ddcf711b7",
   "metadata": {},
   "outputs": [
    {
     "data": {
      "image/png": "[encoded data removed]",
      "text/plain": [
       "<Figure size 432x144 with 1 Axes>"
      ]
     },
     "metadata": {
      "needs_background": "light"
     },
     "output_type": "display_data"
    }
   ],
   "source": [
    "plt.figure(figsize=(6,2))\n",
    "plt.hist(sites['SCD'].values, np.linspace(-.5,100,200)  );\n",
    "plt.semilogy();"
   ]
  },
  {
   "cell_type": "code",
   "execution_count": 8,
   "id": "8bed63ab-accd-486b-8eca-9ebb3cbc646d",
   "metadata": {},
   "outputs": [],
   "source": [
    "weak_thresh_pct = 1 # don't use sites weaker than this, might be artifacts\n",
    "weak_num = 500 \n",
    "strong_thresh_pct = 99 # don't use sites weaker than this, might be artifacts\n",
    "strong_num = 500 \n",
    "\n",
    "value_key = 'SCD'\n",
    "strong_thresh = np.percentile(sites[value_key].values,strong_thresh_pct)\n",
    "weak_thresh = np.percentile(sites[value_key].values,weak_thresh_pct)\n",
    "\n",
    "weak_sites   = sites.loc[ sites[value_key] > weak_thresh  ].copy().sort_values(value_key)[:weak_num]\n",
    "strong_sites = sites.loc[ sites[value_key] < strong_thresh  ].copy().sort_values(value_key)[-strong_num:][::-1]"
   ]
  },
  {
   "cell_type": "code",
   "execution_count": 9,
   "id": "df07d866-c08a-439b-84df-59181e449a14",
   "metadata": {},
   "outputs": [],
   "source": [
    "weak_sites.reset_index(inplace=True,drop=True)\n",
    "strong_sites.reset_index(inplace=True,drop=True)"
   ]
  },
  {
   "cell_type": "code",
   "execution_count": null,
   "id": "d03fb1cd-4243-4e91-ab8c-ca9710580a39",
   "metadata": {},
   "outputs": [],
   "source": [
    "max_iters = 1\n",
    "batch_size = 6\n",
    "shuffle_k = 8\n",
    "\n",
    "## alternate approach, figure out a way to nicely use the whole JASPAR motif\n",
    "# motif_file = '/project/fudenber_735/motifs/pfms/JASPAR2022_CORE_redundant_pfms_jaspar/MA0139.1.jaspar'\n",
    "# motif = read_jaspar_to_numpy(motif_file)\n",
    "### using just the core motif and this shuffling which also makes the reverse complement a low score works well\n",
    "mot = '>CCAsyAGrkGGCr\\n0.0000\\t1.0000\\t0.0000\\t0.0000\\n0.0000\\t1.0000\\t0.0000\\t0.0000\\n1.0000\\t0.0000\\t0.0000\\t0.0000\\n0.0000\\t0.5000\\t0.5000\\t0.0000\\n0.0000\\t0.5000\\t0.0000\\t0.5000\\n1.0000\\t0.0000\\t0.0000\\t0.0000\\n0.0000\\t0.0000\\t1.0000\\t0.0000\\n0.5000\\t0.0000\\t0.5000\\t0.0000\\n0.0000\\t0.0000\\t0.5000\\t0.5000\\n0.0000\\t0.0000\\t1.0000\\t0.0000\\n0.0000\\t0.0000\\t1.0000\\t0.0000\\n0.0000\\t1.0000\\t0.0000\\t0.0000\\n0.5000\\t0.0000\\t0.5000\\t0.0000'\n",
    "motif = pd.read_csv(StringIO(mot),sep='\\t',header=0, names=['A','C','G','T']).values\n",
    "motif_window = int(np.ceil(len(motif)/2))\n",
    "mot_shuf = np.array([12,0,1,11,10,3,2,8,9,4,5,7,6]) \n",
    "\n",
    "ctcf_thresh = 8\n",
    "scores_thresh = 5500\n",
    "scores_pixelwise_thresh = .04\n",
    "\n",
    "site_df =  pd.concat([strong_sites[:5].copy(),weak_sites[:5].copy()])\n",
    "num_seqs = site_df.shape[0]\n",
    "\n",
    "flat_seqs = []\n",
    "for ind in range(num_seqs):\n",
    "    print(ind)\n",
    "    chrom, start, end, strand = site_df.iloc[ind][['chrom','start_2','end_2','strand_2']]\n",
    "    mid = int(.5 * (start +end))\n",
    "    start, end =  mid - seq_length//2 , mid + seq_length//2\n",
    "    seq = genome_open.fetch(chrom, start, end).upper()\n",
    "    #if strand == '-': seq = dna_rc(seq)\n",
    "    seq_1hot = dna_io.dna_1hot(seq)\n",
    "\n",
    "    num_iters = 0\n",
    "    while num_iters < max_iters:\n",
    "        print('ind',ind, ', iter ',num_iters,', for', chrom, start, end)\n",
    "        print(len(flat_seqs))\n",
    "        \n",
    "        seq_1hot_batch = []\n",
    "        for i in range(batch_size):\n",
    "            seq_1hot_mut = permute_seq_k(seq_1hot,k= shuffle_k)\n",
    "            s = scan_motif(seq_1hot_mut, motif  )\n",
    "            for i in np.where(s > ctcf_thresh)[0]:\n",
    "                #seq_1hot_mut[i-motif_window:i+motif_window] = permute_seq_k(seq_1hot_mut[i-motif_window:i+motif_window], k=2)\n",
    "                seq_1hot_mut[i-motif_window+1:i+motif_window] = seq_1hot_mut[i-motif_window+1:i+motif_window][mot_shuf]\n",
    "            seq_1hot_batch.append(seq_1hot_mut)\n",
    "        seq_1hot_batch = np.array(seq_1hot_batch)\n",
    "\n",
    "        pred = seqnn_model.predict(seq_1hot_batch, batch_size=batch_size)\n",
    "        scores = np.sum( pred**2, axis=-1).sum(axis=-1)\n",
    "        scores_pixelwise = np.max(pred**2, axis=-1).max(axis=-1)\n",
    "\n",
    "        if np.any( (np.min(scores) < scores_thresh) * (np.min(scores_pixelwise) < scores_pixelwise_thresh)):\n",
    "            best_ind = np.argmin(scores_pixelwise)\n",
    "            best_seq = seq_1hot_batch[best_ind]\n",
    "            best_pred = pred[best_ind]\n",
    "            best_score, best_score_pixelwise = scores[best_ind] , scores_pixelwise[best_ind]\n",
    "            num_iters = max_iters\n",
    "            print('success: best seq, thresh', np.min(scores),' pixelwise',np.min(scores_pixelwise))\n",
    "\n",
    "        else: \n",
    "            best_ind = np.argmin(scores_pixelwise)\n",
    "            best_seq = seq_1hot_batch[best_ind]\n",
    "            best_pred = pred[best_ind]\n",
    "            best_score, best_score_pixelwise = scores[best_ind] , scores_pixelwise[best_ind]\n",
    "            print('trying: best seq, thresh', np.min(scores),' pixelwise',np.min(scores_pixelwise))\n",
    "\n",
    "        num_iters +=1\n",
    "        if num_iters >= max_iters:\n",
    "            print('max iters exceeded')\n",
    "            flat_seqs.append( [best_seq, best_pred, best_score, best_score_pixelwise] )\n",
    "            #raise ValueError('cannot generate flat sequence for', chrom, start, end)\n",
    "\n",
    "\n"
   ]
  },
  {
   "cell_type": "code",
   "execution_count": null,
   "id": "e5d9e7da-ab1b-453f-bf73-12848957e9ca",
   "metadata": {},
   "outputs": [],
   "source": [
    "with open('backround_seqs.fa','w') as f:\n",
    "    for i in range(len(flat_seqs)):\n",
    "        f.write('>seq'+str(i)+'_score'+str(int(flat_seqs[i][2]))+'_pixelwise'+str(int(flat_seqs[i][3]*1000))+'\\n')\n",
    "        f.write(dna_io.hot1_dna(flat_seqs[i][0])+'\\n')\n",
    "       "
   ]
  },
  {
   "cell_type": "code",
   "execution_count": null,
   "id": "d748b91d-7213-44a5-905e-5fd11c1494b8",
   "metadata": {},
   "outputs": [],
   "source": [
    "plt.figure(figsize=(8,8))#,6))\n",
    "\n",
    "target_ind = 0\n",
    "vlim = 1.5\n",
    "\n",
    "for i in range(len(flat_seqs)):\n",
    "    flat_pred = flat_seqs[i][1]\n",
    "    \n",
    "    plt.subplot(3,4, i+1)\n",
    "    im = plt.matshow(\n",
    "            from_upper_triu(  flat_pred[:,target_ind], target_map_size,hic_diags),\n",
    "             vmin=-1*vlim,vmax=vlim, fignum=False,cmap='RdBu_r')\n",
    "    plt.colorbar(im, fraction=0.046, pad=0.04)\n",
    "    plt.title('tot '+\n",
    "            str(np.round(flat_seqs[i][2],0).astype(int))+'\\n pixel '+\n",
    "            str(np.round(flat_seqs[i][3],4)) ) \n",
    "        \n",
    "plt.tight_layout()\n",
    "plt.show()"
   ]
  },
  {
   "cell_type": "code",
   "execution_count": null,
   "id": "60d9cfec-cc89-43c6-985c-ba4151c638d9",
   "metadata": {},
   "outputs": [],
   "source": [
    "num_panels = batch_size\n",
    "#plt.figure(figsize=(5*2,2*num_panels))\n",
    "plt.figure(figsize=(8,8))#,6))\n",
    "\n",
    "target_ind = 0\n",
    "vlim = 1.5\n",
    "\n",
    "for i in range(len(flat_seqs)):\n",
    "    flat_pred = flat_seqs[i][1]\n",
    "    \n",
    "    plt.subplot(3,4, i+1)\n",
    "    im = plt.matshow(\n",
    "            from_upper_triu(  flat_pred[:,target_ind], target_map_size,hic_diags),\n",
    "             vmin=-1*vlim,vmax=vlim, fignum=False,cmap='RdBu_r')\n",
    "    plt.colorbar(im, fraction=0.046, pad=0.04)\n",
    "    plt.title('tot '+\n",
    "            str(np.round(flat_seqs[i][2],0).astype(int))+'\\n pixel '+\n",
    "            str(np.round(flat_seqs[i][3],4)) ) \n",
    "        \n",
    "plt.tight_layout()\n",
    "plt.show()"
   ]
  }
 ],
 "metadata": {
  "kernelspec": {
   "display_name": "basenji-geoff",
   "language": "python",
   "name": "basenji-geoff"
  },
  "language_info": {
   "codemirror_mode": {
    "name": "ipython",
    "version": 3
   },
   "file_extension": ".py",
   "mimetype": "text/x-python",
   "name": "python",
   "nbconvert_exporter": "python",
   "pygments_lexer": "ipython3",
   "version": "3.8.0"
  }
 },
 "nbformat": 4,
 "nbformat_minor": 5
}
