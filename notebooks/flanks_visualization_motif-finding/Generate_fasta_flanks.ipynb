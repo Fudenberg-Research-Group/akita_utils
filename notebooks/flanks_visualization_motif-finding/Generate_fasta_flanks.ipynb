{
 "cells": [
  {
   "cell_type": "code",
   "execution_count": 1,
   "id": "f85365f8-cb44-4231-af93-c2a3762c0458",
   "metadata": {},
   "outputs": [],
   "source": [
    "import matplotlib.pyplot as plt\n",
    "import seaborn as sns\n",
    "import bioframe \n",
    "import pandas as pd\n",
    "import numpy as np \n",
    "import os\n",
    "import json\n",
    "from io import StringIO\n",
    "import random\n",
    "\n",
    "import pysam\n",
    "import h5py\n",
    "\n",
    "from Bio import motifs\n",
    "from Bio import pairwise2\n",
    "from Bio.Seq import Seq"
   ]
  },
  {
   "cell_type": "code",
   "execution_count": 2,
   "id": "7ef774f8-dc36-4ddd-bb0a-e921f088e8d4",
   "metadata": {},
   "outputs": [
    {
     "name": "stderr",
     "output_type": "stream",
     "text": [
      "2022-07-18 16:15:16.742973: W tensorflow/stream_executor/platform/default/dso_loader.cc:64] Could not load dynamic library 'libcudart.so.11.0'; dlerror: libcudart.so.11.0: cannot open shared object file: No such file or directory; LD_LIBRARY_PATH: /spack/apps/linux-centos7-x86_64/gcc-8.3.0/python-3.9.2-uvcroioc4witkp6qf7mbebof5ix4wlb6/lib:/spack/apps/linux-centos7-x86_64/gcc-8.3.0/pmix-3.1.3-3sm6emyqaxapunh7rwbjvtaqoqe2e5z3/lib:/spack/apps/linux-centos7-x86_64/gcc-8.3.0/openmpi-4.0.2-ipm3dnvlbtxawpi4ifz7jma6jgr7mexq/lib:/spack/apps/linux-centos7-x86_64/gcc-8.3.0/openblas-0.3.8-2no6mfziiclwxb7lstxoos335gnhjpes/lib:/spack/apps/gcc/8.3.0/lib64::/home1/smaruj/software/GSL/lib:/home1/smaruj/software/HTSLIB/lib\n",
      "2022-07-18 16:15:16.743007: I tensorflow/stream_executor/cuda/cudart_stub.cc:29] Ignore above cudart dlerror if you do not have a GPU set up on your machine.\n"
     ]
    }
   ],
   "source": [
    "import sys\n",
    "\n",
    "sys.path.insert(0, \"/home1/smaruj/akita_utils/\")\n",
    "\n",
    "# from akita_utils import *\n",
    "import akita_utils"
   ]
  },
  {
   "cell_type": "code",
   "execution_count": 3,
   "id": "2e1b8424-5a6d-4817-be16-899ae47ead16",
   "metadata": {},
   "outputs": [],
   "source": [
    "genome_open = pysam.Fastafile(\"/project/fudenber_735/genomes/mm10/mm10.fa\")"
   ]
  },
  {
   "cell_type": "code",
   "execution_count": 4,
   "id": "c3c8f09c-dcce-4b5a-9166-7b7089915c6b",
   "metadata": {},
   "outputs": [
    {
     "name": "stdout",
     "output_type": "stream",
     "text": [
      "Tensorflow:  2.9.1\n"
     ]
    }
   ],
   "source": [
    "import os\n",
    "os.environ[\"CUDA_VISIBLE_DEVICES\"] = \"-1\"\n",
    "import tensorflow as tf\n",
    "print(\"Tensorflow: \", tf.__version__)\n",
    "\n",
    "from basenji import dataset, seqnn, dna_io, stream"
   ]
  },
  {
   "cell_type": "code",
   "execution_count": 5,
   "id": "f44a38fe-4416-4ccf-8b14-485ea7d5252a",
   "metadata": {},
   "outputs": [],
   "source": [
    "num_strong = 200\n",
    "num_weak = 200"
   ]
  },
  {
   "cell_type": "code",
   "execution_count": 6,
   "id": "35658d34-3afd-4335-91a4-f5092d24d0ce",
   "metadata": {},
   "outputs": [
    {
     "name": "stdout",
     "output_type": "stream",
     "text": [
      "29 duplicates removed for  /project/fudenber_735/tensorflow_models/akita/v2/analysis/permute_boundaries_motifs_ctcf_mm10_model7/scd.h5\n",
      "29 duplicates removed for  /project/fudenber_735/tensorflow_models/akita/v2/analysis/permute_boundaries_motifs_ctcf_mm10_model1/scd.h5\n",
      "annotating each site with boundary-wide scores\n",
      "filtering sites by overlap with rmsk\n",
      "df prepared\n"
     ]
    }
   ],
   "source": [
    "seq_coords_df = akita_utils.prepare_insertion_tsv(\n",
    "    h5_dirs = '/project/fudenber_735/tensorflow_models/akita/v2/analysis/permute_boundaries_motifs_ctcf_mm10_model*/scd.h5',\n",
    "    score_key = 'SCD',\n",
    "    pad_flank = 0, #how much flanking sequence around the sites to include\n",
    "    weak_thresh_pct = 1, # don't use sites weaker than this, might be artifacts\n",
    "    weak_num = num_strong,\n",
    "    strong_thresh_pct = 99, # don't use sites weaker than this, might be artifacts\n",
    "    strong_num = num_weak ,\n",
    "    save_tsv=None, # optional filename to save a tsv\n",
    ")"
   ]
  },
  {
   "cell_type": "code",
   "execution_count": 7,
   "id": "b2cd5756-bdd3-4743-ac64-36e12f920141",
   "metadata": {},
   "outputs": [
    {
     "data": {
      "text/html": [
       "<div>\n",
       "<style scoped>\n",
       "    .dataframe tbody tr th:only-of-type {\n",
       "        vertical-align: middle;\n",
       "    }\n",
       "\n",
       "    .dataframe tbody tr th {\n",
       "        vertical-align: top;\n",
       "    }\n",
       "\n",
       "    .dataframe thead th {\n",
       "        text-align: right;\n",
       "    }\n",
       "</style>\n",
       "<table border=\"1\" class=\"dataframe\">\n",
       "  <thead>\n",
       "    <tr style=\"text-align: right;\">\n",
       "      <th></th>\n",
       "      <th>index</th>\n",
       "      <th>chrom</th>\n",
       "      <th>start</th>\n",
       "      <th>end</th>\n",
       "      <th>strand</th>\n",
       "      <th>genomic_SCD</th>\n",
       "    </tr>\n",
       "  </thead>\n",
       "  <tbody>\n",
       "    <tr>\n",
       "      <th>0</th>\n",
       "      <td>0</td>\n",
       "      <td>chr12</td>\n",
       "      <td>35192359</td>\n",
       "      <td>35192378</td>\n",
       "      <td>-</td>\n",
       "      <td>53.656250</td>\n",
       "    </tr>\n",
       "    <tr>\n",
       "      <th>1</th>\n",
       "      <td>1</td>\n",
       "      <td>chr8</td>\n",
       "      <td>102781112</td>\n",
       "      <td>102781131</td>\n",
       "      <td>-</td>\n",
       "      <td>53.500000</td>\n",
       "    </tr>\n",
       "    <tr>\n",
       "      <th>2</th>\n",
       "      <td>2</td>\n",
       "      <td>chr5</td>\n",
       "      <td>49961991</td>\n",
       "      <td>49962010</td>\n",
       "      <td>-</td>\n",
       "      <td>53.312500</td>\n",
       "    </tr>\n",
       "    <tr>\n",
       "      <th>3</th>\n",
       "      <td>3</td>\n",
       "      <td>chr9</td>\n",
       "      <td>26776356</td>\n",
       "      <td>26776375</td>\n",
       "      <td>-</td>\n",
       "      <td>53.125000</td>\n",
       "    </tr>\n",
       "    <tr>\n",
       "      <th>4</th>\n",
       "      <td>4</td>\n",
       "      <td>chr9</td>\n",
       "      <td>51152589</td>\n",
       "      <td>51152608</td>\n",
       "      <td>-</td>\n",
       "      <td>53.062500</td>\n",
       "    </tr>\n",
       "    <tr>\n",
       "      <th>...</th>\n",
       "      <td>...</td>\n",
       "      <td>...</td>\n",
       "      <td>...</td>\n",
       "      <td>...</td>\n",
       "      <td>...</td>\n",
       "      <td>...</td>\n",
       "    </tr>\n",
       "    <tr>\n",
       "      <th>395</th>\n",
       "      <td>395</td>\n",
       "      <td>chr3</td>\n",
       "      <td>53495939</td>\n",
       "      <td>53495958</td>\n",
       "      <td>+</td>\n",
       "      <td>0.094727</td>\n",
       "    </tr>\n",
       "    <tr>\n",
       "      <th>396</th>\n",
       "      <td>396</td>\n",
       "      <td>chr11</td>\n",
       "      <td>77103829</td>\n",
       "      <td>77103848</td>\n",
       "      <td>-</td>\n",
       "      <td>0.095032</td>\n",
       "    </tr>\n",
       "    <tr>\n",
       "      <th>397</th>\n",
       "      <td>397</td>\n",
       "      <td>chr8</td>\n",
       "      <td>118855131</td>\n",
       "      <td>118855150</td>\n",
       "      <td>+</td>\n",
       "      <td>0.095093</td>\n",
       "    </tr>\n",
       "    <tr>\n",
       "      <th>398</th>\n",
       "      <td>398</td>\n",
       "      <td>chr4</td>\n",
       "      <td>140533539</td>\n",
       "      <td>140533558</td>\n",
       "      <td>+</td>\n",
       "      <td>0.095215</td>\n",
       "    </tr>\n",
       "    <tr>\n",
       "      <th>399</th>\n",
       "      <td>399</td>\n",
       "      <td>chr3</td>\n",
       "      <td>122637932</td>\n",
       "      <td>122637951</td>\n",
       "      <td>-</td>\n",
       "      <td>0.095337</td>\n",
       "    </tr>\n",
       "  </tbody>\n",
       "</table>\n",
       "<p>400 rows × 6 columns</p>\n",
       "</div>"
      ],
      "text/plain": [
       "     index  chrom      start        end strand  genomic_SCD\n",
       "0        0  chr12   35192359   35192378      -    53.656250\n",
       "1        1   chr8  102781112  102781131      -    53.500000\n",
       "2        2   chr5   49961991   49962010      -    53.312500\n",
       "3        3   chr9   26776356   26776375      -    53.125000\n",
       "4        4   chr9   51152589   51152608      -    53.062500\n",
       "..     ...    ...        ...        ...    ...          ...\n",
       "395    395   chr3   53495939   53495958      +     0.094727\n",
       "396    396  chr11   77103829   77103848      -     0.095032\n",
       "397    397   chr8  118855131  118855150      +     0.095093\n",
       "398    398   chr4  140533539  140533558      +     0.095215\n",
       "399    399   chr3  122637932  122637951      -     0.095337\n",
       "\n",
       "[400 rows x 6 columns]"
      ]
     },
     "execution_count": 7,
     "metadata": {},
     "output_type": "execute_result"
    }
   ],
   "source": [
    "seq_coords_df"
   ]
  },
  {
   "cell_type": "code",
   "execution_count": 12,
   "id": "59f4d07c-f048-4b52-8ac4-90d39f068d0a",
   "metadata": {},
   "outputs": [],
   "source": [
    "padding = 30\n",
    "\n",
    "with open(\"Strong.fasta\", \"w\") as output:\n",
    "    for i in range(0, num_strong):\n",
    "        this_row = seq_coords_df.iloc[i]\n",
    "\n",
    "        if this_row.strand == '+':\n",
    "\n",
    "            left = Seq(genome_open.fetch(this_row.chrom, this_row.start-padding, this_row.start).upper())\n",
    "        else:\n",
    "            left = Seq(genome_open.fetch(this_row.chrom, this_row.end, this_row.end+padding).upper())\n",
    "            left = left.reverse_complement()\n",
    "        left = str(left)\n",
    "        output.write(f\"> StrongFlank_{i}\")\n",
    "        output.write(\"\\n\")\n",
    "        output.write(left)\n",
    "        if i != num_strong-1:\n",
    "            output.write(\"\\n\")"
   ]
  },
  {
   "cell_type": "code",
   "execution_count": 13,
   "id": "e11a7cef-fc9b-469b-a164-8e8b5fef2f74",
   "metadata": {},
   "outputs": [],
   "source": [
    "padding = 30\n",
    "\n",
    "with open(\"Weak.fasta\", \"w\") as output:\n",
    "    for i in range(num_strong, num_strong+num_weak):\n",
    "        this_row = seq_coords_df.iloc[i]\n",
    "\n",
    "        if this_row.strand == '+':\n",
    "\n",
    "            left = Seq(genome_open.fetch(this_row.chrom, this_row.start-padding, this_row.start).upper())\n",
    "        else:\n",
    "            left = Seq(genome_open.fetch(this_row.chrom, this_row.end, this_row.end+padding).upper())\n",
    "            left = left.reverse_complement()\n",
    "        left = str(left)\n",
    "        output.write(f\"> WeakFlank_{i-num_strong}\")\n",
    "        output.write(\"\\n\")\n",
    "        output.write(left)\n",
    "        if i != num_strong+num_weak-1:\n",
    "            output.write(\"\\n\")"
   ]
  },
  {
   "cell_type": "code",
   "execution_count": null,
   "id": "e783107a-08b5-4a93-9102-fde4a73f2cb1",
   "metadata": {},
   "outputs": [],
   "source": []
  }
 ],
 "metadata": {
  "kernelspec": {
   "display_name": "Basenji kernel",
   "language": "python",
   "name": "basenji_kernel"
  },
  "language_info": {
   "codemirror_mode": {
    "name": "ipython",
    "version": 3
   },
   "file_extension": ".py",
   "mimetype": "text/x-python",
   "name": "python",
   "nbconvert_exporter": "python",
   "pygments_lexer": "ipython3",
   "version": "3.8.12"
  }
 },
 "nbformat": 4,
 "nbformat_minor": 5
}
