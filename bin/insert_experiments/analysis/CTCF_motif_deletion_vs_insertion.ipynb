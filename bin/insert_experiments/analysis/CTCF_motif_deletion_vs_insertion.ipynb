{
 "cells": [
  {
   "cell_type": "markdown",
   "id": "a1675832-8b06-4e78-80ac-b3365d8b5ebc",
   "metadata": {},
   "source": [
    "# In this notebook we visualize effects of inserting a single CTCF in multiple backgrounds"
   ]
  },
  {
   "cell_type": "code",
   "execution_count": 1,
   "id": "16ee5dcc-0d15-47ae-8257-6fb12e8a172f",
   "metadata": {},
   "outputs": [],
   "source": [
    "import bioframe\n",
    "import pandas as pd\n",
    "import numpy as np\n",
    "import tensorflow as tf\n",
    "from basenji import dna_io\n",
    "import akita_utils\n",
    "import matplotlib.pyplot as plt\n",
    "import glob\n",
    "import seaborn as sns\n",
    "import h5py\n",
    "# sns.set_theme()\n",
    "import akita_utils.format_io"
   ]
  },
  {
   "cell_type": "markdown",
   "id": "ed5bf60b-205c-4689-b418-fbcef5f059bf",
   "metadata": {},
   "source": [
    "# Importing scores from simulations"
   ]
  },
  {
   "cell_type": "code",
   "execution_count": 2,
   "id": "d9102335-1215-4c73-a0a2-fcb0e28792eb",
   "metadata": {},
   "outputs": [],
   "source": [
    "def load_data(h5_dirs, scd_stats, models=[1]):\n",
    "    \n",
    "    model_dfs = {} \n",
    "    for h5_num, h5_file in enumerate(glob.glob(h5_dirs)):\n",
    "        \n",
    "        for model in models:\n",
    "            if f\"model{model}_h\" in h5_file:  \n",
    "                df = akita_utils.format_io.h5_to_df(h5_file, scd_stats, drop_duplicates_key=None)\n",
    "                if f\"model{model}\" in model_dfs.keys():\n",
    "                    model_dfs[f\"model{model}\"] = pd.concat([model_dfs[f\"model{model}\"], df])\n",
    "                else:\n",
    "                    model_dfs[f\"model{model}\"] = df  \n",
    "            \n",
    "    # merged_df = pd.DataFrame()\n",
    "    for df_num,df in enumerate(model_dfs.values()):\n",
    "        if df_num ==0:\n",
    "            merged_df = df\n",
    "        else:\n",
    "            merged_df = pd.merge(merged_df, df, on=['CTCF_1_insert',\"background_seqs\"], how='inner', suffixes=(\"\",f\"_{df_num}\"))\n",
    "    \n",
    "    if 'merged_df' not in locals():\n",
    "        print(\"Error: merged_df is empty. Cannot perform further calculations.\")\n",
    "        exit(1)\n",
    "    else:\n",
    "        for stat in scd_stats:\n",
    "            for model in models:\n",
    "                merged_df[f\"mean_{stat}_score_m{model}\"] = (\n",
    "                      merged_df[f\"{stat}_h1_m{model}_t0\"]\n",
    "                    + merged_df[f\"{stat}_h1_m{model}_t1\"]\n",
    "                    + merged_df[f\"{stat}_h1_m{model}_t2\"]\n",
    "                    + merged_df[f\"{stat}_h1_m{model}_t3\"]\n",
    "                    + merged_df[f\"{stat}_h1_m{model}_t4\"]\n",
    "                    + merged_df[f\"{stat}_h1_m{model}_t5\"]\n",
    "                ) / 6\n",
    "\n",
    "            # Calculate mean score over models for current statistic\n",
    "            mean_score = np.mean([\n",
    "                merged_df[f\"mean_{stat}_score_m{model}\"] for model in models\n",
    "            ], axis=0)\n",
    "\n",
    "            # Add mean score column to DataFrame\n",
    "            merged_df[f\"mean_{stat}_score\"] = mean_score\n",
    "\n",
    "        return merged_df.reset_index(drop=True)\n"
   ]
  },
  {
   "cell_type": "code",
   "execution_count": 3,
   "id": "015004a7-421c-4a90-80bb-ef5fc2b8acf0",
   "metadata": {},
   "outputs": [],
   "source": [
    "uniformly_selcted_model2_motifs_h5_dirs = (\n",
    " # \"/scratch1/kamulege/insert_experiments/12_uniformly_selcted_model2_motifs/*/*/*.h5\"\n",
    "    \"/scratch1/kamulege/insert_experiments/11_uniformly_selcted_model6_motifs_v2/*/*/*.h5\"\n",
    ")\n",
    "\n",
    "uniformly_selcted_model2_motifs_df = load_data(uniformly_selcted_model2_motifs_h5_dirs, scd_stats=[\"SCD\", \"SSD\"], models=[2,3,4,5,6,7])\n",
    "\n",
    "# uniformly_selcted_model2_motifs_df"
   ]
  },
  {
   "cell_type": "code",
   "execution_count": 4,
   "id": "b1068d90-1c10-49cd-92ea-b111f7fb186c",
   "metadata": {},
   "outputs": [],
   "source": [
    "# uniformly_selcted_model1_motifs_h5_dirs = (\n",
    "#  \"/scratch1/kamulege/insert_experiments/1000_uniformly_selcted_model1_motifs/*/*/*.h5\"\n",
    "# )\n",
    "\n",
    "# uniformly_selcted_model1_motifs_df = load_data(uniformly_selcted_model1_motifs_h5_dirs, scd_stats=[\"SCD\", \"SSD\"], models=[1])\n",
    "\n",
    "# uniformly_selcted_model1_motifs_df"
   ]
  },
  {
   "cell_type": "code",
   "execution_count": 5,
   "id": "a89a50f9-deba-4acd-8edc-3e5f81348650",
   "metadata": {},
   "outputs": [],
   "source": [
    "motifs_df = uniformly_selcted_model2_motifs_df\n",
    "\n",
    "# motifs_df.columns"
   ]
  },
  {
   "cell_type": "code",
   "execution_count": 6,
   "id": "40690197-ab51-4fcb-a233-d38f1a1a38f9",
   "metadata": {},
   "outputs": [
    {
     "data": {
      "image/png": "[encoded data removed]",
      "text/plain": [
       "<Figure size 576x576 with 1 Axes>"
      ]
     },
     "metadata": {
      "needs_background": "light"
     },
     "output_type": "display_data"
    }
   ],
   "source": [
    "# normalize the data\n",
    "\n",
    "max_ctcf = motifs_df['CTCF_1_genomic_SCD'].max()\n",
    "max_mean_scd = motifs_df['mean_SCD_score'].max()\n",
    "motifs_df['CTCF_1_genomic_SCD_norm'] = motifs_df['CTCF_1_genomic_SCD'] / max_ctcf\n",
    "motifs_df['mean_SCD_score_norm'] = motifs_df['mean_SCD_score'] / max_mean_scd\n",
    "\n",
    "# create the plot\n",
    "fig, ax = plt.subplots(figsize=(8, 8)) #, dpi=200\n",
    "\n",
    "# data = motifs_df[(motifs_df['mean_SCD_score_norm']>0.8) & (motifs_df['CTCF_1_genomic_SCD_norm']<0.5)]\n",
    "data = motifs_df\n",
    "# display(data)\n",
    "\n",
    "# sns.scatterplot(data=data, ax=ax, x=\"CTCF_1_genomic_SCD_norm\", y=\"mean_SCD_score_norm\", label=\"mean_SCD_score\")\n",
    "sns.scatterplot(data=data, ax=ax, x=\"CTCF_1_genomic_SCD\", y=\"mean_SCD_score\", label=\"mean_SCD_score\")\n",
    "\n",
    "sns.despine(top=True, right=True)\n",
    "plt.xticks(rotation=90)\n",
    "plt.title(\"Distribution of mean SCD scores \\n \\n \")\n",
    "\n",
    "# Add bands for high and low correlation\n",
    "# sns.regplot(data=motifs_df, ax=ax, x=\"CTCF_1_genomic_SCD_norm\", y=\"mean_SCD_score_norm\", scatter=False, color=\"red\", label=\"High Correlation\")\n",
    "# sns.regplot(data=motifs_df, ax=ax, x=\"CTCF_1_genomic_SCD_norm\", y=\"mean_SCD_score_norm\", scatter=False, color=\"blue\", label=\"Low Correlation\")\n",
    "\n",
    "plt.xlabel(\"Deletion SCD (Normalized)\")\n",
    "plt.ylabel(\"Insertion SCD (Normalized)\")\n",
    "plt.legend()\n",
    "plt.show()\n",
    "\n"
   ]
  },
  {
   "cell_type": "code",
   "execution_count": 7,
   "id": "d5b7b622-49e4-440f-aafb-4ba3bd400439",
   "metadata": {},
   "outputs": [],
   "source": [
    "# [i for i in range(-1000,1050,50)]\n"
   ]
  },
  {
   "cell_type": "code",
   "execution_count": 8,
   "id": "5a7f82b3-f3cb-479f-a06b-36299d3f55fb",
   "metadata": {},
   "outputs": [],
   "source": [
    "# # Calculate correlation between two columns\n",
    "# corr = df['column1'].corr(df['column2'])\n",
    "\n",
    "# # Check if correlation coefficient is close to zero\n",
    "# if abs(corr) < 0.1:\n",
    "#     # Select corresponding points for further analysis\n",
    "#     selected_points = df.loc[(df['column1'] == some_value) & (df['column2'] == some_other_value)]"
   ]
  },
  {
   "cell_type": "code",
   "execution_count": null,
   "id": "f7a21e73-16e1-4d3b-95ac-d07690b06484",
   "metadata": {},
   "outputs": [],
   "source": []
  },
  {
   "cell_type": "code",
   "execution_count": 9,
   "id": "d770aa82-cdad-4111-8323-d47ef9954f4d",
   "metadata": {},
   "outputs": [],
   "source": [
    "def collect_h5(file_name, out_dir, num_procs):\n",
    "    # count variants\n",
    "    num_variants = 0\n",
    "    for pi in range(num_procs):\n",
    "        # open job\n",
    "        job_h5_file = \"%s/job%d/%s\" % (out_dir, pi, file_name)\n",
    "        job_h5_open = h5py.File(job_h5_file, \"r\")\n",
    "        # print(job_h5_open)\n",
    "        num_variants += len(job_h5_open[\"chrom\"]) #chrom_core\n",
    "        job_h5_open.close()\n",
    "\n",
    "    # initialize final h5\n",
    "    final_h5_file = \"%s/%s\" % (out_dir, file_name)\n",
    "    final_h5_open = h5py.File(final_h5_file, \"w\")\n",
    "\n",
    "    # keep dict for string values\n",
    "    final_strings = {}\n",
    "\n",
    "    job0_h5_file = \"%s/job0/%s\" % (out_dir, file_name)\n",
    "    job0_h5_open = h5py.File(job0_h5_file, \"r\")\n",
    "    for key in job0_h5_open.keys():\n",
    "        if key in [\"target_ids\", \"target_labels\"]:\n",
    "            # copy\n",
    "            final_h5_open.create_dataset(key, data=job0_h5_open[key])\n",
    "\n",
    "        elif job0_h5_open[key].dtype.char == \"S\":\n",
    "            final_strings[key] = []\n",
    "\n",
    "        elif job0_h5_open[key].ndim == 1:\n",
    "            final_h5_open.create_dataset(\n",
    "                key, shape=(num_variants,), dtype=job0_h5_open[key].dtype\n",
    "            )\n",
    "\n",
    "        else:\n",
    "            num_targets = job0_h5_open[key].shape[1]\n",
    "            final_h5_open.create_dataset(\n",
    "                key, shape=(num_variants, num_targets), dtype=job0_h5_open[key].dtype\n",
    "            )\n",
    "\n",
    "    job0_h5_open.close()\n",
    "\n",
    "    # set values\n",
    "    vi = 0\n",
    "    for pi in range(num_procs):\n",
    "        # open job\n",
    "        job_h5_file = \"%s/job%d/%s\" % (out_dir, pi, file_name)\n",
    "        job_h5_open = h5py.File(job_h5_file, \"r\")\n",
    "\n",
    "        # append to final\n",
    "        for key in job_h5_open.keys():\n",
    "            if key in [\"target_ids\", \"target_labels\"]:\n",
    "                # once is enough\n",
    "                pass\n",
    "\n",
    "            else:\n",
    "                if job_h5_open[key].dtype.char == \"S\":\n",
    "                    final_strings[key] += list(job_h5_open[key])\n",
    "                else:\n",
    "                    job_variants = job_h5_open[key].shape[0]\n",
    "                    final_h5_open[key][vi : vi + job_variants] = job_h5_open[key]\n",
    "\n",
    "        vi += job_variants\n",
    "        job_h5_open.close()\n",
    "\n",
    "    # create final string datasets\n",
    "    for key in final_strings:\n",
    "        final_h5_open.create_dataset(key, data=np.array(final_strings[key], dtype=\"S\"))\n",
    "\n",
    "    final_h5_open.close()"
   ]
  },
  {
   "cell_type": "code",
   "execution_count": 10,
   "id": "ee90ebd1-998c-4603-beb7-3ba0a389c6fd",
   "metadata": {},
   "outputs": [
    {
     "ename": "OSError",
     "evalue": "Unable to open file (bad object header version number)",
     "output_type": "error",
     "traceback": [
      "\u001b[0;31m---------------------------------------------------------------------------\u001b[0m",
      "\u001b[0;31mOSError\u001b[0m                                   Traceback (most recent call last)",
      "Input \u001b[0;32mIn [10]\u001b[0m, in \u001b[0;36m<cell line: 6>\u001b[0;34m()\u001b[0m\n\u001b[1;32m      1\u001b[0m \u001b[38;5;66;03m# collect_h5(\"scd.h5\", \"/scratch1/kamulege/test_disruption_scd/motif_expt_model6_head1\", 12)\u001b[39;00m\n\u001b[1;32m      2\u001b[0m \n\u001b[1;32m      3\u001b[0m \u001b[38;5;66;03m# collect_h5(\"scd.h5\", \"/scratch1/kamulege/test_disruption_scd_span_test_v2/motif_expt_model7_head1/\", 12)\u001b[39;00m\n\u001b[1;32m      4\u001b[0m \u001b[38;5;66;03m# collect_h5(\"scd.h5\", \"/scratch1/kamulege/test_disruption_scd_span_test_v5/motif_expt_model1_head1/\", 7)\u001b[39;00m\n\u001b[1;32m      5\u001b[0m \u001b[38;5;66;03m# permute_boundaries_motifs_ctcf_mm10_model1/job10\u001b[39;00m\n\u001b[0;32m----> 6\u001b[0m \u001b[43mcollect_h5\u001b[49m\u001b[43m(\u001b[49m\u001b[38;5;124;43m\"\u001b[39;49m\u001b[38;5;124;43mscd.h5\u001b[39;49m\u001b[38;5;124;43m\"\u001b[39;49m\u001b[43m,\u001b[49m\u001b[43m \u001b[49m\u001b[38;5;124;43m\"\u001b[39;49m\u001b[38;5;124;43m/scratch1/kamulege/permute_boundaries_motifs_ctcf_mm10_model1\u001b[39;49m\u001b[38;5;124;43m\"\u001b[39;49m\u001b[43m,\u001b[49m\u001b[43m \u001b[49m\u001b[38;5;241;43m30\u001b[39;49m\u001b[43m)\u001b[49m\n",
      "Input \u001b[0;32mIn [9]\u001b[0m, in \u001b[0;36mcollect_h5\u001b[0;34m(file_name, out_dir, num_procs)\u001b[0m\n\u001b[1;32m      4\u001b[0m \u001b[38;5;28;01mfor\u001b[39;00m pi \u001b[38;5;129;01min\u001b[39;00m \u001b[38;5;28mrange\u001b[39m(num_procs):\n\u001b[1;32m      5\u001b[0m     \u001b[38;5;66;03m# open job\u001b[39;00m\n\u001b[1;32m      6\u001b[0m     job_h5_file \u001b[38;5;241m=\u001b[39m \u001b[38;5;124m\"\u001b[39m\u001b[38;5;132;01m%s\u001b[39;00m\u001b[38;5;124m/job\u001b[39m\u001b[38;5;132;01m%d\u001b[39;00m\u001b[38;5;124m/\u001b[39m\u001b[38;5;132;01m%s\u001b[39;00m\u001b[38;5;124m\"\u001b[39m \u001b[38;5;241m%\u001b[39m (out_dir, pi, file_name)\n\u001b[0;32m----> 7\u001b[0m     job_h5_open \u001b[38;5;241m=\u001b[39m \u001b[43mh5py\u001b[49m\u001b[38;5;241;43m.\u001b[39;49m\u001b[43mFile\u001b[49m\u001b[43m(\u001b[49m\u001b[43mjob_h5_file\u001b[49m\u001b[43m,\u001b[49m\u001b[43m \u001b[49m\u001b[38;5;124;43m\"\u001b[39;49m\u001b[38;5;124;43mr\u001b[39;49m\u001b[38;5;124;43m\"\u001b[39;49m\u001b[43m)\u001b[49m\n\u001b[1;32m      8\u001b[0m     \u001b[38;5;66;03m# print(job_h5_open)\u001b[39;00m\n\u001b[1;32m      9\u001b[0m     num_variants \u001b[38;5;241m+\u001b[39m\u001b[38;5;241m=\u001b[39m \u001b[38;5;28mlen\u001b[39m(job_h5_open[\u001b[38;5;124m\"\u001b[39m\u001b[38;5;124mchrom\u001b[39m\u001b[38;5;124m\"\u001b[39m]) \u001b[38;5;66;03m#chrom_core\u001b[39;00m\n",
      "File \u001b[0;32m~/.conda/envs/basenji-gpu/lib/python3.8/site-packages/h5py/_hl/files.py:406\u001b[0m, in \u001b[0;36mFile.__init__\u001b[0;34m(self, name, mode, driver, libver, userblock_size, swmr, rdcc_nslots, rdcc_nbytes, rdcc_w0, track_order, **kwds)\u001b[0m\n\u001b[1;32m    404\u001b[0m \u001b[38;5;28;01mwith\u001b[39;00m phil:\n\u001b[1;32m    405\u001b[0m     fapl \u001b[38;5;241m=\u001b[39m make_fapl(driver, libver, rdcc_nslots, rdcc_nbytes, rdcc_w0, \u001b[38;5;241m*\u001b[39m\u001b[38;5;241m*\u001b[39mkwds)\n\u001b[0;32m--> 406\u001b[0m     fid \u001b[38;5;241m=\u001b[39m \u001b[43mmake_fid\u001b[49m\u001b[43m(\u001b[49m\u001b[43mname\u001b[49m\u001b[43m,\u001b[49m\u001b[43m \u001b[49m\u001b[43mmode\u001b[49m\u001b[43m,\u001b[49m\u001b[43m \u001b[49m\u001b[43muserblock_size\u001b[49m\u001b[43m,\u001b[49m\n\u001b[1;32m    407\u001b[0m \u001b[43m                   \u001b[49m\u001b[43mfapl\u001b[49m\u001b[43m,\u001b[49m\u001b[43m \u001b[49m\u001b[43mfcpl\u001b[49m\u001b[38;5;241;43m=\u001b[39;49m\u001b[43mmake_fcpl\u001b[49m\u001b[43m(\u001b[49m\u001b[43mtrack_order\u001b[49m\u001b[38;5;241;43m=\u001b[39;49m\u001b[43mtrack_order\u001b[49m\u001b[43m)\u001b[49m\u001b[43m,\u001b[49m\n\u001b[1;32m    408\u001b[0m \u001b[43m                   \u001b[49m\u001b[43mswmr\u001b[49m\u001b[38;5;241;43m=\u001b[39;49m\u001b[43mswmr\u001b[49m\u001b[43m)\u001b[49m\n\u001b[1;32m    410\u001b[0m \u001b[38;5;28;01mif\u001b[39;00m \u001b[38;5;28misinstance\u001b[39m(libver, \u001b[38;5;28mtuple\u001b[39m):\n\u001b[1;32m    411\u001b[0m     \u001b[38;5;28mself\u001b[39m\u001b[38;5;241m.\u001b[39m_libver \u001b[38;5;241m=\u001b[39m libver\n",
      "File \u001b[0;32m~/.conda/envs/basenji-gpu/lib/python3.8/site-packages/h5py/_hl/files.py:173\u001b[0m, in \u001b[0;36mmake_fid\u001b[0;34m(name, mode, userblock_size, fapl, fcpl, swmr)\u001b[0m\n\u001b[1;32m    171\u001b[0m     \u001b[38;5;28;01mif\u001b[39;00m swmr \u001b[38;5;129;01mand\u001b[39;00m swmr_support:\n\u001b[1;32m    172\u001b[0m         flags \u001b[38;5;241m|\u001b[39m\u001b[38;5;241m=\u001b[39m h5f\u001b[38;5;241m.\u001b[39mACC_SWMR_READ\n\u001b[0;32m--> 173\u001b[0m     fid \u001b[38;5;241m=\u001b[39m \u001b[43mh5f\u001b[49m\u001b[38;5;241;43m.\u001b[39;49m\u001b[43mopen\u001b[49m\u001b[43m(\u001b[49m\u001b[43mname\u001b[49m\u001b[43m,\u001b[49m\u001b[43m \u001b[49m\u001b[43mflags\u001b[49m\u001b[43m,\u001b[49m\u001b[43m \u001b[49m\u001b[43mfapl\u001b[49m\u001b[38;5;241;43m=\u001b[39;49m\u001b[43mfapl\u001b[49m\u001b[43m)\u001b[49m\n\u001b[1;32m    174\u001b[0m \u001b[38;5;28;01melif\u001b[39;00m mode \u001b[38;5;241m==\u001b[39m \u001b[38;5;124m'\u001b[39m\u001b[38;5;124mr+\u001b[39m\u001b[38;5;124m'\u001b[39m:\n\u001b[1;32m    175\u001b[0m     fid \u001b[38;5;241m=\u001b[39m h5f\u001b[38;5;241m.\u001b[39mopen(name, h5f\u001b[38;5;241m.\u001b[39mACC_RDWR, fapl\u001b[38;5;241m=\u001b[39mfapl)\n",
      "File \u001b[0;32mh5py/_objects.pyx:54\u001b[0m, in \u001b[0;36mh5py._objects.with_phil.wrapper\u001b[0;34m()\u001b[0m\n",
      "File \u001b[0;32mh5py/_objects.pyx:55\u001b[0m, in \u001b[0;36mh5py._objects.with_phil.wrapper\u001b[0;34m()\u001b[0m\n",
      "File \u001b[0;32mh5py/h5f.pyx:88\u001b[0m, in \u001b[0;36mh5py.h5f.open\u001b[0;34m()\u001b[0m\n",
      "\u001b[0;31mOSError\u001b[0m: Unable to open file (bad object header version number)"
     ]
    }
   ],
   "source": [
    "# collect_h5(\"scd.h5\", \"/scratch1/kamulege/test_disruption_scd/motif_expt_model6_head1\", 12)\n",
    "\n",
    "# collect_h5(\"scd.h5\", \"/scratch1/kamulege/test_disruption_scd_span_test_v2/motif_expt_model7_head1/\", 12)\n",
    "# collect_h5(\"scd.h5\", \"/scratch1/kamulege/test_disruption_scd_span_test_v5/motif_expt_model1_head1/\", 7)\n",
    "# permute_boundaries_motifs_ctcf_mm10_model1/job10\n",
    "collect_h5(\"scd.h5\", \"/scratch1/kamulege/permute_boundaries_motifs_ctcf_mm10_model1\", 30)"
   ]
  },
  {
   "cell_type": "code",
   "execution_count": null,
   "id": "10b3a8f6-c136-4e67-be97-6d77313f6187",
   "metadata": {},
   "outputs": [],
   "source": [
    "# h5_dirs_2 = \"/scratch1/kamulege/test_disruption_scd_span_test_v2/motif_expt_model7_head1/scd.h5\"\n",
    "\n",
    "# h5_dirs_2 = \"/scratch1/kamulege/test_disruption_scd_span_test_v5/motif_expt_model1_head1/scd.h5\"\n",
    "\n",
    "h5_dirs_2 = \"/scratch1/kamulege/permute_boundaries_motifs_ctcf_mm10_model1/scd.h5\"\n",
    "\n",
    "h5_dirs_1 = \"/project/fudenber_735/tensorflow_models/akita/v2/analysis/permute_boundaries_motifs_ctcf_mm10_model1/scd.h5\"\n",
    "\n",
    "sites_1 = akita_utils.tsv_gen_utils.filter_boundary_ctcfs_from_h5(\n",
    "        h5_dirs=h5_dirs_1, score_key=\"SCD\", threshold_all_ctcf=0,\n",
    "    )\n",
    "sites_2 = akita_utils.tsv_gen_utils.filter_boundary_ctcfs_from_h5(\n",
    "        h5_dirs=h5_dirs_2, score_key=\"SCD\", threshold_all_ctcf=0,\n",
    "    )\n",
    "# sites_1.head\n",
    "sites_2.head"
   ]
  },
  {
   "cell_type": "code",
   "execution_count": null,
   "id": "cec643c3-298a-4031-857f-71a62eca0364",
   "metadata": {},
   "outputs": [],
   "source": [
    "# sites_1 = akita_utils.tsv_gen_utils.filter_boundary_ctcfs_from_h5(\n",
    "#         h5_dirs=h5_dirs_1, score_key=\"SCD\", threshold_all_ctcf= - np.inf,\n",
    "#     )\n"
   ]
  },
  {
   "cell_type": "code",
   "execution_count": null,
   "id": "1e7f44c7-5081-4f0c-a279-f109fa5308ad",
   "metadata": {},
   "outputs": [],
   "source": [
    "# s2 = akita_utils.format_io.h5_to_df(h5_dirs_2)\n",
    "# s2.shape"
   ]
  },
  {
   "cell_type": "code",
   "execution_count": null,
   "id": "360307c2-add4-403c-afd2-8a0cc732a10a",
   "metadata": {},
   "outputs": [],
   "source": [
    "h5_dirs_1 = \"/project/fudenber_735/tensorflow_models/akita/v2/analysis/permute_boundaries_motifs_ctcf_mm10_model7/scd.h5\"\n",
    "\n",
    "s1 = akita_utils.format_io.h5_to_df(h5_dirs_1)\n",
    "s.shape"
   ]
  },
  {
   "cell_type": "code",
   "execution_count": null,
   "id": "3a9cf65d-5526-4f55-8963-19f88678999d",
   "metadata": {},
   "outputs": [],
   "source": [
    "(s1['SCD'].max())"
   ]
  },
  {
   "cell_type": "code",
   "execution_count": null,
   "id": "2c558de4-1946-4822-b78a-6dd3bb1fed95",
   "metadata": {},
   "outputs": [],
   "source": [
    "h5_dirs_7 = \"/project/fudenber_735/tensorflow_models/akita/v2/analysis/permute_boundaries_motifs_ctcf_mm10_model7/scd.h5\"\n",
    "\n",
    "s7 = akita_utils.format_io.h5_to_df(h5_dirs_7\n",
    ")\n",
    "\n",
    "h5_dirs_1 = (\"/project/fudenber_735/tensorflow_models/akita/v2/\"+\"analysis/p7/scd.h5\")\n",
    "\n",
    "\n",
    "s1 = akita_utils.format_io.h5_to_df(h5_dirs_1\n",
    ")\n",
    "\n",
    "pseudocount=1e-3\n",
    "plt.scatter(\n",
    "    s1['SCD']+pseudocount,\n",
    "    s7['SCD']+pseudocount,\n",
    "    5, alpha=0.5)\n",
    "plt.loglog()\n",
    "plt.xlabel('OLD score')\n",
    "plt.ylabel(\"OLD7 score\")"
   ]
  },
  {
   "cell_type": "code",
   "execution_count": null,
   "id": "cde5411d-2785-4fc4-b0c0-458cb1b033f8",
   "metadata": {},
   "outputs": [],
   "source": [
    "%%bash\n",
    "head -n 5 /project/fudenber_735/tensorflow_models/akita/v2/analysis/boundaries.motifs.ctcf.mm10.tsv "
   ]
  },
  {
   "cell_type": "code",
   "execution_count": null,
   "id": "f2ae0abe-347d-42b5-be69-caa93af168c9",
   "metadata": {},
   "outputs": [],
   "source": [
    "pseudocount=1e-3\n",
    "plt.scatter(\n",
    "    s1['SCD']+pseudocount,\n",
    "    s2['SCD']+pseudocount,\n",
    "    5, alpha=0.5)\n",
    "plt.loglog()\n",
    "plt.xlabel('OLD score')\n",
    "plt.ylabel(\"NEW score\")"
   ]
  },
  {
   "cell_type": "code",
   "execution_count": null,
   "id": "92447633-04f1-46e4-88c7-0ff644226269",
   "metadata": {},
   "outputs": [],
   "source": []
  },
  {
   "cell_type": "code",
   "execution_count": null,
   "id": "49a64bd5-6a44-4e4e-8866-c48a57d8029c",
   "metadata": {},
   "outputs": [],
   "source": [
    "%%bash \n",
    "cat /project/fudenber_735/tensorflow_models/akita/v2/analysis/boundaries.motifs.ctcf.mm10.tsv | wc -l"
   ]
  },
  {
   "cell_type": "code",
   "execution_count": null,
   "id": "7c36e0fe-f33a-43b9-8279-f86b10925594",
   "metadata": {},
   "outputs": [],
   "source": [
    "%%bash \n",
    "cat /project/fudenber_735/tensorflow_models/akita/v2/analysis/boundaries.motifs.ctcf.mm10.tsv | wc -l"
   ]
  },
  {
   "cell_type": "code",
   "execution_count": null,
   "id": "c9ec00c8-3398-4c23-b631-b79167424112",
   "metadata": {},
   "outputs": [],
   "source": []
  },
  {
   "cell_type": "code",
   "execution_count": null,
   "id": "65c42c9b-908c-45a3-9c3e-14aaeb02f272",
   "metadata": {},
   "outputs": [],
   "source": [
    "print(len(sites_1[\"score_all_ctcf\"]))  \n",
    "print(len(sites_2[\"score_all_ctcf\"]))\n",
    "\n",
    "# create a scatter plot for df1\n",
    "plt.scatter(sites_1['boundary_index'], sites_1['score_all_ctcf'], label='df1', color='blue', marker='o')\n",
    "\n",
    "# create a scatter plot for df2\n",
    "plt.scatter(sites_2['boundary_index'], sites_2['score_all_ctcf'], label='df2', color='red', alpha=1, marker='+') \n",
    "# score_10k score_all_ctcf\n",
    "plt.xlabel(\"boundary_index\")\n",
    "plt.ylabel(\"score_all_ctcf\")\n",
    "# plt.ylim(0,5)\n",
    "plt.legend()"
   ]
  },
  {
   "cell_type": "code",
   "execution_count": null,
   "id": "98899be7-3239-4cdf-af6b-1c65642d1243",
   "metadata": {},
   "outputs": [],
   "source": [
    "%%bash \n",
    "cat /project/fudenber_735/tensorflow_models/akita/v2/analysis/boundaries.motifs.ctcf.mm10.tsv | wc -l"
   ]
  },
  {
   "cell_type": "code",
   "execution_count": null,
   "id": "f040b8ec-a81c-49df-a960-7e4d9a56eb13",
   "metadata": {},
   "outputs": [],
   "source": [
    "%%bash \n",
    "tail -n 2 /project/fudenber_735/tensorflow_models/akita/v2/analysis/boundaries.motifs.ctcf.mm10.tsv"
   ]
  },
  {
   "cell_type": "code",
   "execution_count": null,
   "id": "17e1114a-0270-4f58-9f98-6de05033c47c",
   "metadata": {},
   "outputs": [],
   "source": [
    "sites_1.shape, sites_2.shape"
   ]
  },
  {
   "cell_type": "code",
   "execution_count": null,
   "id": "5beb87e9-1a86-410d-9690-e920d88a2ce1",
   "metadata": {},
   "outputs": [],
   "source": []
  },
  {
   "cell_type": "code",
   "execution_count": null,
   "id": "92211785-39f7-41b1-848d-bc869c295707",
   "metadata": {},
   "outputs": [],
   "source": [
    "# score_key=\"SCD\"\n",
    "# upper_threshold=99\n",
    "# lower_threshold=1\n",
    "# mode=\"head\"\n",
    "\n",
    "# upper_thresh = np.percentile(sites[score_key].values, upper_threshold)\n",
    "# lower_thresh = np.percentile(sites[score_key].values, lower_threshold)\n",
    "\n",
    "# filtered_sites = (\n",
    "#     sites[(sites[score_key] >= lower_thresh) & (sites[score_key] <= upper_thresh)]\n",
    "#     .copy()\n",
    "#     # .drop_duplicates(subset=[score_key])\n",
    "#     .sort_values(score_key, ascending=False)\n",
    "# )"
   ]
  },
  {
   "cell_type": "code",
   "execution_count": null,
   "id": "979897c7-8422-4a94-84c9-c179ddfb84e6",
   "metadata": {},
   "outputs": [],
   "source": [
    "# len(filtered_sites)"
   ]
  },
  {
   "cell_type": "code",
   "execution_count": null,
   "id": "b63a5fc9-6d94-4152-b2af-7af86932194b",
   "metadata": {},
   "outputs": [],
   "source": [
    "df_1 = pd.read_csv('/project/fudenber_735/tensorflow_models/akita/v2/analysis/boundaries.motifs.ctcf.mm10.tsv', sep='\\t')\n",
    "df_2 = pd.read_csv('/scratch1/kamulege/boundaries.motifs.ctcf.mm10.tsv', sep='\\t')\n",
    "df_3 = pd.merge(df_1, df_2, on=\"start\" )"
   ]
  },
  {
   "cell_type": "code",
   "execution_count": null,
   "id": "8296327e-12e3-4cf6-b43e-33f0a09aea72",
   "metadata": {},
   "outputs": [],
   "source": [
    "not_in_df_2 = df_1[~df_1['span'].isin(df_2['span'])]\n",
    "\n",
    "not_in_df_2"
   ]
  },
  {
   "cell_type": "code",
   "execution_count": null,
   "id": "d810a8c5-7585-45bf-9fab-216c10f4ef96",
   "metadata": {},
   "outputs": [],
   "source": [
    "# df_3.plot.scatter(x='start_x', y='start_y')\n",
    "\n",
    "# create a scatter plot for df1\n",
    "plt.scatter(df_1['boundary_index'], df_1['boundary_strength_200000'], label='df1', color='blue', marker='o')\n",
    "\n",
    "# create a scatter plot for df2\n",
    "plt.scatter(df_2['boundary_index'], df_2['boundary_strength_200000'], label='df2', color='red', marker='+')\n",
    "\n",
    "plt.scatter(not_in_df_2['boundary_index'], not_in_df_2['boundary_strength_200000'], label='not_in_df_2', color='orange', alpha=1, marker='+')\n",
    "\n",
    "plt.xlabel(\"boundary_index\")\n",
    "plt.ylabel(\"boundary_strength_200000\")\n",
    "plt.legend()"
   ]
  },
  {
   "cell_type": "code",
   "execution_count": null,
   "id": "977ea11d-45d0-4663-b20d-6c66b8b2615a",
   "metadata": {},
   "outputs": [],
   "source": [
    "df_1.shape[0] - df_2.shape[0]"
   ]
  },
  {
   "cell_type": "code",
   "execution_count": null,
   "id": "8cf3424c-8fda-4c53-aca6-d555f0e70266",
   "metadata": {},
   "outputs": [],
   "source": []
  }
 ],
 "metadata": {
  "kernelspec": {
   "display_name": "basenji-gpu",
   "language": "python",
   "name": "basenji-gpu"
  },
  "language_info": {
   "codemirror_mode": {
    "name": "ipython",
    "version": 3
   },
   "file_extension": ".py",
   "mimetype": "text/x-python",
   "name": "python",
   "nbconvert_exporter": "python",
   "pygments_lexer": "ipython3",
   "version": "3.8.0"
  }
 },
 "nbformat": 4,
 "nbformat_minor": 5
}
