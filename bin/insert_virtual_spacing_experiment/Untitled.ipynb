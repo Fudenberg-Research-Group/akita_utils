{
 "cells": [
  {
   "cell_type": "code",
   "execution_count": 2,
   "id": "fd5b5840-3fdf-47ce-8771-bcac36fdfe72",
   "metadata": {},
   "outputs": [
    {
     "name": "stderr",
     "output_type": "stream",
     "text": [
      "2022-10-10 16:22:43.897097: W tensorflow/stream_executor/platform/default/dso_loader.cc:64] Could not load dynamic library 'libcudart.so.11.0'; dlerror: libcudart.so.11.0: cannot open shared object file: No such file or directory; LD_LIBRARY_PATH: /spack/apps/linux-centos7-x86_64/gcc-8.3.0/python-3.9.2-uvcroioc4witkp6qf7mbebof5ix4wlb6/lib:/spack/apps/linux-centos7-x86_64/gcc-8.3.0/pmix-3.1.3-3sm6emyqaxapunh7rwbjvtaqoqe2e5z3/lib:/spack/apps/linux-centos7-x86_64/gcc-8.3.0/openmpi-4.0.2-ipm3dnvlbtxawpi4ifz7jma6jgr7mexq/lib:/spack/apps/linux-centos7-x86_64/gcc-8.3.0/openblas-0.3.8-2no6mfziiclwxb7lstxoos335gnhjpes/lib:/spack/apps/gcc/8.3.0/lib64::/home1/smaruj/software/GSL/lib:/home1/smaruj/software/HTSLIB/lib\n",
      "2022-10-10 16:22:43.897135: I tensorflow/stream_executor/cuda/cudart_stub.cc:29] Ignore above cudart dlerror if you do not have a GPU set up on your machine.\n"
     ]
    }
   ],
   "source": [
    "import bioframe\n",
    "import pandas as pd\n",
    "import numpy as np\n",
    "from basenji import dna_io\n",
    "import akita_utils\n",
    "import cooltools"
   ]
  },
  {
   "cell_type": "code",
   "execution_count": 7,
   "id": "d10bcc81-cf3b-4def-8c47-7ccfa1f25c50",
   "metadata": {},
   "outputs": [],
   "source": [
    "from cooltools.lib import numutils"
   ]
  },
  {
   "cell_type": "code",
   "execution_count": 26,
   "id": "d3b72764-f296-4f39-8374-fe6c270d5786",
   "metadata": {},
   "outputs": [],
   "source": [
    "spacing = list(np.unique(numutils.logbins(lo=1, hi=1000, N=200, version=2)-1))"
   ]
  },
  {
   "cell_type": "code",
   "execution_count": 28,
   "id": "c3eead29-2852-4621-bb53-a2938a73470a",
   "metadata": {},
   "outputs": [
    {
     "data": {
      "text/plain": [
       "[0,\n",
       " 1,\n",
       " 2,\n",
       " 3,\n",
       " 4,\n",
       " 5,\n",
       " 6,\n",
       " 7,\n",
       " 8,\n",
       " 9,\n",
       " 10,\n",
       " 11,\n",
       " 12,\n",
       " 13,\n",
       " 14,\n",
       " 15,\n",
       " 16,\n",
       " 17,\n",
       " 18,\n",
       " 19,\n",
       " 20,\n",
       " 21,\n",
       " 22,\n",
       " 23,\n",
       " 24,\n",
       " 25,\n",
       " 26,\n",
       " 27,\n",
       " 28,\n",
       " 29,\n",
       " 30,\n",
       " 31,\n",
       " 32,\n",
       " 33,\n",
       " 34,\n",
       " 35,\n",
       " 36,\n",
       " 37,\n",
       " 38,\n",
       " 39,\n",
       " 41,\n",
       " 43,\n",
       " 45,\n",
       " 47,\n",
       " 49,\n",
       " 51,\n",
       " 53,\n",
       " 55,\n",
       " 57,\n",
       " 59,\n",
       " 61,\n",
       " 63,\n",
       " 65,\n",
       " 67,\n",
       " 69,\n",
       " 72,\n",
       " 75,\n",
       " 78,\n",
       " 81,\n",
       " 84,\n",
       " 87,\n",
       " 90,\n",
       " 93,\n",
       " 96,\n",
       " 99,\n",
       " 103,\n",
       " 107,\n",
       " 111,\n",
       " 115,\n",
       " 119,\n",
       " 123,\n",
       " 127,\n",
       " 132,\n",
       " 137,\n",
       " 142,\n",
       " 147,\n",
       " 152,\n",
       " 157,\n",
       " 163,\n",
       " 169,\n",
       " 175,\n",
       " 181,\n",
       " 188,\n",
       " 195,\n",
       " 202,\n",
       " 209,\n",
       " 216,\n",
       " 224,\n",
       " 232,\n",
       " 240,\n",
       " 248,\n",
       " 257,\n",
       " 266,\n",
       " 276,\n",
       " 286,\n",
       " 296,\n",
       " 306,\n",
       " 317,\n",
       " 328,\n",
       " 340,\n",
       " 352,\n",
       " 364,\n",
       " 377,\n",
       " 391,\n",
       " 405,\n",
       " 419,\n",
       " 434,\n",
       " 449,\n",
       " 465,\n",
       " 481,\n",
       " 498,\n",
       " 516,\n",
       " 534,\n",
       " 553,\n",
       " 573,\n",
       " 593,\n",
       " 614,\n",
       " 636,\n",
       " 658,\n",
       " 682,\n",
       " 706,\n",
       " 731,\n",
       " 757,\n",
       " 783,\n",
       " 811,\n",
       " 840,\n",
       " 869,\n",
       " 900,\n",
       " 932,\n",
       " 965,\n",
       " 999]"
      ]
     },
     "execution_count": 28,
     "metadata": {},
     "output_type": "execute_result"
    }
   ],
   "source": [
    "spacing"
   ]
  },
  {
   "cell_type": "code",
   "execution_count": null,
   "id": "ccc0f832-1e61-4ac6-acaa-34e97ea8d59c",
   "metadata": {},
   "outputs": [],
   "source": []
  }
 ],
 "metadata": {
  "kernelspec": {
   "display_name": "Basenji kernel",
   "language": "python",
   "name": "basenji_kernel"
  },
  "language_info": {
   "codemirror_mode": {
    "name": "ipython",
    "version": 3
   },
   "file_extension": ".py",
   "mimetype": "text/x-python",
   "name": "python",
   "nbconvert_exporter": "python",
   "pygments_lexer": "ipython3",
   "version": "3.8.12"
  }
 },
 "nbformat": 4,
 "nbformat_minor": 5
}
