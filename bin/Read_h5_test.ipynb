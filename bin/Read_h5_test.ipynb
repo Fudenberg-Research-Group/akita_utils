{
 "cells": [
  {
   "cell_type": "code",
   "execution_count": null,
   "id": "45cd524a-e659-4e25-a4b4-9e96b3ba76a9",
   "metadata": {},
   "outputs": [
    {
     "name": "stderr",
     "output_type": "stream",
     "text": [
      "2022-07-20 17:36:03.913311: W tensorflow/stream_executor/platform/default/dso_loader.cc:64] Could not load dynamic library 'libcudart.so.11.0'; dlerror: libcudart.so.11.0: cannot open shared object file: No such file or directory; LD_LIBRARY_PATH: /spack/apps/linux-centos7-x86_64/gcc-8.3.0/python-3.9.2-uvcroioc4witkp6qf7mbebof5ix4wlb6/lib:/spack/apps/linux-centos7-x86_64/gcc-8.3.0/pmix-3.1.3-3sm6emyqaxapunh7rwbjvtaqoqe2e5z3/lib:/spack/apps/linux-centos7-x86_64/gcc-8.3.0/openmpi-4.0.2-ipm3dnvlbtxawpi4ifz7jma6jgr7mexq/lib:/spack/apps/linux-centos7-x86_64/gcc-8.3.0/openblas-0.3.8-2no6mfziiclwxb7lstxoos335gnhjpes/lib:/spack/apps/gcc/8.3.0/lib64::/home1/smaruj/software/GSL/lib:/home1/smaruj/software/HTSLIB/lib\n",
      "2022-07-20 17:36:03.913345: I tensorflow/stream_executor/cuda/cudart_stub.cc:29] Ignore above cudart dlerror if you do not have a GPU set up on your machine.\n"
     ]
    }
   ],
   "source": [
    "import matplotlib.pyplot as plt\n",
    "import seaborn as sns\n",
    "import bioframe \n",
    "import pandas as pd\n",
    "import numpy as np \n",
    "import os\n",
    "import json\n",
    "from io import StringIO\n",
    "import random\n",
    "\n",
    "import pysam\n",
    "import h5py\n",
    "\n",
    "from Bio import motifs\n",
    "from Bio import pairwise2\n",
    "from Bio.Seq import Seq\n",
    "\n",
    "import sys\n",
    "\n",
    "sys.path.insert(0, \"/home1/smaruj/akita_utils/\")\n",
    "\n",
    "# from akita_utils import *\n",
    "import akita_utils"
   ]
  },
  {
   "cell_type": "code",
   "execution_count": null,
   "id": "bba96196-4f41-4b45-87d1-a8511f8ff0b1",
   "metadata": {},
   "outputs": [],
   "source": [
    "# dupa = akita_utils.h5_to_df(\"./ins_test/scd.h5\")\n",
    "filename = \"/home1/smaruj/akita_utils/bin/ins_test/out.h5\"\n",
    "scd_out = h5py.File(filename, \"r\")"
   ]
  },
  {
   "cell_type": "code",
   "execution_count": null,
   "id": "5f90ec01-d20e-4827-b419-91fb7eb237ae",
   "metadata": {},
   "outputs": [],
   "source": [
    "for key in scd_out.keys():\n",
    "    print(key, scd_out[key])"
   ]
  },
  {
   "cell_type": "code",
   "execution_count": null,
   "id": "f3aaa030-8183-49a9-b8d6-208a8954027b",
   "metadata": {},
   "outputs": [],
   "source": [
    "# pd.Series(scd_out[\"INS-16\"])\n",
    "# df = pd.DataFrame(np.array(h5py.File(filename)[\"INS-16\"]))\n",
    "np.array(h5py.File(filename)[\"Chromosome\"])"
   ]
  },
  {
   "cell_type": "code",
   "execution_count": null,
   "id": "2d5d71ca-e8fc-4da3-ae22-1c252582aa52",
   "metadata": {},
   "outputs": [],
   "source": [
    "np.array(h5py.File(filename)[\"INS-16\"]).shape"
   ]
  },
  {
   "cell_type": "code",
   "execution_count": null,
   "id": "259ca190-40d3-4ab4-b805-f8406f08f59a",
   "metadata": {},
   "outputs": [],
   "source": []
  }
 ],
 "metadata": {
  "kernelspec": {
   "display_name": "Basenji kernel",
   "language": "python",
   "name": "basenji_kernel"
  },
  "language_info": {
   "codemirror_mode": {
    "name": "ipython",
    "version": 3
   },
   "file_extension": ".py",
   "mimetype": "text/x-python",
   "name": "python",
   "nbconvert_exporter": "python",
   "pygments_lexer": "ipython3",
   "version": "3.8.12"
  }
 },
 "nbformat": 4,
 "nbformat_minor": 5
}
