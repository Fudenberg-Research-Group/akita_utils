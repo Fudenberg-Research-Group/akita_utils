{
 "cells": [
  {
   "cell_type": "code",
   "execution_count": 1,
   "id": "45cd524a-e659-4e25-a4b4-9e96b3ba76a9",
   "metadata": {},
   "outputs": [
    {
     "name": "stderr",
     "output_type": "stream",
     "text": [
      "2022-08-02 14:05:51.753681: W tensorflow/stream_executor/platform/default/dso_loader.cc:64] Could not load dynamic library 'libcudart.so.11.0'; dlerror: libcudart.so.11.0: cannot open shared object file: No such file or directory; LD_LIBRARY_PATH: /spack/apps/linux-centos7-x86_64/gcc-8.3.0/python-3.9.2-uvcroioc4witkp6qf7mbebof5ix4wlb6/lib:/spack/apps/linux-centos7-x86_64/gcc-8.3.0/pmix-3.1.3-3sm6emyqaxapunh7rwbjvtaqoqe2e5z3/lib:/spack/apps/linux-centos7-x86_64/gcc-8.3.0/openmpi-4.0.2-ipm3dnvlbtxawpi4ifz7jma6jgr7mexq/lib:/spack/apps/linux-centos7-x86_64/gcc-8.3.0/openblas-0.3.8-2no6mfziiclwxb7lstxoos335gnhjpes/lib:/spack/apps/gcc/8.3.0/lib64::/home1/smaruj/software/GSL/lib:/home1/smaruj/software/HTSLIB/lib\n",
      "2022-08-02 14:05:51.753748: I tensorflow/stream_executor/cuda/cudart_stub.cc:29] Ignore above cudart dlerror if you do not have a GPU set up on your machine.\n"
     ]
    }
   ],
   "source": [
    "import matplotlib.pyplot as plt\n",
    "import seaborn as sns\n",
    "import bioframe \n",
    "import pandas as pd\n",
    "import numpy as np \n",
    "import os\n",
    "import json\n",
    "from io import StringIO\n",
    "import random\n",
    "\n",
    "import pysam\n",
    "import h5py\n",
    "\n",
    "from Bio import motifs\n",
    "from Bio import pairwise2\n",
    "from Bio.Seq import Seq\n",
    "\n",
    "import sys\n",
    "\n",
    "sys.path.insert(0, \"/home1/smaruj/akita_utils/\")\n",
    "\n",
    "# from akita_utils import *\n",
    "import akita_utils"
   ]
  },
  {
   "cell_type": "code",
   "execution_count": 4,
   "id": "bba96196-4f41-4b45-87d1-a8511f8ff0b1",
   "metadata": {},
   "outputs": [
    {
     "name": "stdout",
     "output_type": "stream",
     "text": [
      "Chromosome <HDF5 dataset \"Chromosome\": shape (4,), type \"|S5\">\n",
      "End <HDF5 dataset \"End\": shape (4,), type \"<i4\">\n",
      "INS-16 <HDF5 dataset \"INS-16\": shape (3, 4, 1, 6), type \"<f8\">\n",
      "INS-64 <HDF5 dataset \"INS-64\": shape (3, 4, 1, 6), type \"<f8\">\n",
      "SCD <HDF5 dataset \"SCD\": shape (3, 4, 1, 6), type \"<f8\">\n",
      "Start <HDF5 dataset \"Start\": shape (4,), type \"<i4\">\n",
      "Strand <HDF5 dataset \"Strand\": shape (4,), type \"|S1\">\n",
      "genomic_SCD <HDF5 dataset \"genomic_SCD\": shape (4,), type \"<f8\">\n"
     ]
    }
   ],
   "source": [
    "# dupa = akita_utils.h5_to_df(\"./ins_test/scd.h5\")\n",
    "\n",
    "import glob\n",
    "\n",
    "filename = \"/home1/smaruj/akita_utils/bin/ins_test/out.h5\"\n",
    "scd_out = h5py.File(filename, \"r\")\n",
    "dfs = []\n",
    "\n",
    "for key in scd_out.keys():\n",
    "    print(key, scd_out[key])\n",
    "\n",
    "# for h5_file in glob.glob(h5_dirs):\n",
    "#     dfs.append(h5_to_df(h5_file))\n",
    "# df = dfs[0].copy()\n",
    "# df[score_key] = np.mean([df[score_key] for df in dfs], axis=0)\n",
    "# df[\"span\"] = df[\"span\"].str.decode(\"utf8\")"
   ]
  },
  {
   "cell_type": "code",
   "execution_count": 3,
   "id": "5f90ec01-d20e-4827-b419-91fb7eb237ae",
   "metadata": {},
   "outputs": [
    {
     "name": "stdout",
     "output_type": "stream",
     "text": [
      "Chromosome <HDF5 dataset \"Chromosome\": shape (4,), type \"|S5\">\n",
      "End <HDF5 dataset \"End\": shape (4,), type \"<i4\">\n",
      "INS-16 <HDF5 dataset \"INS-16\": shape (3, 4, 1, 6), type \"<f8\">\n",
      "INS-64 <HDF5 dataset \"INS-64\": shape (3, 4, 1, 6), type \"<f8\">\n",
      "SCD <HDF5 dataset \"SCD\": shape (3, 4, 1, 6), type \"<f8\">\n",
      "Start <HDF5 dataset \"Start\": shape (4,), type \"<i4\">\n",
      "Strand <HDF5 dataset \"Strand\": shape (4,), type \"|S1\">\n",
      "genomic_SCD <HDF5 dataset \"genomic_SCD\": shape (4,), type \"<f8\">\n"
     ]
    }
   ],
   "source": [
    "for key in scd_out.keys():\n",
    "    print(key, scd_out[key])"
   ]
  },
  {
   "cell_type": "code",
   "execution_count": 4,
   "id": "f3aaa030-8183-49a9-b8d6-208a8954027b",
   "metadata": {},
   "outputs": [
    {
     "name": "stderr",
     "output_type": "stream",
     "text": [
      "/tmp/SLURM_6881111/ipykernel_82728/1248198245.py:3: H5pyDeprecationWarning: The default file mode will change to 'r' (read-only) in h5py 3.0. To suppress this warning, pass the mode you need to h5py.File(), or set the global default h5.get_config().default_file_mode, or set the environment variable H5PY_DEFAULT_READONLY=1. Available modes are: 'r', 'r+', 'w', 'w-'/'x', 'a'. See the docs for details.\n",
      "  np.array(h5py.File(filename)[\"Chromosome\"])\n"
     ]
    },
    {
     "data": {
      "text/plain": [
       "array([b'chr12', b'chr8', b'chr7', b'chr8'], dtype='|S5')"
      ]
     },
     "execution_count": 4,
     "metadata": {},
     "output_type": "execute_result"
    }
   ],
   "source": [
    "# pd.Series(scd_out[\"INS-16\"])\n",
    "# df = pd.DataFrame(np.array(h5py.File(filename)[\"INS-16\"]))\n",
    "np.array(h5py.File(filename)[\"Chromosome\"])"
   ]
  },
  {
   "cell_type": "code",
   "execution_count": 5,
   "id": "2d5d71ca-e8fc-4da3-ae22-1c252582aa52",
   "metadata": {},
   "outputs": [
    {
     "name": "stderr",
     "output_type": "stream",
     "text": [
      "/tmp/SLURM_7030374/ipykernel_59354/2414455709.py:1: H5pyDeprecationWarning: The default file mode will change to 'r' (read-only) in h5py 3.0. To suppress this warning, pass the mode you need to h5py.File(), or set the global default h5.get_config().default_file_mode, or set the environment variable H5PY_DEFAULT_READONLY=1. Available modes are: 'r', 'r+', 'w', 'w-'/'x', 'a'. See the docs for details.\n",
      "  np.array(h5py.File(filename)[\"INS-16\"]).shape\n"
     ]
    },
    {
     "data": {
      "text/plain": [
       "(3, 4, 1, 6)"
      ]
     },
     "execution_count": 5,
     "metadata": {},
     "output_type": "execute_result"
    }
   ],
   "source": [
    "np.array(h5py.File(filename)[\"INS-16\"]).shape"
   ]
  },
  {
   "cell_type": "code",
   "execution_count": null,
   "id": "259ca190-40d3-4ab4-b805-f8406f08f59a",
   "metadata": {},
   "outputs": [],
   "source": [
    "# SCD = np.load(\"/home1/smaruj/akita_utils/bin/ins_test/SCD.npy\")"
   ]
  },
  {
   "cell_type": "code",
   "execution_count": null,
   "id": "0a5f0bf6-34dd-4e59-a344-82441ebf1db4",
   "metadata": {},
   "outputs": [],
   "source": [
    "# SCD.shape"
   ]
  },
  {
   "cell_type": "code",
   "execution_count": null,
   "id": "f8d851e8-8b86-4f97-84fb-850b399e75ea",
   "metadata": {},
   "outputs": [],
   "source": [
    "# INS16 = np.load(\"/home1/smaruj/akita_utils/bin/ins_test/INS-16.npy\")"
   ]
  },
  {
   "cell_type": "code",
   "execution_count": null,
   "id": "bef87919-5097-405f-968e-234335037ecf",
   "metadata": {},
   "outputs": [],
   "source": [
    "# INS16.shape"
   ]
  },
  {
   "cell_type": "code",
   "execution_count": null,
   "id": "62ac9490-9e8f-4768-bdfa-2956322da5ee",
   "metadata": {},
   "outputs": [],
   "source": []
  }
 ],
 "metadata": {
  "kernelspec": {
   "display_name": "Basenji kernel",
   "language": "python",
   "name": "basenji_kernel"
  },
  "language_info": {
   "codemirror_mode": {
    "name": "ipython",
    "version": 3
   },
   "file_extension": ".py",
   "mimetype": "text/x-python",
   "name": "python",
   "nbconvert_exporter": "python",
   "pygments_lexer": "ipython3",
   "version": "3.8.12"
  }
 },
 "nbformat": 4,
 "nbformat_minor": 5
}
