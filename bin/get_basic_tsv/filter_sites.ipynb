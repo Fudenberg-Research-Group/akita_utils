{
 "cells": [
  {
   "cell_type": "code",
   "execution_count": 1,
   "id": "b329399c-54f7-4b5d-ac38-e5fb5321790d",
   "metadata": {},
   "outputs": [],
   "source": [
    "import pandas as pd\n",
    "import pysam\n",
    "import numpy as np\n",
    "import akita_utils\n",
    "import seaborn as sns\n",
    "import bioframe as bf"
   ]
  },
  {
   "cell_type": "code",
   "execution_count": 2,
   "id": "81944b29-c165-4129-8cab-b5e96f82125a",
   "metadata": {},
   "outputs": [
    {
     "name": "stderr",
     "output_type": "stream",
     "text": [
      "2023-10-03 14:14:48.095194: W tensorflow/stream_executor/platform/default/dso_loader.cc:64] Could not load dynamic library 'libcudart.so.11.0'; dlerror: libcudart.so.11.0: cannot open shared object file: No such file or directory; LD_LIBRARY_PATH: :/home1/smaruj/software/GSL/lib:/home1/smaruj/software/HTSLIB/lib\n",
      "2023-10-03 14:14:48.095263: I tensorflow/stream_executor/cuda/cudart_stub.cc:29] Ignore above cudart dlerror if you do not have a GPU set up on your machine.\n"
     ]
    }
   ],
   "source": [
    "from akita_utils.dna_utils import scan_motif, dna_1hot\n",
    "from akita_utils.format_io import read_jaspar_to_numpy"
   ]
  },
  {
   "cell_type": "code",
   "execution_count": 3,
   "id": "f73fa49b-65da-44bd-a7e8-7922aec19171",
   "metadata": {},
   "outputs": [],
   "source": [
    "# from akita_utils.format_io import read_rmsk\n",
    "# from akita_utils.tsv_gen_utils import filter_by_overlap_num\n",
    "\n",
    "from io import StringIO\n",
    "\n",
    "def read_rmsk(rmsk_file=\"/project/fudenber_735/genomes/mm10/database/rmsk.txt.gz\"):\n",
    "    \n",
    "    \"\"\"reads a data frame containing repeatable elements and renames columns specifying genomic intervals to standard: chrom, start, end, used in thie repo.\"\"\"\n",
    "    \n",
    "    rmsk_cols = list(\n",
    "        pd.read_csv(\n",
    "            StringIO(\n",
    "                \"\"\"bin swScore milliDiv milliDel milliIns genoName genoStart genoEnd genoLeft strand repName repClass repFamily repStart repEnd repLeft id\"\"\"\n",
    "            ),\n",
    "            sep=\" \",\n",
    "        )\n",
    "    )\n",
    "\n",
    "    rmsk = pd.read_table(\n",
    "        rmsk_file,\n",
    "        names=rmsk_cols,\n",
    "    )\n",
    "    \n",
    "    rmsk.rename(\n",
    "        columns={\"genoName\": \"chrom\", \"genoStart\": \"start\", \"genoEnd\": \"end\"},\n",
    "        inplace=True,\n",
    "    )\n",
    "    \n",
    "    return rmsk\n",
    "\n",
    "def filter_by_overlap_num(\n",
    "    working_df,\n",
    "    filter_df,\n",
    "    expand_window=60,\n",
    "    working_df_cols=[\"chrom\",\"start\",\"end\"],\n",
    "    filter_df_cols=[\"chrom\",\"start\",\"end\"],\n",
    "    max_overlap_num=0):\n",
    "    \n",
    "    \"\"\"\n",
    "    Filter out rows from working_df that overlap entries in filter_df above given threshold.\n",
    "\n",
    "    Parameters\n",
    "    -----------\n",
    "    working_df : dataFrame\n",
    "        First set of genomic intervals.\n",
    "    filter_df : dataFrame\n",
    "        Second set of genomic intervals.\n",
    "    expand_window : int\n",
    "        Indicates how big window around the given genomic intervals should be taken into account.\n",
    "    working_df_cols : list\n",
    "        Columns specifying genomic intervals in the working_df.\n",
    "    filter_df_cols : list\n",
    "        Columns specifying genomic intervals in the filter_df.\n",
    "    max_overlap_num : int\n",
    "        All the rows with number of overlaps above this threshold will be filtered out.\n",
    "        \n",
    "    Returns\n",
    "    --------\n",
    "    working_df : dataFrame\n",
    "        Subset of working_df that do not have overlaps with filter_df above given threshold.\n",
    "\n",
    "    \"\"\"\n",
    "    \n",
    "    filter_df = bf.expand(filter_df, pad=expand_window)\n",
    "    \n",
    "    working_df = bf.count_overlaps(working_df, filter_df[filter_df_cols], cols1=working_df_cols)\n",
    "    \n",
    "    working_df = working_df.iloc[working_df[\"count\"].values <= max_overlap_num]\n",
    "    working_df.reset_index(inplace=True, drop=True)\n",
    "\n",
    "    return working_df"
   ]
  },
  {
   "cell_type": "markdown",
   "id": "61b3a05d-20f1-429c-8c89-3b903b71e649",
   "metadata": {},
   "source": [
    "# reading tsv with all mouse ctcf motifs (that overlap boundaries)"
   ]
  },
  {
   "cell_type": "code",
   "execution_count": 4,
   "id": "af021dac-deaf-43e6-809c-6faf8063df81",
   "metadata": {},
   "outputs": [],
   "source": [
    "all_ctcf_path = \"/project/fudenber_735/tensorflow_models/akita/v2/analysis/to_insert_boundaries.motifs.ctcf.mm10.tsv\"\n",
    "df = pd.read_csv(all_ctcf_path, sep=\"\\t\")"
   ]
  },
  {
   "cell_type": "markdown",
   "id": "c9c7bec7-d332-4422-b1f9-39c743420842",
   "metadata": {},
   "source": [
    "### Since the set of motifs is the same for all backgrounds, we can focus on a subset of the table corresponding to one background (e.g. the 0th background)"
   ]
  },
  {
   "cell_type": "code",
   "execution_count": 5,
   "id": "22c9ed06-64f5-4d7f-9ccf-51f57ec073e0",
   "metadata": {},
   "outputs": [],
   "source": [
    "df = df[df[\"background_index\"] == 0]\n",
    "\n",
    "# removing some not necessary columns from the table for clarity\n",
    "columns_to_keep = [\"boundary_index\", \"chrom\", \"boundary_end\", \"index\", \"num_ctcf\", \"span\", \"boundary_start\", \"strand\", \"start\", \"end\"]\n",
    "df = df[columns_to_keep]"
   ]
  },
  {
   "cell_type": "code",
   "execution_count": 6,
   "id": "e1c808d5-50c4-41f4-9180-d4074bada554",
   "metadata": {},
   "outputs": [
    {
     "data": {
      "text/html": [
       "<div>\n",
       "<style scoped>\n",
       "    .dataframe tbody tr th:only-of-type {\n",
       "        vertical-align: middle;\n",
       "    }\n",
       "\n",
       "    .dataframe tbody tr th {\n",
       "        vertical-align: top;\n",
       "    }\n",
       "\n",
       "    .dataframe thead th {\n",
       "        text-align: right;\n",
       "    }\n",
       "</style>\n",
       "<table border=\"1\" class=\"dataframe\">\n",
       "  <thead>\n",
       "    <tr style=\"text-align: right;\">\n",
       "      <th></th>\n",
       "      <th>boundary_index</th>\n",
       "      <th>chrom</th>\n",
       "      <th>boundary_end</th>\n",
       "      <th>index</th>\n",
       "      <th>num_ctcf</th>\n",
       "      <th>span</th>\n",
       "      <th>boundary_start</th>\n",
       "      <th>strand</th>\n",
       "      <th>start</th>\n",
       "      <th>end</th>\n",
       "    </tr>\n",
       "  </thead>\n",
       "  <tbody>\n",
       "    <tr>\n",
       "      <th>0</th>\n",
       "      <td>0</td>\n",
       "      <td>chr1</td>\n",
       "      <td>4410000</td>\n",
       "      <td>0</td>\n",
       "      <td>2</td>\n",
       "      <td>4403267-4403286</td>\n",
       "      <td>4400000</td>\n",
       "      <td>-</td>\n",
       "      <td>4403267</td>\n",
       "      <td>4403286</td>\n",
       "    </tr>\n",
       "    <tr>\n",
       "      <th>1</th>\n",
       "      <td>0</td>\n",
       "      <td>chr1</td>\n",
       "      <td>4410000</td>\n",
       "      <td>1</td>\n",
       "      <td>2</td>\n",
       "      <td>4405891-4405910</td>\n",
       "      <td>4400000</td>\n",
       "      <td>+</td>\n",
       "      <td>4405891</td>\n",
       "      <td>4405910</td>\n",
       "    </tr>\n",
       "    <tr>\n",
       "      <th>2</th>\n",
       "      <td>1</td>\n",
       "      <td>chr1</td>\n",
       "      <td>4780000</td>\n",
       "      <td>4</td>\n",
       "      <td>10</td>\n",
       "      <td>4770055-4770074</td>\n",
       "      <td>4770000</td>\n",
       "      <td>+</td>\n",
       "      <td>4770055</td>\n",
       "      <td>4770074</td>\n",
       "    </tr>\n",
       "    <tr>\n",
       "      <th>3</th>\n",
       "      <td>1</td>\n",
       "      <td>chr1</td>\n",
       "      <td>4780000</td>\n",
       "      <td>5</td>\n",
       "      <td>10</td>\n",
       "      <td>4770180-4770199</td>\n",
       "      <td>4770000</td>\n",
       "      <td>-</td>\n",
       "      <td>4770180</td>\n",
       "      <td>4770199</td>\n",
       "    </tr>\n",
       "    <tr>\n",
       "      <th>4</th>\n",
       "      <td>1</td>\n",
       "      <td>chr1</td>\n",
       "      <td>4780000</td>\n",
       "      <td>6</td>\n",
       "      <td>10</td>\n",
       "      <td>4770867-4770886</td>\n",
       "      <td>4770000</td>\n",
       "      <td>+</td>\n",
       "      <td>4770867</td>\n",
       "      <td>4770886</td>\n",
       "    </tr>\n",
       "    <tr>\n",
       "      <th>...</th>\n",
       "      <td>...</td>\n",
       "      <td>...</td>\n",
       "      <td>...</td>\n",
       "      <td>...</td>\n",
       "      <td>...</td>\n",
       "      <td>...</td>\n",
       "      <td>...</td>\n",
       "      <td>...</td>\n",
       "      <td>...</td>\n",
       "      <td>...</td>\n",
       "    </tr>\n",
       "    <tr>\n",
       "      <th>18136</th>\n",
       "      <td>4472</td>\n",
       "      <td>chr19</td>\n",
       "      <td>59390000</td>\n",
       "      <td>26377</td>\n",
       "      <td>10</td>\n",
       "      <td>59388676-59388695</td>\n",
       "      <td>59380000</td>\n",
       "      <td>-</td>\n",
       "      <td>59388676</td>\n",
       "      <td>59388695</td>\n",
       "    </tr>\n",
       "    <tr>\n",
       "      <th>18137</th>\n",
       "      <td>4472</td>\n",
       "      <td>chr19</td>\n",
       "      <td>59390000</td>\n",
       "      <td>26378</td>\n",
       "      <td>10</td>\n",
       "      <td>59389390-59389409</td>\n",
       "      <td>59380000</td>\n",
       "      <td>+</td>\n",
       "      <td>59389390</td>\n",
       "      <td>59389409</td>\n",
       "    </tr>\n",
       "    <tr>\n",
       "      <th>18138</th>\n",
       "      <td>4473</td>\n",
       "      <td>chr19</td>\n",
       "      <td>59780000</td>\n",
       "      <td>26381</td>\n",
       "      <td>3</td>\n",
       "      <td>59770157-59770176</td>\n",
       "      <td>59770000</td>\n",
       "      <td>-</td>\n",
       "      <td>59770157</td>\n",
       "      <td>59770176</td>\n",
       "    </tr>\n",
       "    <tr>\n",
       "      <th>18139</th>\n",
       "      <td>4473</td>\n",
       "      <td>chr19</td>\n",
       "      <td>59780000</td>\n",
       "      <td>26382</td>\n",
       "      <td>3</td>\n",
       "      <td>59770474-59770493</td>\n",
       "      <td>59770000</td>\n",
       "      <td>+</td>\n",
       "      <td>59770474</td>\n",
       "      <td>59770493</td>\n",
       "    </tr>\n",
       "    <tr>\n",
       "      <th>18140</th>\n",
       "      <td>4473</td>\n",
       "      <td>chr19</td>\n",
       "      <td>59780000</td>\n",
       "      <td>26383</td>\n",
       "      <td>3</td>\n",
       "      <td>59772185-59772204</td>\n",
       "      <td>59770000</td>\n",
       "      <td>-</td>\n",
       "      <td>59772185</td>\n",
       "      <td>59772204</td>\n",
       "    </tr>\n",
       "  </tbody>\n",
       "</table>\n",
       "<p>18141 rows × 10 columns</p>\n",
       "</div>"
      ],
      "text/plain": [
       "       boundary_index  chrom  boundary_end  index  num_ctcf  \\\n",
       "0                   0   chr1       4410000      0         2   \n",
       "1                   0   chr1       4410000      1         2   \n",
       "2                   1   chr1       4780000      4        10   \n",
       "3                   1   chr1       4780000      5        10   \n",
       "4                   1   chr1       4780000      6        10   \n",
       "...               ...    ...           ...    ...       ...   \n",
       "18136            4472  chr19      59390000  26377        10   \n",
       "18137            4472  chr19      59390000  26378        10   \n",
       "18138            4473  chr19      59780000  26381         3   \n",
       "18139            4473  chr19      59780000  26382         3   \n",
       "18140            4473  chr19      59780000  26383         3   \n",
       "\n",
       "                    span  boundary_start strand     start       end  \n",
       "0        4403267-4403286         4400000      -   4403267   4403286  \n",
       "1        4405891-4405910         4400000      +   4405891   4405910  \n",
       "2        4770055-4770074         4770000      +   4770055   4770074  \n",
       "3        4770180-4770199         4770000      -   4770180   4770199  \n",
       "4        4770867-4770886         4770000      +   4770867   4770886  \n",
       "...                  ...             ...    ...       ...       ...  \n",
       "18136  59388676-59388695        59380000      -  59388676  59388695  \n",
       "18137  59389390-59389409        59380000      +  59389390  59389409  \n",
       "18138  59770157-59770176        59770000      -  59770157  59770176  \n",
       "18139  59770474-59770493        59770000      +  59770474  59770493  \n",
       "18140  59772185-59772204        59770000      -  59772185  59772204  \n",
       "\n",
       "[18141 rows x 10 columns]"
      ]
     },
     "execution_count": 6,
     "metadata": {},
     "output_type": "execute_result"
    }
   ],
   "source": [
    "df"
   ]
  },
  {
   "cell_type": "markdown",
   "id": "593b2e56-0aea-4048-b88e-42152a69ab4e",
   "metadata": {},
   "source": [
    "# filtering"
   ]
  },
  {
   "cell_type": "markdown",
   "id": "6cb02217-fa1a-4346-a3f8-68f1c34954ea",
   "metadata": {},
   "source": [
    "## 1. by ctcf"
   ]
  },
  {
   "cell_type": "code",
   "execution_count": 7,
   "id": "2ffc775d-84be-49d6-8f05-89350e6259dc",
   "metadata": {},
   "outputs": [],
   "source": [
    "# jaspar tsv\n",
    "jaspar_file = \"/project/fudenber_735/motifs/mm10/jaspar/MA0139.1.tsv.gz\"\n",
    "jaspar_df = bf.read_table(jaspar_file, schema=\"jaspar\")\n",
    "\n",
    "# filtering\n",
    "filtered_df = filter_by_overlap_num(df,\n",
    "                    filter_df=jaspar_df,\n",
    "                     max_overlap_num=1)"
   ]
  },
  {
   "cell_type": "code",
   "execution_count": 8,
   "id": "3b2f4fa6-ace9-47e6-83a0-e6a9467562c9",
   "metadata": {},
   "outputs": [
    {
     "data": {
      "text/plain": [
       "2351"
      ]
     },
     "execution_count": 8,
     "metadata": {},
     "output_type": "execute_result"
    }
   ],
   "source": [
    "len(df) - len(filtered_df)"
   ]
  },
  {
   "cell_type": "code",
   "execution_count": 9,
   "id": "acfc9767-224a-4fee-bdc0-c465f9b41e3e",
   "metadata": {},
   "outputs": [],
   "source": [
    "# 2351 sites have been excluded from the analysis since they overlap another ctcf sites"
   ]
  },
  {
   "cell_type": "markdown",
   "id": "dce62bdd-1a7b-435b-b666-3554df3b1d65",
   "metadata": {},
   "source": [
    "## 2. by rmsk (a table with repeatable elements e.g. SINE, LINE, ect.)"
   ]
  },
  {
   "cell_type": "code",
   "execution_count": 10,
   "id": "b4068ddb-c4c4-4fd1-b9a6-f6fc75a670f4",
   "metadata": {},
   "outputs": [],
   "source": [
    "rmsk_file = \"/project/fudenber_735/genomes/mm10/database/rmsk.txt.gz\"\n",
    "rmsk_df = read_rmsk(rmsk_file)"
   ]
  },
  {
   "cell_type": "code",
   "execution_count": 11,
   "id": "abf9fc42-b7c3-4f20-a848-840f9dad09c5",
   "metadata": {},
   "outputs": [],
   "source": [
    "filtered_df = filter_by_overlap_num(filtered_df,\n",
    "                        rmsk_df,\n",
    "                        expand_window=20,\n",
    "                        working_df_cols = [\"chrom\",\"start\",\"end\"])"
   ]
  },
  {
   "cell_type": "code",
   "execution_count": 12,
   "id": "74fa008b-a460-481a-ae4b-53de1fd0c9a2",
   "metadata": {},
   "outputs": [
    {
     "data": {
      "text/plain": [
       "7560"
      ]
     },
     "execution_count": 12,
     "metadata": {},
     "output_type": "execute_result"
    }
   ],
   "source": [
    "len(filtered_df)"
   ]
  },
  {
   "cell_type": "code",
   "execution_count": null,
   "id": "d3442b3a-b718-4185-85fa-e3e5d3f2983f",
   "metadata": {},
   "outputs": [],
   "source": [
    "# More than half of the sites have been filtered out. It's okay since we prefer to work with smaller, but high-quality sites (meaning that the effect of their insertion  disruption is not affected by overlapping ctct sites or repeatable genomic elements)"
   ]
  },
  {
   "cell_type": "markdown",
   "id": "a5865b16-9c51-4a9c-a387-f728f838d1e6",
   "metadata": {},
   "source": [
    "# ctcf motifs scanning"
   ]
  },
  {
   "cell_type": "code",
   "execution_count": null,
   "id": "db3ddd94-1307-4a93-a70d-001f04059ee4",
   "metadata": {},
   "outputs": [],
   "source": [
    "# Sites' strand annotation is based on original sites' annotation from the jaspar database.\n",
    "# Since we want to study potentially orientation-dependent phenomenon, let's double check that our (local) method that scans ctcf gives the same strand as jaspar's method."
   ]
  },
  {
   "cell_type": "code",
   "execution_count": 13,
   "id": "25b90681-70b5-45e3-a254-0118018ca43f",
   "metadata": {},
   "outputs": [],
   "source": [
    "genome_file = \"/project/fudenber_735/genomes/mm10/mm10.fa\"\n",
    "\n",
    "# reading CTCF motif from the jaspar file\n",
    "motif_matrix = read_jaspar_to_numpy()"
   ]
  },
  {
   "cell_type": "code",
   "execution_count": 14,
   "id": "80b44ba4-28c3-4082-9c91-e9187716862e",
   "metadata": {},
   "outputs": [],
   "source": [
    "def get_forward_score(s, flank_bp=20):\n",
    "    \n",
    "    motif_matrix = read_jaspar_to_numpy()\n",
    "    dna = dna_1hot(genome_open.fetch(s.chrom, s.start - flank_bp, s.end + flank_bp).upper())\n",
    "    \n",
    "    max_forward_score = scan_motif(dna, motif_matrix, strand=\"forward\").max()\n",
    "    \n",
    "    return max_forward_score\n",
    "\n",
    "\n",
    "def get_reverse_score(s, flank_bp=20):\n",
    "    \n",
    "    motif_matrix = read_jaspar_to_numpy()\n",
    "    dna = dna_1hot(genome_open.fetch(s.chrom, s.start - flank_bp, s.end + flank_bp).upper())\n",
    "    \n",
    "    max_reverse_score = scan_motif(dna, motif_matrix, strand=\"reverse\").max()\n",
    "    \n",
    "    return max_reverse_score\n",
    "\n",
    "\n",
    "def get_scan_strand(s):\n",
    "    \n",
    "    if s.forward_scan >= s.reverse_scan:\n",
    "        return \"+\"\n",
    "    else:\n",
    "        return \"-\"\n",
    "\n",
    "\n",
    "def check_mismatch(s):\n",
    "    if s.strand != s.scan_strand:\n",
    "        return 1\n",
    "    else:\n",
    "        return 0\n",
    "\n",
    "\n",
    "def get_rf_diff(s):\n",
    "    diff = s.forward_scan - s.reverse_scan\n",
    "    if diff >= 0:\n",
    "        return diff\n",
    "    else:\n",
    "        return -1 * diff"
   ]
  },
  {
   "cell_type": "code",
   "execution_count": 17,
   "id": "55d6a281-deb9-4655-a4a6-4dde78593b86",
   "metadata": {},
   "outputs": [],
   "source": [
    "genome_open = pysam.Fastafile(genome_file)\n",
    "\n",
    "filtered_df.loc[:, (\"forward_scan\")] = filtered_df.apply(get_forward_score, axis=1)\n",
    "filtered_df.loc[:, (\"reverse_scan\")] = filtered_df.apply(get_reverse_score, axis=1)\n",
    "filtered_df.loc[:, (\"scan_strand\")] = filtered_df.apply(get_scan_strand, axis=1)\n",
    "filtered_df.loc[:, (\"mismatch\")] = filtered_df.apply(check_mismatch, axis=1)\n",
    "filtered_df.loc[:, (\"rf_diff\")] = filtered_df.apply(get_rf_diff, axis=1)\n",
    "\n",
    "genome_open.close()"
   ]
  },
  {
   "cell_type": "markdown",
   "id": "aab65ef1-2539-4788-8118-88d54f416332",
   "metadata": {},
   "source": [
    "## Do we have any sites with mismatches?"
   ]
  },
  {
   "cell_type": "code",
   "execution_count": 19,
   "id": "6a6db394-cdbe-4a48-94c9-0b887cbea3e1",
   "metadata": {},
   "outputs": [],
   "source": [
    "mismatch_df = filtered_df[filtered_df[\"mismatch\"] == 1]"
   ]
  },
  {
   "cell_type": "code",
   "execution_count": 20,
   "id": "e0319a68-7402-46bf-b85c-c57e1a0dc247",
   "metadata": {},
   "outputs": [
    {
     "data": {
      "text/plain": [
       "54"
      ]
     },
     "execution_count": 20,
     "metadata": {},
     "output_type": "execute_result"
    }
   ],
   "source": [
    "len(mismatch_df)"
   ]
  },
  {
   "cell_type": "code",
   "execution_count": 21,
   "id": "6284e31a-a49c-4168-be74-f856a85732a4",
   "metadata": {},
   "outputs": [],
   "source": [
    "# What are the absolute differences between forward and reverse scanning?"
   ]
  },
  {
   "cell_type": "code",
   "execution_count": 22,
   "id": "c6840f69-70c2-47c3-91a2-231d681464d3",
   "metadata": {},
   "outputs": [
    {
     "data": {
      "text/plain": [
       "<seaborn.axisgrid.FacetGrid at 0x7fef0355fd30>"
      ]
     },
     "execution_count": 22,
     "metadata": {},
     "output_type": "execute_result"
    },
    {
     "data": {
      "image/png": "[encoded data removed]",
      "text/plain": [
       "<Figure size 500x500 with 1 Axes>"
      ]
     },
     "metadata": {},
     "output_type": "display_data"
    }
   ],
   "source": [
    "sns.displot(mismatch_df , x=\"rf_diff\")"
   ]
  },
  {
   "cell_type": "code",
   "execution_count": 23,
   "id": "2e530aa0-eab0-4d39-bcee-d0ec1d784030",
   "metadata": {},
   "outputs": [],
   "source": [
    "# The differences are relatively small.\n",
    "# We need to also notice that:\n",
    "#     - we scanned within bigger window (site + 20 bp flanks), then the maximum was returned\n",
    "#     - jaspar's method is more complex, they use k-mer frequencies in the background to estimate probabilty of motif appearing by chance - our model simply multipy two matrices"
   ]
  },
  {
   "cell_type": "code",
   "execution_count": 24,
   "id": "80c2e07c-7dd7-4be4-bd25-d9cf0c1b3e11",
   "metadata": {},
   "outputs": [],
   "source": [
    "# Let's check thus hypothesis by scanning without flanks"
   ]
  },
  {
   "cell_type": "markdown",
   "id": "2759232b-5265-49f6-900e-dbee68b92448",
   "metadata": {},
   "source": [
    "# No-flanks scanning"
   ]
  },
  {
   "cell_type": "code",
   "execution_count": 32,
   "id": "6bac6847-50d7-4050-8352-c1f4838d5d3a",
   "metadata": {},
   "outputs": [],
   "source": [
    "def get_forward_score_no_flanks(s):\n",
    "    \n",
    "    motif_matrix = read_jaspar_to_numpy()\n",
    "    dna = dna_1hot(genome_open.fetch(s.chrom, s.start, s.end).upper())\n",
    "    \n",
    "    max_forward_score = scan_motif(dna, motif_matrix, strand=\"forward\").max()\n",
    "    \n",
    "    return max_forward_score\n",
    "\n",
    "\n",
    "def get_reverse_score_no_flanks(s):\n",
    "    \n",
    "    motif_matrix = read_jaspar_to_numpy()\n",
    "    dna = dna_1hot(genome_open.fetch(s.chrom, s.start, s.end).upper())\n",
    "    \n",
    "    max_reverse_score = scan_motif(dna, motif_matrix, strand=\"reverse\").max()\n",
    "    \n",
    "    return max_reverse_score\n",
    "\n",
    "def get_scan_strand_no_flanks(s):\n",
    "    \n",
    "    if s.nf_forward >= s.nf_reverse:\n",
    "        return \"+\"\n",
    "    else:\n",
    "        return \"-\"\n"
   ]
  },
  {
   "cell_type": "code",
   "execution_count": 30,
   "id": "cefdbac7-b059-43d4-83e6-22bade892776",
   "metadata": {
    "collapsed": true,
    "jupyter": {
     "outputs_hidden": true
    },
    "scrolled": true
   },
   "outputs": [
    {
     "name": "stderr",
     "output_type": "stream",
     "text": [
      "/tmp/SLURM_16707967/ipykernel_12118/307503780.py:3: SettingWithCopyWarning: \n",
      "A value is trying to be set on a copy of a slice from a DataFrame.\n",
      "Try using .loc[row_indexer,col_indexer] = value instead\n",
      "\n",
      "See the caveats in the documentation: https://pandas.pydata.org/pandas-docs/stable/user_guide/indexing.html#returning-a-view-versus-a-copy\n",
      "  mismatch_df[\"nf_forward\"] = mismatch_df.apply(get_forward_score_no_flanks, axis=1)\n",
      "/tmp/SLURM_16707967/ipykernel_12118/307503780.py:4: SettingWithCopyWarning: \n",
      "A value is trying to be set on a copy of a slice from a DataFrame.\n",
      "Try using .loc[row_indexer,col_indexer] = value instead\n",
      "\n",
      "See the caveats in the documentation: https://pandas.pydata.org/pandas-docs/stable/user_guide/indexing.html#returning-a-view-versus-a-copy\n",
      "  mismatch_df[\"nf_reverse\"] = mismatch_df.apply(get_reverse_score_no_flanks, axis=1)\n",
      "/tmp/SLURM_16707967/ipykernel_12118/307503780.py:5: SettingWithCopyWarning: \n",
      "A value is trying to be set on a copy of a slice from a DataFrame.\n",
      "Try using .loc[row_indexer,col_indexer] = value instead\n",
      "\n",
      "See the caveats in the documentation: https://pandas.pydata.org/pandas-docs/stable/user_guide/indexing.html#returning-a-view-versus-a-copy\n",
      "  mismatch_df[\"nf_forward_reverse\"] = mismatch_df[\"nf_forward\"] - mismatch_df[\"nf_reverse\"]\n"
     ]
    }
   ],
   "source": [
    "genome_open = pysam.Fastafile(genome_file)\n",
    "\n",
    "mismatch_df[\"nf_forward\"] = mismatch_df.apply(get_forward_score_no_flanks, axis=1)\n",
    "mismatch_df[\"nf_reverse\"] = mismatch_df.apply(get_reverse_score_no_flanks, axis=1)\n",
    "mismatch_df[\"nf_forward_reverse\"] = mismatch_df[\"nf_forward\"] - mismatch_df[\"nf_reverse\"]\n",
    "\n",
    "genome_open.close()"
   ]
  },
  {
   "cell_type": "code",
   "execution_count": 33,
   "id": "2f0d6905-4334-402d-91bb-2b6937b98816",
   "metadata": {
    "collapsed": true,
    "jupyter": {
     "outputs_hidden": true
    }
   },
   "outputs": [
    {
     "name": "stderr",
     "output_type": "stream",
     "text": [
      "/tmp/SLURM_16707967/ipykernel_12118/2870194531.py:1: SettingWithCopyWarning: \n",
      "A value is trying to be set on a copy of a slice from a DataFrame.\n",
      "Try using .loc[row_indexer,col_indexer] = value instead\n",
      "\n",
      "See the caveats in the documentation: https://pandas.pydata.org/pandas-docs/stable/user_guide/indexing.html#returning-a-view-versus-a-copy\n",
      "  mismatch_df[\"nf_strand_scan\"] = mismatch_df.apply(get_scan_strand_no_flanks, axis=1)\n"
     ]
    }
   ],
   "source": [
    "mismatch_df[\"nf_strand_scan\"] = mismatch_df.apply(get_scan_strand_no_flanks, axis=1)"
   ]
  },
  {
   "cell_type": "code",
   "execution_count": 37,
   "id": "d098f8bc-5d36-4f2f-beeb-d7c798b869a1",
   "metadata": {},
   "outputs": [
    {
     "data": {
      "text/plain": [
       "Index(['boundary_index', 'chrom', 'boundary_end', 'index', 'num_ctcf', 'span',\n",
       "       'boundary_start', 'strand', 'start', 'end', 'count', 'count',\n",
       "       'forward_scan', 'reverse_scan', 'scan_strand', 'mismatch', 'rf_diff',\n",
       "       'nf_forward', 'nf_reverse', 'nf_forward_reverse', 'nf_strand_scan'],\n",
       "      dtype='object')"
      ]
     },
     "execution_count": 37,
     "metadata": {},
     "output_type": "execute_result"
    }
   ],
   "source": [
    "mismatch_df.columns"
   ]
  },
  {
   "cell_type": "code",
   "execution_count": 38,
   "id": "5ac6f3a5-0a7c-476e-8e9b-22318b012e85",
   "metadata": {},
   "outputs": [
    {
     "data": {
      "text/html": [
       "<div>\n",
       "<style scoped>\n",
       "    .dataframe tbody tr th:only-of-type {\n",
       "        vertical-align: middle;\n",
       "    }\n",
       "\n",
       "    .dataframe tbody tr th {\n",
       "        vertical-align: top;\n",
       "    }\n",
       "\n",
       "    .dataframe thead th {\n",
       "        text-align: right;\n",
       "    }\n",
       "</style>\n",
       "<table border=\"1\" class=\"dataframe\">\n",
       "  <thead>\n",
       "    <tr style=\"text-align: right;\">\n",
       "      <th></th>\n",
       "      <th>boundary_index</th>\n",
       "      <th>chrom</th>\n",
       "      <th>boundary_end</th>\n",
       "      <th>index</th>\n",
       "      <th>num_ctcf</th>\n",
       "      <th>span</th>\n",
       "      <th>boundary_start</th>\n",
       "      <th>strand</th>\n",
       "      <th>start</th>\n",
       "      <th>end</th>\n",
       "      <th>...</th>\n",
       "      <th>count</th>\n",
       "      <th>forward_scan</th>\n",
       "      <th>reverse_scan</th>\n",
       "      <th>scan_strand</th>\n",
       "      <th>mismatch</th>\n",
       "      <th>rf_diff</th>\n",
       "      <th>nf_forward</th>\n",
       "      <th>nf_reverse</th>\n",
       "      <th>nf_forward_reverse</th>\n",
       "      <th>nf_strand_scan</th>\n",
       "    </tr>\n",
       "  </thead>\n",
       "  <tbody>\n",
       "    <tr>\n",
       "      <th>1025</th>\n",
       "      <td>663</td>\n",
       "      <td>chr2</td>\n",
       "      <td>154630000</td>\n",
       "      <td>3617</td>\n",
       "      <td>7</td>\n",
       "      <td>154624162-154624181</td>\n",
       "      <td>154620000</td>\n",
       "      <td>+</td>\n",
       "      <td>154624162</td>\n",
       "      <td>154624181</td>\n",
       "      <td>...</td>\n",
       "      <td>0</td>\n",
       "      <td>9.699041</td>\n",
       "      <td>10.097949</td>\n",
       "      <td>-</td>\n",
       "      <td>1</td>\n",
       "      <td>0.398908</td>\n",
       "      <td>9.699041</td>\n",
       "      <td>9.952575</td>\n",
       "      <td>-0.253533</td>\n",
       "      <td>-</td>\n",
       "    </tr>\n",
       "    <tr>\n",
       "      <th>2294</th>\n",
       "      <td>1456</td>\n",
       "      <td>chr5</td>\n",
       "      <td>112430000</td>\n",
       "      <td>8202</td>\n",
       "      <td>9</td>\n",
       "      <td>112422808-112422827</td>\n",
       "      <td>112420000</td>\n",
       "      <td>-</td>\n",
       "      <td>112422808</td>\n",
       "      <td>112422827</td>\n",
       "      <td>...</td>\n",
       "      <td>0</td>\n",
       "      <td>9.994862</td>\n",
       "      <td>9.409827</td>\n",
       "      <td>+</td>\n",
       "      <td>1</td>\n",
       "      <td>0.585035</td>\n",
       "      <td>9.493761</td>\n",
       "      <td>9.409827</td>\n",
       "      <td>0.083933</td>\n",
       "      <td>+</td>\n",
       "    </tr>\n",
       "    <tr>\n",
       "      <th>4182</th>\n",
       "      <td>2475</td>\n",
       "      <td>chr9</td>\n",
       "      <td>96890000</td>\n",
       "      <td>14546</td>\n",
       "      <td>10</td>\n",
       "      <td>96887023-96887042</td>\n",
       "      <td>96880000</td>\n",
       "      <td>-</td>\n",
       "      <td>96887023</td>\n",
       "      <td>96887042</td>\n",
       "      <td>...</td>\n",
       "      <td>0</td>\n",
       "      <td>9.583424</td>\n",
       "      <td>8.983223</td>\n",
       "      <td>+</td>\n",
       "      <td>1</td>\n",
       "      <td>0.600201</td>\n",
       "      <td>9.161618</td>\n",
       "      <td>8.983223</td>\n",
       "      <td>0.178395</td>\n",
       "      <td>+</td>\n",
       "    </tr>\n",
       "    <tr>\n",
       "      <th>4383</th>\n",
       "      <td>2605</td>\n",
       "      <td>chr10</td>\n",
       "      <td>41300000</td>\n",
       "      <td>15310</td>\n",
       "      <td>7</td>\n",
       "      <td>41291282-41291301</td>\n",
       "      <td>41290000</td>\n",
       "      <td>-</td>\n",
       "      <td>41291282</td>\n",
       "      <td>41291301</td>\n",
       "      <td>...</td>\n",
       "      <td>0</td>\n",
       "      <td>10.026636</td>\n",
       "      <td>9.277279</td>\n",
       "      <td>+</td>\n",
       "      <td>1</td>\n",
       "      <td>0.749357</td>\n",
       "      <td>9.503508</td>\n",
       "      <td>9.277279</td>\n",
       "      <td>0.226229</td>\n",
       "      <td>+</td>\n",
       "    </tr>\n",
       "    <tr>\n",
       "      <th>5659</th>\n",
       "      <td>3324</td>\n",
       "      <td>chr13</td>\n",
       "      <td>49760000</td>\n",
       "      <td>19672</td>\n",
       "      <td>3</td>\n",
       "      <td>49757470-49757489</td>\n",
       "      <td>49750000</td>\n",
       "      <td>+</td>\n",
       "      <td>49757470</td>\n",
       "      <td>49757489</td>\n",
       "      <td>...</td>\n",
       "      <td>0</td>\n",
       "      <td>9.509056</td>\n",
       "      <td>9.698011</td>\n",
       "      <td>-</td>\n",
       "      <td>1</td>\n",
       "      <td>0.188955</td>\n",
       "      <td>9.509056</td>\n",
       "      <td>9.552637</td>\n",
       "      <td>-0.043581</td>\n",
       "      <td>-</td>\n",
       "    </tr>\n",
       "  </tbody>\n",
       "</table>\n",
       "<p>5 rows × 21 columns</p>\n",
       "</div>"
      ],
      "text/plain": [
       "      boundary_index  chrom  boundary_end  index  num_ctcf  \\\n",
       "1025             663   chr2     154630000   3617         7   \n",
       "2294            1456   chr5     112430000   8202         9   \n",
       "4182            2475   chr9      96890000  14546        10   \n",
       "4383            2605  chr10      41300000  15310         7   \n",
       "5659            3324  chr13      49760000  19672         3   \n",
       "\n",
       "                     span  boundary_start strand      start        end  ...  \\\n",
       "1025  154624162-154624181       154620000      +  154624162  154624181  ...   \n",
       "2294  112422808-112422827       112420000      -  112422808  112422827  ...   \n",
       "4182    96887023-96887042        96880000      -   96887023   96887042  ...   \n",
       "4383    41291282-41291301        41290000      -   41291282   41291301  ...   \n",
       "5659    49757470-49757489        49750000      +   49757470   49757489  ...   \n",
       "\n",
       "      count  forward_scan  reverse_scan  scan_strand mismatch   rf_diff  \\\n",
       "1025      0      9.699041     10.097949            -        1  0.398908   \n",
       "2294      0      9.994862      9.409827            +        1  0.585035   \n",
       "4182      0      9.583424      8.983223            +        1  0.600201   \n",
       "4383      0     10.026636      9.277279            +        1  0.749357   \n",
       "5659      0      9.509056      9.698011            -        1  0.188955   \n",
       "\n",
       "      nf_forward  nf_reverse  nf_forward_reverse  nf_strand_scan  \n",
       "1025    9.699041    9.952575           -0.253533               -  \n",
       "2294    9.493761    9.409827            0.083933               +  \n",
       "4182    9.161618    8.983223            0.178395               +  \n",
       "4383    9.503508    9.277279            0.226229               +  \n",
       "5659    9.509056    9.552637           -0.043581               -  \n",
       "\n",
       "[5 rows x 21 columns]"
      ]
     },
     "execution_count": 38,
     "metadata": {},
     "output_type": "execute_result"
    }
   ],
   "source": [
    "# Do we have any mismatches?\n",
    "mismatch_df[mismatch_df[\"nf_strand_scan\"] != mismatch_df[\"strand\"]]"
   ]
  },
  {
   "cell_type": "code",
   "execution_count": 39,
   "id": "d4a679a0-57c5-4af0-ade8-c7d3468a6444",
   "metadata": {},
   "outputs": [],
   "source": [
    "# Five sites have still mismatched strands, although the absolute differences between forward and reverse scanning results are very small.\n",
    "# It seems that our hypothesis was correct, our scanning method has detected signal in flanking regions and reported the opposite strand."
   ]
  },
  {
   "cell_type": "code",
   "execution_count": 40,
   "id": "25f94366-4f6c-497f-b982-7a99eb17b1cb",
   "metadata": {},
   "outputs": [],
   "source": [
    "# To be sure, let's repeat scanning using a third, independent method (fimo)"
   ]
  },
  {
   "cell_type": "markdown",
   "id": "f1201a36-2f8d-41fc-b208-4f872b212894",
   "metadata": {},
   "source": [
    "# tsv saving"
   ]
  },
  {
   "cell_type": "code",
   "execution_count": 46,
   "id": "9399c8ea-dc98-4048-955f-374c5523163e",
   "metadata": {},
   "outputs": [],
   "source": [
    "# assuming that there is ctcf-like signal in the flanks of those sites that we have caught up by scanning within window including flanks, we should not incluse those 54 sites in our experiments\n",
    "# Due to the fact, we're saving only \"matched\" sites and going to use them as our basic ctcf sites tsv table\n",
    "\n",
    "no_mismatch_filtered_df = filtered_df[filtered_df[\"mismatch\"] == 0]\n",
    "no_mismatch_filtered_df.to_csv(\"./filtered_base_mouse_ctcf.tsv\", sep = \"\\t\", index=False)"
   ]
  },
  {
   "cell_type": "code",
   "execution_count": 47,
   "id": "14db0f85-ced0-40c1-8761-ab827223d194",
   "metadata": {},
   "outputs": [],
   "source": [
    "# sites to be checked using fimo\n",
    "mismatch_df.to_csv(\"./filtered_base_mouse_ctcf_mismatched.tsv\", sep = \"\\t\", index=False)"
   ]
  },
  {
   "cell_type": "code",
   "execution_count": 48,
   "id": "d0820f91-e3e7-43f5-842f-d3c7c11a8874",
   "metadata": {},
   "outputs": [],
   "source": [
    "# sites have been saved as separated tsv files depending if they are ready to use (filtered_base_mouse_ctcf.tsv)\n",
    "# or need to be scanned using fimo"
   ]
  },
  {
   "cell_type": "code",
   "execution_count": 56,
   "id": "2c02b1d2-2ec3-4127-922e-711c2285e2aa",
   "metadata": {},
   "outputs": [
    {
     "data": {
      "text/html": [
       "<div>\n",
       "<style scoped>\n",
       "    .dataframe tbody tr th:only-of-type {\n",
       "        vertical-align: middle;\n",
       "    }\n",
       "\n",
       "    .dataframe tbody tr th {\n",
       "        vertical-align: top;\n",
       "    }\n",
       "\n",
       "    .dataframe thead th {\n",
       "        text-align: right;\n",
       "    }\n",
       "</style>\n",
       "<table border=\"1\" class=\"dataframe\">\n",
       "  <thead>\n",
       "    <tr style=\"text-align: right;\">\n",
       "      <th></th>\n",
       "      <th>boundary_index</th>\n",
       "      <th>chrom</th>\n",
       "      <th>boundary_end</th>\n",
       "      <th>index</th>\n",
       "      <th>num_ctcf</th>\n",
       "      <th>span</th>\n",
       "      <th>boundary_start</th>\n",
       "      <th>strand</th>\n",
       "      <th>start</th>\n",
       "      <th>end</th>\n",
       "      <th>...</th>\n",
       "      <th>count</th>\n",
       "      <th>forward_scan</th>\n",
       "      <th>reverse_scan</th>\n",
       "      <th>scan_strand</th>\n",
       "      <th>mismatch</th>\n",
       "      <th>rf_diff</th>\n",
       "      <th>nf_forward</th>\n",
       "      <th>nf_reverse</th>\n",
       "      <th>nf_forward_reverse</th>\n",
       "      <th>nf_strand_scan</th>\n",
       "    </tr>\n",
       "  </thead>\n",
       "  <tbody>\n",
       "    <tr>\n",
       "      <th>315</th>\n",
       "      <td>229</td>\n",
       "      <td>chr1</td>\n",
       "      <td>128370000</td>\n",
       "      <td>1178</td>\n",
       "      <td>4</td>\n",
       "      <td>128367145-128367164</td>\n",
       "      <td>128360000</td>\n",
       "      <td>+</td>\n",
       "      <td>128367145</td>\n",
       "      <td>128367164</td>\n",
       "      <td>...</td>\n",
       "      <td>0</td>\n",
       "      <td>9.578156</td>\n",
       "      <td>9.731974</td>\n",
       "      <td>-</td>\n",
       "      <td>1</td>\n",
       "      <td>0.153818</td>\n",
       "      <td>9.578156</td>\n",
       "      <td>9.230873</td>\n",
       "      <td>0.347284</td>\n",
       "      <td>+</td>\n",
       "    </tr>\n",
       "    <tr>\n",
       "      <th>408</th>\n",
       "      <td>288</td>\n",
       "      <td>chr1</td>\n",
       "      <td>160200000</td>\n",
       "      <td>1493</td>\n",
       "      <td>6</td>\n",
       "      <td>160197509-160197528</td>\n",
       "      <td>160190000</td>\n",
       "      <td>+</td>\n",
       "      <td>160197509</td>\n",
       "      <td>160197528</td>\n",
       "      <td>...</td>\n",
       "      <td>0</td>\n",
       "      <td>9.499476</td>\n",
       "      <td>9.555386</td>\n",
       "      <td>-</td>\n",
       "      <td>1</td>\n",
       "      <td>0.055910</td>\n",
       "      <td>9.499476</td>\n",
       "      <td>6.302327</td>\n",
       "      <td>3.197149</td>\n",
       "      <td>+</td>\n",
       "    </tr>\n",
       "    <tr>\n",
       "      <th>412</th>\n",
       "      <td>292</td>\n",
       "      <td>chr1</td>\n",
       "      <td>161740000</td>\n",
       "      <td>1513</td>\n",
       "      <td>5</td>\n",
       "      <td>161735161-161735180</td>\n",
       "      <td>161730000</td>\n",
       "      <td>-</td>\n",
       "      <td>161735161</td>\n",
       "      <td>161735180</td>\n",
       "      <td>...</td>\n",
       "      <td>0</td>\n",
       "      <td>9.410670</td>\n",
       "      <td>9.245034</td>\n",
       "      <td>+</td>\n",
       "      <td>1</td>\n",
       "      <td>0.165636</td>\n",
       "      <td>8.551640</td>\n",
       "      <td>9.245034</td>\n",
       "      <td>-0.693395</td>\n",
       "      <td>-</td>\n",
       "    </tr>\n",
       "    <tr>\n",
       "      <th>513</th>\n",
       "      <td>341</td>\n",
       "      <td>chr1</td>\n",
       "      <td>184800000</td>\n",
       "      <td>1832</td>\n",
       "      <td>6</td>\n",
       "      <td>184790806-184790825</td>\n",
       "      <td>184790000</td>\n",
       "      <td>+</td>\n",
       "      <td>184790806</td>\n",
       "      <td>184790825</td>\n",
       "      <td>...</td>\n",
       "      <td>0</td>\n",
       "      <td>9.374499</td>\n",
       "      <td>9.455610</td>\n",
       "      <td>-</td>\n",
       "      <td>1</td>\n",
       "      <td>0.081111</td>\n",
       "      <td>9.374499</td>\n",
       "      <td>8.901645</td>\n",
       "      <td>0.472854</td>\n",
       "      <td>+</td>\n",
       "    </tr>\n",
       "    <tr>\n",
       "      <th>550</th>\n",
       "      <td>363</td>\n",
       "      <td>chr2</td>\n",
       "      <td>3850000</td>\n",
       "      <td>1979</td>\n",
       "      <td>4</td>\n",
       "      <td>3840133-3840152</td>\n",
       "      <td>3840000</td>\n",
       "      <td>-</td>\n",
       "      <td>3840133</td>\n",
       "      <td>3840152</td>\n",
       "      <td>...</td>\n",
       "      <td>0</td>\n",
       "      <td>9.989558</td>\n",
       "      <td>9.828651</td>\n",
       "      <td>+</td>\n",
       "      <td>1</td>\n",
       "      <td>0.160907</td>\n",
       "      <td>9.661364</td>\n",
       "      <td>9.828651</td>\n",
       "      <td>-0.167287</td>\n",
       "      <td>-</td>\n",
       "    </tr>\n",
       "  </tbody>\n",
       "</table>\n",
       "<p>5 rows × 21 columns</p>\n",
       "</div>"
      ],
      "text/plain": [
       "     boundary_index chrom  boundary_end  index  num_ctcf                 span  \\\n",
       "315             229  chr1     128370000   1178         4  128367145-128367164   \n",
       "408             288  chr1     160200000   1493         6  160197509-160197528   \n",
       "412             292  chr1     161740000   1513         5  161735161-161735180   \n",
       "513             341  chr1     184800000   1832         6  184790806-184790825   \n",
       "550             363  chr2       3850000   1979         4      3840133-3840152   \n",
       "\n",
       "     boundary_start strand      start        end  ...  count  forward_scan  \\\n",
       "315       128360000      +  128367145  128367164  ...      0      9.578156   \n",
       "408       160190000      +  160197509  160197528  ...      0      9.499476   \n",
       "412       161730000      -  161735161  161735180  ...      0      9.410670   \n",
       "513       184790000      +  184790806  184790825  ...      0      9.374499   \n",
       "550         3840000      -    3840133    3840152  ...      0      9.989558   \n",
       "\n",
       "     reverse_scan  scan_strand mismatch   rf_diff  nf_forward  nf_reverse  \\\n",
       "315      9.731974            -        1  0.153818    9.578156    9.230873   \n",
       "408      9.555386            -        1  0.055910    9.499476    6.302327   \n",
       "412      9.245034            +        1  0.165636    8.551640    9.245034   \n",
       "513      9.455610            -        1  0.081111    9.374499    8.901645   \n",
       "550      9.828651            +        1  0.160907    9.661364    9.828651   \n",
       "\n",
       "     nf_forward_reverse  nf_strand_scan  \n",
       "315            0.347284               +  \n",
       "408            3.197149               +  \n",
       "412           -0.693395               -  \n",
       "513            0.472854               +  \n",
       "550           -0.167287               -  \n",
       "\n",
       "[5 rows x 21 columns]"
      ]
     },
     "execution_count": 56,
     "metadata": {},
     "output_type": "execute_result"
    }
   ],
   "source": [
    "mismatch_df.head()"
   ]
  },
  {
   "cell_type": "markdown",
   "id": "602db05f-fbed-4695-8b09-55ca34eea541",
   "metadata": {},
   "source": [
    "# preparing FIMO input"
   ]
  },
  {
   "cell_type": "code",
   "execution_count": null,
   "id": "7d187b99-0617-4908-8e21-4ab256bb1aed",
   "metadata": {},
   "outputs": [],
   "source": [
    "# Let's prepare two fasta files: one with, the other without flanks."
   ]
  },
  {
   "cell_type": "code",
   "execution_count": 62,
   "id": "a628f477-d397-44ec-ae4a-6a9342b9800a",
   "metadata": {},
   "outputs": [],
   "source": [
    "genome_open = pysam.Fastafile(genome_file)\n",
    "\n",
    "# no flanks fasta file\n",
    "with open(\"./filtered_base_mouse_ctcf_mismatched_no_flanks.fasta\", \"w\") as no_flanks_fasta:\n",
    "    for row in mismatch_df.itertuples():\n",
    "        start = row.start\n",
    "        end = row.end\n",
    "        chrom = row.chrom\n",
    "    \n",
    "        identifier = f\">chr:{chrom}_s:{start}_e:{end}\"\n",
    "            \n",
    "        seq = genome_open.fetch(chrom, start, end)\n",
    "        no_flanks_fasta.write(identifier)\n",
    "        no_flanks_fasta.write(\"\\n\")\n",
    "        no_flanks_fasta.write(seq)\n",
    "        no_flanks_fasta.write(\"\\n\")\n",
    "\n",
    "genome_open.close()"
   ]
  },
  {
   "cell_type": "code",
   "execution_count": 63,
   "id": "9b71b8ca-0019-4647-ab53-9e73969441e8",
   "metadata": {},
   "outputs": [],
   "source": [
    "genome_open = pysam.Fastafile(genome_file)\n",
    "\n",
    "# fasta file with flanks\n",
    "flank = 20\n",
    "with open(\"./filtered_base_mouse_ctcf_mismatched_with_flanks.fasta\", \"w\") as flanks_fasta:\n",
    "    for row in mismatch_df.itertuples():\n",
    "        start = row.start\n",
    "        end = row.end\n",
    "        chrom = row.chrom\n",
    "    \n",
    "        identifier = f\">chr:{chrom}_s:{start}_e:{end}\"\n",
    "            \n",
    "        seq = genome_open.fetch(chrom, start-flank, end+flank)\n",
    "        flanks_fasta.write(identifier)\n",
    "        flanks_fasta.write(\"\\n\")\n",
    "        flanks_fasta.write(seq)\n",
    "        flanks_fasta.write(\"\\n\")\n",
    "\n",
    "genome_open.close()"
   ]
  },
  {
   "cell_type": "code",
   "execution_count": null,
   "id": "5b624385-22ff-4b4f-855a-1afb03be76db",
   "metadata": {},
   "outputs": [],
   "source": []
  }
 ],
 "metadata": {
  "kernelspec": {
   "display_name": "Basenji kernel",
   "language": "python",
   "name": "basenji_kernel"
  },
  "language_info": {
   "codemirror_mode": {
    "name": "ipython",
    "version": 3
   },
   "file_extension": ".py",
   "mimetype": "text/x-python",
   "name": "python",
   "nbconvert_exporter": "python",
   "pygments_lexer": "ipython3",
   "version": "3.8.12"
  }
 },
 "nbformat": 4,
 "nbformat_minor": 5
}
