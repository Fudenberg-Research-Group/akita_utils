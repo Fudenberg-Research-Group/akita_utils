{
 "cells": [
  {
   "cell_type": "markdown",
   "id": "7586f958-db74-4a82-a125-3252f201367b",
   "metadata": {},
   "source": [
    "# In this notebook we visualize effects of different parameters in creating flat maps"
   ]
  },
  {
   "cell_type": "code",
   "execution_count": 1,
   "id": "881fe14f-e758-4108-bc95-c0cb75361b7f",
   "metadata": {},
   "outputs": [],
   "source": [
    "import bioframe\n",
    "import pandas as pd\n",
    "import numpy as np\n",
    "import tensorflow as tf\n",
    "from basenji import dna_io\n",
    "import akita_utils\n",
    "import matplotlib.pyplot as plt\n",
    "import glob\n",
    "import seaborn as sns\n",
    "import akita_utils.format_io\n",
    "\n",
    "# sns.set_theme()"
   ]
  },
  {
   "cell_type": "markdown",
   "id": "5d328482-75d4-4371-92dd-73a5e9e1e969",
   "metadata": {},
   "source": [
    "# Importing scores from simulations"
   ]
  },
  {
   "cell_type": "code",
   "execution_count": 2,
   "id": "807c5c9d-d8aa-4477-a45e-00b225472c6d",
   "metadata": {},
   "outputs": [
    {
     "ename": "ValueError",
     "evalue": "No objects to concatenate",
     "output_type": "error",
     "traceback": [
      "\u001b[0;31m---------------------------------------------------------------------------\u001b[0m",
      "\u001b[0;31mValueError\u001b[0m                                Traceback (most recent call last)",
      "Input \u001b[0;32mIn [2]\u001b[0m, in \u001b[0;36m<cell line: 5>\u001b[0;34m()\u001b[0m\n\u001b[1;32m      3\u001b[0m \u001b[38;5;28;01mfor\u001b[39;00m h5_file \u001b[38;5;129;01min\u001b[39;00m glob\u001b[38;5;241m.\u001b[39mglob(h5_dirs):\n\u001b[1;32m      4\u001b[0m     dfs\u001b[38;5;241m.\u001b[39mappend(akita_utils\u001b[38;5;241m.\u001b[39mio\u001b[38;5;241m.\u001b[39mh5_to_df(h5_file, drop_duplicates_key\u001b[38;5;241m=\u001b[39m\u001b[38;5;28;01mNone\u001b[39;00m))    \n\u001b[0;32m----> 5\u001b[0m dfs \u001b[38;5;241m=\u001b[39m \u001b[43mpd\u001b[49m\u001b[38;5;241;43m.\u001b[39;49m\u001b[43mconcat\u001b[49m\u001b[43m(\u001b[49m\u001b[43mdfs\u001b[49m\u001b[43m)\u001b[49m\n",
      "File \u001b[0;32m~/.conda/envs/basenji-gpu/lib/python3.8/site-packages/pandas/util/_decorators.py:311\u001b[0m, in \u001b[0;36mdeprecate_nonkeyword_arguments.<locals>.decorate.<locals>.wrapper\u001b[0;34m(*args, **kwargs)\u001b[0m\n\u001b[1;32m    305\u001b[0m \u001b[38;5;28;01mif\u001b[39;00m \u001b[38;5;28mlen\u001b[39m(args) \u001b[38;5;241m>\u001b[39m num_allow_args:\n\u001b[1;32m    306\u001b[0m     warnings\u001b[38;5;241m.\u001b[39mwarn(\n\u001b[1;32m    307\u001b[0m         msg\u001b[38;5;241m.\u001b[39mformat(arguments\u001b[38;5;241m=\u001b[39marguments),\n\u001b[1;32m    308\u001b[0m         \u001b[38;5;167;01mFutureWarning\u001b[39;00m,\n\u001b[1;32m    309\u001b[0m         stacklevel\u001b[38;5;241m=\u001b[39mstacklevel,\n\u001b[1;32m    310\u001b[0m     )\n\u001b[0;32m--> 311\u001b[0m \u001b[38;5;28;01mreturn\u001b[39;00m \u001b[43mfunc\u001b[49m\u001b[43m(\u001b[49m\u001b[38;5;241;43m*\u001b[39;49m\u001b[43margs\u001b[49m\u001b[43m,\u001b[49m\u001b[43m \u001b[49m\u001b[38;5;241;43m*\u001b[39;49m\u001b[38;5;241;43m*\u001b[39;49m\u001b[43mkwargs\u001b[49m\u001b[43m)\u001b[49m\n",
      "File \u001b[0;32m~/.conda/envs/basenji-gpu/lib/python3.8/site-packages/pandas/core/reshape/concat.py:347\u001b[0m, in \u001b[0;36mconcat\u001b[0;34m(objs, axis, join, ignore_index, keys, levels, names, verify_integrity, sort, copy)\u001b[0m\n\u001b[1;32m    143\u001b[0m \u001b[38;5;129m@deprecate_nonkeyword_arguments\u001b[39m(version\u001b[38;5;241m=\u001b[39m\u001b[38;5;28;01mNone\u001b[39;00m, allowed_args\u001b[38;5;241m=\u001b[39m[\u001b[38;5;124m\"\u001b[39m\u001b[38;5;124mobjs\u001b[39m\u001b[38;5;124m\"\u001b[39m])\n\u001b[1;32m    144\u001b[0m \u001b[38;5;28;01mdef\u001b[39;00m \u001b[38;5;21mconcat\u001b[39m(\n\u001b[1;32m    145\u001b[0m     objs: Iterable[NDFrame] \u001b[38;5;241m|\u001b[39m Mapping[Hashable, NDFrame],\n\u001b[0;32m   (...)\u001b[0m\n\u001b[1;32m    154\u001b[0m     copy: \u001b[38;5;28mbool\u001b[39m \u001b[38;5;241m=\u001b[39m \u001b[38;5;28;01mTrue\u001b[39;00m,\n\u001b[1;32m    155\u001b[0m ) \u001b[38;5;241m-\u001b[39m\u001b[38;5;241m>\u001b[39m DataFrame \u001b[38;5;241m|\u001b[39m Series:\n\u001b[1;32m    156\u001b[0m     \u001b[38;5;124;03m\"\"\"\u001b[39;00m\n\u001b[1;32m    157\u001b[0m \u001b[38;5;124;03m    Concatenate pandas objects along a particular axis with optional set logic\u001b[39;00m\n\u001b[1;32m    158\u001b[0m \u001b[38;5;124;03m    along the other axes.\u001b[39;00m\n\u001b[0;32m   (...)\u001b[0m\n\u001b[1;32m    345\u001b[0m \u001b[38;5;124;03m    ValueError: Indexes have overlapping values: ['a']\u001b[39;00m\n\u001b[1;32m    346\u001b[0m \u001b[38;5;124;03m    \"\"\"\u001b[39;00m\n\u001b[0;32m--> 347\u001b[0m     op \u001b[38;5;241m=\u001b[39m \u001b[43m_Concatenator\u001b[49m\u001b[43m(\u001b[49m\n\u001b[1;32m    348\u001b[0m \u001b[43m        \u001b[49m\u001b[43mobjs\u001b[49m\u001b[43m,\u001b[49m\n\u001b[1;32m    349\u001b[0m \u001b[43m        \u001b[49m\u001b[43maxis\u001b[49m\u001b[38;5;241;43m=\u001b[39;49m\u001b[43maxis\u001b[49m\u001b[43m,\u001b[49m\n\u001b[1;32m    350\u001b[0m \u001b[43m        \u001b[49m\u001b[43mignore_index\u001b[49m\u001b[38;5;241;43m=\u001b[39;49m\u001b[43mignore_index\u001b[49m\u001b[43m,\u001b[49m\n\u001b[1;32m    351\u001b[0m \u001b[43m        \u001b[49m\u001b[43mjoin\u001b[49m\u001b[38;5;241;43m=\u001b[39;49m\u001b[43mjoin\u001b[49m\u001b[43m,\u001b[49m\n\u001b[1;32m    352\u001b[0m \u001b[43m        \u001b[49m\u001b[43mkeys\u001b[49m\u001b[38;5;241;43m=\u001b[39;49m\u001b[43mkeys\u001b[49m\u001b[43m,\u001b[49m\n\u001b[1;32m    353\u001b[0m \u001b[43m        \u001b[49m\u001b[43mlevels\u001b[49m\u001b[38;5;241;43m=\u001b[39;49m\u001b[43mlevels\u001b[49m\u001b[43m,\u001b[49m\n\u001b[1;32m    354\u001b[0m \u001b[43m        \u001b[49m\u001b[43mnames\u001b[49m\u001b[38;5;241;43m=\u001b[39;49m\u001b[43mnames\u001b[49m\u001b[43m,\u001b[49m\n\u001b[1;32m    355\u001b[0m \u001b[43m        \u001b[49m\u001b[43mverify_integrity\u001b[49m\u001b[38;5;241;43m=\u001b[39;49m\u001b[43mverify_integrity\u001b[49m\u001b[43m,\u001b[49m\n\u001b[1;32m    356\u001b[0m \u001b[43m        \u001b[49m\u001b[43mcopy\u001b[49m\u001b[38;5;241;43m=\u001b[39;49m\u001b[43mcopy\u001b[49m\u001b[43m,\u001b[49m\n\u001b[1;32m    357\u001b[0m \u001b[43m        \u001b[49m\u001b[43msort\u001b[49m\u001b[38;5;241;43m=\u001b[39;49m\u001b[43msort\u001b[49m\u001b[43m,\u001b[49m\n\u001b[1;32m    358\u001b[0m \u001b[43m    \u001b[49m\u001b[43m)\u001b[49m\n\u001b[1;32m    360\u001b[0m     \u001b[38;5;28;01mreturn\u001b[39;00m op\u001b[38;5;241m.\u001b[39mget_result()\n",
      "File \u001b[0;32m~/.conda/envs/basenji-gpu/lib/python3.8/site-packages/pandas/core/reshape/concat.py:404\u001b[0m, in \u001b[0;36m_Concatenator.__init__\u001b[0;34m(self, objs, axis, join, keys, levels, names, ignore_index, verify_integrity, copy, sort)\u001b[0m\n\u001b[1;32m    401\u001b[0m     objs \u001b[38;5;241m=\u001b[39m \u001b[38;5;28mlist\u001b[39m(objs)\n\u001b[1;32m    403\u001b[0m \u001b[38;5;28;01mif\u001b[39;00m \u001b[38;5;28mlen\u001b[39m(objs) \u001b[38;5;241m==\u001b[39m \u001b[38;5;241m0\u001b[39m:\n\u001b[0;32m--> 404\u001b[0m     \u001b[38;5;28;01mraise\u001b[39;00m \u001b[38;5;167;01mValueError\u001b[39;00m(\u001b[38;5;124m\"\u001b[39m\u001b[38;5;124mNo objects to concatenate\u001b[39m\u001b[38;5;124m\"\u001b[39m)\n\u001b[1;32m    406\u001b[0m \u001b[38;5;28;01mif\u001b[39;00m keys \u001b[38;5;129;01mis\u001b[39;00m \u001b[38;5;28;01mNone\u001b[39;00m:\n\u001b[1;32m    407\u001b[0m     objs \u001b[38;5;241m=\u001b[39m \u001b[38;5;28mlist\u001b[39m(com\u001b[38;5;241m.\u001b[39mnot_none(\u001b[38;5;241m*\u001b[39mobjs))\n",
      "\u001b[0;31mValueError\u001b[0m: No objects to concatenate"
     ]
    }
   ],
   "source": [
    "h5_dirs = \"/home1/kamulege/akita_utils/bin/background_seq_experiments/data/background_scores/*/*.h5\" \n",
    "dfs = []\n",
    "for h5_file in glob.glob(h5_dirs):\n",
    "    dfs.append(akita_utils.io.h5_to_df(h5_file, drop_duplicates_key=None))    \n",
    "dfs = pd.concat(dfs)"
   ]
  },
  {
   "cell_type": "code",
   "execution_count": null,
   "id": "1c221400-85d9-4f59-beb4-962af6c4fa64",
   "metadata": {},
   "outputs": [],
   "source": [
    "dfs[\"mean_SCD_score\"] = (dfs[\"SCD_h1_m1_t0\"]+dfs[\"SCD_h1_m1_t1\"]+dfs[\"SCD_h1_m1_t2\"]+dfs[\"SCD_h1_m1_t3\"]+dfs[\"SCD_h1_m1_t4\"]+dfs[\"SCD_h1_m1_t5\"])/6"
   ]
  },
  {
   "cell_type": "markdown",
   "id": "5d286bb3-99cb-423c-9182-0da4de61d71a",
   "metadata": {},
   "source": [
    "# General scores distribution"
   ]
  },
  {
   "cell_type": "code",
   "execution_count": null,
   "id": "5cbc43fd-a20b-4eb9-8983-324585784c06",
   "metadata": {},
   "outputs": [],
   "source": [
    "dfs.reset_index(drop=True, inplace=True)\n",
    "sns.displot(dfs, x=\"mean_SCD_score\")"
   ]
  },
  {
   "cell_type": "markdown",
   "id": "c1d939cf-383c-4e49-9839-5ebd9b1ffa56",
   "metadata": {},
   "source": [
    "# shuffle parameter effect exploration"
   ]
  },
  {
   "cell_type": "code",
   "execution_count": null,
   "id": "3e868ebf-24c0-4923-96c7-2e2ed6d5d26f",
   "metadata": {},
   "outputs": [],
   "source": [
    "sns.color_palette(\"tab10\")\n",
    "sns.kdeplot(data=dfs, x=\"mean_SCD_score\", hue=\"shuffle_parameter\", bw_adjust=.3, fill=True)\n",
    "sns.despine(top = True, right = True)\n",
    "plt.show()\n",
    "sns.boxplot(data=dfs, x='shuffle_parameter', y=\"mean_SCD_score\")\n",
    "sns.stripplot(x=\"shuffle_parameter\", y=\"mean_SCD_score\", data=dfs, size=3, color=\".3\", linewidth=0)\n",
    "plt.title(f\"General distributions of different shuffle parameters *n={dfs.shape[0]}*\")\n",
    "sns.despine(top = True, right = True)\n",
    "plt.show()\n",
    "for score in [2,4,8]:\n",
    "    df_dummy_parameter = dfs.loc[dfs[\"shuffle_parameter\"]==score]\n",
    "    plt.figure(figsize=(10,5)) # ,dpi=200\n",
    "    ax = sns.boxplot(data=df_dummy_parameter, x='mutation_method', y=\"mean_SCD_score\")\n",
    "    ax.tick_params(axis='x', labelrotation=45)\n",
    "    sns.stripplot(x=\"mutation_method\", y=\"mean_SCD_score\", data=df_dummy_parameter, size=3, color=\".3\", linewidth=0)\n",
    "    plt.title(f\"Disecting shuffling by {score} basepairs *n={df_dummy_parameter.shape[0]}*\")\n",
    "    sns.despine(top = True, right = True)\n",
    "    plt.show()\n",
    "    plt.close()"
   ]
  },
  {
   "cell_type": "markdown",
   "id": "07a1e5fb-26f4-407f-92b4-edf800c0ac61",
   "metadata": {},
   "source": [
    "# map threshold effect exploration"
   ]
  },
  {
   "cell_type": "code",
   "execution_count": null,
   "id": "a7f7a7da-69ed-47da-bfc7-f66e1744df1c",
   "metadata": {},
   "outputs": [],
   "source": [
    "sns.kdeplot(data=dfs, x=\"mean_SCD_score\", hue=\"map_score_threshold\", bw_adjust=.3, fill=True)\n",
    "sns.despine(top = True, right = True)\n",
    "plt.show()\n",
    "sns.boxplot(data=dfs, x='map_score_threshold', y=\"mean_SCD_score\")\n",
    "sns.stripplot(x=\"map_score_threshold\", y=\"mean_SCD_score\", data=dfs, size=3, color=\".3\", linewidth=0)\n",
    "plt.title(f\"General distributions of different map score thresholds *n={dfs.shape[0]}*\")\n",
    "sns.despine(top = True, right = True)\n",
    "plt.show()\n",
    "for score in [5500]:\n",
    "    df_dummy_parameter = dfs.loc[dfs[\"map_score_threshold\"]==score]\n",
    "    plt.figure(figsize=(12,5))\n",
    "    ax = sns.boxplot(data=df_dummy_parameter, x='mutation_method', y=\"mean_SCD_score\")\n",
    "    ax.tick_params(axis='x', labelrotation=45)\n",
    "    sns.stripplot(x=\"mutation_method\", y=\"mean_SCD_score\", data=df_dummy_parameter, size=3, color=\".3\", linewidth=0)\n",
    "    plt.title(f\"Disecting {score} as map score threshold *n={df_dummy_parameter.shape[0]}*\")\n",
    "    sns.despine(top = True, right = True)\n",
    "    plt.show()\n",
    "    plt.close()"
   ]
  },
  {
   "cell_type": "markdown",
   "id": "5becf8cc-fd5d-44cc-a62a-97326644dcbe",
   "metadata": {},
   "source": [
    "# ctcf selection threshold effect exploration"
   ]
  },
  {
   "cell_type": "code",
   "execution_count": null,
   "id": "5bd56382-7869-413c-81be-b71be26dd953",
   "metadata": {},
   "outputs": [],
   "source": [
    "sns.kdeplot(data=dfs, x=\"mean_SCD_score\", hue=\"ctcf_selection_threshold\", bw_adjust=.3, fill=True)\n",
    "sns.despine(top = True, right = True)\n",
    "plt.show()\n",
    "sns.boxplot(data=dfs, x='ctcf_selection_threshold', y=\"mean_SCD_score\")\n",
    "sns.stripplot(x=\"ctcf_selection_threshold\", y=\"mean_SCD_score\", data=dfs, size=3, color=\".3\", linewidth=0)\n",
    "plt.title(f\"General distributions of different ctcf selection thresholds *n={dfs.shape[0]}* \\n\")\n",
    "sns.despine(top = True, right = True)\n",
    "plt.show()\n",
    "\n",
    "for score in [5,8,12]:\n",
    "    df_dummy_parameter = dfs.loc[dfs[\"ctcf_selection_threshold\"]==score]\n",
    "    plt.figure(figsize=(10,5))\n",
    "    ax = sns.boxplot(data=df_dummy_parameter, x='mutation_method', y=\"mean_SCD_score\")\n",
    "    ax.tick_params(axis='x', labelrotation=45)\n",
    "    sns.stripplot(x=\"mutation_method\", y=\"mean_SCD_score\", data=df_dummy_parameter, size=3, color=\".3\", linewidth=0)\n",
    "    plt.title(f\"Disecting {score} as ctcf selection threshold *n={df_dummy_parameter.shape[0]}* \\n\")\n",
    "    sns.despine(top = True, right = True)\n",
    "    plt.show()\n",
    "    plt.close()"
   ]
  },
  {
   "cell_type": "markdown",
   "id": "9dd7f229-1881-48ea-9b69-2ff021080005",
   "metadata": {},
   "source": [
    "# mutation method effect exploration"
   ]
  },
  {
   "cell_type": "code",
   "execution_count": null,
   "id": "afd6786c-1bb2-4af5-81df-7422babb3540",
   "metadata": {},
   "outputs": [],
   "source": [
    "sns.kdeplot(data=dfs, x=\"mean_SCD_score\", hue=\"mutation_method\", bw_adjust=.3, fill=True)\n",
    "plt.title(f\"General distributions of different mutation methods *n={dfs.shape[0]}* \\n\")\n",
    "sns.despine(top = True, right = True)\n",
    "plt.show()\n",
    "\n",
    "plt.figure(figsize=(10,5))\n",
    "ax = sns.boxplot(data=dfs, x='mutation_method', y=\"mean_SCD_score\")\n",
    "ax.tick_params(axis='x', labelrotation=45)\n",
    "sns.stripplot(x=\"mutation_method\", y=\"mean_SCD_score\", data=dfs, size=3, color=\".3\", linewidth=0)\n",
    "plt.title(f\"General distributions of different mutation methods *n={dfs.shape[0]}*\")\n",
    "sns.despine(top = True, right = True)\n",
    "plt.show()\n",
    "plt.close()\n",
    "\n",
    "for score in ['permute_whole_seq','permute_motif']: # ,'mask_motif','randomise_motif','randomise_whole_seq','mask_motif'\n",
    "    df_dummy_parameter = dfs.loc[dfs[\"mutation_method\"]==score]\n",
    "    sns.boxplot(data=df_dummy_parameter, x='shuffle_parameter', y=\"mean_SCD_score\")\n",
    "    sns.stripplot(x=\"shuffle_parameter\", y=\"mean_SCD_score\", data=df_dummy_parameter, size=3, color=\".3\", linewidth=0)\n",
    "    plt.title(f\"Disecting {score} *n={df_dummy_parameter.shape[0]}* \\n\")\n",
    "    sns.despine(top = True, right = True)\n",
    "    plt.show()\n",
    "    plt.close()"
   ]
  },
  {
   "cell_type": "markdown",
   "id": "0fdf7130-ea75-4d7c-a4b7-b46666da5f75",
   "metadata": {},
   "source": [
    "# GC content effect exploration"
   ]
  },
  {
   "cell_type": "code",
   "execution_count": null,
   "id": "774866ac-5868-4df7-af05-1db8b3780daf",
   "metadata": {},
   "outputs": [],
   "source": [
    "sns.jointplot(data=dfs, y=f\"mean_SCD_score\", x = \"GC_content\") #, hue=\"shuffle_parameter\""
   ]
  },
  {
   "cell_type": "code",
   "execution_count": null,
   "id": "a9216a2c-7e15-4776-8f7c-b3feb07f60c3",
   "metadata": {},
   "outputs": [],
   "source": [
    "for score in ['permute_whole_seq','randomise_whole_seq','mask_motif','permute_motif','randomise_motif']:\n",
    "    df_dummy_parameter = dfs.loc[dfs[\"mutation_method\"]==score]\n",
    "    sns.jointplot(data=df_dummy_parameter, y=f\"mean_SCD_score\", x = \"GC_content\", hue=\"shuffle_parameter\", color=\".3\")\n",
    "    plt.title(f\"GC distribution for {score} *n={df_dummy_parameter.shape[0]}*\\n\")"
   ]
  },
  {
   "cell_type": "code",
   "execution_count": null,
   "id": "6578d188-bb89-4002-9d34-0247b721e4bb",
   "metadata": {},
   "outputs": [],
   "source": []
  }
 ],
 "metadata": {
  "kernelspec": {
   "display_name": "basenji-gpu",
   "language": "python",
   "name": "basenji-gpu"
  },
  "language_info": {
   "codemirror_mode": {
    "name": "ipython",
    "version": 3
   },
   "file_extension": ".py",
   "mimetype": "text/x-python",
   "name": "python",
   "nbconvert_exporter": "python",
   "pygments_lexer": "ipython3",
   "version": "3.8.0"
  }
 },
 "nbformat": 4,
 "nbformat_minor": 5
}
