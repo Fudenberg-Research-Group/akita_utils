{
 "cells": [
  {
   "cell_type": "markdown",
   "id": "7586f958-db74-4a82-a125-3252f201367b",
   "metadata": {},
   "source": [
    "# In this notebook we visualize effects of inserting promoters"
   ]
  },
  {
   "cell_type": "markdown",
   "id": "22175b9c-68a9-42c6-91f1-431cd9f01c19",
   "metadata": {},
   "source": [
    "### We place a single CTCF and a promoter sequence symetrically \n",
    "### we monitor: \n",
    "- Effects of varying spacing\n",
    "- Effects of varying ctcf flanks\n",
    "- Effects from varying CTCF motif strengths\n",
    "- Effects from specificity of promoter sequences"
   ]
  },
  {
   "cell_type": "code",
   "execution_count": 1,
   "id": "881fe14f-e758-4108-bc95-c0cb75361b7f",
   "metadata": {},
   "outputs": [],
   "source": [
    "import bioframe\n",
    "import pandas as pd\n",
    "import numpy as np\n",
    "import tensorflow as tf\n",
    "from basenji import dna_io\n",
    "import akita_utils\n",
    "import matplotlib.pyplot as plt\n",
    "import glob\n",
    "import seaborn as sns\n",
    "# sns.set_theme()\n",
    "import akita_utils.format_io"
   ]
  },
  {
   "cell_type": "markdown",
   "id": "5d328482-75d4-4371-92dd-73a5e9e1e969",
   "metadata": {},
   "source": [
    "# Importing scores from simulations"
   ]
  },
  {
   "cell_type": "code",
   "execution_count": 2,
   "id": "807c5c9d-d8aa-4477-a45e-00b225472c6d",
   "metadata": {},
   "outputs": [
    {
     "data": {
      "text/html": [
       "<div>\n",
       "<style scoped>\n",
       "    .dataframe tbody tr th:only-of-type {\n",
       "        vertical-align: middle;\n",
       "    }\n",
       "\n",
       "    .dataframe tbody tr th {\n",
       "        vertical-align: top;\n",
       "    }\n",
       "\n",
       "    .dataframe thead th {\n",
       "        text-align: right;\n",
       "    }\n",
       "</style>\n",
       "<table border=\"1\" class=\"dataframe\">\n",
       "  <thead>\n",
       "    <tr style=\"text-align: right;\">\n",
       "      <th></th>\n",
       "      <th>INS-16_h1_m1_t0</th>\n",
       "      <th>INS-16_h1_m1_t1</th>\n",
       "      <th>INS-16_h1_m1_t2</th>\n",
       "      <th>INS-16_h1_m1_t3</th>\n",
       "      <th>INS-16_h1_m1_t4</th>\n",
       "      <th>INS-16_h1_m1_t5</th>\n",
       "      <th>INS-64_h1_m1_t0</th>\n",
       "      <th>INS-64_h1_m1_t1</th>\n",
       "      <th>INS-64_h1_m1_t2</th>\n",
       "      <th>INS-64_h1_m1_t3</th>\n",
       "      <th>...</th>\n",
       "      <th>insert_flank_bp</th>\n",
       "      <th>insert_loci</th>\n",
       "      <th>insert_strand</th>\n",
       "      <th>locus_orientation</th>\n",
       "      <th>out_folder</th>\n",
       "      <th>spacer_bp</th>\n",
       "      <th>swap_flanks</th>\n",
       "      <th>mean_SCD_score</th>\n",
       "      <th>mean_INS-16_score</th>\n",
       "      <th>mean_INS-64_score</th>\n",
       "    </tr>\n",
       "  </thead>\n",
       "  <tbody>\n",
       "    <tr>\n",
       "      <th>0</th>\n",
       "      <td>-0.208618</td>\n",
       "      <td>-0.220703</td>\n",
       "      <td>-0.282471</td>\n",
       "      <td>-0.265137</td>\n",
       "      <td>-0.265869</td>\n",
       "      <td>-0.226807</td>\n",
       "      <td>-0.162720</td>\n",
       "      <td>-0.147461</td>\n",
       "      <td>-0.213257</td>\n",
       "      <td>-0.206909</td>\n",
       "      <td>...</td>\n",
       "      <td>0$0</td>\n",
       "      <td>chr11,43766992,43767011$chr1,4856813,4857813</td>\n",
       "      <td>+$+</td>\n",
       "      <td>&gt;&gt;</td>\n",
       "      <td>data</td>\n",
       "      <td>0</td>\n",
       "      <td>all_for_strong</td>\n",
       "      <td>40.59375</td>\n",
       "      <td>-0.244995</td>\n",
       "      <td>-0.184204</td>\n",
       "    </tr>\n",
       "    <tr>\n",
       "      <th>1</th>\n",
       "      <td>-0.208618</td>\n",
       "      <td>-0.220703</td>\n",
       "      <td>-0.282471</td>\n",
       "      <td>-0.265137</td>\n",
       "      <td>-0.265869</td>\n",
       "      <td>-0.226807</td>\n",
       "      <td>-0.162720</td>\n",
       "      <td>-0.147461</td>\n",
       "      <td>-0.213257</td>\n",
       "      <td>-0.206909</td>\n",
       "      <td>...</td>\n",
       "      <td>0$0</td>\n",
       "      <td>chr11,43766992,43767011$chr1,4856813,4857813</td>\n",
       "      <td>+$+</td>\n",
       "      <td>&gt;&gt;</td>\n",
       "      <td>data</td>\n",
       "      <td>0</td>\n",
       "      <td>all_for_weak</td>\n",
       "      <td>40.59375</td>\n",
       "      <td>-0.244995</td>\n",
       "      <td>-0.184204</td>\n",
       "    </tr>\n",
       "    <tr>\n",
       "      <th>2</th>\n",
       "      <td>-0.208618</td>\n",
       "      <td>-0.220703</td>\n",
       "      <td>-0.282471</td>\n",
       "      <td>-0.265137</td>\n",
       "      <td>-0.265869</td>\n",
       "      <td>-0.226807</td>\n",
       "      <td>-0.162720</td>\n",
       "      <td>-0.147461</td>\n",
       "      <td>-0.213257</td>\n",
       "      <td>-0.206909</td>\n",
       "      <td>...</td>\n",
       "      <td>0$0</td>\n",
       "      <td>chr11,43766992,43767011$chr1,4856813,4857813</td>\n",
       "      <td>+$+</td>\n",
       "      <td>&gt;&gt;</td>\n",
       "      <td>data</td>\n",
       "      <td>0</td>\n",
       "      <td>no</td>\n",
       "      <td>40.59375</td>\n",
       "      <td>-0.244995</td>\n",
       "      <td>-0.184204</td>\n",
       "    </tr>\n",
       "    <tr>\n",
       "      <th>3</th>\n",
       "      <td>-0.208130</td>\n",
       "      <td>-0.223877</td>\n",
       "      <td>-0.292969</td>\n",
       "      <td>-0.278076</td>\n",
       "      <td>-0.278320</td>\n",
       "      <td>-0.231812</td>\n",
       "      <td>-0.169067</td>\n",
       "      <td>-0.158569</td>\n",
       "      <td>-0.222778</td>\n",
       "      <td>-0.214600</td>\n",
       "      <td>...</td>\n",
       "      <td>0$0</td>\n",
       "      <td>chr11,43766992,43767011$chr1,4856813,4857813</td>\n",
       "      <td>+$+</td>\n",
       "      <td>&lt;&lt;</td>\n",
       "      <td>data</td>\n",
       "      <td>0</td>\n",
       "      <td>all_for_strong</td>\n",
       "      <td>42.18750</td>\n",
       "      <td>-0.252197</td>\n",
       "      <td>-0.192871</td>\n",
       "    </tr>\n",
       "    <tr>\n",
       "      <th>4</th>\n",
       "      <td>-0.208130</td>\n",
       "      <td>-0.223877</td>\n",
       "      <td>-0.292969</td>\n",
       "      <td>-0.278076</td>\n",
       "      <td>-0.278320</td>\n",
       "      <td>-0.231812</td>\n",
       "      <td>-0.169067</td>\n",
       "      <td>-0.158569</td>\n",
       "      <td>-0.222778</td>\n",
       "      <td>-0.214600</td>\n",
       "      <td>...</td>\n",
       "      <td>0$0</td>\n",
       "      <td>chr11,43766992,43767011$chr1,4856813,4857813</td>\n",
       "      <td>+$+</td>\n",
       "      <td>&lt;&lt;</td>\n",
       "      <td>data</td>\n",
       "      <td>0</td>\n",
       "      <td>all_for_weak</td>\n",
       "      <td>42.18750</td>\n",
       "      <td>-0.252197</td>\n",
       "      <td>-0.192871</td>\n",
       "    </tr>\n",
       "    <tr>\n",
       "      <th>...</th>\n",
       "      <td>...</td>\n",
       "      <td>...</td>\n",
       "      <td>...</td>\n",
       "      <td>...</td>\n",
       "      <td>...</td>\n",
       "      <td>...</td>\n",
       "      <td>...</td>\n",
       "      <td>...</td>\n",
       "      <td>...</td>\n",
       "      <td>...</td>\n",
       "      <td>...</td>\n",
       "      <td>...</td>\n",
       "      <td>...</td>\n",
       "      <td>...</td>\n",
       "      <td>...</td>\n",
       "      <td>...</td>\n",
       "      <td>...</td>\n",
       "      <td>...</td>\n",
       "      <td>...</td>\n",
       "      <td>...</td>\n",
       "      <td>...</td>\n",
       "    </tr>\n",
       "    <tr>\n",
       "      <th>7051</th>\n",
       "      <td>-0.157593</td>\n",
       "      <td>-0.147949</td>\n",
       "      <td>-0.226929</td>\n",
       "      <td>-0.221069</td>\n",
       "      <td>-0.209106</td>\n",
       "      <td>-0.189331</td>\n",
       "      <td>-0.120178</td>\n",
       "      <td>-0.075928</td>\n",
       "      <td>-0.157227</td>\n",
       "      <td>-0.163330</td>\n",
       "      <td>...</td>\n",
       "      <td>60$100</td>\n",
       "      <td>chr2,166083960,166083979$chr1,4856813,4857813</td>\n",
       "      <td>-$+</td>\n",
       "      <td>&lt;&gt;</td>\n",
       "      <td>data</td>\n",
       "      <td>60</td>\n",
       "      <td>all_for_weak</td>\n",
       "      <td>38.78125</td>\n",
       "      <td>-0.192017</td>\n",
       "      <td>-0.132812</td>\n",
       "    </tr>\n",
       "    <tr>\n",
       "      <th>7052</th>\n",
       "      <td>-0.147705</td>\n",
       "      <td>-0.133545</td>\n",
       "      <td>-0.212036</td>\n",
       "      <td>-0.209229</td>\n",
       "      <td>-0.194946</td>\n",
       "      <td>-0.180176</td>\n",
       "      <td>-0.116089</td>\n",
       "      <td>-0.068787</td>\n",
       "      <td>-0.148315</td>\n",
       "      <td>-0.156372</td>\n",
       "      <td>...</td>\n",
       "      <td>60$100</td>\n",
       "      <td>chr2,166083960,166083979$chr1,4856813,4857813</td>\n",
       "      <td>-$+</td>\n",
       "      <td>&lt;&gt;</td>\n",
       "      <td>data</td>\n",
       "      <td>60</td>\n",
       "      <td>no</td>\n",
       "      <td>38.75000</td>\n",
       "      <td>-0.179565</td>\n",
       "      <td>-0.126099</td>\n",
       "    </tr>\n",
       "    <tr>\n",
       "      <th>7053</th>\n",
       "      <td>-0.180542</td>\n",
       "      <td>-0.184204</td>\n",
       "      <td>-0.276611</td>\n",
       "      <td>-0.260986</td>\n",
       "      <td>-0.252197</td>\n",
       "      <td>-0.221313</td>\n",
       "      <td>-0.125977</td>\n",
       "      <td>-0.087036</td>\n",
       "      <td>-0.181152</td>\n",
       "      <td>-0.182373</td>\n",
       "      <td>...</td>\n",
       "      <td>60$100</td>\n",
       "      <td>chr2,166083960,166083979$chr1,4856813,4857813</td>\n",
       "      <td>-$+</td>\n",
       "      <td>&gt;&lt;</td>\n",
       "      <td>data</td>\n",
       "      <td>60</td>\n",
       "      <td>all_for_strong</td>\n",
       "      <td>38.96875</td>\n",
       "      <td>-0.229370</td>\n",
       "      <td>-0.148071</td>\n",
       "    </tr>\n",
       "    <tr>\n",
       "      <th>7054</th>\n",
       "      <td>-0.143921</td>\n",
       "      <td>-0.124878</td>\n",
       "      <td>-0.203369</td>\n",
       "      <td>-0.203857</td>\n",
       "      <td>-0.187744</td>\n",
       "      <td>-0.176270</td>\n",
       "      <td>-0.114380</td>\n",
       "      <td>-0.064758</td>\n",
       "      <td>-0.143921</td>\n",
       "      <td>-0.153564</td>\n",
       "      <td>...</td>\n",
       "      <td>60$100</td>\n",
       "      <td>chr2,166083960,166083979$chr1,4856813,4857813</td>\n",
       "      <td>-$+</td>\n",
       "      <td>&gt;&lt;</td>\n",
       "      <td>data</td>\n",
       "      <td>60</td>\n",
       "      <td>all_for_weak</td>\n",
       "      <td>38.50000</td>\n",
       "      <td>-0.173218</td>\n",
       "      <td>-0.123047</td>\n",
       "    </tr>\n",
       "    <tr>\n",
       "      <th>7055</th>\n",
       "      <td>-0.154663</td>\n",
       "      <td>-0.144165</td>\n",
       "      <td>-0.227905</td>\n",
       "      <td>-0.222168</td>\n",
       "      <td>-0.208984</td>\n",
       "      <td>-0.190674</td>\n",
       "      <td>-0.117859</td>\n",
       "      <td>-0.071106</td>\n",
       "      <td>-0.154663</td>\n",
       "      <td>-0.161621</td>\n",
       "      <td>...</td>\n",
       "      <td>60$100</td>\n",
       "      <td>chr2,166083960,166083979$chr1,4856813,4857813</td>\n",
       "      <td>-$+</td>\n",
       "      <td>&gt;&lt;</td>\n",
       "      <td>data</td>\n",
       "      <td>60</td>\n",
       "      <td>no</td>\n",
       "      <td>38.75000</td>\n",
       "      <td>-0.191406</td>\n",
       "      <td>-0.130249</td>\n",
       "    </tr>\n",
       "  </tbody>\n",
       "</table>\n",
       "<p>70560 rows × 37 columns</p>\n",
       "</div>"
      ],
      "text/plain": [
       "      INS-16_h1_m1_t0  INS-16_h1_m1_t1  INS-16_h1_m1_t2  INS-16_h1_m1_t3  \\\n",
       "0           -0.208618        -0.220703        -0.282471        -0.265137   \n",
       "1           -0.208618        -0.220703        -0.282471        -0.265137   \n",
       "2           -0.208618        -0.220703        -0.282471        -0.265137   \n",
       "3           -0.208130        -0.223877        -0.292969        -0.278076   \n",
       "4           -0.208130        -0.223877        -0.292969        -0.278076   \n",
       "...               ...              ...              ...              ...   \n",
       "7051        -0.157593        -0.147949        -0.226929        -0.221069   \n",
       "7052        -0.147705        -0.133545        -0.212036        -0.209229   \n",
       "7053        -0.180542        -0.184204        -0.276611        -0.260986   \n",
       "7054        -0.143921        -0.124878        -0.203369        -0.203857   \n",
       "7055        -0.154663        -0.144165        -0.227905        -0.222168   \n",
       "\n",
       "      INS-16_h1_m1_t4  INS-16_h1_m1_t5  INS-64_h1_m1_t0  INS-64_h1_m1_t1  \\\n",
       "0           -0.265869        -0.226807        -0.162720        -0.147461   \n",
       "1           -0.265869        -0.226807        -0.162720        -0.147461   \n",
       "2           -0.265869        -0.226807        -0.162720        -0.147461   \n",
       "3           -0.278320        -0.231812        -0.169067        -0.158569   \n",
       "4           -0.278320        -0.231812        -0.169067        -0.158569   \n",
       "...               ...              ...              ...              ...   \n",
       "7051        -0.209106        -0.189331        -0.120178        -0.075928   \n",
       "7052        -0.194946        -0.180176        -0.116089        -0.068787   \n",
       "7053        -0.252197        -0.221313        -0.125977        -0.087036   \n",
       "7054        -0.187744        -0.176270        -0.114380        -0.064758   \n",
       "7055        -0.208984        -0.190674        -0.117859        -0.071106   \n",
       "\n",
       "      INS-64_h1_m1_t2  INS-64_h1_m1_t3  ...  insert_flank_bp  \\\n",
       "0           -0.213257        -0.206909  ...              0$0   \n",
       "1           -0.213257        -0.206909  ...              0$0   \n",
       "2           -0.213257        -0.206909  ...              0$0   \n",
       "3           -0.222778        -0.214600  ...              0$0   \n",
       "4           -0.222778        -0.214600  ...              0$0   \n",
       "...               ...              ...  ...              ...   \n",
       "7051        -0.157227        -0.163330  ...           60$100   \n",
       "7052        -0.148315        -0.156372  ...           60$100   \n",
       "7053        -0.181152        -0.182373  ...           60$100   \n",
       "7054        -0.143921        -0.153564  ...           60$100   \n",
       "7055        -0.154663        -0.161621  ...           60$100   \n",
       "\n",
       "                                        insert_loci  insert_strand  \\\n",
       "0      chr11,43766992,43767011$chr1,4856813,4857813            +$+   \n",
       "1      chr11,43766992,43767011$chr1,4856813,4857813            +$+   \n",
       "2      chr11,43766992,43767011$chr1,4856813,4857813            +$+   \n",
       "3      chr11,43766992,43767011$chr1,4856813,4857813            +$+   \n",
       "4      chr11,43766992,43767011$chr1,4856813,4857813            +$+   \n",
       "...                                             ...            ...   \n",
       "7051  chr2,166083960,166083979$chr1,4856813,4857813            -$+   \n",
       "7052  chr2,166083960,166083979$chr1,4856813,4857813            -$+   \n",
       "7053  chr2,166083960,166083979$chr1,4856813,4857813            -$+   \n",
       "7054  chr2,166083960,166083979$chr1,4856813,4857813            -$+   \n",
       "7055  chr2,166083960,166083979$chr1,4856813,4857813            -$+   \n",
       "\n",
       "      locus_orientation  out_folder  spacer_bp     swap_flanks  \\\n",
       "0                    >>        data          0  all_for_strong   \n",
       "1                    >>        data          0    all_for_weak   \n",
       "2                    >>        data          0              no   \n",
       "3                    <<        data          0  all_for_strong   \n",
       "4                    <<        data          0    all_for_weak   \n",
       "...                 ...         ...        ...             ...   \n",
       "7051                 <>        data         60    all_for_weak   \n",
       "7052                 <>        data         60              no   \n",
       "7053                 ><        data         60  all_for_strong   \n",
       "7054                 ><        data         60    all_for_weak   \n",
       "7055                 ><        data         60              no   \n",
       "\n",
       "      mean_SCD_score  mean_INS-16_score  mean_INS-64_score  \n",
       "0           40.59375          -0.244995          -0.184204  \n",
       "1           40.59375          -0.244995          -0.184204  \n",
       "2           40.59375          -0.244995          -0.184204  \n",
       "3           42.18750          -0.252197          -0.192871  \n",
       "4           42.18750          -0.252197          -0.192871  \n",
       "...              ...                ...                ...  \n",
       "7051        38.78125          -0.192017          -0.132812  \n",
       "7052        38.75000          -0.179565          -0.126099  \n",
       "7053        38.96875          -0.229370          -0.148071  \n",
       "7054        38.50000          -0.173218          -0.123047  \n",
       "7055        38.75000          -0.191406          -0.130249  \n",
       "\n",
       "[70560 rows x 37 columns]"
      ]
     },
     "execution_count": 2,
     "metadata": {},
     "output_type": "execute_result"
    }
   ],
   "source": [
    "h5_dirs = \"/home1/kamulege/akita_utils/bin/insert_promoter_experiment/data/promoter_scores_all_ins/*/*.h5\" # \n",
    "dfs = []\n",
    "scd_stats = [\"SCD\",\"INS-16\",\"INS-64\"]\n",
    "\n",
    "for h5_file in glob.glob(h5_dirs):\n",
    "    dfs.append(akita_utils.h5_to_df(h5_file, scd_stats, drop_duplicates_key=None))\n",
    "dfs = pd.concat(dfs)\n",
    "\n",
    "for stat in scd_stats:\n",
    "    dfs[f\"mean_{stat}_score\"] = (dfs[f\"{stat}_h1_m1_t0\"]+dfs[f\"{stat}_h1_m1_t1\"]+dfs[f\"{stat}_h1_m1_t2\"]+dfs[f\"{stat}_h1_m1_t3\"]+dfs[f\"{stat}_h1_m1_t4\"]+dfs[f\"{stat}_h1_m1_t5\"])/6\n",
    "\n",
    "dfs"
   ]
  },
  {
   "cell_type": "code",
   "execution_count": null,
   "id": "1c221400-85d9-4f59-beb4-962af6c4fa64",
   "metadata": {},
   "outputs": [],
   "source": []
  },
  {
   "cell_type": "markdown",
   "id": "5d286bb3-99cb-423c-9182-0da4de61d71a",
   "metadata": {},
   "source": [
    "# General scores distribution"
   ]
  },
  {
   "cell_type": "code",
   "execution_count": 3,
   "id": "5cbc43fd-a20b-4eb9-8983-324585784c06",
   "metadata": {},
   "outputs": [
    {
     "data": {
      "image/png": "[encoded data removed]",
      "text/plain": [
       "<Figure size 360x360 with 1 Axes>"
      ]
     },
     "metadata": {
      "needs_background": "light"
     },
     "output_type": "display_data"
    },
    {
     "data": {
      "image/png": "[encoded data removed]",
      "text/plain": [
       "<Figure size 360x360 with 1 Axes>"
      ]
     },
     "metadata": {
      "needs_background": "light"
     },
     "output_type": "display_data"
    },
    {
     "data": {
      "image/png": "[encoded data removed]",
      "text/plain": [
       "<Figure size 360x360 with 1 Axes>"
      ]
     },
     "metadata": {
      "needs_background": "light"
     },
     "output_type": "display_data"
    }
   ],
   "source": [
    "dfs.reset_index(drop=True, inplace=True)\n",
    "dfs = dfs.loc[dfs[\"ctcf_genomic_score\"]>10]# filtering out weak ctcf (need a way to find better weaker ctcf, these aint working)\n",
    "# dfs = dfs.loc[dfs[\"gene_id\"]==\"ENSMUSG00000026003.5\"]\n",
    "dfs = dfs.loc[dfs[\"swap_flanks\"]== \"all_for_weak\"]#] \"weak_for_strong\"\n",
    "# sns.displot(dfs_1, x=\"mean_SCD_score\")\n",
    "for stat in scd_stats:\n",
    "    sns.displot(dfs, x=f\"mean_{stat}_score\")\n",
    "    plt.title(f\"General distributions of {stat} scores *n={dfs.shape[0]}*\")\n",
    "    plt.show()"
   ]
  },
  {
   "cell_type": "markdown",
   "id": "c1d939cf-383c-4e49-9839-5ebd9b1ffa56",
   "metadata": {},
   "source": [
    "# Effect of different background seqs "
   ]
  },
  {
   "cell_type": "code",
   "execution_count": 5,
   "id": "3e868ebf-24c0-4923-96c7-2e2ed6d5d26f",
   "metadata": {},
   "outputs": [
    {
     "data": {
      "image/png": "[encoded data removed]",
      "text/plain": [
       "<Figure size 432x288 with 1 Axes>"
      ]
     },
     "metadata": {
      "needs_background": "light"
     },
     "output_type": "display_data"
    },
    {
     "data": {
      "image/png": "[encoded data removed]",
      "text/plain": [
       "<Figure size 432x288 with 1 Axes>"
      ]
     },
     "metadata": {
      "needs_background": "light"
     },
     "output_type": "display_data"
    },
    {
     "data": {
      "image/png": "[encoded data removed]",
      "text/plain": [
       "<Figure size 1080x360 with 1 Axes>"
      ]
     },
     "metadata": {
      "needs_background": "light"
     },
     "output_type": "display_data"
    },
    {
     "data": {
      "image/png": "[encoded data removed]",
      "text/plain": [
       "<Figure size 1080x360 with 1 Axes>"
      ]
     },
     "metadata": {
      "needs_background": "light"
     },
     "output_type": "display_data"
    },
    {
     "data": {
      "image/png": "[encoded data removed]",
      "text/plain": [
       "<Figure size 1080x360 with 1 Axes>"
      ]
     },
     "metadata": {
      "needs_background": "light"
     },
     "output_type": "display_data"
    }
   ],
   "source": [
    "sns.kdeplot(data=dfs, x=\"mean_SCD_score\", hue=\"background_seqs\", bw_adjust=.3, fill=True)\n",
    "plt.title(f\"General distributions of different background seqs *n={dfs.shape[0]}*\")\n",
    "sns.despine(top = True, right = True)\n",
    "plt.show()\n",
    "\n",
    "sns.boxplot(data=dfs, x='background_seqs', y=\"mean_SCD_score\")\n",
    "sns.stripplot(x=\"background_seqs\", y=\"mean_SCD_score\", data=dfs, size=3, color=\".3\", linewidth=0)\n",
    "plt.title(f\"General distributions of different background seqs *n={dfs.shape[0]}*\")\n",
    "sns.despine(top = True, right = True)\n",
    "plt.show()\n",
    "\n",
    "for score in [2]:\n",
    "    for stat in scd_stats:\n",
    "        df_dummy_parameter = dfs.loc[dfs[\"background_seqs\"]==score]\n",
    "        plt.figure(figsize=(15,5))\n",
    "        ax = sns.boxplot(data=df_dummy_parameter, x='ctcf_flank_bp', y=f\"mean_{stat}_score\", hue=\"ctcf_genomic_score\")\n",
    "        # sns.stripplot(x=\"ctcf_flank_bp\", y=\"mean_SCD_score\", data=df_dummy_parameter, size=3, color=\".3\", linewidth=0)\n",
    "        plt.title(f\"Disecting background sequence {score} *n={df_dummy_parameter.shape[0]}*\")\n",
    "        sns.despine(top = True, right = True)\n",
    "        # plt.ylim([35, 90])\n",
    "        plt.show()\n",
    "        plt.close()"
   ]
  },
  {
   "cell_type": "markdown",
   "id": "07a1e5fb-26f4-407f-92b4-edf800c0ac61",
   "metadata": {},
   "source": [
    "# Effect of locus orientation"
   ]
  },
  {
   "cell_type": "code",
   "execution_count": null,
   "id": "a7f7a7da-69ed-47da-bfc7-f66e1744df1c",
   "metadata": {},
   "outputs": [],
   "source": [
    "sns.kdeplot(data=dfs, x=\"mean_SCD_score\", hue=\"locus_orientation\", bw_adjust=.3, fill=True)\n",
    "plt.title(f\"Score distribution by locus orientation *n={dfs.shape[0]}* \\n\")\n",
    "sns.despine(top = True, right = True)\n",
    "plt.show()\n",
    "\n",
    "for stat in scd_stats:\n",
    "    plt.figure(figsize=(15,5))\n",
    "    ax = sns.boxplot(data=dfs, x='locus_orientation', y=f\"mean_{stat}_score\", hue=\"ctcf_genomic_score\")\n",
    "    # sns.stripplot(x=\"locus_orientation\", y=f\"mean_{stat}_score\", data=dfs, size=3, color=\".3\", linewidth=0)\n",
    "    plt.title(f\"Score distribution by locus orientation *n={dfs.shape[0]}* \\n\")\n",
    "    sns.despine(top = True, right = True)\n",
    "    plt.show()\n",
    "\n",
    "# for score in [\">>\",\"<<\",\"<>\",\"><\"]: #\n",
    "#     df_dummy_parameter = dfs.loc[dfs[\"locus_orientation\"]==score]  \n",
    "#     plt.figure(figsize=(15,5))\n",
    "#     ax = sns.boxplot(data=df_dummy_parameter, x='ctcf_flank_bp', y=\"mean_SCD_score\", hue=\"ctcf_genomic_score\") # palette='viridis_r',\n",
    "#     # sns.stripplot(x=\"ctcf_flank_bp\", y=\"mean_SCD_score\", data=df_dummy_parameter, size=3, color=\".3\", linewidth=0)\n",
    "#     plt.title(f\"Disecting {score} locus orientation *n={df_dummy_parameter.shape[0]}* \\n\")\n",
    "#     sns.despine(top = True, right = True)\n",
    "#     # plt.ylim([35, 100])\n",
    "#     plt.show()\n",
    "#     plt.close()\n",
    "    \n",
    "    \n",
    "#     I used this to see how genes are affected each orientation and flank\n",
    " \n",
    "    # for flank in [i for i in range(0,101,20)]:\n",
    "    #     df_dummy_parameter_1 = df_dummy_parameter.loc[dfs[\"gene_flank_bp\"]==flank]\n",
    "    #     sns.boxplot(data=df_dummy_parameter_1, x='ctcf_flank_bp', y=\"mean_SCD_score\", hue=\"ctcf_genomic_score\")\n",
    "    #     # sns.stripplot(x=\"swap_flanks\", y=\"mean_SCD_score\", data=df_dummy_parameter_1, size=3, color=\".3\", linewidth=0)\n",
    "    #     plt.title(f\"Disecting {flank} flanking basepairs following{score} *n={df_dummy_parameter_1.shape[0]}*\")\n",
    "    #     # plt.ylim([35, 100])\n",
    "    #     plt.show()\n",
    "    #     plt.close()"
   ]
  },
  {
   "cell_type": "markdown",
   "id": "5becf8cc-fd5d-44cc-a62a-97326644dcbe",
   "metadata": {},
   "source": [
    "# Effect of CTCF flank basepairs"
   ]
  },
  {
   "cell_type": "code",
   "execution_count": null,
   "id": "5bd56382-7869-413c-81be-b71be26dd953",
   "metadata": {},
   "outputs": [],
   "source": [
    "# flank_bp = \n",
    "\n",
    "sns.kdeplot(data=dfs, x=\"mean_SCD_score\", hue=\"ctcf_flank_bp\", bw_adjust=.3, fill=True, palette='viridis_r')\n",
    "plt.title(f\"General distributions of different flanking basepairs *n={dfs.shape[0]}* \\n\")\n",
    "sns.despine(top = True, right = True)\n",
    "plt.show()\n",
    "\n",
    "for stat in scd_stats:\n",
    "    plt.figure(figsize=(15,5))\n",
    "    ax = sns.boxplot(data=dfs, x='ctcf_flank_bp', y=f\"mean_{stat}_score\", hue=\"ctcf_genomic_score\")#palette='viridis_r', , hue=\"gene_id\"\n",
    "    # sns.stripplot(x=\"ctcf_flank_bp\", y=\"mean_SCD_score\", data=dfs, size=3, color=\".3\", linewidth=0)\n",
    "    plt.title(f\"General distributions of {stat} scores for different flanking basepairs *n={dfs.shape[0]}* \\n\")\n",
    "    sns.despine(top = True, right = True)\n",
    "    plt.show()\n",
    "\n",
    "for score in [i for i in range(0,61,10)]:#[i for i in range(0,501,100)]:# \n",
    "    df_dummy_parameter = dfs.loc[dfs[\"ctcf_flank_bp\"]==score]\n",
    "    # with sns.set_style(\"whitegrid\"):\n",
    "    plt.figure(figsize=(15,5))\n",
    "    ax = sns.boxplot(data=df_dummy_parameter, x='spacer_bp', y=\"mean_SCD_score\", hue=\"ctcf_genomic_score\")\n",
    "    # sns.stripplot(x=\"spacer_bp\", y=\"mean_SCD_score\", data=df_dummy_parameter, size=3, color=\".3\", linewidth=0)\n",
    "    plt.title(f\"Disecting {score} flanking basepairs *n={df_dummy_parameter.shape[0]}* \\n\")\n",
    "    sns.despine(top = True, right = True, left=True)\n",
    "    # plt.ylim([35, 100])\n",
    "    plt.show()\n",
    "    plt.close()"
   ]
  },
  {
   "cell_type": "markdown",
   "id": "7179af55-dc31-4f01-b7d5-16c1cdf1d3df",
   "metadata": {},
   "source": [
    "# Effect of gene flank basepairs"
   ]
  },
  {
   "cell_type": "code",
   "execution_count": null,
   "id": "97597e74-830b-4e5e-8659-dee29c008523",
   "metadata": {},
   "outputs": [],
   "source": [
    "# flank_bp = \n",
    "\n",
    "sns.kdeplot(data=dfs, x=\"mean_SCD_score\", hue=\"gene_flank_bp\", bw_adjust=.3, fill=True, palette='viridis_r')\n",
    "plt.title(f\"General distributions of different flanking basepairs *n={dfs.shape[0]}* \\n\")\n",
    "sns.despine(top = True, right = True)\n",
    "plt.show()\n",
    "\n",
    "for stat in scd_stats:\n",
    "    plt.figure(figsize=(15,5))\n",
    "    ax = sns.boxplot(data=dfs, x='gene_flank_bp', y=f\"mean_{stat}_score\", palette='viridis_r', hue=\"ctcf_genomic_score\")#,hue=\"\"\n",
    "    # sns.stripplot(x=\"ctcf_flank_bp\", y=\"mean_SCD_score\", data=dfs, size=3, color=\".3\", linewidth=0)\n",
    "    plt.title(f\"General distributions of different flanking basepairs *n={dfs.shape[0]}* \\n\")\n",
    "    sns.despine(top = True, right = True)\n",
    "    plt.show()\n",
    "\n",
    "# for score in [i for i in range(0,101,20)]:#[i for i in range(0,501,100)]:# \n",
    "#     df_dummy_parameter = dfs.loc[dfs[\"gene_flank_bp\"]==score]\n",
    "#     # with sns.set_style(\"whitegrid\"):\n",
    "#     plt.figure(figsize=(15,5))\n",
    "#     ax = sns.boxplot(data=df_dummy_parameter, x='ctcf_flank_bp', y=\"mean_SCD_score\", hue=\"ctcf_genomic_score\")\n",
    "#     # sns.stripplot(x=\"spacer_bp\", y=\"mean_SCD_score\", data=df_dummy_parameter, size=3, color=\".3\", linewidth=0)\n",
    "#     plt.title(f\"Disecting {score} flanking basepairs *n={df_dummy_parameter.shape[0]}* \\n\")\n",
    "#     sns.despine(top = True, right = True, left=True)\n",
    "#     # plt.ylim([35, 70])\n",
    "#     plt.show()\n",
    "#     plt.close()"
   ]
  },
  {
   "cell_type": "markdown",
   "id": "e167ca55-7fc8-423e-ae4d-6f0be8389c9e",
   "metadata": {},
   "source": [
    "# Effect of swaping flank basepairs"
   ]
  },
  {
   "cell_type": "code",
   "execution_count": null,
   "id": "ca1f717e-07d3-4fcb-9fd1-79d662339e65",
   "metadata": {},
   "outputs": [],
   "source": [
    "# flank_bp = \n",
    "\n",
    "# sns.kdeplot(data=dfs, x=\"mean_SCD_score\", hue=\"swap_flanks\", bw_adjust=.3, fill=True, palette='viridis_r')\n",
    "# plt.title(f\"General distributions of different flanking basepairs *n={dfs.shape[0]}* \\n\")\n",
    "# sns.despine(top = True, right = True)\n",
    "# plt.show()\n",
    "\n",
    "# sns.boxplot(data=dfs, x='swap_flanks', y=\"mean_SCD_score\", palette='viridis_r')\n",
    "# # sns.stripplot(x=\"ctcf_flank_bp\", y=\"mean_SCD_score\", data=dfs, size=3, color=\".3\", linewidth=0)\n",
    "# plt.title(f\"General distributions of different flanking basepairs *n={dfs.shape[0]}* \\n\")\n",
    "# sns.despine(top = True, right = True)\n",
    "# plt.show()\n",
    "\n",
    "# for score in [\"weak_for_strong\",\"strong_for_weak\"]:#[i for i in range(0,501,100)]:# \n",
    "#     df_dummy_parameter = dfs.loc[dfs[\"swap_flanks\"]==score]\n",
    "#     # with sns.set_style(\"whitegrid\"):\n",
    "\n",
    "#     sns.boxplot(data=df_dummy_parameter, x='gene_flank_bp', y=\"mean_SCD_score\")\n",
    "#     # sns.stripplot(x=\"spacer_bp\", y=\"mean_SCD_score\", data=df_dummy_parameter, size=3, color=\".3\", linewidth=0)\n",
    "#     plt.title(f\"Disecting {score} flanking basepairs *n={df_dummy_parameter.shape[0]}* \\n\")\n",
    "#     sns.despine(top = True, right = True, left=True)\n",
    "#     # plt.ylim([35, 70])\n",
    "#     plt.show()\n",
    "#     plt.close()"
   ]
  },
  {
   "cell_type": "markdown",
   "id": "9dd7f229-1881-48ea-9b69-2ff021080005",
   "metadata": {},
   "source": [
    "# Effect of spacing basepairs"
   ]
  },
  {
   "cell_type": "code",
   "execution_count": null,
   "id": "afd6786c-1bb2-4af5-81df-7422babb3540",
   "metadata": {},
   "outputs": [],
   "source": [
    "sns.kdeplot(data=dfs, x=\"mean_SCD_score\", hue=\"spacer_bp\", bw_adjust=.3, fill=True, palette='viridis_r')\n",
    "plt.title(f\"General distributions of different spacing basepairs *n={dfs.shape[0]}* \\n\")\n",
    "sns.despine(top = True, right = True)\n",
    "plt.show()\n",
    "\n",
    "for stat in scd_stats:\n",
    "    plt.figure(figsize=(15,5))\n",
    "    ax = sns.boxplot(data=dfs, x='spacer_bp', y=f\"mean_{stat}_score\", palette='viridis_r', hue=\"ctcf_genomic_score\")\n",
    "    # sns.stripplot(x=\"spacer_bp\", y=\"mean_SCD_score\", data=dfs, size=3, color=\".3\", linewidth=0)\n",
    "    plt.title(f\"General distributions of different spacing basepairs *n={dfs.shape[0]}* \\n\")\n",
    "    sns.despine(top = True, right = True)\n",
    "    plt.show()\n",
    "\n",
    "# for score in [i for i in range(0,61,10)]: \n",
    "#     df_dummy_parameter = dfs.loc[dfs[\"spacer_bp\"]==score]\n",
    "#     plt.figure(figsize=(15,5))\n",
    "#     ax = sns.boxplot(data=df_dummy_parameter, x='ctcf_flank_bp', y=\"mean_SCD_score\", palette='viridis_r', hue=\"ctcf_genomic_score\")\n",
    "#     # sns.stripplot(x=\"ctcf_flank_bp\", y=\"mean_SCD_score\", data=df_dummy_parameter, size=3, color=\".3\", linewidth=0, hue=\"ctcf_genomic_score\")\n",
    "#     plt.title(f\"Disecting {score} spacing basepairs *n={df_dummy_parameter.shape[0]}* \\n\")\n",
    "#     sns.despine(top = True, right = True)\n",
    "#     # plt.ylim([35, 100])\n",
    "#     plt.show()\n",
    "#     plt.close()"
   ]
  },
  {
   "cell_type": "markdown",
   "id": "0fdf7130-ea75-4d7c-a4b7-b46666da5f75",
   "metadata": {},
   "source": [
    "# Attempt to fish possible influencial genes"
   ]
  },
  {
   "cell_type": "code",
   "execution_count": null,
   "id": "211935a3-cbf6-4144-9b44-e1a59ddc48e3",
   "metadata": {},
   "outputs": [],
   "source": [
    "g = sns.PairGrid(dfs, vars=[\"mean_SCD_score\", \"ctcf_flank_bp\"],height=4) # , hue=\"enhancer_locus_specification\"\n",
    "g.map_diag(sns.kdeplot)\n",
    "g.map_offdiag(sns.scatterplot)\n",
    "g.add_legend()"
   ]
  },
  {
   "cell_type": "code",
   "execution_count": null,
   "id": "774866ac-5868-4df7-af05-1db8b3780daf",
   "metadata": {},
   "outputs": [],
   "source": [
    "for score in [\">>\",\"<<\",\"<>\",\"><\"]: #\n",
    "    data_1 = dfs.loc[dfs[\"locus_orientation\"]==score]\n",
    "    cutt_off = 0\n",
    "    sns.jointplot(data=data_1.loc[data_1[\"mean_SCD_score\"]>cutt_off], y=f\"mean_SCD_score\", x = \"ctcf_flank_bp\",hue=\"gene_symbol\",height=8) #  \n",
    "    plt.title(f\"genes distribution for {score} flanking basepairs\")"
   ]
  },
  {
   "cell_type": "markdown",
   "id": "56f85b3b-8692-46e3-b865-99be7a622c39",
   "metadata": {},
   "source": [
    "# Follow up on the possible influencial genes"
   ]
  },
  {
   "cell_type": "code",
   "execution_count": null,
   "id": "a9216a2c-7e15-4776-8f7c-b3feb07f60c3",
   "metadata": {},
   "outputs": [],
   "source": [
    "for special_gene in [\"Tcea1\", \"Cflar\"]: #\"ENSMUSG00000094571.1\",\"ENSMUSG00000107222.1\",\"ENSMUSG00000107185.1\",\"ENSMUSG00000106945.1\",\"ENSMUSG00000001376.17\",\"ENSMUSG00000107233.1\"]:\n",
    "    for score in [\">>\",\"<<\",\"<>\",\"><\"]: \n",
    "        for stat in scd_stats:\n",
    "            data_1 = dfs.loc[dfs[\"locus_orientation\"]==score]\n",
    "            data_2 = data_1.loc[data_1[\"gene_symbol\"]==special_gene]\n",
    "            # data_3 = dfs.loc[dfs[\"spacer_bp\"]==20]\n",
    "            plt.figure(figsize=(15,5))\n",
    "            ax = sns.boxplot(data=data_2, y=f\"mean_{stat}_score\", x = \"ctcf_flank_bp\", hue=\"ctcf_genomic_score\")\n",
    "            plt.title(f\"Gene *{special_gene}* analysis for {score} orientation *n={data_2.shape[0]}* \\n\")\n",
    "            sns.despine(top = True, right = True)\n",
    "            dt=[i for i in range(0,8,1)]\n",
    "            # plt.plot(dt,[45]*(len(dt)),color='r')\n",
    "            # plt.ylim([35, 60])\n",
    "            plt.show()\n",
    "            plt.close()\n",
    "    print(\"*****************************************\\n \\n \\n \\n \\n\")"
   ]
  },
  {
   "cell_type": "code",
   "execution_count": null,
   "id": "e35e0211-5c2d-453c-b4eb-c7558d2aa77b",
   "metadata": {},
   "outputs": [],
   "source": [
    "# df_3d = pd.DataFrame()\n",
    "# df_3d['x'] = dfs['flank_bp']\n",
    "# df_3d['y'] = dfs['spacer_bp']\n",
    "# df_3d['z'] = dfs['locus_orientation']\n",
    "\n",
    "# sns.pairplot(df_3d)"
   ]
  },
  {
   "cell_type": "code",
   "execution_count": null,
   "id": "69ef1517-7163-4174-9f69-12a8da840299",
   "metadata": {},
   "outputs": [],
   "source": [
    "# fig = plt.figure()\n",
    "# ax = fig.add_subplot(projection='3d')\n",
    "# ax.scatter3D(dfs['flank_bp'].values.tolist(),dfs['spacer_bp'].values.tolist(),dfs['locus_orientation'].values.tolist())"
   ]
  },
  {
   "cell_type": "code",
   "execution_count": null,
   "id": "01d0bf15-871e-47d6-b170-c1bd7a73b46d",
   "metadata": {},
   "outputs": [],
   "source": [
    "fig = plt.figure(figsize=(10,10))\n",
    "ax = plt.axes(projection='3d')\n",
    "\n",
    "\n",
    "# Data for three-dimensional scattered points\n",
    "zdata = dfs[\"mean_SCD_score\"]\n",
    "xdata = dfs['spacer_bp']\n",
    "ydata = dfs['ctcf_flank_bp']\n",
    "\n",
    "ax.set_zlabel('mean_SCD_score')\n",
    "ax.set_xlabel('spacer_bp')\n",
    "ax.set_ylabel('ctcf_flank_bp')\n",
    "# ax.set_zscale('log')\n",
    "\n",
    "# get colormap from seaborn\n",
    "from matplotlib.colors import ListedColormap\n",
    "cmap = ListedColormap(sns.color_palette(\"tab10\").as_hex())\n",
    "\n",
    "ax.scatter3D(xdata, ydata, zdata, c=zdata, cmap =cmap)"
   ]
  },
  {
   "cell_type": "code",
   "execution_count": null,
   "id": "a0522648-2059-44ed-a1b0-fded83c0e1d9",
   "metadata": {},
   "outputs": [],
   "source": []
  },
  {
   "cell_type": "code",
   "execution_count": null,
   "id": "769db873-a282-41f0-b2ef-eb4614204258",
   "metadata": {},
   "outputs": [],
   "source": [
    "# Test input\n",
    "from akita_utils.program_setup import Locus, Gene, CTCF, create_insertions_sequences, genome_open\n",
    "\n",
    "test_locus = Locus([CTCF,Gene])\n",
    "    \n",
    "test_locus.insert(Gene(\"rat_1\",'chr11',22206811,22206830,'+'))\n",
    "test_locus.insert(CTCF(\"rat_2\",'chr11',22206811,22206830,[0,0],'+'))\n",
    "\n",
    "\n",
    "# Expected output\n",
    "expected_output = [np.array([[1, 0, 0, 0],\n",
    "                             [0, 0, 0, 1],\n",
    "                             [0, 0, 1, 0],\n",
    "                             [0, 1, 0, 0]]),  # one-hot encoded DNA sequence for Element 1\n",
    "                   np.array([[1, 0, 0, 0],  # one-hot encoded DNA sequence for left flank of CTCF element\n",
    "                             [0, 0, 0, 1],\n",
    "                             [0, 0, 1, 0],\n",
    "                             [0, 1, 0, 0],\n",
    "                             [0, 0, 1, 0],  # one-hot encoded DNA sequence for CTCF element\n",
    "                             [0, 1, 0, 0],\n",
    "                             [1, 0, 0, 0],  # one-hot encoded DNA sequence for right flank of CTCF element\n",
    "                             [0, 0, 0, 1]])]\n",
    "\n",
    "# Test\n",
    "output = create_insertions_sequences(test_locus, genome_open())\n",
    "\n",
    "expected_output == output\n",
    "\n",
    "# akita_utils.dna_utils.dna_1hot(genome_open().fetch('chr11',22206811,22206811))\n",
    "\n",
    "# print(CTCF(\"rat_1\",'chr11',22206811,22206830,[1,1],'+'))"
   ]
  },
  {
   "cell_type": "code",
   "execution_count": null,
   "id": "4a8e7e5e-453c-4eb0-ad4a-1011cf252014",
   "metadata": {},
   "outputs": [],
   "source": [
    "from akita_utils.program_setup import LOCUS, INSERT, create_insertions_sequences, genome_open\n",
    "from akita_utils.seq_gens import create_insertion, _multi_insert_casette\n",
    "motifs_file_test = \"/home1/kamulege/akita_utils/bin/insert_promoter_experiment/data/parameters_combo_test_1.tsv\"\n",
    "background_file = \"/project/fudenber_735/tensorflow_models/akita/v2/analysis/background_seqs.fa\"\n",
    "seq_coords_df = pd.read_csv(motifs_file_test, sep=\"\\t\")\n",
    "\n",
    "background_seqs = []\n",
    "with open(background_file, \"r\") as f:\n",
    "    for line in f.readlines():\n",
    "        if \">\" in line:\n",
    "            continue\n",
    "        background_seqs.append(akita_utils.dna_utils.dna_1hot(line.strip()))\n",
    "\n",
    "            \n",
    "            \n",
    "def modular_insertion_seqs_gen(seq_coords_df, background_seqs, genome_open):\n",
    "    collection = []\n",
    "    for s in seq_coords_df.itertuples():\n",
    "        seq_1hot_insertions = []\n",
    "        spacer_bp = s.spacer_bp\n",
    "        orientation_string = s.locus_orientation\n",
    "        seq_1hot = background_seqs[s.background_seqs].copy()        \n",
    "\n",
    "        for module_number in range(len(s.insert_strand.split(\"$\"))):\n",
    "            locus = s.insert_loci.split(\"$\")[module_number]\n",
    "            flank_bp = int(s.insert_flank_bp.split(\"$\")[module_number])\n",
    "            chrom,start,end = locus.split(\",\")\n",
    "            seq_1hot_insertion = akita_utils.dna_utils.dna_1hot(genome_open.fetch(chrom, int(start) - flank_bp, int(end) + flank_bp).upper())\n",
    "            if s.insert_strand.split(\"$\")[module_number] == \"-\":\n",
    "                seq_1hot_insertion = akita_utils.dna_utils.hot1_rc(seq_1hot_insertion)\n",
    "            seq_1hot_insertions.append(seq_1hot_insertion)\n",
    "\n",
    "        seq_1hot = _multi_insert_casette(seq_1hot, seq_1hot_insertions, spacer_bp, orientation_string)\n",
    "        collection += [seq_1hot]\n",
    "    return collection, seq_1hot_insertions\n",
    "\n",
    "\n",
    "def flexible_flank_modular_insertion_seqs_gen(seq_coords_df, background_seqs, genome_open):\n",
    "    collection = []\n",
    "    for s in seq_coords_df.itertuples():\n",
    "        spacer_bp = s.spacer_bp\n",
    "        orientation_string = s.locus_orientation\n",
    "        seq_1hot = background_seqs[s.background_seqs].copy()        \n",
    "        custom_locus = LOCUS([INSERT])\n",
    "        swapping_flanks = s.swap_flanks  # whether/how we are swapping flanks\n",
    "        ctcf_score = s.ctcf_genomic_score\n",
    "        \n",
    "        for module_number in range(len(s.insert_strand.split(\"$\"))):\n",
    "            # figuring out a way to tell if module is a ctcf or gene, currently it is easy to tell from tsv\n",
    "            locus = s.insert_loci.split(\"$\")[module_number]\n",
    "            chrom,start,end = locus.split(\",\")\n",
    "            flank_bp = int(s.insert_flank_bp.split(\"$\")[module_number])\n",
    "            strand = s.insert_strand.split(\"$\")[module_number]\n",
    "            insert = create_insertion(module_number, locus, strand, flank_bp, ctcf_score, swapping_flanks)\n",
    "            custom_locus.insert(insert)\n",
    "\n",
    "        seq_1hot_insertions = create_insertions_sequences(custom_locus, genome_open)\n",
    "        seq_1hot = _multi_insert_casette(seq_1hot, seq_1hot_insertions, spacer_bp, orientation_string)\n",
    "        collection += [seq_1hot]\n",
    "    return collection, seq_1hot_insertions"
   ]
  },
  {
   "cell_type": "code",
   "execution_count": null,
   "id": "e88ee444-3f4d-4232-b711-589d05a4d2f5",
   "metadata": {},
   "outputs": [],
   "source": [
    "result_1,seq_1 = modular_insertion_seqs_gen(seq_coords_df, background_seqs, genome_open())\n",
    "result_2,seq_2 = flexible_flank_modular_insertion_seqs_gen(seq_coords_df, background_seqs, genome_open())\n",
    "\n",
    "np.all(result_1) ==np.all(result_2)"
   ]
  },
  {
   "cell_type": "code",
   "execution_count": null,
   "id": "6bdb991f-88ae-40ce-bb0e-7b6ea5e8fd23",
   "metadata": {},
   "outputs": [],
   "source": [
    "print(len(seq_1[0])) \n",
    "print(len(seq_2[0]))"
   ]
  },
  {
   "cell_type": "code",
   "execution_count": null,
   "id": "cafb75b4-2e10-41f5-9321-2ec10b652f09",
   "metadata": {},
   "outputs": [],
   "source": [
    "seq_coords_df"
   ]
  },
  {
   "cell_type": "code",
   "execution_count": null,
   "id": "3a4cc67d-d49f-4ef3-a948-b98cbee6bd77",
   "metadata": {},
   "outputs": [],
   "source": []
  },
  {
   "cell_type": "code",
   "execution_count": null,
   "id": "ee83fcd9-011d-44d9-9de7-2d80dd26c8fc",
   "metadata": {},
   "outputs": [],
   "source": []
  },
  {
   "cell_type": "code",
   "execution_count": null,
   "id": "c8fa2d10-bd4f-4b97-8ff7-5a5023ccd34f",
   "metadata": {},
   "outputs": [],
   "source": []
  },
  {
   "cell_type": "code",
   "execution_count": null,
   "id": "bb58027d-1625-4a45-9f24-fdf95ca261ee",
   "metadata": {},
   "outputs": [],
   "source": []
  },
  {
   "cell_type": "markdown",
   "id": "55a16b3d-64e9-4b5d-91df-e66986fd3508",
   "metadata": {},
   "source": [
    "# HOMEWORK FOR SCD OF CTCF"
   ]
  },
  {
   "cell_type": "code",
   "execution_count": null,
   "id": "0e761a38-4018-40dc-a241-d116d7a900cf",
   "metadata": {},
   "outputs": [],
   "source": [
    "import pandas as pd\n",
    "ctcf_df = pd.read_csv('/project/fudenber_735/motifs/hg38/jaspar/MA0139.1.tsv.gz', compression='gzip', \n",
    "                                  header=0, sep='\\t')\n"
   ]
  },
  {
   "cell_type": "code",
   "execution_count": null,
   "id": "24bc888e-75ae-4dfa-b59c-bbe7edf9f123",
   "metadata": {},
   "outputs": [],
   "source": [
    "ctcf_df .set_axis(['chrom', 'start', 'end', 'motif', 'A', 'B', 'strand'], axis='columns', inplace=True)\n",
    "\n",
    "ctcf_df"
   ]
  },
  {
   "cell_type": "code",
   "execution_count": null,
   "id": "aca256f6-c4e2-46d2-8da6-ae9ab225209d",
   "metadata": {},
   "outputs": [],
   "source": [
    "df = pd.read_csv(\"/project/fudenber_735/GEO/Krietenstein2019/sameer_remap/features/U54-HFFc6-FA-DSG-MNase-R1-R3.hg38.mapq_30.10000.window_200000.insulation\", header=0, sep='\\t')\n",
    "\n",
    "df"
   ]
  },
  {
   "cell_type": "code",
   "execution_count": null,
   "id": "8a3ae053-e243-434b-bce6-2bbbff8c46c6",
   "metadata": {},
   "outputs": [],
   "source": [
    "df = df.loc[True == (df[\"is_boundary_200000\"] == True)]\n",
    "df"
   ]
  },
  {
   "cell_type": "code",
   "execution_count": null,
   "id": "8451ad24-a2fe-449d-8b28-363c62604b74",
   "metadata": {},
   "outputs": [],
   "source": [
    "import bioframe as bf\n",
    "overlapping_intervals = bf.overlap(ctcf_df, df, how='inner', suffixes=('','_2'))\n",
    "display(overlapping_intervals)"
   ]
  },
  {
   "cell_type": "code",
   "execution_count": null,
   "id": "c7a429a8-008a-4bbe-afad-35a0c71b00a5",
   "metadata": {},
   "outputs": [],
   "source": [
    "import glob\n",
    "# h5_dirs = \"/project/fudenber_735/tensorflow_models/akita/v2/analysis/permute_boundaries_motifs_ctcf_mm10_model*/scd.h5\"\n",
    "h5_dirs = \"/home1/kamulege/akita_utils/bin/disrupt_genomic_boundary_ctcfs/scd_human_ctcf/*/*.h5\" # \n",
    "dfs = []\n",
    "scd_stats = [\"INS-16\",\"INS-32\",\"INS-64\",\"INS-128\",\"INS-256\",\"SCD\",\"SSD\"]\n",
    "\n",
    "for h5_file in glob.glob(h5_dirs):\n",
    "    dfs.append(akita_utils.format_io.h5_to_df(h5_file)) # ,drop_duplicates_key=None\n",
    "dfs = pd.concat(dfs)\n",
    "\n",
    "dfs            "
   ]
  },
  {
   "cell_type": "code",
   "execution_count": null,
   "id": "7c38ba99-45fb-4758-8a86-487625d41a3a",
   "metadata": {},
   "outputs": [],
   "source": [
    "len(overlapping_intervals.loc[True == (overlapping_intervals[\"SCD_1\"] > 0.3)])"
   ]
  },
  {
   "cell_type": "code",
   "execution_count": null,
   "id": "0c4c524f-0ed4-4df6-b09e-f752603358cd",
   "metadata": {},
   "outputs": [],
   "source": [
    "\n",
    "\n",
    "plt.figure(figsize=(15,5))\n",
    "ax = sns.kdeplot(data=overlapping_intervals[\"SCD_1\"])\n",
    "\n",
    "# plt.figure(figsize=(15,5))\n",
    "# ax = sns.kdeplot(data=dfs[\"SSD\"])"
   ]
  },
  {
   "cell_type": "code",
   "execution_count": null,
   "id": "12582667-d56c-49c3-af0a-6e6e13f93ee0",
   "metadata": {},
   "outputs": [],
   "source": []
  },
  {
   "cell_type": "code",
   "execution_count": null,
   "id": "01e27591-c331-45f7-ac42-14f6e39411f5",
   "metadata": {},
   "outputs": [],
   "source": [
    "df"
   ]
  },
  {
   "cell_type": "code",
   "execution_count": null,
   "id": "6905cb7e-0be4-495c-be29-8b2a855072ba",
   "metadata": {},
   "outputs": [],
   "source": [
    "import bioframe as bf"
   ]
  },
  {
   "cell_type": "code",
   "execution_count": null,
   "id": "5b4cbcb7-8ff4-4153-835c-8f4e653f5d49",
   "metadata": {},
   "outputs": [],
   "source": [
    "bf.is_bedframe(df)"
   ]
  },
  {
   "cell_type": "code",
   "execution_count": null,
   "id": "b33ab611-eb4c-4876-95d8-0b6d638a600c",
   "metadata": {},
   "outputs": [],
   "source": []
  },
  {
   "cell_type": "code",
   "execution_count": null,
   "id": "4df80306-75c6-4caf-bc6d-e031e8ed6e12",
   "metadata": {},
   "outputs": [],
   "source": []
  },
  {
   "cell_type": "code",
   "execution_count": null,
   "id": "57ab174e-0fb9-40a7-8165-74acdffcdb76",
   "metadata": {},
   "outputs": [],
   "source": []
  }
 ],
 "metadata": {
  "kernelspec": {
   "display_name": "basenji-gpu",
   "language": "python",
   "name": "basenji-gpu"
  },
  "language_info": {
   "codemirror_mode": {
    "name": "ipython",
    "version": 3
   },
   "file_extension": ".py",
   "mimetype": "text/x-python",
   "name": "python",
   "nbconvert_exporter": "python",
   "pygments_lexer": "ipython3",
   "version": "3.8.0"
  }
 },
 "nbformat": 4,
 "nbformat_minor": 5
}
