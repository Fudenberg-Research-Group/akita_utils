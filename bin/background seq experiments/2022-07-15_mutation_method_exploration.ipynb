{
 "cells": [
  {
   "cell_type": "markdown",
   "id": "8154d563-af62-473c-a8f4-26f482ad9e75",
   "metadata": {},
   "source": [
    "# In this notebook we explore the influnce of different ways of masking CTCF motis to the prediction score and success time.\n",
    "\n",
    "There are three ways to go about this (in brackets are corresponding tags);\n",
    "- just randomly shuffle the whole seq i.e no masking (all random)\n",
    "- scan for CTCF and randomly shuffle the motifs (random motif masking)\n",
    "- scan for CTCF and manually shuffle the motifs (manual motif masking)"
   ]
  },
  {
   "cell_type": "code",
   "execution_count": 1,
   "id": "881fe14f-e758-4108-bc95-c0cb75361b7f",
   "metadata": {},
   "outputs": [],
   "source": [
    "import matplotlib.pyplot as plt\n",
    "import matplotlib.gridspec as gridspec\n",
    "import bioframe \n",
    "import pandas as pd\n",
    "import numpy as np \n",
    "import os\n",
    "import json\n",
    "from io import StringIO\n",
    "import seaborn as sns\n",
    "import random \n",
    "import akita_utils \n",
    "from akita_utils.background_utils import mutation_search\n",
    "import pysam\n",
    "import time \n",
    "import h5py\n",
    "genome_fasta = '/project/fudenber_735/genomes/mm10/mm10.fa'\n",
    "genome_open = pysam.Fastafile('/project/fudenber_735/genomes/mm10/mm10.fa')"
   ]
  },
  {
   "cell_type": "code",
   "execution_count": 2,
   "id": "40a0bf0d-860a-4b3c-9ef9-13dd4f319b7a",
   "metadata": {},
   "outputs": [
    {
     "name": "stdout",
     "output_type": "stream",
     "text": [
      "2.4.1\n"
     ]
    },
    {
     "name": "stderr",
     "output_type": "stream",
     "text": [
      "2022-12-04 20:23:14.246424: I tensorflow/core/platform/cpu_feature_guard.cc:142] This TensorFlow binary is optimized with oneAPI Deep Neural Network Library (oneDNN) to use the following CPU instructions in performance-critical operations:  SSE4.1 SSE4.2 AVX AVX2 AVX512F FMA\n",
      "To enable them in other operations, rebuild TensorFlow with the appropriate compiler flags.\n"
     ]
    },
    {
     "name": "stdout",
     "output_type": "stream",
     "text": [
      "built\n",
      "restored\n"
     ]
    },
    {
     "data": {
      "text/plain": [
       "(512, 130305, (130305,))"
      ]
     },
     "execution_count": 2,
     "metadata": {},
     "output_type": "execute_result"
    }
   ],
   "source": [
    "import os\n",
    "os.environ[\"CUDA_VISIBLE_DEVICES\"] = '-1'\n",
    "import tensorflow as tf\n",
    "print(tf.__version__)\n",
    "\n",
    "import pysam\n",
    "from basenji import dataset, seqnn, dna_io,stream\n",
    "head_i = 1 #mouse\n",
    "model_num = 1 #which fold to use\n",
    "\n",
    "base_dir = '/project/fudenber_735/tensorflow_models/akita/v2/models/'\n",
    "model_dir = base_dir+\"/f\"+str(model_num)+\"c0/train/\"\n",
    "model_file  = model_dir+'/model'+str(head_i)+'_best.h5'\n",
    "\n",
    "params_file = model_dir+'/params.json'\n",
    "with open(params_file) as params_open:\n",
    "    params = json.load(params_open)\n",
    "    params_model = params['model']\n",
    "    params_train = params['train']\n",
    "seq_length = params_model['seq_length']\n",
    "params_model['verbose'] = False\n",
    "seqnn_model = seqnn.SeqNN(params_model)\n",
    "print('built')\n",
    "seqnn_model.restore(model_file, head_i=head_i)\n",
    "print('restored')\n",
    "\n",
    "hic_diags = params_model['diagonal_offset']\n",
    "try:\n",
    "    target_crop = params_model['trunk'][-2]['cropping']\n",
    "except:\n",
    "    target_crop = params_model['target_crop']\n",
    "target_length_cropped = int((seq_length//2048 - target_crop*2 - hic_diags)* ((seq_length//2048 - target_crop*2 - hic_diags) +1)/2) \n",
    "target_map_size = seq_length//2048  - target_crop*2 \n",
    "triu_tup = np.triu_indices(target_map_size,2)\n",
    "target_map_size, target_length_cropped, triu_tup[0].shape"
   ]
  },
  {
   "cell_type": "markdown",
   "id": "813b2086-efa8-41c7-a5b3-5e1ae2728031",
   "metadata": {},
   "source": [
    "# Fetching chromosome data to explore background creation"
   ]
  },
  {
   "cell_type": "code",
   "execution_count": 3,
   "id": "9c6cd103-e89a-4963-9fa4-e8d24e2b54ea",
   "metadata": {},
   "outputs": [
    {
     "data": {
      "text/html": [
       "<div>\n",
       "<style scoped>\n",
       "    .dataframe tbody tr th:only-of-type {\n",
       "        vertical-align: middle;\n",
       "    }\n",
       "\n",
       "    .dataframe tbody tr th {\n",
       "        vertical-align: top;\n",
       "    }\n",
       "\n",
       "    .dataframe thead th {\n",
       "        text-align: right;\n",
       "    }\n",
       "</style>\n",
       "<table border=\"1\" class=\"dataframe\">\n",
       "  <thead>\n",
       "    <tr style=\"text-align: right;\">\n",
       "      <th></th>\n",
       "      <th>chrom</th>\n",
       "      <th>start</th>\n",
       "      <th>end</th>\n",
       "      <th>GC</th>\n",
       "    </tr>\n",
       "  </thead>\n",
       "  <tbody>\n",
       "    <tr>\n",
       "      <th>0</th>\n",
       "      <td>chr1</td>\n",
       "      <td>40415232</td>\n",
       "      <td>41725952</td>\n",
       "      <td>0.407777</td>\n",
       "    </tr>\n",
       "    <tr>\n",
       "      <th>1</th>\n",
       "      <td>chr1</td>\n",
       "      <td>42708992</td>\n",
       "      <td>44019712</td>\n",
       "      <td>0.424985</td>\n",
       "    </tr>\n",
       "    <tr>\n",
       "      <th>2</th>\n",
       "      <td>chr1</td>\n",
       "      <td>42053632</td>\n",
       "      <td>43364352</td>\n",
       "      <td>0.424847</td>\n",
       "    </tr>\n",
       "    <tr>\n",
       "      <th>3</th>\n",
       "      <td>chr1</td>\n",
       "      <td>41725952</td>\n",
       "      <td>43036672</td>\n",
       "      <td>0.411407</td>\n",
       "    </tr>\n",
       "    <tr>\n",
       "      <th>4</th>\n",
       "      <td>chr1</td>\n",
       "      <td>43036672</td>\n",
       "      <td>44347392</td>\n",
       "      <td>0.417725</td>\n",
       "    </tr>\n",
       "    <tr>\n",
       "      <th>...</th>\n",
       "      <td>...</td>\n",
       "      <td>...</td>\n",
       "      <td>...</td>\n",
       "      <td>...</td>\n",
       "    </tr>\n",
       "    <tr>\n",
       "      <th>6033</th>\n",
       "      <td>chrX</td>\n",
       "      <td>99241984</td>\n",
       "      <td>100552704</td>\n",
       "      <td>0.424162</td>\n",
       "    </tr>\n",
       "    <tr>\n",
       "      <th>6034</th>\n",
       "      <td>chrX</td>\n",
       "      <td>120532992</td>\n",
       "      <td>121843712</td>\n",
       "      <td>0.367963</td>\n",
       "    </tr>\n",
       "    <tr>\n",
       "      <th>6035</th>\n",
       "      <td>chrX</td>\n",
       "      <td>139360256</td>\n",
       "      <td>140670976</td>\n",
       "      <td>0.407839</td>\n",
       "    </tr>\n",
       "    <tr>\n",
       "      <th>6036</th>\n",
       "      <td>chrX</td>\n",
       "      <td>128737280</td>\n",
       "      <td>130048000</td>\n",
       "      <td>0.370827</td>\n",
       "    </tr>\n",
       "    <tr>\n",
       "      <th>6037</th>\n",
       "      <td>chrX</td>\n",
       "      <td>101535744</td>\n",
       "      <td>102846464</td>\n",
       "      <td>0.430301</td>\n",
       "    </tr>\n",
       "  </tbody>\n",
       "</table>\n",
       "<p>6038 rows × 4 columns</p>\n",
       "</div>"
      ],
      "text/plain": [
       "     chrom      start        end        GC\n",
       "0     chr1   40415232   41725952  0.407777\n",
       "1     chr1   42708992   44019712  0.424985\n",
       "2     chr1   42053632   43364352  0.424847\n",
       "3     chr1   41725952   43036672  0.411407\n",
       "4     chr1   43036672   44347392  0.417725\n",
       "...    ...        ...        ...       ...\n",
       "6033  chrX   99241984  100552704  0.424162\n",
       "6034  chrX  120532992  121843712  0.367963\n",
       "6035  chrX  139360256  140670976  0.407839\n",
       "6036  chrX  128737280  130048000  0.370827\n",
       "6037  chrX  101535744  102846464  0.430301\n",
       "\n",
       "[6038 rows x 4 columns]"
      ]
     },
     "execution_count": 3,
     "metadata": {},
     "output_type": "execute_result"
    }
   ],
   "source": [
    "chromsizes = bioframe.read_chromsizes('/project/fudenber_735/tensorflow_models/akita/v2/data/mm10/sequences.bed')\n",
    "dframe = pd.DataFrame(chromsizes)\n",
    "dframe['end'] = dframe['length']+ 1310720\n",
    "dframe = dframe.reset_index()\n",
    "dframe.rename(columns = {'index' : 'chrom', 'length':'start'}, inplace = True)\n",
    "df = bioframe.frac_gc(dframe, bioframe.load_fasta('/project/fudenber_735/genomes/mm10/mm10.fa'), return_input=True)\n",
    "\n",
    "df"
   ]
  },
  {
   "cell_type": "code",
   "execution_count": 4,
   "id": "65002b84-7a13-455e-b290-a893f4246508",
   "metadata": {},
   "outputs": [],
   "source": [
    "# df.iloc[6][['chrom','start','end','GC']]\n",
    "# plt.hist( df['GC'].values, 100);\n",
    "# np.percentile(df['GC'].dropna().values, np.linspace(1,99,50))"
   ]
  },
  {
   "cell_type": "markdown",
   "id": "e66a7411-5169-4011-aeb7-0a8067155ff9",
   "metadata": {},
   "source": [
    "# Generating a sample for down stream analysis basing on GC content"
   ]
  },
  {
   "cell_type": "code",
   "execution_count": 5,
   "id": "e4cf45c4-4b2d-4c1e-8b88-abcef8c719c7",
   "metadata": {},
   "outputs": [
    {
     "name": "stdout",
     "output_type": "stream",
     "text": [
      "Whole distribution: [0, 1, 3, 4, 6, 7, 8, 9, 10, 12, 13, 15, 16, 147, 19, 21, 22, 23, 24, 26, 28, 288, 33, 163, 35, 165, 38, 39, 171, 44, 45, 47, 303, 50, 567, 64, 65, 68, 329, 74, 77, 79, 85, 90, 102, 496, 119, 120, 122] \n",
      "\n",
      "Sampled datapoints: [3, 4, 6, 7, 8, 9, 10, 12]\n"
     ]
    }
   ],
   "source": [
    "super_set = []\n",
    "error = 0.001\n",
    "\n",
    "for gc in np.percentile(df['GC'].dropna().values, np.linspace(1,99,50)):\n",
    "    for i in range(df.shape[0]):\n",
    "        if gc-error <= df['GC'].values[i] <= gc+error:\n",
    "            super_set += [i]\n",
    "            break\n",
    "\n",
    "super_set = list(set(super_set)); print(f'Whole distribution: {super_set} \\n')\n",
    "sample_set = super_set[2:10]; print(f'Sampled datapoints: {sample_set}')\n",
    "new_dataframe = df.iloc[[ind for ind in set(sample_set)]] "
   ]
  },
  {
   "cell_type": "code",
   "execution_count": 6,
   "id": "95109e96-4d99-4542-ac06-aead38c14700",
   "metadata": {},
   "outputs": [],
   "source": []
  },
  {
   "cell_type": "markdown",
   "id": "c0460cd8-b589-47eb-b053-805c5e13d78c",
   "metadata": {},
   "source": [
    "# Focusing on the scores' distributions and time taken to obtain a success trial (with and without masking)"
   ]
  },
  {
   "cell_type": "code",
   "execution_count": 7,
   "id": "2be90373-955b-45b7-8a43-43d8108a8656",
   "metadata": {},
   "outputs": [
    {
     "name": "stderr",
     "output_type": "stream",
     "text": [
      "2022-12-04 20:24:38.731562: I tensorflow/compiler/mlir/mlir_graph_optimization_pass.cc:116] None of the MLIR optimization passes are enabled (registered 2)\n",
      "2022-12-04 20:24:38.732062: I tensorflow/core/platform/profile_utils/cpu_utils.cc:112] CPU Frequency: 2100000000 Hz\n",
      "/home1/kamulege/.conda/envs/basenji-gpu/lib/python3.8/site-packages/numpy/core/_methods.py:48: RuntimeWarning: overflow encountered in reduce\n",
      "  return umr_sum(a, axis, dtype, out, keepdims, initial, where)\n"
     ]
    },
    {
     "name": "stdout",
     "output_type": "stream",
     "text": [
      "**********************************\n",
      "**********************************\n"
     ]
    }
   ],
   "source": [
    "max_iters=10\n",
    "batch_size=6\n",
    "# score = 5500\n",
    "\n",
    "scores_storage_random_masking, flat_seqs_random_masking = mutation_search(    seqnn_model=seqnn_model,\n",
    "                                                    genome_fasta=genome_fasta,\n",
    "                                                    seq_length=seq_length,\n",
    "                                                    dataframe= new_dataframe,\n",
    "                                                    max_iters=max_iters,\n",
    "                                                    batch_size=batch_size,\n",
    "                                                    masking=0,timing = True)\n",
    "\n",
    "print('**********************************')\n",
    "\n",
    "scores_storage_motif_masking, flat_seqs_motif_masking = mutation_search(     seqnn_model=seqnn_model,\n",
    "                                                    genome_fasta=genome_fasta,\n",
    "                                                    seq_length=seq_length,\n",
    "                                                    dataframe= new_dataframe,\n",
    "                                                    max_iters=max_iters,\n",
    "                                                    batch_size=batch_size,\n",
    "                                                    masking=1,timing = True)\n",
    "\n",
    "print('**********************************')\n",
    "\n",
    "scores_storage_all_random, flat_seqs_no_mask = mutation_search(        seqnn_model=seqnn_model,\n",
    "                                                    genome_fasta=genome_fasta,\n",
    "                                                    seq_length=seq_length,\n",
    "                                                    dataframe= new_dataframe,\n",
    "                                                    max_iters=max_iters,\n",
    "                                                    batch_size=batch_size,timing = True)"
   ]
  },
  {
   "cell_type": "markdown",
   "id": "c2a069e5-365b-42f9-bbb0-af7a89018963",
   "metadata": {},
   "source": [
    "# Visualizing scores' distribution"
   ]
  },
  {
   "cell_type": "code",
   "execution_count": 8,
   "id": "88df25aa-355b-475a-ada9-f697fd5d8d99",
   "metadata": {},
   "outputs": [
    {
     "data": {
      "image/png": "[encoded data removed]",
      "text/plain": [
       "<Figure size 432x288 with 1 Axes>"
      ]
     },
     "metadata": {
      "needs_background": "light"
     },
     "output_type": "display_data"
    }
   ],
   "source": [
    "Y_1 = []\n",
    "Y_2 = []\n",
    "Y_3 = []\n",
    "\n",
    "for i in scores_storage_random_masking:\n",
    "    for j in scores_storage_random_masking[i]:\n",
    "        Y_1 += j.tolist()\n",
    "\n",
    "for i in scores_storage_motif_masking:\n",
    "    for j in scores_storage_motif_masking[i]:\n",
    "        Y_2 += j.tolist()        \n",
    "\n",
    "for i in scores_storage_all_random:\n",
    "    for j in scores_storage_all_random[i]:\n",
    "        Y_3 += j.tolist()\n",
    "        \n",
    "# print(scores_storage_motif_masking)\n",
    "\n",
    "kde_1 = pd.DataFrame(Y_1, columns=[\"score\"])\n",
    "kde_2 = pd.DataFrame(Y_2, columns=[\"score\"])\n",
    "kde_3 = pd.DataFrame(Y_3, columns=[\"score\"])\n",
    "sns.kdeplot(data=kde_1, x=\"score\", bw_adjust=.2, label='random motif masking', fill=True)  \n",
    "sns.kdeplot(data=kde_2, x=\"score\", bw_adjust=.2, label='manual motif masking', fill=True)    \n",
    "sns.kdeplot(data=kde_3, x=\"score\", bw_adjust=.2, label='all random', fill=True)    \n",
    "plt.legend()\n",
    "plt.show()"
   ]
  },
  {
   "cell_type": "markdown",
   "id": "c1a0d54d-e103-4e3e-ba3b-8af63850aedc",
   "metadata": {},
   "source": [
    "# Visualizing time taken to obtain a success trial with masking"
   ]
  },
  {
   "cell_type": "code",
   "execution_count": 9,
   "id": "6b3237ab-358e-4999-8b7f-d5d103cd8d9c",
   "metadata": {},
   "outputs": [
    {
     "name": "stdout",
     "output_type": "stream",
     "text": [
      "[63.85705828666687, 14.136460542678833, 79.89882063865662]\n"
     ]
    },
    {
     "data": {
      "image/png": "[encoded data removed]",
      "text/plain": [
       "<Figure size 432x288 with 1 Axes>"
      ]
     },
     "metadata": {
      "needs_background": "light"
     },
     "output_type": "display_data"
    }
   ],
   "source": [
    "print(flat_seqs_motif_masking)\n",
    "\n",
    "kde = pd.DataFrame(flat_seqs_no_mask, columns=[\"success time (s)\"])    \n",
    "sns.kdeplot(data=kde, x=\"success time (s)\", bw_adjust=.2, label='all random', fill=True)    \n",
    "\n",
    "kde = pd.DataFrame(flat_seqs_random_masking, columns=[\"success time (s)\"])    \n",
    "sns.kdeplot(data=kde, x=\"success time (s)\", bw_adjust=.2, label='manual motif mask', fill=True)  \n",
    "\n",
    "kde = pd.DataFrame(flat_seqs_motif_masking, columns=[\"success time (s)\"])    \n",
    "sns.kdeplot(data=kde, x=\"success time (s)\", bw_adjust=.2, label='random motif mask', fill=True)  \n",
    "\n",
    "plt.legend()\n",
    "plt.show()"
   ]
  },
  {
   "cell_type": "code",
   "execution_count": null,
   "id": "d8082111-6637-402f-9797-e0bd96e22243",
   "metadata": {},
   "outputs": [],
   "source": []
  }
 ],
 "metadata": {
  "kernelspec": {
   "display_name": "basenji-gpu",
   "language": "python",
   "name": "basenji-gpu"
  },
  "language_info": {
   "codemirror_mode": {
    "name": "ipython",
    "version": 3
   },
   "file_extension": ".py",
   "mimetype": "text/x-python",
   "name": "python",
   "nbconvert_exporter": "python",
   "pygments_lexer": "ipython3",
   "version": "3.8.0"
  }
 },
 "nbformat": 4,
 "nbformat_minor": 5
}
