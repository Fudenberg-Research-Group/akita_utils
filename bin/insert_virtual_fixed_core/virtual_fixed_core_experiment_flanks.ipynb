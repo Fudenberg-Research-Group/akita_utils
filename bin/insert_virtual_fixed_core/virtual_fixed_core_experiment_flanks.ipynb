{
 "cells": [
  {
   "cell_type": "code",
   "execution_count": 1,
   "id": "e688f52e-ef52-4143-aba0-6663442b912c",
   "metadata": {},
   "outputs": [
    {
     "name": "stderr",
     "output_type": "stream",
     "text": [
      "2022-12-16 04:01:33.574779: W tensorflow/stream_executor/platform/default/dso_loader.cc:64] Could not load dynamic library 'libcudart.so.11.0'; dlerror: libcudart.so.11.0: cannot open shared object file: No such file or directory; LD_LIBRARY_PATH: :/home1/smaruj/software/GSL/lib:/home1/smaruj/software/HTSLIB/lib\n",
      "2022-12-16 04:01:33.574820: I tensorflow/stream_executor/cuda/cudart_stub.cc:29] Ignore above cudart dlerror if you do not have a GPU set up on your machine.\n"
     ]
    }
   ],
   "source": [
    "from akita_utils.dna_utils import hot1_rc, dna_1hot\n",
    "import numpy as np\n",
    "import pandas as pd\n",
    "import pysam"
   ]
  },
  {
   "cell_type": "code",
   "execution_count": 2,
   "id": "c84c48a6-eee8-4d5a-adeb-db6b78ee0dd4",
   "metadata": {},
   "outputs": [],
   "source": [
    "from akita_utils.seq_gens import _insert_casette"
   ]
  },
  {
   "cell_type": "code",
   "execution_count": 3,
   "id": "a621bb4d-4912-460f-8e25-b25c3eb90767",
   "metadata": {},
   "outputs": [],
   "source": [
    "from basenji import seqnn, stream, dna_io"
   ]
  },
  {
   "cell_type": "code",
   "execution_count": 4,
   "id": "4ce63dce-2a87-4b43-b0a0-3738412d0a0a",
   "metadata": {},
   "outputs": [],
   "source": [
    "background_file = \"/project/fudenber_735/tensorflow_models/akita/v2/analysis/background_seqs.fa\""
   ]
  },
  {
   "cell_type": "code",
   "execution_count": 5,
   "id": "e7be15a8-8421-4381-a2bc-e325b89c8351",
   "metadata": {},
   "outputs": [],
   "source": [
    "genome_fasta = \"/project/fudenber_735/genomes/mm10/mm10.fa\""
   ]
  },
  {
   "cell_type": "code",
   "execution_count": null,
   "id": "5e22716b-83f0-4d1d-867f-0d26a4a1a2dc",
   "metadata": {},
   "outputs": [],
   "source": [
    "genome_open = pysam.Fastafile(genome_fasta)"
   ]
  },
  {
   "cell_type": "code",
   "execution_count": null,
   "id": "d3485724-d332-4f58-a5bf-f531d6e21cae",
   "metadata": {},
   "outputs": [],
   "source": [
    "seq_coords_df = pd.read_csv(\"./test.tsv\", sep=\"\\t\")"
   ]
  },
  {
   "cell_type": "code",
   "execution_count": null,
   "id": "e79b67ba-2416-4093-b87b-2dba0256bed2",
   "metadata": {},
   "outputs": [],
   "source": [
    "background_seqs = []\n",
    "with open(background_file, \"r\") as f:\n",
    "    for line in f.readlines():\n",
    "        if \">\" in line:\n",
    "            continue\n",
    "        background_seqs.append(dna_io.dna_1hot(line.strip()))\n",
    "num_insert_backgrounds = seq_coords_df[\"background_index\"].max()\n",
    "if len(background_seqs) < num_insert_backgrounds:\n",
    "    raise ValueError(\n",
    "        \"must provide a background file with at least as many\"\n",
    "        + \"backgrounds as those specified in the insert seq_coords tsv.\"\n",
    "        + \"\\nThe provided background file has {len(background_seqs)} sequences.\"\n",
    "    )"
   ]
  },
  {
   "cell_type": "code",
   "execution_count": null,
   "id": "1bac1320-4de7-407f-8dce-312429798213",
   "metadata": {},
   "outputs": [],
   "source": [
    "seq_coords_df = seq_coords_df.head(500).tail(10)"
   ]
  },
  {
   "cell_type": "code",
   "execution_count": null,
   "id": "f1935fa6-7107-44a7-9ae6-ebb6d9a10312",
   "metadata": {},
   "outputs": [],
   "source": [
    "seq_coords_df"
   ]
  },
  {
   "cell_type": "code",
   "execution_count": null,
   "id": "56438da2-c485-4816-8a75-e348b85115f6",
   "metadata": {},
   "outputs": [],
   "source": [
    "def split_concat_to_integers(concat_string):\n",
    "    return [int(i) for i in concat_string.split(\",\")]"
   ]
  },
  {
   "cell_type": "code",
   "execution_count": null,
   "id": "5a8c6e56-fa26-4de7-997b-0afce746373f",
   "metadata": {},
   "outputs": [],
   "source": [
    "def split_concat_to_strings(concat_string):\n",
    "    return [i for i in concat_string.split(\",\")]"
   ]
  },
  {
   "cell_type": "code",
   "execution_count": null,
   "id": "11249ba2-4d77-40f2-988f-29e122e0756f",
   "metadata": {},
   "outputs": [],
   "source": [
    "12 + 19 + 12"
   ]
  },
  {
   "cell_type": "code",
   "execution_count": null,
   "id": "c49ba1e1-752e-47da-a421-0fb9032f7432",
   "metadata": {},
   "outputs": [],
   "source": [
    "def fixed_core_insertion_seqs_gen(seq_coords_df, background_seqs, genome_open)\n",
    "    \n",
    "    for s in seq_coords_df.itertuples():\n",
    "    \n",
    "        flank_bp = s.flank_bp\n",
    "        spacer_bp = s.spacer_bp\n",
    "        orientation_string = s.orientation\n",
    "\n",
    "        core_chrom, flank_chrom = split_concat_to_strings(s.chrom)\n",
    "        core_start, flank_start = split_concat_to_integers(s.start)\n",
    "        core_end, flank_end = split_concat_to_integers(s.end)\n",
    "        core_strand, flank_strand = split_concat_to_strings(s.strand)\n",
    "\n",
    "        # getting flank motif\n",
    "        seq_1hot_flank = dna_1hot(genome_open.fetch(flank_chrom, flank_start - flank_bp, flank_end + flank_bp).upper())\n",
    "        if flank_strand == \"-\":\n",
    "            seq_1hot_flank = hot1_rc(seq_1hot_flank)\n",
    "\n",
    "        seq_1hot_flank_left = seq_1hot_flank[:flank_bp,:]\n",
    "        seq_1hot_flank_right = seq_1hot_flank[-flank_bp:,:]\n",
    "\n",
    "        # getting core motif\n",
    "        seq_1hot_core = dna_1hot(genome_open.fetch(core_chrom, core_start, core_end).upper())\n",
    "        if core_strand == \"-\":\n",
    "            seq_1hot_core = hot1_rc(seq_1hot_core)\n",
    "\n",
    "        # joining all the chunks together\n",
    "        seq_1hot_insertion = np.concatenate((seq_1hot_flank_left, seq_1hot_core, seq_1hot_flank_right), axis=0)\n",
    "\n",
    "        seq_1hot = background_seqs[s.background_index].copy()\n",
    "\n",
    "        seq_1hot = _insert_casette(seq_1hot, seq_1hot_insertion, spacer_bp, orientation_string)\n",
    "\n",
    "        yield seq_1hot\n",
    "    "
   ]
  },
  {
   "cell_type": "code",
   "execution_count": null,
   "id": "cb030ece-5727-4ecb-862a-a6b07fe75f7d",
   "metadata": {},
   "outputs": [],
   "source": []
  }
 ],
 "metadata": {
  "kernelspec": {
   "display_name": "Basenji kernel",
   "language": "python",
   "name": "basenji_kernel"
  },
  "language_info": {
   "codemirror_mode": {
    "name": "ipython",
    "version": 3
   },
   "file_extension": ".py",
   "mimetype": "text/x-python",
   "name": "python",
   "nbconvert_exporter": "python",
   "pygments_lexer": "ipython3",
   "version": "3.8.12"
  }
 },
 "nbformat": 4,
 "nbformat_minor": 5
}
