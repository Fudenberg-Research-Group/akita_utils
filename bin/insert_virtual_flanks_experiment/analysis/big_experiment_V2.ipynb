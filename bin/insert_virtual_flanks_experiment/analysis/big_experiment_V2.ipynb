{
 "cells": [
  {
   "cell_type": "code",
   "execution_count": 1,
   "id": "2de230c7-4e3f-48a4-8b3a-1d0ecfa691a8",
   "metadata": {},
   "outputs": [
    {
     "name": "stderr",
     "output_type": "stream",
     "text": [
      "2022-10-07 10:05:57.278422: W tensorflow/stream_executor/platform/default/dso_loader.cc:64] Could not load dynamic library 'libcudart.so.11.0'; dlerror: libcudart.so.11.0: cannot open shared object file: No such file or directory; LD_LIBRARY_PATH: /spack/apps/linux-centos7-x86_64/gcc-8.3.0/python-3.9.2-uvcroioc4witkp6qf7mbebof5ix4wlb6/lib:/spack/apps/linux-centos7-x86_64/gcc-8.3.0/pmix-3.1.3-3sm6emyqaxapunh7rwbjvtaqoqe2e5z3/lib:/spack/apps/linux-centos7-x86_64/gcc-8.3.0/openmpi-4.0.2-ipm3dnvlbtxawpi4ifz7jma6jgr7mexq/lib:/spack/apps/linux-centos7-x86_64/gcc-8.3.0/openblas-0.3.8-2no6mfziiclwxb7lstxoos335gnhjpes/lib:/spack/apps/gcc/8.3.0/lib64::/home1/smaruj/software/GSL/lib:/home1/smaruj/software/HTSLIB/lib\n",
      "2022-10-07 10:05:57.278476: I tensorflow/stream_executor/cuda/cudart_stub.cc:29] Ignore above cudart dlerror if you do not have a GPU set up on your machine.\n"
     ]
    }
   ],
   "source": [
    "import bioframe\n",
    "import pandas as pd\n",
    "import numpy as np\n",
    "import tensorflow as tf\n",
    "from basenji import dna_io\n",
    "import akita_utils\n",
    "\n",
    "import matplotlib.pyplot as plt"
   ]
  },
  {
   "cell_type": "code",
   "execution_count": 31,
   "id": "653b0585-709f-4bf9-b2e1-08cc27bf5388",
   "metadata": {},
   "outputs": [
    {
     "data": {
      "text/plain": [
       "'1.4.2'"
      ]
     },
     "execution_count": 31,
     "metadata": {},
     "output_type": "execute_result"
    }
   ],
   "source": [
    "pd.__version__"
   ]
  },
  {
   "cell_type": "code",
   "execution_count": 2,
   "id": "8a30e3d0-0c35-4254-aba9-51f617faebbc",
   "metadata": {},
   "outputs": [],
   "source": [
    "folder = \"/home1/smaruj/akita_utils/bin/insert_virtual_flanks_experiment/data/\"\n",
    "\n",
    "left_filename = \"big_left.h5\"               #orientation \"<<\"\n",
    "right_filename = \"big_right.h5\"             #orientation \">>\"\n",
    "convergent_filename = \"big_convergent.h5\"   #orientation \"><\"\n",
    "divergent_filename = \"big_divergent.h5\"     #orientation \"<>\"\n",
    "\n",
    "scd_stats = [\"SCD\", \"INS-16\", \"INS-64\", \"INS-256\"]"
   ]
  },
  {
   "cell_type": "code",
   "execution_count": 3,
   "id": "b0b35eff-6378-4b9f-85e1-f14a0b5e8369",
   "metadata": {},
   "outputs": [],
   "source": [
    "left_df = akita_utils.h5_to_df(folder + left_filename, scd_stats, drop_duplicates_key=None)\n",
    "right_df = akita_utils.h5_to_df(folder + right_filename, scd_stats, drop_duplicates_key=None)\n",
    "convergent_df = akita_utils.h5_to_df(folder + convergent_filename, scd_stats, drop_duplicates_key=None)\n",
    "divergent_df = akita_utils.h5_to_df(folder + divergent_filename, scd_stats, drop_duplicates_key=None)"
   ]
  },
  {
   "cell_type": "code",
   "execution_count": 4,
   "id": "095b8190-13fd-4044-b446-24cb33094421",
   "metadata": {},
   "outputs": [],
   "source": [
    "frames = [left_df, right_df, convergent_df, divergent_df]\n",
    "\n",
    "df = pd.concat(frames)"
   ]
  },
  {
   "cell_type": "code",
   "execution_count": 5,
   "id": "248eb0df-8a5d-476b-9154-7d787ba92090",
   "metadata": {},
   "outputs": [],
   "source": [
    "is_strong = lambda x : True if (x > 20) else False\n",
    "\n",
    "df[\"strong\"] = df[\"genomic_SCD\"].apply(is_strong)"
   ]
  },
  {
   "cell_type": "code",
   "execution_count": 6,
   "id": "1bd9de36-eb83-4c0c-98e8-1eb734e5ca1d",
   "metadata": {},
   "outputs": [],
   "source": [
    "def average_over_targets(dataframe, stat, mouse=True, model=1):\n",
    "    \n",
    "    num_targets = 6\n",
    "    if not mouse:\n",
    "        num_targets = 5\n",
    "    \n",
    "    collist = [stat + f\"_h{int(mouse)}_m{model}_t{i}\" for i in range(num_targets)]\n",
    "    \n",
    "    dataframe[f\"{stat}_average\"] = dataframe[collist].mean(axis=1)\n",
    "    \n",
    "    return dataframe\n",
    "    "
   ]
  },
  {
   "cell_type": "code",
   "execution_count": 7,
   "id": "c3b64f95-f5b9-4c68-b769-b2a63f72b918",
   "metadata": {},
   "outputs": [],
   "source": [
    "for stat in [\"SCD\", \"INS-16\", \"INS-64\", \"INS-256\"]:\n",
    "    df = average_over_targets(df, stat)"
   ]
  },
  {
   "cell_type": "code",
   "execution_count": 44,
   "id": "0f15171b-65d6-4410-9b32-12685baa65b9",
   "metadata": {},
   "outputs": [
    {
     "data": {
      "text/html": [
       "<div>\n",
       "<style scoped>\n",
       "    .dataframe tbody tr th:only-of-type {\n",
       "        vertical-align: middle;\n",
       "    }\n",
       "\n",
       "    .dataframe tbody tr th {\n",
       "        vertical-align: top;\n",
       "    }\n",
       "\n",
       "    .dataframe thead th {\n",
       "        text-align: right;\n",
       "    }\n",
       "</style>\n",
       "<table border=\"1\" class=\"dataframe\">\n",
       "  <thead>\n",
       "    <tr style=\"text-align: right;\">\n",
       "      <th></th>\n",
       "      <th>orientation</th>\n",
       "      <th>background_index</th>\n",
       "      <th>SCD_average</th>\n",
       "    </tr>\n",
       "  </thead>\n",
       "  <tbody>\n",
       "    <tr>\n",
       "      <th>0</th>\n",
       "      <td>&lt;&lt;</td>\n",
       "      <td>0</td>\n",
       "      <td>49.87500</td>\n",
       "    </tr>\n",
       "    <tr>\n",
       "      <th>1</th>\n",
       "      <td>&lt;&lt;</td>\n",
       "      <td>1</td>\n",
       "      <td>47.00000</td>\n",
       "    </tr>\n",
       "    <tr>\n",
       "      <th>2</th>\n",
       "      <td>&lt;&lt;</td>\n",
       "      <td>2</td>\n",
       "      <td>45.18750</td>\n",
       "    </tr>\n",
       "    <tr>\n",
       "      <th>3</th>\n",
       "      <td>&lt;&gt;</td>\n",
       "      <td>0</td>\n",
       "      <td>47.40625</td>\n",
       "    </tr>\n",
       "    <tr>\n",
       "      <th>4</th>\n",
       "      <td>&lt;&gt;</td>\n",
       "      <td>1</td>\n",
       "      <td>47.00000</td>\n",
       "    </tr>\n",
       "    <tr>\n",
       "      <th>5</th>\n",
       "      <td>&lt;&gt;</td>\n",
       "      <td>2</td>\n",
       "      <td>44.46875</td>\n",
       "    </tr>\n",
       "    <tr>\n",
       "      <th>6</th>\n",
       "      <td>&gt;&lt;</td>\n",
       "      <td>0</td>\n",
       "      <td>47.71875</td>\n",
       "    </tr>\n",
       "    <tr>\n",
       "      <th>7</th>\n",
       "      <td>&gt;&lt;</td>\n",
       "      <td>1</td>\n",
       "      <td>46.62500</td>\n",
       "    </tr>\n",
       "    <tr>\n",
       "      <th>8</th>\n",
       "      <td>&gt;&lt;</td>\n",
       "      <td>2</td>\n",
       "      <td>43.68750</td>\n",
       "    </tr>\n",
       "    <tr>\n",
       "      <th>9</th>\n",
       "      <td>&gt;&gt;</td>\n",
       "      <td>0</td>\n",
       "      <td>45.71875</td>\n",
       "    </tr>\n",
       "    <tr>\n",
       "      <th>10</th>\n",
       "      <td>&gt;&gt;</td>\n",
       "      <td>1</td>\n",
       "      <td>48.31250</td>\n",
       "    </tr>\n",
       "    <tr>\n",
       "      <th>11</th>\n",
       "      <td>&gt;&gt;</td>\n",
       "      <td>2</td>\n",
       "      <td>43.81250</td>\n",
       "    </tr>\n",
       "  </tbody>\n",
       "</table>\n",
       "</div>"
      ],
      "text/plain": [
       "   orientation  background_index  SCD_average\n",
       "0           <<                 0     49.87500\n",
       "1           <<                 1     47.00000\n",
       "2           <<                 2     45.18750\n",
       "3           <>                 0     47.40625\n",
       "4           <>                 1     47.00000\n",
       "5           <>                 2     44.46875\n",
       "6           ><                 0     47.71875\n",
       "7           ><                 1     46.62500\n",
       "8           ><                 2     43.68750\n",
       "9           >>                 0     45.71875\n",
       "10          >>                 1     48.31250\n",
       "11          >>                 2     43.81250"
      ]
     },
     "execution_count": 44,
     "metadata": {},
     "output_type": "execute_result"
    }
   ],
   "source": [
    "df.groupby([\"orientation\", \"background_index\"]).agg({\"SCD_average\": \"mean\"}).reset_index()"
   ]
  },
  {
   "cell_type": "code",
   "execution_count": 19,
   "id": "0cd1df59-b4ef-40b8-9ed7-a0da1fc89c67",
   "metadata": {},
   "outputs": [
    {
     "data": {
      "text/plain": [
       "MultiIndex([('SCD_average', 'mean'),\n",
       "            ('SCD_average',  'min'),\n",
       "            ('SCD_average',  'max')],\n",
       "           )"
      ]
     },
     "execution_count": 19,
     "metadata": {},
     "output_type": "execute_result"
    }
   ],
   "source": [
    "df.groupby([\"background_index\", \"orientation\"]).agg({\"SCD_average\": [\"mean\", \"min\", \"max\"]}).columns"
   ]
  },
  {
   "cell_type": "code",
   "execution_count": 26,
   "id": "08e1cb82-8ce6-4033-9d2d-c888d8a9321e",
   "metadata": {},
   "outputs": [
    {
     "data": {
      "text/html": [
       "<div>\n",
       "<style scoped>\n",
       "    .dataframe tbody tr th:only-of-type {\n",
       "        vertical-align: middle;\n",
       "    }\n",
       "\n",
       "    .dataframe tbody tr th {\n",
       "        vertical-align: top;\n",
       "    }\n",
       "\n",
       "    .dataframe thead tr th {\n",
       "        text-align: left;\n",
       "    }\n",
       "</style>\n",
       "<table border=\"1\" class=\"dataframe\">\n",
       "  <thead>\n",
       "    <tr>\n",
       "      <th></th>\n",
       "      <th>background_index</th>\n",
       "      <th>orientation</th>\n",
       "      <th colspan=\"3\" halign=\"left\">SCD_average</th>\n",
       "    </tr>\n",
       "    <tr>\n",
       "      <th></th>\n",
       "      <th></th>\n",
       "      <th></th>\n",
       "      <th>mean</th>\n",
       "      <th>min</th>\n",
       "      <th>max</th>\n",
       "    </tr>\n",
       "  </thead>\n",
       "  <tbody>\n",
       "    <tr>\n",
       "      <th>0</th>\n",
       "      <td>0</td>\n",
       "      <td>&lt;&lt;</td>\n",
       "      <td>49.87500</td>\n",
       "      <td>37.75000</td>\n",
       "      <td>109.1875</td>\n",
       "    </tr>\n",
       "    <tr>\n",
       "      <th>1</th>\n",
       "      <td>0</td>\n",
       "      <td>&lt;&gt;</td>\n",
       "      <td>47.40625</td>\n",
       "      <td>37.40625</td>\n",
       "      <td>94.8125</td>\n",
       "    </tr>\n",
       "    <tr>\n",
       "      <th>2</th>\n",
       "      <td>0</td>\n",
       "      <td>&gt;&lt;</td>\n",
       "      <td>47.71875</td>\n",
       "      <td>37.40625</td>\n",
       "      <td>98.0625</td>\n",
       "    </tr>\n",
       "    <tr>\n",
       "      <th>3</th>\n",
       "      <td>0</td>\n",
       "      <td>&gt;&gt;</td>\n",
       "      <td>45.71875</td>\n",
       "      <td>37.37500</td>\n",
       "      <td>83.1250</td>\n",
       "    </tr>\n",
       "    <tr>\n",
       "      <th>4</th>\n",
       "      <td>1</td>\n",
       "      <td>&lt;&lt;</td>\n",
       "      <td>47.00000</td>\n",
       "      <td>38.75000</td>\n",
       "      <td>92.5000</td>\n",
       "    </tr>\n",
       "    <tr>\n",
       "      <th>5</th>\n",
       "      <td>1</td>\n",
       "      <td>&lt;&gt;</td>\n",
       "      <td>47.00000</td>\n",
       "      <td>38.75000</td>\n",
       "      <td>95.5625</td>\n",
       "    </tr>\n",
       "    <tr>\n",
       "      <th>6</th>\n",
       "      <td>1</td>\n",
       "      <td>&gt;&lt;</td>\n",
       "      <td>46.62500</td>\n",
       "      <td>38.78125</td>\n",
       "      <td>89.1875</td>\n",
       "    </tr>\n",
       "    <tr>\n",
       "      <th>7</th>\n",
       "      <td>1</td>\n",
       "      <td>&gt;&gt;</td>\n",
       "      <td>48.31250</td>\n",
       "      <td>38.81250</td>\n",
       "      <td>101.6875</td>\n",
       "    </tr>\n",
       "    <tr>\n",
       "      <th>8</th>\n",
       "      <td>2</td>\n",
       "      <td>&lt;&lt;</td>\n",
       "      <td>45.18750</td>\n",
       "      <td>38.84375</td>\n",
       "      <td>82.0625</td>\n",
       "    </tr>\n",
       "    <tr>\n",
       "      <th>9</th>\n",
       "      <td>2</td>\n",
       "      <td>&lt;&gt;</td>\n",
       "      <td>44.46875</td>\n",
       "      <td>38.75000</td>\n",
       "      <td>80.0000</td>\n",
       "    </tr>\n",
       "    <tr>\n",
       "      <th>10</th>\n",
       "      <td>2</td>\n",
       "      <td>&gt;&lt;</td>\n",
       "      <td>43.68750</td>\n",
       "      <td>38.84375</td>\n",
       "      <td>75.4375</td>\n",
       "    </tr>\n",
       "    <tr>\n",
       "      <th>11</th>\n",
       "      <td>2</td>\n",
       "      <td>&gt;&gt;</td>\n",
       "      <td>43.81250</td>\n",
       "      <td>38.65625</td>\n",
       "      <td>74.7500</td>\n",
       "    </tr>\n",
       "  </tbody>\n",
       "</table>\n",
       "</div>"
      ],
      "text/plain": [
       "   background_index orientation SCD_average                    \n",
       "                                       mean       min       max\n",
       "0                 0          <<    49.87500  37.75000  109.1875\n",
       "1                 0          <>    47.40625  37.40625   94.8125\n",
       "2                 0          ><    47.71875  37.40625   98.0625\n",
       "3                 0          >>    45.71875  37.37500   83.1250\n",
       "4                 1          <<    47.00000  38.75000   92.5000\n",
       "5                 1          <>    47.00000  38.75000   95.5625\n",
       "6                 1          ><    46.62500  38.78125   89.1875\n",
       "7                 1          >>    48.31250  38.81250  101.6875\n",
       "8                 2          <<    45.18750  38.84375   82.0625\n",
       "9                 2          <>    44.46875  38.75000   80.0000\n",
       "10                2          ><    43.68750  38.84375   75.4375\n",
       "11                2          >>    43.81250  38.65625   74.7500"
      ]
     },
     "execution_count": 26,
     "metadata": {},
     "output_type": "execute_result"
    }
   ],
   "source": [
    "df.groupby([\"background_index\", \"orientation\"]).agg({\"SCD_average\": [\"mean\", \"min\", \"max\"]}).reset_index()"
   ]
  },
  {
   "cell_type": "code",
   "execution_count": 37,
   "id": "a1d8be67-037a-4e9b-9c19-2f2b3c66f644",
   "metadata": {},
   "outputs": [
    {
     "data": {
      "text/html": [
       "<div>\n",
       "<style scoped>\n",
       "    .dataframe tbody tr th:only-of-type {\n",
       "        vertical-align: middle;\n",
       "    }\n",
       "\n",
       "    .dataframe tbody tr th {\n",
       "        vertical-align: top;\n",
       "    }\n",
       "\n",
       "    .dataframe thead tr th {\n",
       "        text-align: left;\n",
       "    }\n",
       "</style>\n",
       "<table border=\"1\" class=\"dataframe\">\n",
       "  <thead>\n",
       "    <tr>\n",
       "      <th></th>\n",
       "      <th>background_index</th>\n",
       "      <th>orientation</th>\n",
       "      <th colspan=\"3\" halign=\"left\">SCD_average</th>\n",
       "    </tr>\n",
       "    <tr>\n",
       "      <th></th>\n",
       "      <th></th>\n",
       "      <th></th>\n",
       "      <th>mean</th>\n",
       "      <th>min</th>\n",
       "      <th>max</th>\n",
       "    </tr>\n",
       "  </thead>\n",
       "  <tbody>\n",
       "    <tr>\n",
       "      <th>0</th>\n",
       "      <td>0</td>\n",
       "      <td>&lt;&lt;</td>\n",
       "      <td>49.87500</td>\n",
       "      <td>37.75000</td>\n",
       "      <td>109.1875</td>\n",
       "    </tr>\n",
       "    <tr>\n",
       "      <th>1</th>\n",
       "      <td>0</td>\n",
       "      <td>&lt;&gt;</td>\n",
       "      <td>47.40625</td>\n",
       "      <td>37.40625</td>\n",
       "      <td>94.8125</td>\n",
       "    </tr>\n",
       "    <tr>\n",
       "      <th>2</th>\n",
       "      <td>0</td>\n",
       "      <td>&gt;&lt;</td>\n",
       "      <td>47.71875</td>\n",
       "      <td>37.40625</td>\n",
       "      <td>98.0625</td>\n",
       "    </tr>\n",
       "    <tr>\n",
       "      <th>3</th>\n",
       "      <td>0</td>\n",
       "      <td>&gt;&gt;</td>\n",
       "      <td>45.71875</td>\n",
       "      <td>37.37500</td>\n",
       "      <td>83.1250</td>\n",
       "    </tr>\n",
       "    <tr>\n",
       "      <th>4</th>\n",
       "      <td>1</td>\n",
       "      <td>&lt;&lt;</td>\n",
       "      <td>47.00000</td>\n",
       "      <td>38.75000</td>\n",
       "      <td>92.5000</td>\n",
       "    </tr>\n",
       "    <tr>\n",
       "      <th>5</th>\n",
       "      <td>1</td>\n",
       "      <td>&lt;&gt;</td>\n",
       "      <td>47.00000</td>\n",
       "      <td>38.75000</td>\n",
       "      <td>95.5625</td>\n",
       "    </tr>\n",
       "    <tr>\n",
       "      <th>6</th>\n",
       "      <td>1</td>\n",
       "      <td>&gt;&lt;</td>\n",
       "      <td>46.62500</td>\n",
       "      <td>38.78125</td>\n",
       "      <td>89.1875</td>\n",
       "    </tr>\n",
       "    <tr>\n",
       "      <th>7</th>\n",
       "      <td>1</td>\n",
       "      <td>&gt;&gt;</td>\n",
       "      <td>48.31250</td>\n",
       "      <td>38.81250</td>\n",
       "      <td>101.6875</td>\n",
       "    </tr>\n",
       "    <tr>\n",
       "      <th>8</th>\n",
       "      <td>2</td>\n",
       "      <td>&lt;&lt;</td>\n",
       "      <td>45.18750</td>\n",
       "      <td>38.84375</td>\n",
       "      <td>82.0625</td>\n",
       "    </tr>\n",
       "    <tr>\n",
       "      <th>9</th>\n",
       "      <td>2</td>\n",
       "      <td>&lt;&gt;</td>\n",
       "      <td>44.46875</td>\n",
       "      <td>38.75000</td>\n",
       "      <td>80.0000</td>\n",
       "    </tr>\n",
       "    <tr>\n",
       "      <th>10</th>\n",
       "      <td>2</td>\n",
       "      <td>&gt;&lt;</td>\n",
       "      <td>43.68750</td>\n",
       "      <td>38.84375</td>\n",
       "      <td>75.4375</td>\n",
       "    </tr>\n",
       "    <tr>\n",
       "      <th>11</th>\n",
       "      <td>2</td>\n",
       "      <td>&gt;&gt;</td>\n",
       "      <td>43.81250</td>\n",
       "      <td>38.65625</td>\n",
       "      <td>74.7500</td>\n",
       "    </tr>\n",
       "  </tbody>\n",
       "</table>\n",
       "</div>"
      ],
      "text/plain": [
       "   background_index orientation SCD_average                    \n",
       "                                       mean       min       max\n",
       "0                 0          <<    49.87500  37.75000  109.1875\n",
       "1                 0          <>    47.40625  37.40625   94.8125\n",
       "2                 0          ><    47.71875  37.40625   98.0625\n",
       "3                 0          >>    45.71875  37.37500   83.1250\n",
       "4                 1          <<    47.00000  38.75000   92.5000\n",
       "5                 1          <>    47.00000  38.75000   95.5625\n",
       "6                 1          ><    46.62500  38.78125   89.1875\n",
       "7                 1          >>    48.31250  38.81250  101.6875\n",
       "8                 2          <<    45.18750  38.84375   82.0625\n",
       "9                 2          <>    44.46875  38.75000   80.0000\n",
       "10                2          ><    43.68750  38.84375   75.4375\n",
       "11                2          >>    43.81250  38.65625   74.7500"
      ]
     },
     "execution_count": 37,
     "metadata": {},
     "output_type": "execute_result"
    }
   ],
   "source": [
    "df.groupby([\"background_index\", \"orientation\"]).agg({\"SCD_average\": [\"mean\", \"min\", \"max\"]}).reset_index()"
   ]
  },
  {
   "cell_type": "code",
   "execution_count": 41,
   "id": "b0f5e168-ddcc-44b6-a812-d5fa7cfbe56d",
   "metadata": {},
   "outputs": [
    {
     "ename": "AttributeError",
     "evalue": "'DataFrame' object has no attribute 'drop_levels'",
     "output_type": "error",
     "traceback": [
      "\u001b[0;31m---------------------------------------------------------------------------\u001b[0m",
      "\u001b[0;31mAttributeError\u001b[0m                            Traceback (most recent call last)",
      "Input \u001b[0;32mIn [41]\u001b[0m, in \u001b[0;36m<cell line: 1>\u001b[0;34m()\u001b[0m\n\u001b[0;32m----> 1\u001b[0m \u001b[43mdf\u001b[49m\u001b[38;5;241;43m.\u001b[39;49m\u001b[43mgroupby\u001b[49m\u001b[43m(\u001b[49m\u001b[43m[\u001b[49m\u001b[38;5;124;43m\"\u001b[39;49m\u001b[38;5;124;43mbackground_index\u001b[39;49m\u001b[38;5;124;43m\"\u001b[39;49m\u001b[43m,\u001b[49m\u001b[43m \u001b[49m\u001b[38;5;124;43m\"\u001b[39;49m\u001b[38;5;124;43morientation\u001b[39;49m\u001b[38;5;124;43m\"\u001b[39;49m\u001b[43m]\u001b[49m\u001b[43m)\u001b[49m\u001b[38;5;241;43m.\u001b[39;49m\u001b[43magg\u001b[49m\u001b[43m(\u001b[49m\u001b[43m{\u001b[49m\u001b[38;5;124;43m\"\u001b[39;49m\u001b[38;5;124;43mSCD_average\u001b[39;49m\u001b[38;5;124;43m\"\u001b[39;49m\u001b[43m:\u001b[49m\u001b[43m \u001b[49m\u001b[43m[\u001b[49m\u001b[38;5;124;43m\"\u001b[39;49m\u001b[38;5;124;43mmean\u001b[39;49m\u001b[38;5;124;43m\"\u001b[39;49m\u001b[43m,\u001b[49m\u001b[43m \u001b[49m\u001b[38;5;124;43m\"\u001b[39;49m\u001b[38;5;124;43mmin\u001b[39;49m\u001b[38;5;124;43m\"\u001b[39;49m\u001b[43m,\u001b[49m\u001b[43m \u001b[49m\u001b[38;5;124;43m\"\u001b[39;49m\u001b[38;5;124;43mmax\u001b[39;49m\u001b[38;5;124;43m\"\u001b[39;49m\u001b[43m]\u001b[49m\u001b[43m}\u001b[49m\u001b[43m)\u001b[49m\u001b[38;5;241;43m.\u001b[39;49m\u001b[43mreset_index\u001b[49m\u001b[43m(\u001b[49m\u001b[43m)\u001b[49m\u001b[38;5;241;43m.\u001b[39;49m\u001b[43mdrop_levels\u001b[49m(\u001b[38;5;241m0\u001b[39m)\n",
      "File \u001b[0;32m~/miniconda3/envs/basenji/lib/python3.8/site-packages/pandas/core/generic.py:5575\u001b[0m, in \u001b[0;36mNDFrame.__getattr__\u001b[0;34m(self, name)\u001b[0m\n\u001b[1;32m   5568\u001b[0m \u001b[38;5;28;01mif\u001b[39;00m (\n\u001b[1;32m   5569\u001b[0m     name \u001b[38;5;129;01mnot\u001b[39;00m \u001b[38;5;129;01min\u001b[39;00m \u001b[38;5;28mself\u001b[39m\u001b[38;5;241m.\u001b[39m_internal_names_set\n\u001b[1;32m   5570\u001b[0m     \u001b[38;5;129;01mand\u001b[39;00m name \u001b[38;5;129;01mnot\u001b[39;00m \u001b[38;5;129;01min\u001b[39;00m \u001b[38;5;28mself\u001b[39m\u001b[38;5;241m.\u001b[39m_metadata\n\u001b[1;32m   5571\u001b[0m     \u001b[38;5;129;01mand\u001b[39;00m name \u001b[38;5;129;01mnot\u001b[39;00m \u001b[38;5;129;01min\u001b[39;00m \u001b[38;5;28mself\u001b[39m\u001b[38;5;241m.\u001b[39m_accessors\n\u001b[1;32m   5572\u001b[0m     \u001b[38;5;129;01mand\u001b[39;00m \u001b[38;5;28mself\u001b[39m\u001b[38;5;241m.\u001b[39m_info_axis\u001b[38;5;241m.\u001b[39m_can_hold_identifiers_and_holds_name(name)\n\u001b[1;32m   5573\u001b[0m ):\n\u001b[1;32m   5574\u001b[0m     \u001b[38;5;28;01mreturn\u001b[39;00m \u001b[38;5;28mself\u001b[39m[name]\n\u001b[0;32m-> 5575\u001b[0m \u001b[38;5;28;01mreturn\u001b[39;00m \u001b[38;5;28;43mobject\u001b[39;49m\u001b[38;5;241;43m.\u001b[39;49m\u001b[38;5;21;43m__getattribute__\u001b[39;49m\u001b[43m(\u001b[49m\u001b[38;5;28;43mself\u001b[39;49m\u001b[43m,\u001b[49m\u001b[43m \u001b[49m\u001b[43mname\u001b[49m\u001b[43m)\u001b[49m\n",
      "\u001b[0;31mAttributeError\u001b[0m: 'DataFrame' object has no attribute 'drop_levels'"
     ]
    }
   ],
   "source": [
    "df.groupby([\"background_index\", \"orientation\"]).agg({\"SCD_average\": [\"mean\", \"min\", \"max\"]}).reset_index().drop_levels(0)\n"
   ]
  },
  {
   "cell_type": "code",
   "execution_count": 36,
   "id": "c9a94adc-4e11-4595-ad79-038684b4dcc2",
   "metadata": {},
   "outputs": [
    {
     "data": {
      "text/html": [
       "<div>\n",
       "<style scoped>\n",
       "    .dataframe tbody tr th:only-of-type {\n",
       "        vertical-align: middle;\n",
       "    }\n",
       "\n",
       "    .dataframe tbody tr th {\n",
       "        vertical-align: top;\n",
       "    }\n",
       "\n",
       "    .dataframe thead th {\n",
       "        text-align: right;\n",
       "    }\n",
       "</style>\n",
       "<table border=\"1\" class=\"dataframe\">\n",
       "  <thead>\n",
       "    <tr style=\"text-align: right;\">\n",
       "      <th></th>\n",
       "      <th></th>\n",
       "      <th>background_index</th>\n",
       "      <th>0</th>\n",
       "      <th>1</th>\n",
       "      <th>2</th>\n",
       "    </tr>\n",
       "    <tr>\n",
       "      <th></th>\n",
       "      <th></th>\n",
       "      <th>orientation</th>\n",
       "      <th></th>\n",
       "      <th></th>\n",
       "      <th></th>\n",
       "    </tr>\n",
       "  </thead>\n",
       "  <tbody>\n",
       "    <tr>\n",
       "      <th rowspan=\"12\" valign=\"top\">SCD_average</th>\n",
       "      <th rowspan=\"4\" valign=\"top\">mean</th>\n",
       "      <th>&lt;&lt;</th>\n",
       "      <td>49.87500</td>\n",
       "      <td>47.00000</td>\n",
       "      <td>45.18750</td>\n",
       "    </tr>\n",
       "    <tr>\n",
       "      <th>&lt;&gt;</th>\n",
       "      <td>47.40625</td>\n",
       "      <td>47.00000</td>\n",
       "      <td>44.46875</td>\n",
       "    </tr>\n",
       "    <tr>\n",
       "      <th>&gt;&lt;</th>\n",
       "      <td>47.71875</td>\n",
       "      <td>46.62500</td>\n",
       "      <td>43.68750</td>\n",
       "    </tr>\n",
       "    <tr>\n",
       "      <th>&gt;&gt;</th>\n",
       "      <td>45.71875</td>\n",
       "      <td>48.31250</td>\n",
       "      <td>43.81250</td>\n",
       "    </tr>\n",
       "    <tr>\n",
       "      <th rowspan=\"4\" valign=\"top\">min</th>\n",
       "      <th>&lt;&lt;</th>\n",
       "      <td>37.75000</td>\n",
       "      <td>38.75000</td>\n",
       "      <td>38.84375</td>\n",
       "    </tr>\n",
       "    <tr>\n",
       "      <th>&lt;&gt;</th>\n",
       "      <td>37.40625</td>\n",
       "      <td>38.75000</td>\n",
       "      <td>38.75000</td>\n",
       "    </tr>\n",
       "    <tr>\n",
       "      <th>&gt;&lt;</th>\n",
       "      <td>37.40625</td>\n",
       "      <td>38.78125</td>\n",
       "      <td>38.84375</td>\n",
       "    </tr>\n",
       "    <tr>\n",
       "      <th>&gt;&gt;</th>\n",
       "      <td>37.37500</td>\n",
       "      <td>38.81250</td>\n",
       "      <td>38.65625</td>\n",
       "    </tr>\n",
       "    <tr>\n",
       "      <th rowspan=\"4\" valign=\"top\">max</th>\n",
       "      <th>&lt;&lt;</th>\n",
       "      <td>109.18750</td>\n",
       "      <td>92.50000</td>\n",
       "      <td>82.06250</td>\n",
       "    </tr>\n",
       "    <tr>\n",
       "      <th>&lt;&gt;</th>\n",
       "      <td>94.81250</td>\n",
       "      <td>95.56250</td>\n",
       "      <td>80.00000</td>\n",
       "    </tr>\n",
       "    <tr>\n",
       "      <th>&gt;&lt;</th>\n",
       "      <td>98.06250</td>\n",
       "      <td>89.18750</td>\n",
       "      <td>75.43750</td>\n",
       "    </tr>\n",
       "    <tr>\n",
       "      <th>&gt;&gt;</th>\n",
       "      <td>83.12500</td>\n",
       "      <td>101.68750</td>\n",
       "      <td>74.75000</td>\n",
       "    </tr>\n",
       "  </tbody>\n",
       "</table>\n",
       "</div>"
      ],
      "text/plain": [
       "background_index                      0          1         2\n",
       "                 orientation                                \n",
       "SCD_average mean <<            49.87500   47.00000  45.18750\n",
       "                 <>            47.40625   47.00000  44.46875\n",
       "                 ><            47.71875   46.62500  43.68750\n",
       "                 >>            45.71875   48.31250  43.81250\n",
       "            min  <<            37.75000   38.75000  38.84375\n",
       "                 <>            37.40625   38.75000  38.75000\n",
       "                 ><            37.40625   38.78125  38.84375\n",
       "                 >>            37.37500   38.81250  38.65625\n",
       "            max  <<           109.18750   92.50000  82.06250\n",
       "                 <>            94.81250   95.56250  80.00000\n",
       "                 ><            98.06250   89.18750  75.43750\n",
       "                 >>            83.12500  101.68750  74.75000"
      ]
     },
     "execution_count": 36,
     "metadata": {},
     "output_type": "execute_result"
    }
   ],
   "source": [
    "df.groupby([\"background_index\", \"orientation\"]).agg({\"SCD_average\": [\"mean\", \"min\", \"max\"]}).unstack().transpose()"
   ]
  },
  {
   "cell_type": "code",
   "execution_count": 9,
   "id": "c9515170-ceaa-4e10-9de4-2a0504610bb5",
   "metadata": {},
   "outputs": [],
   "source": [
    "strong_4colors = [\"#4dac26\", \"#d01c8b\", \"#fc7a02\", \"#a819dd\"]\n",
    "weak_4colors = [\"#2166ac\", \"#e43201\", \"#614616\", \"#028a75\"]"
   ]
  },
  {
   "cell_type": "code",
   "execution_count": 10,
   "id": "0d8a63dc-2249-438b-bdc9-dd70292306a9",
   "metadata": {},
   "outputs": [
    {
     "data": {
      "text/plain": [
       "Index(['INS-16_h1_m1_t0', 'INS-16_h1_m1_t1', 'INS-16_h1_m1_t2',\n",
       "       'INS-16_h1_m1_t3', 'INS-16_h1_m1_t4', 'INS-16_h1_m1_t5',\n",
       "       'INS-256_h1_m1_t0', 'INS-256_h1_m1_t1', 'INS-256_h1_m1_t2',\n",
       "       'INS-256_h1_m1_t3', 'INS-256_h1_m1_t4', 'INS-256_h1_m1_t5',\n",
       "       'INS-64_h1_m1_t0', 'INS-64_h1_m1_t1', 'INS-64_h1_m1_t2',\n",
       "       'INS-64_h1_m1_t3', 'INS-64_h1_m1_t4', 'INS-64_h1_m1_t5', 'SCD_h1_m1_t0',\n",
       "       'SCD_h1_m1_t1', 'SCD_h1_m1_t2', 'SCD_h1_m1_t3', 'SCD_h1_m1_t4',\n",
       "       'SCD_h1_m1_t5', 'background_index', 'chrom', 'end', 'experiment_id',\n",
       "       'flank_bp', 'genomic_SCD', 'orientation', 'spacer_bp', 'start',\n",
       "       'strand', 'strong', 'SCD_average', 'INS-16_average', 'INS-64_average',\n",
       "       'INS-256_average'],\n",
       "      dtype='object')"
      ]
     },
     "execution_count": 10,
     "metadata": {},
     "output_type": "execute_result"
    }
   ],
   "source": [
    "df.columns"
   ]
  },
  {
   "cell_type": "code",
   "execution_count": 17,
   "id": "015fe3e7-6851-4bf7-8c0f-75b581ad855a",
   "metadata": {},
   "outputs": [
    {
     "data": {
      "text/plain": [
       "<matplotlib.legend.Legend at 0x7f7546bc3070>"
      ]
     },
     "execution_count": 17,
     "metadata": {},
     "output_type": "execute_result"
    },
    {
     "data": {
      "image/png": "[encoded data removed]",
      "text/plain": [
       "<Figure size 720x576 with 1 Axes>"
      ]
     },
     "metadata": {
      "needs_background": "light"
     },
     "output_type": "display_data"
    }
   ],
   "source": [
    "plt.figure(figsize=(10,8))\n",
    "x = [x for x in range(30)]\n",
    "\n",
    "plt.plot(x, df[(df[\"orientation\"] == \"<<\") & (df[\"strong\"] == True)].groupby([\"flank_bp\"]).agg({\"SCD_average\": [\"mean\"]})[\"SCD_average\"][\"mean\"].iloc[0:30], label=\"left_strong\", c=strong_4colors[0])\n",
    "plt.plot(x, df[(df[\"orientation\"] == \">>\") & (df[\"strong\"] == True)].groupby([\"flank_bp\"]).agg({\"SCD_average\": [\"mean\"]})[\"SCD_average\"][\"mean\"].iloc[0:30], label=\"right_strong\", c=strong_4colors[1])\n",
    "plt.plot(x, df[(df[\"orientation\"] == \"<>\") & (df[\"strong\"] == True)].groupby([\"flank_bp\"]).agg({\"SCD_average\": [\"mean\"]})[\"SCD_average\"][\"mean\"].iloc[0:30], label=\"divergent_strong\", c=strong_4colors[2])\n",
    "plt.plot(x, df[(df[\"orientation\"] == \"><\") & (df[\"strong\"] == True)].groupby([\"flank_bp\"]).agg({\"SCD_average\": [\"mean\"]})[\"SCD_average\"][\"mean\"].iloc[0:30], label=\"convergent_strong\", c=strong_4colors[3])\n",
    "\n",
    "plt.title(\"Averaged SCD with respect to the flank lenght\")\n",
    "plt.xlabel(\"Flank lenght\")\n",
    "plt.ylabel(\"SCD\")\n",
    "plt.legend(loc=\"upper left\")"
   ]
  },
  {
   "cell_type": "code",
   "execution_count": 18,
   "id": "e65282f7-0991-482c-b709-291f1752881b",
   "metadata": {},
   "outputs": [
    {
     "data": {
      "text/plain": [
       "<matplotlib.legend.Legend at 0x7f7546af34f0>"
      ]
     },
     "execution_count": 18,
     "metadata": {},
     "output_type": "execute_result"
    },
    {
     "data": {
      "image/png": "[encoded data removed]",
      "text/plain": [
       "<Figure size 720x576 with 1 Axes>"
      ]
     },
     "metadata": {
      "needs_background": "light"
     },
     "output_type": "display_data"
    }
   ],
   "source": [
    "plt.figure(figsize=(10,8))\n",
    "x = [x for x in range(30)]\n",
    "\n",
    "plt.plot(x, df[(df[\"orientation\"] == \"<<\") & (df[\"strong\"] == True)].groupby([\"flank_bp\"]).agg({\"SCD_average\": [\"mean\"]})[\"SCD_average\"][\"mean\"].iloc[0:30], label=\"left_strong\", c=strong_4colors[0])\n",
    "plt.plot(x, df[(df[\"orientation\"] == \">>\") & (df[\"strong\"] == True)].groupby([\"flank_bp\"]).agg({\"SCD_average\": [\"mean\"]})[\"SCD_average\"][\"mean\"].iloc[0:30], label=\"right_strong\", c=strong_4colors[1])\n",
    "plt.plot(x, df[(df[\"orientation\"] == \"<>\") & (df[\"strong\"] == True)].groupby([\"flank_bp\"]).agg({\"SCD_average\": [\"mean\"]})[\"SCD_average\"][\"mean\"].iloc[0:30], label=\"divergent_strong\", c=strong_4colors[2])\n",
    "plt.plot(x, df[(df[\"orientation\"] == \"><\") & (df[\"strong\"] == True)].groupby([\"flank_bp\"]).agg({\"SCD_average\": [\"mean\"]})[\"SCD_average\"][\"mean\"].iloc[0:30], label=\"convergent_strong\", c=strong_4colors[3])\n",
    "\n",
    "plt.plot(x, df[(df[\"orientation\"] == \"<<\") & (df[\"strong\"] == False)].groupby([\"flank_bp\"]).agg({\"SCD_average\": [\"mean\"]})[\"SCD_average\"][\"mean\"].iloc[0:30], label=\"left_weak\", c=weak_4colors[0])\n",
    "plt.plot(x, df[(df[\"orientation\"] == \">>\") & (df[\"strong\"] == False)].groupby([\"flank_bp\"]).agg({\"SCD_average\": [\"mean\"]})[\"SCD_average\"][\"mean\"].iloc[0:30], label=\"right_weak\", c=weak_4colors[1])\n",
    "plt.plot(x, df[(df[\"orientation\"] == \"<>\") & (df[\"strong\"] == False)].groupby([\"flank_bp\"]).agg({\"SCD_average\": [\"mean\"]})[\"SCD_average\"][\"mean\"].iloc[0:30], label=\"divergent_weak\", c=weak_4colors[2])\n",
    "plt.plot(x, df[(df[\"orientation\"] == \"><\") & (df[\"strong\"] == False)].groupby([\"flank_bp\"]).agg({\"SCD_average\": [\"mean\"]})[\"SCD_average\"][\"mean\"].iloc[0:30], label=\"convergent_weak\", c=weak_4colors[3])\n",
    "\n",
    "plt.title(\"Averaged SCD with respect to the flank lenght\")\n",
    "plt.xlabel(\"Flank lenght\")\n",
    "plt.ylabel(\"SCD\")\n",
    "plt.legend(loc=\"upper left\")"
   ]
  },
  {
   "cell_type": "code",
   "execution_count": null,
   "id": "b2361548-04f6-4fab-9809-a9dda45f87f8",
   "metadata": {},
   "outputs": [],
   "source": []
  }
 ],
 "metadata": {
  "kernelspec": {
   "display_name": "Basenji kernel",
   "language": "python",
   "name": "basenji_kernel"
  },
  "language_info": {
   "codemirror_mode": {
    "name": "ipython",
    "version": 3
   },
   "file_extension": ".py",
   "mimetype": "text/x-python",
   "name": "python",
   "nbconvert_exporter": "python",
   "pygments_lexer": "ipython3",
   "version": "3.8.12"
  }
 },
 "nbformat": 4,
 "nbformat_minor": 5
}
