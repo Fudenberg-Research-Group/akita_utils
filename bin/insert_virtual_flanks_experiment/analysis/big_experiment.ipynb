{
 "cells": [
  {
   "cell_type": "markdown",
   "id": "978ebc5c-6c8e-45c4-92a5-389c81aedc52",
   "metadata": {},
   "source": [
    "### Description of an experiment\n",
    "\n",
    "**Goal**: Quantify the impact of the flanking sequences in createing TAD-boundary\n",
    "\n",
    "**Input**: 100 weak and 100 CTCF motifs (defined by the threshold of genomic_SCD) are inserted into 3 different background sequences (those sequences were constructed in such a way that the model predicts maximally flat map - a map with no genomic structures, i.e. no TAD-boundaries)\n",
    "\n",
    "**What changes in the experiment?** the length of flank that is inserted around CTCF motif (but the length of left flank is equal to the length of right flank)\n",
    "\n",
    "**What is measured the experiment?** SCD and INS-16, INS-64, INS-256. Intuitively, the higher SCD / lower insulation score, the bigger boundary-creating potential\n",
    "\n",
    "**Variants**: the CTCFs were inserted in four possible orientations: \">>\", \"<<\", \"<>\", \"><\"\n"
   ]
  },
  {
   "cell_type": "code",
   "execution_count": 1,
   "id": "0c5fa7ff-f856-4a64-addc-c1e00264f8fc",
   "metadata": {},
   "outputs": [
    {
     "name": "stderr",
     "output_type": "stream",
     "text": [
      "2022-10-03 14:59:29.907975: W tensorflow/stream_executor/platform/default/dso_loader.cc:64] Could not load dynamic library 'libcudart.so.11.0'; dlerror: libcudart.so.11.0: cannot open shared object file: No such file or directory; LD_LIBRARY_PATH: /spack/apps/linux-centos7-x86_64/gcc-8.3.0/python-3.9.2-uvcroioc4witkp6qf7mbebof5ix4wlb6/lib:/spack/apps/linux-centos7-x86_64/gcc-8.3.0/pmix-3.1.3-3sm6emyqaxapunh7rwbjvtaqoqe2e5z3/lib:/spack/apps/linux-centos7-x86_64/gcc-8.3.0/openmpi-4.0.2-ipm3dnvlbtxawpi4ifz7jma6jgr7mexq/lib:/spack/apps/linux-centos7-x86_64/gcc-8.3.0/openblas-0.3.8-2no6mfziiclwxb7lstxoos335gnhjpes/lib:/spack/apps/gcc/8.3.0/lib64::/home1/smaruj/software/GSL/lib:/home1/smaruj/software/HTSLIB/lib\n",
      "2022-10-03 14:59:29.908007: I tensorflow/stream_executor/cuda/cudart_stub.cc:29] Ignore above cudart dlerror if you do not have a GPU set up on your machine.\n"
     ]
    }
   ],
   "source": [
    "import bioframe\n",
    "import pandas as pd\n",
    "import numpy as np\n",
    "import tensorflow as tf\n",
    "from basenji import dna_io\n",
    "import akita_utils"
   ]
  },
  {
   "cell_type": "code",
   "execution_count": 2,
   "id": "69a2a05d-0f31-4f00-8583-8dbc48ffc30b",
   "metadata": {},
   "outputs": [],
   "source": [
    "folder = \"/home1/smaruj/akita_utils/bin/insert_virtual_flanks_experiment/data/\"\n",
    "\n",
    "left_filename = \"big_left.h5\"               #orientation \"<<\"\n",
    "right_filename = \"big_right.h5\"             #orientation \">>\"\n",
    "convergent_filename = \"big_convergent.h5\"   #orientation \"><\"\n",
    "divergent_filename = \"big_divergent.h5\"     #orientation \"<>\"\n",
    "\n",
    "scd_stats = [\"SCD\", \"INS-16\", \"INS-64\", \"INS-256\"]"
   ]
  },
  {
   "cell_type": "code",
   "execution_count": 3,
   "id": "ddd06380-6b23-4c90-b4cb-9e1511f2a5cf",
   "metadata": {},
   "outputs": [],
   "source": [
    "left_df = akita_utils.h5_to_df(folder + left_filename, scd_stats, drop_duplicates_key=None)"
   ]
  },
  {
   "cell_type": "code",
   "execution_count": null,
   "id": "0f821347-ab11-43c9-83be-2a9d0288e3fe",
   "metadata": {},
   "outputs": [],
   "source": [
    "is_strong = lambda x : True if (x > 20) else False\n",
    "df[\"strong\"] = df[\"genomic_SCD\"].apply(is_strong)"
   ]
  },
  {
   "cell_type": "code",
   "execution_count": null,
   "id": "7b444fce-6dc6-4b0e-b8ac-d5e8bdd377d4",
   "metadata": {},
   "outputs": [],
   "source": [
    "df[\"SCD_average\"] = (df[\"SCD_h1_m1_t0\"] + df[\"SCD_h1_m1_t1\"] + df[\"SCD_h1_m1_t2\"] + df[\"SCD_h1_m1_t3\"] + df[\"SCD_h1_m1_t4\"] + df[\"SCD_h1_m1_t5\"]) / 6\n",
    "df[\"INS-16_average\"] = (df[\"INS-16_h1_m1_t0\"] + df[\"INS-16_h1_m1_t1\"] + df[\"INS-16_h1_m1_t2\"] + df[\"INS-16_h1_m1_t3\"] + df[\"INS-16_h1_m1_t4\"] + df[\"INS-16_h1_m1_t5\"]) / 6"
   ]
  },
  {
   "cell_type": "code",
   "execution_count": null,
   "id": "a7c768b4-780d-4126-a762-c2ed171bdd1a",
   "metadata": {},
   "outputs": [],
   "source": [
    "#df"
   ]
  },
  {
   "cell_type": "code",
   "execution_count": null,
   "id": "eaef911e-b7c4-4694-8f4e-832bd13a5975",
   "metadata": {},
   "outputs": [],
   "source": [
    "df.columns"
   ]
  },
  {
   "cell_type": "markdown",
   "id": "eb6b9f78-ca0f-4463-add8-c518ebd706db",
   "metadata": {},
   "source": [
    "### SCD"
   ]
  },
  {
   "cell_type": "code",
   "execution_count": null,
   "id": "4fccabf8-341c-4cee-b100-0e6b733c5022",
   "metadata": {},
   "outputs": [],
   "source": [
    "SCD_strong = df[df[\"strong\"] == True]\n",
    "SCD_weak = df[df[\"strong\"] == False]"
   ]
  },
  {
   "cell_type": "code",
   "execution_count": null,
   "id": "8a6efbbc-789a-4921-b093-215d982b5110",
   "metadata": {},
   "outputs": [],
   "source": [
    "SCD_strong.groupby(\"background_index\")[\"SCD_average\"].mean()"
   ]
  },
  {
   "cell_type": "code",
   "execution_count": null,
   "id": "8ca15639-14ec-4e9c-a5e6-dda46d644c17",
   "metadata": {},
   "outputs": [],
   "source": [
    "SCD_weak.groupby(\"background_index\")[\"SCD_average\"].mean()"
   ]
  },
  {
   "cell_type": "markdown",
   "id": "9ff9ba84-90dd-4cb9-bd89-e3f29d816651",
   "metadata": {},
   "source": [
    "### Comment:\n",
    "It seems that 5th and 7th background sequences give higher values than others.\n",
    "We can choose e.g. 3 background sequences (maybe just first 3) and conduct furture experiments only on them"
   ]
  },
  {
   "cell_type": "code",
   "execution_count": null,
   "id": "a0e1f32c-9656-4a86-93ba-bb14d8846482",
   "metadata": {},
   "outputs": [],
   "source": [
    "import matplotlib.pyplot as plt"
   ]
  },
  {
   "cell_type": "code",
   "execution_count": null,
   "id": "c669550b-52f7-4976-b171-51d08fab5c1d",
   "metadata": {},
   "outputs": [],
   "source": [
    "SCD_strong_fl = []\n",
    "SCD_weak_fl = []\n",
    "\n",
    "for l in range(30):\n",
    "    SCD_strong_fl.append(df[(df.strong == True) & (df.flank_bp == l)][\"SCD_average\"].mean())\n",
    "    SCD_weak_fl.append(df[(df.strong == False) & (df.flank_bp == l)][\"SCD_average\"].mean())"
   ]
  },
  {
   "cell_type": "code",
   "execution_count": null,
   "id": "4e3a0538-8000-4ee7-a9f2-a76dbf92c8d6",
   "metadata": {},
   "outputs": [],
   "source": [
    "colors_2 = [\"#3B0FE8\", \"#E80F49\"]"
   ]
  },
  {
   "cell_type": "code",
   "execution_count": null,
   "id": "7b6ab7b2-3839-4407-a7d7-dd555e5580d7",
   "metadata": {},
   "outputs": [],
   "source": [
    "plt.figure(figsize=(10,8))\n",
    "x = [x for x in range(30)]\n",
    "plt.plot(x, SCD_strong_fl, label=\"strong\", c=colors_2[0])\n",
    "plt.plot(x, SCD_weak_fl, label=\"weak\", c=colors_2[1])\n",
    "plt.title(\"Averaged SCD with respect to the flank lenght\")\n",
    "plt.xlabel(\"Flank lenght\")\n",
    "plt.ylabel(\"SCD\")\n",
    "plt.legend(loc=\"upper right\")"
   ]
  },
  {
   "cell_type": "markdown",
   "id": "642fa57f-c97e-46a1-b31e-4e69d3c553bd",
   "metadata": {},
   "source": [
    "### Comment:\n",
    "Tendency is the same, but SCD values generally higher that I got last time. "
   ]
  },
  {
   "cell_type": "code",
   "execution_count": null,
   "id": "56e4e81e-ac95-4994-b189-69fbdfc86693",
   "metadata": {},
   "outputs": [],
   "source": [
    "strong_colors_10 = [\"#3B0FE8\", \"#5736DC\", \"#441CE5\", \"#3411C1\", \"#7A5DEC\", \"#6648DF\", \"#3919B7\", \"#3108D4\", \"#1F0EB5\", \"#4E41BD\"]\n",
    "weak_colors_10 = [\"#E80F49\", \"#E92459\", \"#D01B4B\", \"#C61342\", \"#C94366\", \"#DB2555\", \"#E40842\", \"#CE0E41\", \"#E94772\", \"#F07293\"]"
   ]
  },
  {
   "cell_type": "code",
   "execution_count": null,
   "id": "be711373-e6c9-4917-bfcb-a188b7cd3dc1",
   "metadata": {},
   "outputs": [],
   "source": [
    "SCD_strong_fl_bg = [[] for i in range(10)]\n",
    "SCD_weak_fl_bg = [[] for i in range(10)]\n",
    "\n",
    "for l in range(30):\n",
    "    for b in range(10):\n",
    "        SCD_strong_fl_bg[b].append(df[(df.strong == True) & (df.flank_bp == l) & (df.background_index == b)][\"SCD_average\"].mean())\n",
    "        SCD_weak_fl_bg[b].append(df[(df.strong == False) & (df.flank_bp == l) & (df.background_index == b)][\"SCD_average\"].mean())"
   ]
  },
  {
   "cell_type": "code",
   "execution_count": null,
   "id": "6133e72e-1dd7-4786-988e-04ce4699481c",
   "metadata": {},
   "outputs": [],
   "source": [
    "plt.figure(figsize=(12,8))\n",
    "x = [x for x in range(30)]\n",
    "for b in range(10):\n",
    "    plt.plot(x, SCD_strong_fl_bg[b], label=f\"strong_bg-{b}\", c=strong_colors_10[b])\n",
    "    plt.plot(x, SCD_weak_fl_bg[b], label=f\"weak_bg-{b}\", c=weak_colors_10[b])\n",
    "plt.legend(loc=\"upper right\")\n",
    "plt.title(\"Averaged SCD over each background sequence with respect to the flank lenght\")\n",
    "plt.xlabel(\"Flank lenght\")\n",
    "plt.ylabel(\"SCD\")\n",
    "# plt.legend(loc=\"upper right\")\n",
    "plt.legend(bbox_to_anchor=(1.2, 0.95), loc='upper right', ncol=1)"
   ]
  },
  {
   "cell_type": "markdown",
   "id": "c1554325-85d0-4de3-bdfd-08f05d4c901e",
   "metadata": {},
   "source": [
    "### Comment: \n",
    "Tendecies are consistent among background sequences. Sequences flanking the CTCF-bingding motif doesn't have impact on SCD (and TAD boundary's strenght) if a CTCF is a weak motif, while adding flank of 15-20 bp around motif makes a motif stronger."
   ]
  },
  {
   "cell_type": "code",
   "execution_count": null,
   "id": "0a265089-fd2b-4dd1-ba5e-c4647603c31f",
   "metadata": {},
   "outputs": [],
   "source": [
    "SCD_strong_fl_target = [[] for i in range(6)]\n",
    "SCD_weak_fl_target = [[] for i in range(6)]\n",
    "\n",
    "for l in range(30):\n",
    "    for t in range(6):\n",
    "        SCD_strong_fl_target[t].append(df[(df.strong == True) & (df.flank_bp == l)][f\"SCD_h1_m1_t{t}\"].mean())\n",
    "        SCD_weak_fl_target[t].append(df[(df.strong == False) & (df.flank_bp == l)][f\"SCD_h1_m1_t{t}\"].mean())"
   ]
  },
  {
   "cell_type": "code",
   "execution_count": null,
   "id": "887c6873-0b2e-483c-8b56-f35079872924",
   "metadata": {},
   "outputs": [],
   "source": [
    "strong_targets = [\"#F20808\", \"#1119EF\", \"#09DAE9\", \"#13F238\", \"#EC9018\", \"#E80ACA\"]\n",
    "weak_targets = [\"#E65A5A\", \"#7B7EDB\", \"#AAEAEF\", \"#98F0A7\", \"#EEBE80\", \"#E69FDD\"]\n",
    "\n",
    "# A color of one target is same, but darker for strong, and paler for weak motifs."
   ]
  },
  {
   "cell_type": "code",
   "execution_count": null,
   "id": "7dfc8972-62bc-4ef2-bf35-9ca52bccc5f0",
   "metadata": {},
   "outputs": [],
   "source": [
    "plt.figure(figsize=(12,8))\n",
    "x = [x for x in range(30)]\n",
    "\n",
    "for t in range(6):\n",
    "    plt.plot(x, SCD_strong_fl_target[t], label=f\"strong_target-{t}\", c=strong_targets[t])\n",
    "    plt.plot(x, SCD_weak_fl_target[t], label=f\"weak_target-{t}\", c=weak_targets[t])\n",
    "\n",
    "plt.legend(loc=\"upper right\")\n",
    "plt.title(\"Averaged SCD over each target with respect to the flank lenght\")\n",
    "plt.xlabel(\"Flank lenght\")\n",
    "plt.ylabel(\"SCD\")\n",
    "plt.legend(loc=\"upper left\")\n",
    "plt.legend(bbox_to_anchor=(1.2, 0.95), loc='upper right', ncol=1)"
   ]
  },
  {
   "cell_type": "markdown",
   "id": "3a81e2d7-1c80-4d54-94a5-8d74dac05f12",
   "metadata": {},
   "source": [
    "### Comment:\n",
    "Tendecies are consistent between targets!"
   ]
  },
  {
   "cell_type": "code",
   "execution_count": null,
   "id": "b9b6b11e-2d32-4557-86e1-0e74ffee8d1d",
   "metadata": {},
   "outputs": [],
   "source": [
    "get_seq_index = lambda x : (x % 20)\n",
    "df[\"seq_index\"] = df[\"experiment_id\"].apply(get_seq_index)"
   ]
  },
  {
   "cell_type": "code",
   "execution_count": null,
   "id": "c2e51bae-43be-40cd-ae71-b0499520c93b",
   "metadata": {},
   "outputs": [],
   "source": [
    "# 20 sequences = 10 first are strong, 10 next are weak\n",
    "\n",
    "SCD_strong_fl_seqs = [[] for i in range(10)]\n",
    "SCD_weak_fl_seqs = [[] for i in range(10)]\n",
    "\n",
    "for l in range(30):\n",
    "    for s in range(20):\n",
    "        if s <= 9:\n",
    "            SCD_strong_fl_seqs[s].append(df[(df.strong == True) & (df.flank_bp == l) & (df.seq_index == s)][\"SCD_average\"].mean())\n",
    "        else:\n",
    "            ind = s % 10\n",
    "            SCD_weak_fl_seqs[ind].append(df[(df.strong == False) & (df.flank_bp == l) & (df.seq_index == s)][f\"SCD_average\"].mean())\n"
   ]
  },
  {
   "cell_type": "code",
   "execution_count": null,
   "id": "9265eedc-0b21-484e-9102-67cd3687282a",
   "metadata": {},
   "outputs": [],
   "source": [
    "plt.figure(figsize=(12,8))\n",
    "\n",
    "x = [x for x in range(30)]\n",
    "\n",
    "for s in range(10):\n",
    "    plt.plot(x, SCD_strong_fl_seqs[s], label=f\"strong_seq-{s}\", c=strong_colors_10[s])\n",
    "    plt.plot(x, SCD_weak_fl_seqs[s], label=f\"weak_seq-{s}\", c=weak_colors_10[s])\n",
    "    \n",
    "plt.legend(loc=\"upper right\")\n",
    "plt.title(\"Averaged SCD over each strong / weak sequence with respect to the flank lenght\")\n",
    "plt.xlabel(\"Flank lenght\")\n",
    "plt.ylabel(\"SCD\")\n",
    "# plt.legend(loc=\"upper left\")\n",
    "plt.legend(bbox_to_anchor=(1.2, 0.95), loc='upper right', ncol=1)"
   ]
  },
  {
   "cell_type": "markdown",
   "id": "af5fe3f2-905a-4ba4-a210-3434bc4946a9",
   "metadata": {},
   "source": [
    "### INS-16"
   ]
  },
  {
   "cell_type": "code",
   "execution_count": null,
   "id": "30bd7ab8-fc0d-4e1a-b795-202d94c1ea82",
   "metadata": {},
   "outputs": [],
   "source": [
    "INS16_strong_fl = []\n",
    "INS16_weak_fl = []\n",
    "\n",
    "for l in range(30):\n",
    "    INS16_strong_fl.append(df[(df.strong == True) & (df.flank_bp == l)][\"INS-16_average\"].mean())\n",
    "    INS16_weak_fl.append(df[(df.strong == False) & (df.flank_bp == l)][\"INS-16_average\"].mean())"
   ]
  },
  {
   "cell_type": "code",
   "execution_count": null,
   "id": "c7341012-7ea5-4e27-84d6-25f8eee19edc",
   "metadata": {},
   "outputs": [],
   "source": [
    "plt.figure(figsize=(10,8))\n",
    "x = [x for x in range(30)]\n",
    "plt.plot(x, INS16_strong_fl, label=\"strong\", c=colors_2[0])\n",
    "plt.plot(x, INS16_weak_fl, label=\"weak\", c=colors_2[1])\n",
    "plt.title(\"Averaged INS-16 with respect to the flank lenght\")\n",
    "plt.xlabel(\"Flank lenght\")\n",
    "plt.ylabel(\"INS-16\")\n",
    "plt.legend(loc=\"upper right\")"
   ]
  },
  {
   "cell_type": "code",
   "execution_count": null,
   "id": "e86c9745-90ad-4df7-867b-db366b6a6e55",
   "metadata": {},
   "outputs": [],
   "source": [
    "INS16_strong_fl_bg = [[] for i in range(10)]\n",
    "INS16_weak_fl_bg = [[] for i in range(10)]\n",
    "\n",
    "for l in range(30):\n",
    "    for b in range(10):\n",
    "        INS16_strong_fl_bg[b].append(df[(df.strong == True) & (df.flank_bp == l) & (df.background_index == b)][\"INS-16_average\"].mean())\n",
    "        INS16_weak_fl_bg[b].append(df[(df.strong == False) & (df.flank_bp == l) & (df.background_index == b)][\"INS-16_average\"].mean())"
   ]
  },
  {
   "cell_type": "code",
   "execution_count": null,
   "id": "6255a2f5-40d3-4404-9a8f-7dba8d83ec76",
   "metadata": {},
   "outputs": [],
   "source": [
    "plt.figure(figsize=(12,8))\n",
    "x = [x for x in range(30)]\n",
    "for b in range(10):\n",
    "    plt.plot(x, INS16_strong_fl_bg[b], label=f\"strong_bg-{b}\", c=strong_colors_10[b])\n",
    "    plt.plot(x, INS16_weak_fl_bg[b], label=f\"weak_bg-{b}\", c=weak_colors_10[b])\n",
    "plt.legend(loc=\"upper right\")\n",
    "plt.title(\"Averaged INS-16 over each background sequence with respect to the flank lenght\")\n",
    "plt.xlabel(\"Flank lenght\")\n",
    "plt.ylabel(\"INS-16\")\n",
    "# plt.legend(loc=\"upper right\")\n",
    "plt.legend(bbox_to_anchor=(1.2, 0.95), loc='upper right', ncol=1)"
   ]
  },
  {
   "cell_type": "markdown",
   "id": "76f09ba5-55a8-4d33-a317-ed351fa39e35",
   "metadata": {},
   "source": [
    "### Comment:\n",
    "Insulation drops for strong sequences inserted with 15-20bp flanks and doesn't change with flank lenght when a motif is weak."
   ]
  },
  {
   "cell_type": "code",
   "execution_count": null,
   "id": "412d3316-46d3-442c-9263-78e24b01a24f",
   "metadata": {},
   "outputs": [],
   "source": [
    "df.columns"
   ]
  },
  {
   "cell_type": "code",
   "execution_count": null,
   "id": "69bddd82-50b7-4b04-8488-ca6177739dc3",
   "metadata": {},
   "outputs": [],
   "source": [
    "INS16_strong_fl_target = [[] for i in range(6)]\n",
    "INS16_weak_fl_target = [[] for i in range(6)]\n",
    "\n",
    "for l in range(30):\n",
    "    for t in range(6):\n",
    "        INS16_strong_fl_target[t].append(df[(df.strong == True) & (df.flank_bp == l)][f\"INS-16_h1_m1_t{t}\"].mean())\n",
    "        INS16_weak_fl_target[t].append(df[(df.strong == False) & (df.flank_bp == l)][f\"INS-16_h1_m1_t{t}\"].mean())"
   ]
  },
  {
   "cell_type": "code",
   "execution_count": null,
   "id": "bca273fb-5d0a-4ea9-8018-3a8d77675cab",
   "metadata": {},
   "outputs": [],
   "source": [
    "plt.figure(figsize=(12,8))\n",
    "x = [x for x in range(30)]\n",
    "\n",
    "for t in range(6):\n",
    "    plt.plot(x, INS16_strong_fl_target[t], label=f\"strong_target-{t}\", c=strong_targets[t])\n",
    "    plt.plot(x, INS16_weak_fl_target[t], label=f\"weak_target-{t}\", c=weak_targets[t])\n",
    "\n",
    "plt.legend(loc=\"upper right\")\n",
    "plt.title(\"Averaged INS-16 over each target with respect to the flank lenght\")\n",
    "plt.xlabel(\"Flank lenght\")\n",
    "plt.ylabel(\"INS-16\")\n",
    "# plt.legend(loc=\"upper right\")\n",
    "plt.legend(bbox_to_anchor=(1.2, 0.95), loc='upper right', ncol=1)"
   ]
  },
  {
   "cell_type": "markdown",
   "id": "f72f8c55-2a53-4579-ad4c-ce7c98a1e630",
   "metadata": {},
   "source": [
    "### Comment:\n",
    "Again, strong consistency between targets."
   ]
  },
  {
   "cell_type": "code",
   "execution_count": null,
   "id": "9bd10696-2ab6-4714-b4ff-78e47dcc7c2e",
   "metadata": {},
   "outputs": [],
   "source": [
    "INS16_strong_fl_seqs = [[] for i in range(10)]\n",
    "INS16_weak_fl_seqs = [[] for i in range(10)]\n",
    "\n",
    "for l in range(30):\n",
    "    for s in range(20):\n",
    "        if s <= 9:\n",
    "            INS16_strong_fl_seqs[s].append(df[(df.strong == True) & (df.flank_bp == l) & (df.seq_index == s)][\"INS-16_average\"].mean())\n",
    "        else:\n",
    "            ind = s % 10\n",
    "            INS16_weak_fl_seqs[ind].append(df[(df.strong == False) & (df.flank_bp == l) & (df.seq_index == s)][f\"INS-16_average\"].mean())"
   ]
  },
  {
   "cell_type": "code",
   "execution_count": null,
   "id": "8d7bdbbf-7258-460f-999f-e876ec5362b2",
   "metadata": {},
   "outputs": [],
   "source": [
    "plt.figure(figsize=(12,8))\n",
    "\n",
    "x = [x for x in range(30)]\n",
    "\n",
    "for s in range(10):\n",
    "    plt.plot(x, INS16_strong_fl_seqs[s], label=f\"strong_seq-{s}\", c=strong_colors_10[s])\n",
    "    plt.plot(x, INS16_weak_fl_seqs[s], label=f\"weak_seq-{s}\", c=weak_colors_10[s])\n",
    "    \n",
    "plt.legend(loc=\"upper right\")\n",
    "plt.title(\"Averaged INS-16 over each strong / weak sequence with respect to the flank lenght\")\n",
    "plt.xlabel(\"Flank lenght\")\n",
    "plt.ylabel(\"INS-16\")\n",
    "# plt.legend(loc=\"upper right\")\n",
    "plt.legend(bbox_to_anchor=(1.2, 0.95), loc='upper right', ncol=1)"
   ]
  },
  {
   "cell_type": "markdown",
   "id": "e3b431a0-9092-419d-82ec-3c861939a17f",
   "metadata": {},
   "source": [
    "### Comment:\n",
    "15bp flanks around seems to play a major role in the change of insulation score."
   ]
  },
  {
   "cell_type": "code",
   "execution_count": null,
   "id": "b306e4c2-7c0a-4c0e-8770-790dc4495966",
   "metadata": {},
   "outputs": [],
   "source": []
  }
 ],
 "metadata": {
  "kernelspec": {
   "display_name": "Basenji kernel",
   "language": "python",
   "name": "basenji_kernel"
  },
  "language_info": {
   "codemirror_mode": {
    "name": "ipython",
    "version": 3
   },
   "file_extension": ".py",
   "mimetype": "text/x-python",
   "name": "python",
   "nbconvert_exporter": "python",
   "pygments_lexer": "ipython3",
   "version": "3.8.12"
  }
 },
 "nbformat": 4,
 "nbformat_minor": 5
}
