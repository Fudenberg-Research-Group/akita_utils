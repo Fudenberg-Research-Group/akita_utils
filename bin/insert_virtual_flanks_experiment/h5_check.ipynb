{
 "cells": [
  {
   "cell_type": "code",
   "execution_count": 1,
   "id": "46a3690f-059c-42e2-ab11-8c9255a5ee3c",
   "metadata": {},
   "outputs": [
    {
     "name": "stderr",
     "output_type": "stream",
     "text": [
      "2022-09-16 11:19:05.357838: W tensorflow/stream_executor/platform/default/dso_loader.cc:64] Could not load dynamic library 'libcudart.so.11.0'; dlerror: libcudart.so.11.0: cannot open shared object file: No such file or directory; LD_LIBRARY_PATH: /spack/apps/linux-centos7-x86_64/gcc-8.3.0/python-3.9.2-uvcroioc4witkp6qf7mbebof5ix4wlb6/lib:/spack/apps/linux-centos7-x86_64/gcc-8.3.0/pmix-3.1.3-3sm6emyqaxapunh7rwbjvtaqoqe2e5z3/lib:/spack/apps/linux-centos7-x86_64/gcc-8.3.0/openmpi-4.0.2-ipm3dnvlbtxawpi4ifz7jma6jgr7mexq/lib:/spack/apps/linux-centos7-x86_64/gcc-8.3.0/openblas-0.3.8-2no6mfziiclwxb7lstxoos335gnhjpes/lib:/spack/apps/gcc/8.3.0/lib64::/home1/smaruj/software/GSL/lib:/home1/smaruj/software/HTSLIB/lib\n",
      "2022-09-16 11:19:05.357913: I tensorflow/stream_executor/cuda/cudart_stub.cc:29] Ignore above cudart dlerror if you do not have a GPU set up on your machine.\n"
     ]
    }
   ],
   "source": [
    "import bioframe\n",
    "import pandas as pd\n",
    "import numpy as np\n",
    "import tensorflow as tf\n",
    "from basenji import dna_io"
   ]
  },
  {
   "cell_type": "code",
   "execution_count": 2,
   "id": "06c2b93f-5822-44f2-81fe-4c63c9185cef",
   "metadata": {},
   "outputs": [],
   "source": [
    "import akita_utils"
   ]
  },
  {
   "cell_type": "code",
   "execution_count": 3,
   "id": "ddffa7f6-4bcf-4e22-8789-2ca4776a30ad",
   "metadata": {},
   "outputs": [],
   "source": [
    "filename = \"./scd.h5\"\n",
    "scd_stats=[\"SCD\", \"INS-16\"]"
   ]
  },
  {
   "cell_type": "code",
   "execution_count": 4,
   "id": "852d2909-7d5e-42ba-b494-a1d1db2b0a35",
   "metadata": {},
   "outputs": [
    {
     "ename": "ValueError",
     "evalue": "Data must be 1-dimensional",
     "output_type": "error",
     "traceback": [
      "\u001b[0;31m---------------------------------------------------------------------------\u001b[0m",
      "\u001b[0;31mValueError\u001b[0m                                Traceback (most recent call last)",
      "Input \u001b[0;32mIn [4]\u001b[0m, in \u001b[0;36m<cell line: 1>\u001b[0;34m()\u001b[0m\n\u001b[0;32m----> 1\u001b[0m \u001b[43makita_utils\u001b[49m\u001b[38;5;241;43m.\u001b[39;49m\u001b[43mh5_to_df\u001b[49m\u001b[43m(\u001b[49m\u001b[43mfilename\u001b[49m\u001b[38;5;241;43m=\u001b[39;49m\u001b[43mfilename\u001b[49m\u001b[43m,\u001b[49m\u001b[43m \u001b[49m\u001b[43mscd_stats\u001b[49m\u001b[38;5;241;43m=\u001b[39;49m\u001b[43mscd_stats\u001b[49m\u001b[43m)\u001b[49m\n",
      "File \u001b[0;32m~/akita_utils/akita_utils/utils.py:90\u001b[0m, in \u001b[0;36mh5_to_df\u001b[0;34m(filename, scd_stats, drop_duplicates_key)\u001b[0m\n\u001b[1;32m     88\u001b[0m         s\u001b[38;5;241m.\u001b[39mappend(pd\u001b[38;5;241m.\u001b[39mSeries(hf[key][()]\u001b[38;5;241m.\u001b[39mmean(axis\u001b[38;5;241m=\u001b[39m\u001b[38;5;241m1\u001b[39m), name\u001b[38;5;241m=\u001b[39mkey))\n\u001b[1;32m     89\u001b[0m     \u001b[38;5;28;01melse\u001b[39;00m:\n\u001b[0;32m---> 90\u001b[0m         s\u001b[38;5;241m.\u001b[39mappend(\u001b[43mpd\u001b[49m\u001b[38;5;241;43m.\u001b[39;49m\u001b[43mSeries\u001b[49m\u001b[43m(\u001b[49m\u001b[43mhf\u001b[49m\u001b[43m[\u001b[49m\u001b[43mkey\u001b[49m\u001b[43m]\u001b[49m\u001b[43m[\u001b[49m\u001b[43m(\u001b[49m\u001b[43m)\u001b[49m\u001b[43m]\u001b[49m\u001b[43m,\u001b[49m\u001b[43m \u001b[49m\u001b[43mname\u001b[49m\u001b[38;5;241;43m=\u001b[39;49m\u001b[43mkey\u001b[49m\u001b[43m)\u001b[49m)\n\u001b[1;32m     92\u001b[0m \u001b[38;5;66;03m# adding difference between reference and alternate insulation\u001b[39;00m\n\u001b[1;32m     93\u001b[0m insulation_stats \u001b[38;5;241m=\u001b[39m [\u001b[38;5;124m\"\u001b[39m\u001b[38;5;124mINS-16\u001b[39m\u001b[38;5;124m\"\u001b[39m, \u001b[38;5;124m\"\u001b[39m\u001b[38;5;124mINS-32\u001b[39m\u001b[38;5;124m\"\u001b[39m, \u001b[38;5;124m\"\u001b[39m\u001b[38;5;124mINS-64\u001b[39m\u001b[38;5;124m\"\u001b[39m, \u001b[38;5;124m\"\u001b[39m\u001b[38;5;124mINS-128\u001b[39m\u001b[38;5;124m\"\u001b[39m, \u001b[38;5;124m\"\u001b[39m\u001b[38;5;124mINS-256\u001b[39m\u001b[38;5;124m\"\u001b[39m]\n",
      "File \u001b[0;32m~/miniconda3/envs/basenji/lib/python3.8/site-packages/pandas/core/series.py:451\u001b[0m, in \u001b[0;36mSeries.__init__\u001b[0;34m(self, data, index, dtype, name, copy, fastpath)\u001b[0m\n\u001b[1;32m    449\u001b[0m         data \u001b[38;5;241m=\u001b[39m data\u001b[38;5;241m.\u001b[39mcopy()\n\u001b[1;32m    450\u001b[0m \u001b[38;5;28;01melse\u001b[39;00m:\n\u001b[0;32m--> 451\u001b[0m     data \u001b[38;5;241m=\u001b[39m \u001b[43msanitize_array\u001b[49m\u001b[43m(\u001b[49m\u001b[43mdata\u001b[49m\u001b[43m,\u001b[49m\u001b[43m \u001b[49m\u001b[43mindex\u001b[49m\u001b[43m,\u001b[49m\u001b[43m \u001b[49m\u001b[43mdtype\u001b[49m\u001b[43m,\u001b[49m\u001b[43m \u001b[49m\u001b[43mcopy\u001b[49m\u001b[43m)\u001b[49m\n\u001b[1;32m    453\u001b[0m     manager \u001b[38;5;241m=\u001b[39m get_option(\u001b[38;5;124m\"\u001b[39m\u001b[38;5;124mmode.data_manager\u001b[39m\u001b[38;5;124m\"\u001b[39m)\n\u001b[1;32m    454\u001b[0m     \u001b[38;5;28;01mif\u001b[39;00m manager \u001b[38;5;241m==\u001b[39m \u001b[38;5;124m\"\u001b[39m\u001b[38;5;124mblock\u001b[39m\u001b[38;5;124m\"\u001b[39m:\n",
      "File \u001b[0;32m~/miniconda3/envs/basenji/lib/python3.8/site-packages/pandas/core/construction.py:598\u001b[0m, in \u001b[0;36msanitize_array\u001b[0;34m(data, index, dtype, copy, raise_cast_failure, allow_2d)\u001b[0m\n\u001b[1;32m    595\u001b[0m             subarr \u001b[38;5;241m=\u001b[39m cast(np\u001b[38;5;241m.\u001b[39mndarray, subarr)\n\u001b[1;32m    596\u001b[0m             subarr \u001b[38;5;241m=\u001b[39m maybe_infer_to_datetimelike(subarr)\n\u001b[0;32m--> 598\u001b[0m subarr \u001b[38;5;241m=\u001b[39m \u001b[43m_sanitize_ndim\u001b[49m\u001b[43m(\u001b[49m\u001b[43msubarr\u001b[49m\u001b[43m,\u001b[49m\u001b[43m \u001b[49m\u001b[43mdata\u001b[49m\u001b[43m,\u001b[49m\u001b[43m \u001b[49m\u001b[43mdtype\u001b[49m\u001b[43m,\u001b[49m\u001b[43m \u001b[49m\u001b[43mindex\u001b[49m\u001b[43m,\u001b[49m\u001b[43m \u001b[49m\u001b[43mallow_2d\u001b[49m\u001b[38;5;241;43m=\u001b[39;49m\u001b[43mallow_2d\u001b[49m\u001b[43m)\u001b[49m\n\u001b[1;32m    600\u001b[0m \u001b[38;5;28;01mif\u001b[39;00m \u001b[38;5;28misinstance\u001b[39m(subarr, np\u001b[38;5;241m.\u001b[39mndarray):\n\u001b[1;32m    601\u001b[0m     \u001b[38;5;66;03m# at this point we should have dtype be None or subarr.dtype == dtype\u001b[39;00m\n\u001b[1;32m    602\u001b[0m     dtype \u001b[38;5;241m=\u001b[39m cast(np\u001b[38;5;241m.\u001b[39mdtype, dtype)\n",
      "File \u001b[0;32m~/miniconda3/envs/basenji/lib/python3.8/site-packages/pandas/core/construction.py:649\u001b[0m, in \u001b[0;36m_sanitize_ndim\u001b[0;34m(result, data, dtype, index, allow_2d)\u001b[0m\n\u001b[1;32m    647\u001b[0m     \u001b[38;5;28;01mif\u001b[39;00m allow_2d:\n\u001b[1;32m    648\u001b[0m         \u001b[38;5;28;01mreturn\u001b[39;00m result\n\u001b[0;32m--> 649\u001b[0m     \u001b[38;5;28;01mraise\u001b[39;00m \u001b[38;5;167;01mValueError\u001b[39;00m(\u001b[38;5;124m\"\u001b[39m\u001b[38;5;124mData must be 1-dimensional\u001b[39m\u001b[38;5;124m\"\u001b[39m)\n\u001b[1;32m    650\u001b[0m \u001b[38;5;28;01mif\u001b[39;00m is_object_dtype(dtype) \u001b[38;5;129;01mand\u001b[39;00m \u001b[38;5;28misinstance\u001b[39m(dtype, ExtensionDtype):\n\u001b[1;32m    651\u001b[0m     \u001b[38;5;66;03m# i.e. PandasDtype(\"O\")\u001b[39;00m\n\u001b[1;32m    653\u001b[0m     result \u001b[38;5;241m=\u001b[39m com\u001b[38;5;241m.\u001b[39masarray_tuplesafe(data, dtype\u001b[38;5;241m=\u001b[39mnp\u001b[38;5;241m.\u001b[39mdtype(\u001b[38;5;124m\"\u001b[39m\u001b[38;5;124mobject\u001b[39m\u001b[38;5;124m\"\u001b[39m))\n",
      "\u001b[0;31mValueError\u001b[0m: Data must be 1-dimensional"
     ]
    }
   ],
   "source": [
    "akita_utils.h5_to_df(filename=filename, scd_stats=scd_stats)"
   ]
  },
  {
   "cell_type": "code",
   "execution_count": 49,
   "id": "b01617cd-6d33-4066-ac05-29fe7a7fd7e7",
   "metadata": {},
   "outputs": [
    {
     "name": "stdout",
     "output_type": "stream",
     "text": [
      "Keys: <KeysViewHDF5 ['INS-16', 'SCD', 'background_index', 'chrom', 'end', 'experiment_id', 'flank_bp', 'genomic_SCD', 'orientation', 'spacer_bp', 'start', 'strand']>\n",
      "0 INS-16 <class 'h5py._hl.dataset.Dataset'>\n",
      "1 SCD <class 'h5py._hl.dataset.Dataset'>\n",
      "2 background_index <class 'h5py._hl.dataset.Dataset'>\n",
      "3 chrom <class 'h5py._hl.dataset.Dataset'>\n",
      "4 end <class 'h5py._hl.dataset.Dataset'>\n",
      "5 experiment_id <class 'h5py._hl.dataset.Dataset'>\n",
      "6 flank_bp <class 'h5py._hl.dataset.Dataset'>\n",
      "7 genomic_SCD <class 'h5py._hl.dataset.Dataset'>\n",
      "8 orientation <class 'h5py._hl.dataset.Dataset'>\n",
      "9 spacer_bp <class 'h5py._hl.dataset.Dataset'>\n",
      "10 start <class 'h5py._hl.dataset.Dataset'>\n",
      "11 strand <class 'h5py._hl.dataset.Dataset'>\n"
     ]
    }
   ],
   "source": [
    "import h5py\n",
    "\n",
    "with h5py.File(filename, \"r\") as f:\n",
    "    # Print all root level object names (aka keys) \n",
    "    # these can be group or dataset names \n",
    "    print(\"Keys: %s\" % f.keys())\n",
    "    # get first object name/key; may or may NOT be a group\n",
    "    \n",
    "    for i in range(len(f.keys())):\n",
    "        a_group_key = list(f.keys())[i]\n",
    "        print(i, a_group_key, type(f[a_group_key])) \n",
    "    \n",
    "    a_group_key = list(f.keys())[0]\n",
    "    \n",
    "    data = list(f[a_group_key])\n",
    "    ds_obj = f[a_group_key]      # returns as a h5py dataset object\n",
    "    ds_arr = f[a_group_key][()]  # returns as a numpy array\n",
    "        \n",
    "        \n",
    "        #     # get the object type for a_group_key: usually group or dataset\n",
    "#     print(type(f[a_group_key])) \n",
    "\n",
    "# #     # If a_group_key is a group name, \n",
    "# #     # this gets the object names in the group and returns as a list\n",
    "# #     data = list(f[a_group_key])\n",
    "\n",
    "#     # If a_group_key is a dataset name, \n",
    "#     # this gets the dataset values and returns as a list\n",
    "#     data = list(f[a_group_key])\n",
    "#     # preferred methods to get dataset values:\n",
    "#     ds_obj = f[a_group_key]      # returns as a h5py dataset object\n",
    "#     ds_arr = f[a_group_key][()]  # returns as a numpy array"
   ]
  },
  {
   "cell_type": "code",
   "execution_count": 50,
   "id": "11bfb220-13d3-4855-8347-1851586877bf",
   "metadata": {},
   "outputs": [
    {
     "data": {
      "text/plain": [
       "array([[-0.10333 , -0.11707 , -0.1678  , -0.1576  , -0.1561  , -0.1371  ],\n",
       "       [-0.0549  , -0.01268 , -0.0822  , -0.0959  , -0.0713  , -0.08167 ],\n",
       "       [-0.178   , -0.1627  , -0.1766  , -0.1687  , -0.1769  , -0.1562  ],\n",
       "       [-0.0691  ,  0.01191 , -0.03467 , -0.0639  , -0.03552 , -0.0602  ],\n",
       "       [-0.1477  , -0.188   , -0.225   , -0.2052  , -0.217   , -0.1787  ],\n",
       "       [-0.05432 , -0.01213 , -0.08124 , -0.0949  , -0.07043 , -0.0809  ],\n",
       "       [-0.1786  , -0.1669  , -0.1787  , -0.17    , -0.1796  , -0.1578  ],\n",
       "       [-0.0693  ,  0.0118  , -0.03482 , -0.064   , -0.0357  , -0.06033 ],\n",
       "       [-0.0744  , -0.0585  , -0.1318  , -0.1343  , -0.1158  , -0.11273 ],\n",
       "       [-0.05527 , -0.0129  , -0.08264 , -0.0964  , -0.0717  , -0.0821  ],\n",
       "       [-0.1335  , -0.08746 , -0.12085 , -0.128   , -0.11835 , -0.1169  ],\n",
       "       [-0.0689  ,  0.01204 , -0.0345  , -0.0638  , -0.03537 , -0.0601  ],\n",
       "       [-0.1597  , -0.205   , -0.2402  , -0.2189  , -0.2327  , -0.1895  ],\n",
       "       [-0.0548  , -0.012726, -0.0822  , -0.0958  , -0.0713  , -0.08167 ],\n",
       "       [-0.1265  , -0.07434 , -0.1124  , -0.1223  , -0.10913 , -0.11084 ],\n",
       "       [-0.0682  ,  0.01252 , -0.0339  , -0.06335 , -0.03488 , -0.05978 ],\n",
       "       [-0.2288  , -0.3013  , -0.34    , -0.3071  , -0.3364  , -0.2593  ],\n",
       "       [-0.05444 , -0.01231 , -0.08154 , -0.0952  , -0.07074 , -0.0811  ],\n",
       "       [-0.1573  , -0.1261  , -0.1483  , -0.147   , -0.1473  , -0.1359  ],\n",
       "       [-0.0686  ,  0.0122  , -0.03433 , -0.06366 , -0.03525 , -0.06003 ],\n",
       "       [-0.1613  , -0.2079  , -0.2427  , -0.2212  , -0.2354  , -0.1913  ],\n",
       "       [-0.05508 , -0.0133  , -0.0832  , -0.0967  , -0.0721  , -0.0823  ],\n",
       "       [-0.1545  , -0.12103 , -0.1453  , -0.1451  , -0.1439  , -0.1338  ],\n",
       "       [-0.0686  ,  0.01229 , -0.03427 , -0.06366 , -0.03522 , -0.06003 ]],\n",
       "      dtype=float16)"
      ]
     },
     "execution_count": 50,
     "metadata": {},
     "output_type": "execute_result"
    }
   ],
   "source": [
    "ds_arr"
   ]
  },
  {
   "cell_type": "code",
   "execution_count": 51,
   "id": "6502973f-7b77-4e33-b364-f6c8e8d4475b",
   "metadata": {},
   "outputs": [
    {
     "data": {
      "text/plain": [
       "(24, 6)"
      ]
     },
     "execution_count": 51,
     "metadata": {},
     "output_type": "execute_result"
    }
   ],
   "source": [
    "ds_arr.shape"
   ]
  },
  {
   "cell_type": "code",
   "execution_count": null,
   "id": "a7f5a0ee-d3c7-446f-8a15-f95dd2357b99",
   "metadata": {},
   "outputs": [],
   "source": []
  }
 ],
 "metadata": {
  "kernelspec": {
   "display_name": "Basenji kernel",
   "language": "python",
   "name": "basenji_kernel"
  },
  "language_info": {
   "codemirror_mode": {
    "name": "ipython",
    "version": 3
   },
   "file_extension": ".py",
   "mimetype": "text/x-python",
   "name": "python",
   "nbconvert_exporter": "python",
   "pygments_lexer": "ipython3",
   "version": "3.8.12"
  }
 },
 "nbformat": 4,
 "nbformat_minor": 5
}
