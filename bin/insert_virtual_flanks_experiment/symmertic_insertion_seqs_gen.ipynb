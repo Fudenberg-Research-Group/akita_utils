{
 "cells": [
  {
   "cell_type": "code",
   "execution_count": 1,
   "id": "44600f4c-34da-4103-8a30-44c81be1865a",
   "metadata": {},
   "outputs": [
    {
     "name": "stderr",
     "output_type": "stream",
     "text": [
      "2022-11-18 10:30:40.089404: W tensorflow/stream_executor/platform/default/dso_loader.cc:64] Could not load dynamic library 'libcudart.so.11.0'; dlerror: libcudart.so.11.0: cannot open shared object file: No such file or directory; LD_LIBRARY_PATH: /spack/apps/linux-centos7-x86_64/gcc-8.3.0/python-3.9.2-uvcroioc4witkp6qf7mbebof5ix4wlb6/lib:/spack/apps/linux-centos7-x86_64/gcc-8.3.0/pmix-3.1.3-3sm6emyqaxapunh7rwbjvtaqoqe2e5z3/lib:/spack/apps/linux-centos7-x86_64/gcc-8.3.0/openmpi-4.0.2-ipm3dnvlbtxawpi4ifz7jma6jgr7mexq/lib:/spack/apps/linux-centos7-x86_64/gcc-8.3.0/openblas-0.3.8-2no6mfziiclwxb7lstxoos335gnhjpes/lib:/spack/apps/gcc/8.3.0/lib64::/home1/smaruj/software/GSL/lib:/home1/smaruj/software/HTSLIB/lib\n",
      "2022-11-18 10:30:40.089441: I tensorflow/stream_executor/cuda/cudart_stub.cc:29] Ignore above cudart dlerror if you do not have a GPU set up on your machine.\n"
     ]
    }
   ],
   "source": [
    "from __future__ import print_function\n",
    "\n",
    "from optparse import OptionParser\n",
    "import json\n",
    "import os\n",
    "\n",
    "# import os\n",
    "os.environ[\"OPENBLAS_NUM_THREADS\"] = \"1\"\n",
    "\n",
    "import pickle\n",
    "import random\n",
    "import time\n",
    "\n",
    "import h5py\n",
    "import numpy as np\n",
    "import pandas as pd\n",
    "import pysam\n",
    "import seaborn as sns\n",
    "\n",
    "sns.set(style=\"ticks\", font_scale=1.3)\n",
    "\n",
    "import tensorflow as tf\n",
    "\n",
    "from basenji import seqnn\n",
    "from basenji import stream\n",
    "from basenji import dna_io"
   ]
  },
  {
   "cell_type": "code",
   "execution_count": 2,
   "id": "da8a3a85-b475-4d39-9619-32b4a8f27564",
   "metadata": {},
   "outputs": [],
   "source": [
    "genome_open = pysam.Fastafile(\"/project/fudenber_735/genomes/mm10/mm10.fa\") \n",
    "\n",
    "background_seqs = []\n",
    "with open(\"/project/fudenber_735/tensorflow_models/akita/v2/analysis/background_seqs.fa\", \"r\") as f:\n",
    "    for line in f.readlines():\n",
    "        if \">\" in line:\n",
    "            continue\n",
    "        background_seqs.append(dna_io.dna_1hot(line.strip()))\n",
    "\n",
    "seq_coords_df = pd.read_csv(\"/home1/smaruj/akita_utils/bin/insert_virtual_flanks_experiment/test_3rows.tsv\", sep=\"\\t\")"
   ]
  },
  {
   "cell_type": "code",
   "execution_count": 3,
   "id": "7c226db8-4667-4c9e-95e1-0675809e39f9",
   "metadata": {},
   "outputs": [],
   "source": [
    "# seq_coords_df.columns"
   ]
  },
  {
   "cell_type": "code",
   "execution_count": 4,
   "id": "b9ea2b74-f567-43d7-acb4-e6eda4074228",
   "metadata": {},
   "outputs": [],
   "source": [
    "def get_seq_back(ohe_sequence):\n",
    "    ACTG_seq = str()\n",
    "    for pos in range(len(ohe_sequence)):\n",
    "        ACTG_seq = ACTG_seq + dna_io.hot1_get(ohe_sequence, pos)\n",
    "    return ACTG_seq"
   ]
  },
  {
   "cell_type": "code",
   "execution_count": 5,
   "id": "b28632fe-c655-4b05-a5e6-905060735d97",
   "metadata": {},
   "outputs": [],
   "source": [
    "def _insert_casette(seq_1hot, seq_1hot_insertion, spacer_bp, orientation_string):\n",
    "        \n",
    "    seq_length = seq_1hot.shape[0]\n",
    "    insert_bp = len(seq_1hot_insertion)\n",
    "    num_inserts = len(orientation_string)\n",
    "\n",
    "    insert_plus_spacer_bp = insert_bp + 2 * spacer_bp\n",
    "    multi_insert_bp = num_inserts * insert_plus_spacer_bp\n",
    "    insert_start_bp = seq_length // 2 - multi_insert_bp // 2\n",
    "    \n",
    "    output_seq = seq_1hot.copy()\n",
    "    insertion_starting_positions = []\n",
    "    for i in range(num_inserts):\n",
    "        offset = insert_start_bp + i * insert_plus_spacer_bp + spacer_bp\n",
    "\n",
    "        insertion_starting_positions.append(offset)\n",
    "\n",
    "        for orientation_arrow in orientation_string[i]:\n",
    "            if orientation_arrow == \">\":\n",
    "                output_seq[offset : offset + insert_bp] = seq_1hot_insertion\n",
    "            else:\n",
    "                output_seq[offset : offset + insert_bp] = dna_io.hot1_rc(seq_1hot_insertion)\n",
    "\n",
    "    return output_seq"
   ]
  },
  {
   "cell_type": "code",
   "execution_count": 6,
   "id": "620d6711-7e11-4717-aed0-f3d185ebbbc3",
   "metadata": {},
   "outputs": [],
   "source": [
    "# insertion experiments utils\n",
    "def symmertic_insertion_seqs_gen(seq_coords_df, background_seqs, genome_open):\n",
    "    \"\"\" sequence generator for making insertions from tsvs\n",
    "        construct an iterator that yields a one-hot encoded sequence\n",
    "        that can be used as input to akita via PredStreamGen\n",
    "    \"\"\"\n",
    "        \n",
    "    list_seq_1hot = []\n",
    "    \n",
    "    for s in seq_coords_df.itertuples():\n",
    "        \n",
    "        flank_bp = s.flank_bp\n",
    "        spacer_bp = s.spacer_bp\n",
    "        orientation_string = s.orientation\n",
    "                \n",
    "        seq_1hot_insertion = dna_io.dna_1hot(\n",
    "            genome_open.fetch(s.chrom, s.start - flank_bp, s.end + flank_bp).upper()\n",
    "        )\n",
    "        \n",
    "        if s.strand == \"-\":\n",
    "            seq_1hot_insertion = dna_io.hot1_rc(seq_1hot_insertion)\n",
    "            # now, all motifs are standarized to this orientation \">\"\n",
    "\n",
    "        seq_1hot = background_seqs[s.background_index].copy()\n",
    "        seq_1hot = _insert_casette(seq_1hot, seq_1hot_insertion, spacer_bp, orientation_string)\n",
    "        \n",
    "        yield seq_1hot"
   ]
  },
  {
   "cell_type": "code",
   "execution_count": null,
   "id": "2979e2dd-72bd-409e-8e7c-0f373403e4fb",
   "metadata": {},
   "outputs": [],
   "source": [
    "# i = 0\n",
    "\n",
    "# for s in seq_coords_df.itertuples():\n",
    "#     print(\"experiment_id: \", s.experiment_id)\n",
    "    \n",
    "#     ohe_CTCF = dna_io.dna_1hot(genome_open.fetch(s.chrom, s.start - s.flank_bp, s.end + s.flank_bp).upper())\n",
    "#     print(get_seq_back(ohe_CTCF))\n",
    "    \n",
    "#     seq_length = 1310720\n",
    "#     insert_bp = len(ohe_CTCF)\n",
    "#     num_inserts = len(s.orientation)\n",
    "\n",
    "#     insert_plus_spacer_bp = insert_bp + 2 * s.spacer_bp\n",
    "#     multi_insert_bp = num_inserts * insert_plus_spacer_bp\n",
    "#     insert_start_bp = seq_length // 2 - multi_insert_bp // 2\n",
    "    \n",
    "#     t_insertion_start = insert_start_bp + insert_plus_spacer_bp + s.spacer_bp\n",
    "#     print(t_insertion_start)\n",
    "#     print(get_seq_back(inserted_sequences[i][t_insertion_start : t_insertion_start + 5]))\n",
    "    \n",
    "#     i += 1"
   ]
  },
  {
   "cell_type": "code",
   "execution_count": null,
   "id": "0a04f23a-881f-40f9-975f-404eadfe9308",
   "metadata": {},
   "outputs": [],
   "source": []
  },
  {
   "cell_type": "code",
   "execution_count": null,
   "id": "13a592ad-cc08-459d-8877-852aaaf15467",
   "metadata": {},
   "outputs": [],
   "source": [
    "# _insert_casette().. \n",
    "        #genome= GAAGG , background = GAAGGTTT, test: _insert_casette( utils.dna_1hot(insertino), utils.dna_1hot(background), ints & strings)"
   ]
  },
  {
   "cell_type": "code",
   "execution_count": null,
   "id": "f0ace02f-d63a-4113-a8ef-bb232997e4e4",
   "metadata": {},
   "outputs": [],
   "source": [
    "'experiment_id', 'chrom', 'start', 'end', 'strand', 'genomic_SCD',\n",
    "       'orientation', 'background_index', 'flank_bp', 'spacer_bp'"
   ]
  },
  {
   "cell_type": "code",
   "execution_count": null,
   "id": "083d5547-d24f-43e1-bb47-5de3eb743936",
   "metadata": {},
   "outputs": [],
   "source": [
    "d = {\"experiment_id\": [1, 2], \"start\": [2, 8], \"end\": [5, 12], \"orientation\": [\">\", \">\"], \"background_index\": [0, 0], \"flank_bp\": [1, 0], \"spacer_bp\": [0,0]}\n",
    "df = pd.DataFrame(data=d)\n",
    "df"
   ]
  },
  {
   "cell_type": "code",
   "execution_count": 17,
   "id": "47cd1e6b-4152-459b-bf9e-37a32ff6c56d",
   "metadata": {},
   "outputs": [],
   "source": [
    "toy_genome_open = dna_io.dna_1hot(\"TTGTACTTCGTCGTT\")\n",
    "seq_1hot = dna_io.dna_1hot(\"AAAAAAAAAA\")"
   ]
  },
  {
   "cell_type": "code",
   "execution_count": 18,
   "id": "7c9df451-4ea7-4222-b098-6c593c8121a0",
   "metadata": {},
   "outputs": [],
   "source": [
    "first_spacer_bp = 1\n",
    "first_seq_1hot_insertion = toy_genome_open[(2-first_spacer_bp):(6+first_spacer_bp)]\n",
    "first_orientation_string = \">\""
   ]
  },
  {
   "cell_type": "code",
   "execution_count": 19,
   "id": "d22a7505-7da5-4aba-8f75-5d2bdd56eddb",
   "metadata": {},
   "outputs": [
    {
     "data": {
      "text/plain": [
       "True"
      ]
     },
     "execution_count": 19,
     "metadata": {},
     "output_type": "execute_result"
    }
   ],
   "source": [
    "get_seq_back(_insert_casette(seq_1hot, first_seq_1hot_insertion, first_spacer_bp, first_orientation_string)) == \"AATGTACTAA\""
   ]
  },
  {
   "cell_type": "code",
   "execution_count": 20,
   "id": "29ed9a94-24d6-481f-8d64-9b9d5fb648e4",
   "metadata": {},
   "outputs": [
    {
     "data": {
      "text/plain": [
       "'AATGTACTAA'"
      ]
     },
     "execution_count": 20,
     "metadata": {},
     "output_type": "execute_result"
    }
   ],
   "source": [
    "get_seq_back(_insert_casette(seq_1hot, first_seq_1hot_insertion, first_spacer_bp, first_orientation_string))"
   ]
  },
  {
   "cell_type": "code",
   "execution_count": 21,
   "id": "6b671670-fd70-41d0-b313-154249585ad4",
   "metadata": {},
   "outputs": [],
   "source": [
    "second_spacer_bp = 0\n",
    "second_seq_1hot_insertion = toy_genome_open[(8-second_spacer_bp):(13+second_spacer_bp)]\n",
    "second_orientation_string = \"<\""
   ]
  },
  {
   "cell_type": "code",
   "execution_count": 22,
   "id": "9c6d19c6-d116-4316-887b-0d2f72375110",
   "metadata": {},
   "outputs": [
    {
     "data": {
      "text/plain": [
       "'CGTCG'"
      ]
     },
     "execution_count": 22,
     "metadata": {},
     "output_type": "execute_result"
    }
   ],
   "source": [
    "get_seq_back(second_seq_1hot_insertion)"
   ]
  },
  {
   "cell_type": "code",
   "execution_count": 23,
   "id": "231ab412-9470-427b-9ddc-dee2a5f351fe",
   "metadata": {},
   "outputs": [
    {
     "data": {
      "text/plain": [
       "'AAAAAAAAAA'"
      ]
     },
     "execution_count": 23,
     "metadata": {},
     "output_type": "execute_result"
    }
   ],
   "source": [
    "get_seq_back(seq_1hot)"
   ]
  },
  {
   "cell_type": "code",
   "execution_count": 26,
   "id": "d7c61ad7-deb2-4173-b514-9579719b2f6b",
   "metadata": {},
   "outputs": [
    {
     "data": {
      "text/plain": [
       "True"
      ]
     },
     "execution_count": 26,
     "metadata": {},
     "output_type": "execute_result"
    }
   ],
   "source": [
    "get_seq_back(_insert_casette(seq_1hot, second_seq_1hot_insertion, second_spacer_bp, second_orientation_string)) == \"AAACGACGAA\""
   ]
  },
  {
   "cell_type": "code",
   "execution_count": 27,
   "id": "16cd9457-5fff-474a-bbc7-8a628ecd7822",
   "metadata": {},
   "outputs": [
    {
     "data": {
      "text/plain": [
       "'AAACGACGAA'"
      ]
     },
     "execution_count": 27,
     "metadata": {},
     "output_type": "execute_result"
    }
   ],
   "source": [
    "get_seq_back(_insert_casette(seq_1hot, second_seq_1hot_insertion, second_spacer_bp, second_orientation_string))"
   ]
  },
  {
   "cell_type": "code",
   "execution_count": null,
   "id": "56e7f3fc-6259-4af4-9f40-5bdced6e17ec",
   "metadata": {},
   "outputs": [],
   "source": []
  }
 ],
 "metadata": {
  "kernelspec": {
   "display_name": "Basenji kernel",
   "language": "python",
   "name": "basenji_kernel"
  },
  "language_info": {
   "codemirror_mode": {
    "name": "ipython",
    "version": 3
   },
   "file_extension": ".py",
   "mimetype": "text/x-python",
   "name": "python",
   "nbconvert_exporter": "python",
   "pygments_lexer": "ipython3",
   "version": "3.8.12"
  }
 },
 "nbformat": 4,
 "nbformat_minor": 5
}
