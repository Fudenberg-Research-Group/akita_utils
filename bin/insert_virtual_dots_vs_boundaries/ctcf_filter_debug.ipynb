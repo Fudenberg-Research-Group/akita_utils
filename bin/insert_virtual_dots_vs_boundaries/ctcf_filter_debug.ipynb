{
 "cells": [
  {
   "cell_type": "code",
   "execution_count": 1,
   "id": "e39b2110-99b7-456a-885a-a4cabb6c15dd",
   "metadata": {},
   "outputs": [],
   "source": [
    "from __future__ import print_function\n",
    "import os\n",
    "\n",
    "os.environ[\"OPENBLAS_NUM_THREADS\"] = \"1\"\n",
    "\n",
    "import random\n",
    "from optparse import OptionParser\n",
    "import pandas as pd\n",
    "\n",
    "from akita_utils.tsv_gen_utils import (\n",
    "    filter_boundary_ctcfs_from_h5,\n",
    "    filter_by_rmsk,\n",
    "    filter_by_ctcf,\n",
    "    add_orientation,\n",
    "    add_background,\n",
    "    add_diff_flanks_and_const_spacer,\n",
    "    validate_df_lenght,\n",
    "    filter_dataframe_by_column,\n",
    ")"
   ]
  },
  {
   "cell_type": "code",
   "execution_count": 2,
   "id": "0fd1fdfc-3284-4a7e-99a3-c553ded30951",
   "metadata": {},
   "outputs": [],
   "source": [
    "from io import StringIO"
   ]
  },
  {
   "cell_type": "code",
   "execution_count": 3,
   "id": "f146bdb5-3fe6-4f51-a06d-06188a251f0d",
   "metadata": {},
   "outputs": [],
   "source": [
    "# loading motifs\n",
    "score_key = \"SCD\"\n",
    "weak_thresh_pct = 1\n",
    "strong_thresh_pct = 99"
   ]
  },
  {
   "cell_type": "code",
   "execution_count": 4,
   "id": "e8049dbe-4c1c-444d-bfac-37e1b6d0d468",
   "metadata": {},
   "outputs": [
    {
     "name": "stdout",
     "output_type": "stream",
     "text": [
      "annotating each site with boundary-wide scores\n"
     ]
    }
   ],
   "source": [
    "sites = filter_boundary_ctcfs_from_h5(\n",
    "    h5_dirs=\"/project/fudenber_735/tensorflow_models/akita/v2/analysis/permute_boundaries_motifs_ctcf_mm10_model*/scd.h5\",\n",
    "    score_key=score_key,\n",
    "    threshold_all_ctcf=5,\n",
    ")"
   ]
  },
  {
   "cell_type": "code",
   "execution_count": 5,
   "id": "ea37f54a-789c-469b-89d6-91f1b22200dc",
   "metadata": {},
   "outputs": [
    {
     "data": {
      "text/plain": [
       "7454"
      ]
     },
     "execution_count": 5,
     "metadata": {},
     "output_type": "execute_result"
    }
   ],
   "source": [
    "len(sites)"
   ]
  },
  {
   "cell_type": "code",
   "execution_count": 6,
   "id": "cb79360a-7c5d-4249-853f-3701d11400b1",
   "metadata": {},
   "outputs": [],
   "source": [
    "flank_end = 20\n",
    "rmsk_exclude_window = flank_end\n",
    "ctcf_exclude_window = 2 * flank_end"
   ]
  },
  {
   "cell_type": "code",
   "execution_count": null,
   "id": "5b65bc11-b481-4dbb-9d67-8822ca67a21d",
   "metadata": {},
   "outputs": [],
   "source": [
    "sites = filter_by_rmsk(\n",
    "    sites,\n",
    "    rmsk_file=\"/project/fudenber_735/genomes/mm10/database/rmsk.txt.gz\",\n",
    "    exclude_window=rmsk_exclude_window,\n",
    "    verbose=True,\n",
    ")"
   ]
  },
  {
   "cell_type": "code",
   "execution_count": null,
   "id": "cf9c34a5-99c9-4a6e-a576-5b3a6239027d",
   "metadata": {},
   "outputs": [],
   "source": [
    "len(sites)"
   ]
  },
  {
   "cell_type": "code",
   "execution_count": 7,
   "id": "c53bbcfa-ca12-469a-81d0-a1671a1bfd22",
   "metadata": {},
   "outputs": [],
   "source": [
    "import bioframe"
   ]
  },
  {
   "cell_type": "code",
   "execution_count": null,
   "id": "28b01c5f-a149-4f8c-838a-6b6cdc777dad",
   "metadata": {},
   "outputs": [],
   "source": [
    "sites = filter_by_ctcf(\n",
    "    sites,\n",
    "    ctcf_file=\"/project/fudenber_735/motifs/mm10/jaspar/MA0139.1.tsv.gz\",\n",
    "    exclude_window=ctcf_exclude_window,\n",
    "    verbose=True,\n",
    ")"
   ]
  },
  {
   "cell_type": "code",
   "execution_count": null,
   "id": "ac90ebf0-2c38-443f-86d8-582d6d25bcca",
   "metadata": {},
   "outputs": [],
   "source": [
    "len(sites)"
   ]
  },
  {
   "cell_type": "code",
   "execution_count": null,
   "id": "06bea1b8-ea91-4874-adce-c9aac18e5c03",
   "metadata": {},
   "outputs": [],
   "source": []
  },
  {
   "cell_type": "code",
   "execution_count": null,
   "id": "7ca575d4-f99c-45f5-92f6-5ff7c1e65d6c",
   "metadata": {},
   "outputs": [],
   "source": []
  },
  {
   "cell_type": "code",
   "execution_count": 8,
   "id": "b7b25429-840f-4765-b063-f5e1fbe769a9",
   "metadata": {},
   "outputs": [],
   "source": [
    "# this is how this function look at this branch\n",
    "\n",
    "def filter_by_ctcf(\n",
    "    sites,\n",
    "    ctcf_file=\"/project/fudenber_735/motifs/mm10/jaspar/MA0139.1.tsv.gz\",\n",
    "    exclude_window=60,\n",
    "    site_cols=[\"chrom\", \"start\", \"end\"],\n",
    "    verbose=True,\n",
    "):\n",
    "\n",
    "    \"\"\"\n",
    "    Filter out sites that overlap any entry in ctcf within a window of 60bp up- and downstream.\n",
    "\n",
    "    Parameters\n",
    "    -----------\n",
    "    sites : dataFrame\n",
    "        Set of genomic intervals, currently with columns \"chrom\",\"start_2\",\"end_2\"\n",
    "    ctcf_file : str\n",
    "        File in tsv format used for filtering ctcf binding sites.\n",
    "\n",
    "    Returns\n",
    "    --------\n",
    "    sites : dataFrame\n",
    "        Subset of sites that do not have overlaps with ctcf binding sites in the ctcf_file.\n",
    "    \"\"\"\n",
    "\n",
    "    if verbose:\n",
    "        print(\"filtering sites by overlap with ctcfs\")\n",
    "\n",
    "    ctcf_cols = list(\n",
    "        pd.read_csv(\n",
    "            StringIO(\"\"\"chrom start end name score pval strand\"\"\"),\n",
    "            sep=\" \",\n",
    "        )\n",
    "    )\n",
    "\n",
    "    ctcf_motifs = pd.read_table(\n",
    "        ctcf_file,\n",
    "        names=ctcf_cols,\n",
    "    )\n",
    "\n",
    "    ctcf_motifs = bioframe.expand(ctcf_motifs, pad=exclude_window)\n",
    "\n",
    "    sites = bioframe.count_overlaps(\n",
    "        sites, ctcf_motifs[site_cols], cols1=[\"chrom\", \"start_2\", \"end_2\"]\n",
    "    )\n",
    "    sites = sites.iloc[sites[\"count\"].values == 0]          # <---- WHY HERE IS 0???? How is it possible that the output is not empty???\n",
    "    sites.reset_index(inplace=True, drop=True)\n",
    "\n",
    "    return sites"
   ]
  },
  {
   "cell_type": "code",
   "execution_count": null,
   "id": "99367b3d-9b59-4b24-867d-bd7ffc388698",
   "metadata": {},
   "outputs": [],
   "source": [
    "# changed\n",
    "\n",
    "def filter_by_ctcf(\n",
    "    sites,\n",
    "    ctcf_file=\"/project/fudenber_735/motifs/mm10/jaspar/MA0139.1.tsv.gz\",\n",
    "    exclude_window=60,\n",
    "    site_cols=[\"chrom\", \"start\", \"end\"],\n",
    "    verbose=True,\n",
    "):\n",
    "\n",
    "    \"\"\"\n",
    "    Filter out sites that overlap any entry in ctcf within a window of 60bp up- and downstream.\n",
    "\n",
    "    Parameters\n",
    "    -----------\n",
    "    sites : dataFrame\n",
    "        Set of genomic intervals, currently with columns \"chrom\",\"start_2\",\"end_2\"\n",
    "    ctcf_file : str\n",
    "        File in tsv format used for filtering ctcf binding sites.\n",
    "\n",
    "    Returns\n",
    "    --------\n",
    "    sites : dataFrame\n",
    "        Subset of sites that do not have overlaps with ctcf binding sites in the ctcf_file.\n",
    "    \"\"\"\n",
    "\n",
    "    if verbose:\n",
    "        print(\"filtering sites by overlap with ctcfs\")\n",
    "\n",
    "    ctcf_cols = list(\n",
    "        pd.read_csv(\n",
    "            StringIO(\"\"\"chrom start end name score pval strand\"\"\"),\n",
    "            sep=\" \",\n",
    "        )\n",
    "    )\n",
    "\n",
    "    ctcf_motifs = pd.read_table(\n",
    "        ctcf_file,\n",
    "        names=ctcf_cols,\n",
    "    )\n",
    "\n",
    "    ctcf_motifs = bioframe.expand(ctcf_motifs, pad=exclude_window)\n",
    "\n",
    "    sites = bioframe.count_overlaps(\n",
    "        sites, ctcf_motifs[site_cols], cols1=[\"chrom\", \"start_2\", \"end_2\"]\n",
    "    )\n",
    "    sites = sites.iloc[sites[\"count\"].values == 1]          # changed\n",
    "    sites.reset_index(inplace=True, drop=True)\n",
    "\n",
    "    return sites"
   ]
  },
  {
   "cell_type": "code",
   "execution_count": null,
   "id": "309b631d-71f1-48c2-8157-bb6d31242601",
   "metadata": {},
   "outputs": [],
   "source": [
    "sites = filter_by_ctcf(\n",
    "    sites,\n",
    "    ctcf_file=\"/project/fudenber_735/motifs/mm10/jaspar/MA0139.1.tsv.gz\",\n",
    "    exclude_window=ctcf_exclude_window,\n",
    "    verbose=True,\n",
    ")"
   ]
  },
  {
   "cell_type": "code",
   "execution_count": null,
   "id": "655a2d03-470c-4fdb-90ab-be3d9b447023",
   "metadata": {},
   "outputs": [],
   "source": [
    "len(sites)"
   ]
  },
  {
   "cell_type": "code",
   "execution_count": null,
   "id": "160af433-a4fd-4dd5-b31c-afd671711bc3",
   "metadata": {},
   "outputs": [],
   "source": [
    "# checking if the new implementation works as well"
   ]
  },
  {
   "cell_type": "code",
   "execution_count": null,
   "id": "74ac4759-5b89-434d-9b01-c75ae01f4b3c",
   "metadata": {},
   "outputs": [],
   "source": [
    "def read_rmsk(rmsk_file=\"/project/fudenber_735/genomes/mm10/database/rmsk.txt.gz\"):\n",
    "    \n",
    "    \"\"\"reads a data frame containing repeatable elements and renames columns specifying genomic intervals to standard: chrom, start, end, used in thie repo.\"\"\"\n",
    "    \n",
    "    rmsk_cols = list(\n",
    "        pd.read_csv(\n",
    "            StringIO(\n",
    "                \"\"\"bin swScore milliDiv milliDel milliIns genoName genoStart genoEnd genoLeft strand repName repClass repFamily repStart repEnd repLeft id\"\"\"\n",
    "            ),\n",
    "            sep=\" \",\n",
    "        )\n",
    "    )\n",
    "\n",
    "    rmsk = pd.read_table(\n",
    "        rmsk_file,\n",
    "        names=rmsk_cols,\n",
    "    )\n",
    "    \n",
    "    rmsk.rename(\n",
    "        columns={\"genoName\": \"chrom\", \"genoStart\": \"start\", \"genoEnd\": \"end\"},\n",
    "        inplace=True,\n",
    "    )\n",
    "    \n",
    "    return rmsk"
   ]
  },
  {
   "cell_type": "code",
   "execution_count": null,
   "id": "315f383e-4734-4b00-9654-981bb46dfbc5",
   "metadata": {},
   "outputs": [],
   "source": [
    "def filter_by_overlap_num(\n",
    "    working_df,\n",
    "    filter_df,\n",
    "    expand_window=60,\n",
    "    working_df_cols=[\"chrom\",\"start\",\"end\"],\n",
    "    filter_df_cols=[\"chrom\",\"start\",\"end\"],\n",
    "    max_overlap_num=0):\n",
    "    \n",
    "    \"\"\"\n",
    "    Filter out rows from working_df that overlap entries in filter_df above given threshold.\n",
    "\n",
    "    Parameters\n",
    "    -----------\n",
    "    working_df : dataFrame\n",
    "        First set of genomic intervals.\n",
    "    filter_df : dataFrame\n",
    "        Second set of genomic intervals.\n",
    "    expand_window : int\n",
    "        Indicates how big window around the given genomic intervals should be taken into account.\n",
    "    working_df_cols : list\n",
    "        Columns specifying genomic intervals in the working_df.\n",
    "    filter_df_cols : list\n",
    "        Columns specifying genomic intervals in the filter_df.\n",
    "    max_overlap_num : int\n",
    "        All the rows with number of overlaps above this threshold will be filtered out.\n",
    "        \n",
    "    Returns\n",
    "    --------\n",
    "    working_df : dataFrame\n",
    "        Subset of working_df that do not have overlaps with filter_df above given threshold.\n",
    "\n",
    "    \"\"\"\n",
    "    \n",
    "    filter_df = bioframe.expand(filter_df, pad=expand_window)\n",
    "    \n",
    "    working_df = bioframe.count_overlaps(working_df, filter_df[filter_df_cols], cols1=working_df_cols)\n",
    "    \n",
    "    working_df = working_df.iloc[working_df[\"count\"].values <= max_overlap_num]\n",
    "    working_df.reset_index(inplace=True, drop=True)\n",
    "\n",
    "    return working_df"
   ]
  },
  {
   "cell_type": "code",
   "execution_count": null,
   "id": "d7e55bff-21f8-49e1-a1d4-6299ae643574",
   "metadata": {},
   "outputs": [],
   "source": [
    "rmsk_df = read_rmsk(\"/project/fudenber_735/genomes/mm10/database/rmsk.txt.gz\")"
   ]
  },
  {
   "cell_type": "code",
   "execution_count": null,
   "id": "d152ccd9-aa7e-49c0-b57f-aaf7de75464b",
   "metadata": {},
   "outputs": [],
   "source": [
    "sites.columns"
   ]
  },
  {
   "cell_type": "code",
   "execution_count": null,
   "id": "03b21022-8bd3-41d5-8d96-2a5126fb000b",
   "metadata": {},
   "outputs": [],
   "source": [
    "sites = filter_by_overlap_num(\n",
    "    sites,\n",
    "    rmsk_df,\n",
    "    expand_window=rmsk_exclude_window,\n",
    "    working_df_cols=[\"chrom\",\"start_2\",\"end_2\"],\n",
    "    filter_df_cols=[\"chrom\",\"start\",\"end\"],\n",
    "    max_overlap_num=0)"
   ]
  },
  {
   "cell_type": "code",
   "execution_count": null,
   "id": "569b7932-7808-40a4-acfd-3839a91a9a05",
   "metadata": {},
   "outputs": [],
   "source": [
    "len(sites)"
   ]
  },
  {
   "cell_type": "code",
   "execution_count": null,
   "id": "f36d51fa-fa1b-4223-a3a0-0992d31bdad1",
   "metadata": {},
   "outputs": [],
   "source": [
    "sites = sites.drop(columns=[\"count\"])"
   ]
  },
  {
   "cell_type": "code",
   "execution_count": null,
   "id": "8b19494e-b8f0-468b-be69-d27645a83174",
   "metadata": {},
   "outputs": [],
   "source": [
    "ctcf_df = bioframe.read_table(\"/project/fudenber_735/motifs/mm10/jaspar/MA0139.1.tsv.gz\", schema=\"jaspar\")"
   ]
  },
  {
   "cell_type": "code",
   "execution_count": null,
   "id": "ebb3a518-8249-4a12-856f-e9cd4cfbef93",
   "metadata": {},
   "outputs": [],
   "source": [
    "sites = filter_by_overlap_num(\n",
    "    sites,\n",
    "    ctcf_df,\n",
    "    expand_window=ctcf_exclude_window,\n",
    "    working_df_cols=[\"chrom\",\"start_2\",\"end_2\"],\n",
    "    filter_df_cols=[\"chrom\",\"start\",\"end\"],\n",
    "    max_overlap_num=1)"
   ]
  },
  {
   "cell_type": "code",
   "execution_count": null,
   "id": "c77bd165-726d-46d6-9711-6d9f8f44f42d",
   "metadata": {},
   "outputs": [],
   "source": [
    "len(sites)"
   ]
  },
  {
   "cell_type": "code",
   "execution_count": null,
   "id": "11306fa5-f764-44f7-ac15-afef30c408e3",
   "metadata": {},
   "outputs": [],
   "source": []
  },
  {
   "cell_type": "code",
   "execution_count": null,
   "id": "4ebaad74-d708-4aba-a75b-1435389469b7",
   "metadata": {},
   "outputs": [],
   "source": []
  },
  {
   "cell_type": "code",
   "execution_count": null,
   "id": "5702ddc4-f55a-4223-9d2f-09348d5ab107",
   "metadata": {},
   "outputs": [],
   "source": []
  },
  {
   "cell_type": "code",
   "execution_count": null,
   "id": "fc2d7af0-df0d-4765-a6bd-007ce5654d93",
   "metadata": {},
   "outputs": [],
   "source": []
  },
  {
   "cell_type": "code",
   "execution_count": 9,
   "id": "9a7ed8a3-2b3b-4074-84dc-a9573a7ab0d3",
   "metadata": {},
   "outputs": [
    {
     "data": {
      "text/plain": [
       "7454"
      ]
     },
     "execution_count": 9,
     "metadata": {},
     "output_type": "execute_result"
    }
   ],
   "source": [
    "len(sites)"
   ]
  },
  {
   "cell_type": "code",
   "execution_count": 19,
   "id": "75f068b3-38e1-4543-b916-fcd712c84639",
   "metadata": {},
   "outputs": [],
   "source": [
    "single_site_df = sites[sites[\"SSD\"] == 5.972656]"
   ]
  },
  {
   "cell_type": "code",
   "execution_count": 20,
   "id": "dae69717-75fb-4ad8-b5a5-38c666cf22de",
   "metadata": {},
   "outputs": [
    {
     "name": "stdout",
     "output_type": "stream",
     "text": [
      "filtering sites by overlap with ctcfs\n"
     ]
    },
    {
     "data": {
      "text/html": [
       "<div>\n",
       "<style scoped>\n",
       "    .dataframe tbody tr th:only-of-type {\n",
       "        vertical-align: middle;\n",
       "    }\n",
       "\n",
       "    .dataframe tbody tr th {\n",
       "        vertical-align: top;\n",
       "    }\n",
       "\n",
       "    .dataframe thead th {\n",
       "        text-align: right;\n",
       "    }\n",
       "</style>\n",
       "<table border=\"1\" class=\"dataframe\">\n",
       "  <thead>\n",
       "    <tr style=\"text-align: right;\">\n",
       "      <th></th>\n",
       "      <th>SCD</th>\n",
       "      <th>SSD</th>\n",
       "      <th>alt_INS-128</th>\n",
       "      <th>alt_INS-16</th>\n",
       "      <th>alt_INS-256</th>\n",
       "      <th>alt_INS-32</th>\n",
       "      <th>alt_INS-64</th>\n",
       "      <th>boundary_index</th>\n",
       "      <th>boundary_strength_200000</th>\n",
       "      <th>chrom</th>\n",
       "      <th>...</th>\n",
       "      <th>INS-16</th>\n",
       "      <th>INS-32</th>\n",
       "      <th>INS-64</th>\n",
       "      <th>INS-128</th>\n",
       "      <th>INS-256</th>\n",
       "      <th>score_all_ctcf</th>\n",
       "      <th>score_10k</th>\n",
       "      <th>start_2</th>\n",
       "      <th>end_2</th>\n",
       "      <th>count</th>\n",
       "    </tr>\n",
       "  </thead>\n",
       "  <tbody>\n",
       "  </tbody>\n",
       "</table>\n",
       "<p>0 rows × 33 columns</p>\n",
       "</div>"
      ],
      "text/plain": [
       "Empty DataFrame\n",
       "Columns: [SCD, SSD, alt_INS-128, alt_INS-16, alt_INS-256, alt_INS-32, alt_INS-64, boundary_index, boundary_strength_200000, chrom, end, index, log2_insulation_score_200000, num_ctcf, ref_INS-128, ref_INS-16, ref_INS-256, ref_INS-32, ref_INS-64, score_2, span, start, strand_2, INS-16, INS-32, INS-64, INS-128, INS-256, score_all_ctcf, score_10k, start_2, end_2, count]\n",
       "Index: []\n",
       "\n",
       "[0 rows x 33 columns]"
      ]
     },
     "execution_count": 20,
     "metadata": {},
     "output_type": "execute_result"
    }
   ],
   "source": [
    "filter_by_ctcf(\n",
    "    single_site_df,\n",
    "    ctcf_file=\"/project/fudenber_735/motifs/mm10/jaspar/MA0139.1.tsv.gz\",\n",
    "    exclude_window=ctcf_exclude_window,\n",
    "    verbose=True,\n",
    ")"
   ]
  },
  {
   "cell_type": "code",
   "execution_count": null,
   "id": "9c5c8d95-f58f-4039-a295-e97df0be628a",
   "metadata": {},
   "outputs": [],
   "source": []
  }
 ],
 "metadata": {
  "kernelspec": {
   "display_name": "Basenji kernel",
   "language": "python",
   "name": "basenji_kernel"
  },
  "language_info": {
   "codemirror_mode": {
    "name": "ipython",
    "version": 3
   },
   "file_extension": ".py",
   "mimetype": "text/x-python",
   "name": "python",
   "nbconvert_exporter": "python",
   "pygments_lexer": "ipython3",
   "version": "3.8.12"
  }
 },
 "nbformat": 4,
 "nbformat_minor": 5
}
