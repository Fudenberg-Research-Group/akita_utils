{
 "cells": [
  {
   "cell_type": "code",
   "execution_count": 1,
   "id": "11f4fa66-f140-4759-ba45-756e68639b12",
   "metadata": {},
   "outputs": [],
   "source": [
    "import pandas as pd\n",
    "import pysam\n",
    "import numpy as np\n",
    "import akita_utils\n",
    "import h5py\n",
    "\n",
    "from akita_utils.utils import ut_dense\n",
    "\n",
    "import matplotlib.pyplot as plt\n",
    "import seaborn as sns"
   ]
  },
  {
   "cell_type": "code",
   "execution_count": 2,
   "id": "d7db9762-0641-43b4-8081-965f54ba3fee",
   "metadata": {},
   "outputs": [],
   "source": [
    "from akita_utils.stats_utils import calculate_SCD"
   ]
  },
  {
   "cell_type": "code",
   "execution_count": 3,
   "id": "d98b2dd5-510d-4105-9ad6-60dc354b4bf8",
   "metadata": {},
   "outputs": [],
   "source": [
    "def plot_map(matrix, vmin=-0.6, vmax=0.6, width=5, height=5, palette=\"RdBu_r\"):\n",
    "\n",
    "    \"\"\"\n",
    "    Plots a 512x512 map representating changes in the DNA contacts.\n",
    "\n",
    "    Parameters\n",
    "    ------------\n",
    "    matrix : numpy array\n",
    "        Changes in DNA contacts.\n",
    "    vmin : float\n",
    "    vmax : float\n",
    "        Minimum and maximum in the colormap scale.\n",
    "    width : int\n",
    "    height : int\n",
    "        Width and height of a plotted map.\n",
    "    \"\"\"\n",
    "\n",
    "    fig = plt.figure(figsize=(width, height))\n",
    "\n",
    "    sns.heatmap(\n",
    "        matrix,\n",
    "        vmin=vmin,\n",
    "        vmax=vmax,\n",
    "        cbar=False,\n",
    "        cmap=palette,\n",
    "        square=True,\n",
    "        xticklabels=False,\n",
    "        yticklabels=False,\n",
    "    )\n",
    "    plt.show()\n",
    "\n"
   ]
  },
  {
   "cell_type": "code",
   "execution_count": 4,
   "id": "025c8e1e-dcf8-469d-be01-e2fb3f6805fb",
   "metadata": {},
   "outputs": [],
   "source": [
    "def get_bin(\n",
    "    window_start,\n",
    "    window_end,\n",
    "    map_size=512,\n",
    "    bin_size=2048,\n",
    "    input_size=1310720,\n",
    "):\n",
    "\n",
    "    \"\"\"\n",
    "    Returns a list of bins overlapping the given window.\n",
    "\n",
    "    Parameters\n",
    "    ------------\n",
    "    window_start : int\n",
    "    window_end : int\n",
    "        Start and end of the window that overlapping bins we want to find.\n",
    "        Note, those values are in the local coordinates, so between 0 and input_size.\n",
    "    map_size : int\n",
    "        Size of the maps (equivalent to number of bins).\n",
    "    bin_size : int\n",
    "        The length of each bin in base pairs (bp).\n",
    "    input_size : int\n",
    "        Length of model's input sequence.\n",
    "\n",
    "    Returns\n",
    "    ---------\n",
    "    bin_index : int\n",
    "        The bin overlapping the given window.\n",
    "    \"\"\"\n",
    "\n",
    "    window_size = window_end - window_start\n",
    "\n",
    "    size_after_cropping = map_size * bin_size\n",
    "    size_difference = input_size - size_after_cropping\n",
    "    one_side_cropped_length = size_difference // 2\n",
    "\n",
    "    corrected_window_start = window_start - one_side_cropped_length\n",
    "    corrected_window_end = window_end - one_side_cropped_length\n",
    "\n",
    "    first_bin_covered = corrected_window_start // bin_size\n",
    "    last_bin_covered = corrected_window_end // bin_size\n",
    "    \n",
    "    assert first_bin_covered == last_bin_covered\n",
    "    \n",
    "    return first_bin_covered\n",
    "    "
   ]
  },
  {
   "cell_type": "code",
   "execution_count": 5,
   "id": "c230d718-7741-4d99-81ae-9188e6f8c34c",
   "metadata": {},
   "outputs": [],
   "source": [
    "def get_insertion_start_pos(insert_bp, spacer_bp, num_inserts, seq_length = 1310720):\n",
    "\n",
    "    insert_plus_spacer_bp = insert_bp + 2 * spacer_bp\n",
    "    multi_insert_bp = num_inserts * insert_plus_spacer_bp\n",
    "    insert_start_bp = seq_length // 2 - multi_insert_bp // 2\n",
    "\n",
    "    insertion_starting_positions = []\n",
    "    for i in range(num_inserts):\n",
    "        offset = insert_start_bp + i * insert_plus_spacer_bp + spacer_bp\n",
    "        insertion_starting_positions.append(offset)\n",
    "        \n",
    "    return insertion_starting_positions"
   ]
  },
  {
   "cell_type": "code",
   "execution_count": 6,
   "id": "f132464f-d711-460d-aa40-ef7dded5d683",
   "metadata": {},
   "outputs": [],
   "source": [
    "def get_map_matrix(hf, num_sequences, head_index, model_index, num_background):\n",
    "    \"\"\"averaged over targets\"\"\"\n",
    "    \n",
    "    num_targets = 6\n",
    "    if head_index != 1:\n",
    "        num_targets = 5\n",
    "    \n",
    "    map_size = np.array(hf[f\"e0_h{head_index}_m{model_index}_t0_b0\"]).shape[0]\n",
    "    \n",
    "    map_matrix = np.zeros((map_size, map_size, num_sequences, num_background))\n",
    "\n",
    "    for seq_index in range(num_sequences):\n",
    "        for target_index in range(num_targets):\n",
    "            for background_index in range(num_background):\n",
    "                map_matrix[:, :, seq_index, background_index] += np.array(hf[f\"e{seq_index}_h{head_index}_m{model_index}_t{target_index}_b{background_index}\"])\n",
    "    \n",
    "    map_matrix = map_matrix / num_targets\n",
    "    return map_matrix\n"
   ]
  },
  {
   "cell_type": "code",
   "execution_count": 7,
   "id": "84c0287a-6aae-4f86-b494-91e050f20be6",
   "metadata": {},
   "outputs": [],
   "source": [
    "def get_reference_matrix(hf, head_index, model_index, num_background):\n",
    "        \n",
    "    num_targets = 6\n",
    "    if head_index != 1:\n",
    "        num_targets = 5\n",
    "        \n",
    "    map_size = np.array(hf[f\"ref0_h{head_index}_m{model_index}_t0\"]).shape[0]\n",
    "    \n",
    "    ref_map_matrix = np.zeros((map_size, map_size, num_background))\n",
    "    \n",
    "    for target_index in range(num_targets):\n",
    "        for background_index in range(num_background):\n",
    "            ref_map_matrix[:, :, background_index] += np.array(hf[f\"ref{background_index}_h{head_index}_m{model_index}_t{target_index}\"])\n",
    "    \n",
    "    ref_map_matrix = ref_map_matrix / num_targets\n",
    "    return ref_map_matrix\n"
   ]
  },
  {
   "cell_type": "code",
   "execution_count": 8,
   "id": "162d5059-370e-4d31-91cb-ad550e7c4d8d",
   "metadata": {},
   "outputs": [],
   "source": [
    "def subtable_h5_to_df(\n",
    "    filename,\n",
    "    columns_of_interest,\n",
    "    verbose=False,\n",
    "):\n",
    "    hf = h5py.File(filename, \"r\")\n",
    "    s = []\n",
    "    for column in columns_of_interest:\n",
    "        s.append(pd.Series(hf[column][()], name=column))\n",
    "\n",
    "    hf.close()\n",
    "\n",
    "    # generating pandas DataFrame and converting bytestrings\n",
    "    df_out = pd.concat(s, axis=1)\n",
    "    for key, key_dtype in df_out.dtypes.items():\n",
    "        if not pd.api.types.is_numeric_dtype(key_dtype):\n",
    "            df_out[key] = df_out[key].str.decode(\"utf8\").copy()\n",
    "\n",
    "    return df_out"
   ]
  },
  {
   "cell_type": "code",
   "execution_count": 9,
   "id": "f0d9b446-4ddd-41d9-a8e2-ec6f557a73f0",
   "metadata": {},
   "outputs": [],
   "source": [
    "dots_hf = h5py.File(\"/home1/smaruj/akita_utils/bin/insert_virtual_dots_vs_boundaries/dots_25motifs/OUT.h5\",\"r\")"
   ]
  },
  {
   "cell_type": "code",
   "execution_count": 10,
   "id": "946a53c4-8c6d-4c23-98ad-d0f1792aff0f",
   "metadata": {},
   "outputs": [],
   "source": [
    "boundaries_hf = h5py.File(\"/home1/smaruj/akita_utils/bin/insert_virtual_dots_vs_boundaries/boundaries_25motifs/OUT.h5\",\"r\")"
   ]
  },
  {
   "cell_type": "code",
   "execution_count": 11,
   "id": "83197f85-d0d8-490f-ab9b-48dc5f9ceff1",
   "metadata": {},
   "outputs": [],
   "source": [
    "# for key in boundaries_hf:\n",
    "    # print(key, boundaries_hf[key].shape)"
   ]
  },
  {
   "cell_type": "code",
   "execution_count": 12,
   "id": "afccd290-f3d7-40ee-a60b-0fd419e329bf",
   "metadata": {},
   "outputs": [],
   "source": [
    "columns_to_df = []\n",
    "\n",
    "for key in boundaries_hf:\n",
    "    if (key[0] != \"e\" and key[:3] != \"ref\"):\n",
    "        columns_to_df.append(key)"
   ]
  },
  {
   "cell_type": "code",
   "execution_count": 13,
   "id": "22bbfbb8-6df3-4100-9ec2-cafd4579d380",
   "metadata": {},
   "outputs": [
    {
     "data": {
      "text/plain": [
       "['background_index',\n",
       " 'chrom',\n",
       " 'diffSCD_h1_m0_t0',\n",
       " 'diffSCD_h1_m0_t1',\n",
       " 'diffSCD_h1_m0_t2',\n",
       " 'diffSCD_h1_m0_t3',\n",
       " 'diffSCD_h1_m0_t4',\n",
       " 'diffSCD_h1_m0_t5',\n",
       " 'flank_bp',\n",
       " 'genomic_SCD',\n",
       " 'orientation',\n",
       " 'spacer_bp',\n",
       " 'start',\n",
       " 'strand']"
      ]
     },
     "execution_count": 13,
     "metadata": {},
     "output_type": "execute_result"
    }
   ],
   "source": [
    "columns_to_df"
   ]
  },
  {
   "cell_type": "code",
   "execution_count": 14,
   "id": "94288e49-3124-4cd7-b0eb-1ce8cfb42ed9",
   "metadata": {},
   "outputs": [],
   "source": [
    "df = subtable_h5_to_df(\n",
    "    \"/home1/smaruj/akita_utils/bin/insert_virtual_dots_vs_boundaries/boundaries_25motifs/OUT.h5\",\n",
    "    columns_to_df)"
   ]
  },
  {
   "cell_type": "code",
   "execution_count": 15,
   "id": "222f316a-519f-4121-a2ea-c30fee42f1b9",
   "metadata": {},
   "outputs": [
    {
     "data": {
      "text/plain": [
       "Index(['background_index', 'chrom', 'diffSCD_h1_m0_t0', 'diffSCD_h1_m0_t1',\n",
       "       'diffSCD_h1_m0_t2', 'diffSCD_h1_m0_t3', 'diffSCD_h1_m0_t4',\n",
       "       'diffSCD_h1_m0_t5', 'flank_bp', 'genomic_SCD', 'orientation',\n",
       "       'spacer_bp', 'start', 'strand'],\n",
       "      dtype='object')"
      ]
     },
     "execution_count": 15,
     "metadata": {},
     "output_type": "execute_result"
    }
   ],
   "source": [
    "df.columns"
   ]
  },
  {
   "cell_type": "code",
   "execution_count": 16,
   "id": "80e1db55-2366-45b0-b5c3-cf6c10e887e8",
   "metadata": {},
   "outputs": [],
   "source": [
    "starts = get_insertion_start_pos(insert_bp=59, spacer_bp=99980, num_inserts=2)"
   ]
  },
  {
   "cell_type": "code",
   "execution_count": 17,
   "id": "2da80c1d-9d0e-44ca-819e-011887cecd9e",
   "metadata": {},
   "outputs": [],
   "source": [
    "insert_bp=59\n",
    "row_line, col_line = get_bin(starts[0], starts[0]+insert_bp), get_bin(starts[1], starts[1]+insert_bp)"
   ]
  },
  {
   "cell_type": "code",
   "execution_count": 18,
   "id": "6da09e0e-4bf3-4c30-a8d2-79ea1aa612b0",
   "metadata": {},
   "outputs": [
    {
     "data": {
      "text/plain": [
       "(207, 304)"
      ]
     },
     "execution_count": 18,
     "metadata": {},
     "output_type": "execute_result"
    }
   ],
   "source": [
    "row_line, col_line"
   ]
  },
  {
   "cell_type": "code",
   "execution_count": 19,
   "id": "622884e3-bc83-44c7-9f11-39c413e21ed9",
   "metadata": {},
   "outputs": [],
   "source": [
    "halfsize = 15"
   ]
  },
  {
   "cell_type": "code",
   "execution_count": 20,
   "id": "4fa7f990-5c30-4585-9090-73c5cf8fa29a",
   "metadata": {},
   "outputs": [],
   "source": [
    "num_sequences = 25\n",
    "head_index = 1\n",
    "model_index = 0\n",
    "num_backgrounds = 10"
   ]
  },
  {
   "cell_type": "code",
   "execution_count": 21,
   "id": "054a7d04-6d37-4775-babf-d216694275b1",
   "metadata": {},
   "outputs": [],
   "source": [
    "boundaries_matrix = get_map_matrix(boundaries_hf, num_sequences, head_index, model_index, num_backgrounds)"
   ]
  },
  {
   "cell_type": "code",
   "execution_count": 22,
   "id": "38cae5c7-854e-47de-814c-50b168c4c08c",
   "metadata": {},
   "outputs": [],
   "source": [
    "boundaries_matrix_ave_bgs = np.average(boundaries_matrix, axis=3)"
   ]
  },
  {
   "cell_type": "code",
   "execution_count": 23,
   "id": "5835a13d-58d9-4c36-a005-f5f57ab712a8",
   "metadata": {},
   "outputs": [],
   "source": [
    "ref_map_matrix = get_reference_matrix(boundaries_hf, head_index, model_index, num_backgrounds)"
   ]
  },
  {
   "cell_type": "code",
   "execution_count": 24,
   "id": "d2a569ec-ed8e-44c1-a536-9ba23149eee0",
   "metadata": {},
   "outputs": [],
   "source": [
    "scd_scores_all = []\n",
    "\n",
    "for seq_index in range(25):\n",
    "    for background_index in range(num_backgrounds):\n",
    "        scd = calculate_SCD(boundaries_matrix[:, :, seq_index, background_index], reference_map_matrix=ref_map_matrix[:, :, background_index])\n",
    "        scd_scores_all.append(scd)"
   ]
  },
  {
   "cell_type": "code",
   "execution_count": 25,
   "id": "08279183-73df-4797-957e-4c2623ae6e82",
   "metadata": {},
   "outputs": [],
   "source": [
    "df[\"SCD\"] = scd_scores_all"
   ]
  },
  {
   "cell_type": "code",
   "execution_count": 26,
   "id": "bcaeb46f-7256-43ae-93c6-7cb218ae7f60",
   "metadata": {},
   "outputs": [],
   "source": [
    "dot_matrix = get_map_matrix(dots_hf, num_sequences, head_index, model_index, num_backgrounds)"
   ]
  },
  {
   "cell_type": "code",
   "execution_count": 27,
   "id": "98949043-5191-4bdf-b028-65aafd18bf2d",
   "metadata": {},
   "outputs": [],
   "source": [
    "def sum_squares(map_fragment):\n",
    "    \n",
    "    return np.sqrt((map_fragment**2).sum(axis=(0,1))) * (1/2)"
   ]
  },
  {
   "cell_type": "code",
   "execution_count": 28,
   "id": "ddfad69e-088b-4f89-905b-802919d44694",
   "metadata": {},
   "outputs": [],
   "source": [
    "def dot_alone(dot_matrix):\n",
    "    \n",
    "    # central, dot part\n",
    "    dot_score = sum_squares(dot_matrix[10:20, 10:20])\n",
    "    return dot_score"
   ]
  },
  {
   "cell_type": "code",
   "execution_count": 29,
   "id": "8a3ea45e-2f58-4a3a-9a9f-4370dd15e6bf",
   "metadata": {},
   "outputs": [],
   "source": [
    "def dot_score_x(dot_matrix):\n",
    "    \n",
    "    # central, dot part\n",
    "    dot_score = sum_squares(dot_matrix[10:20, 10:20])\n",
    "    \n",
    "    # x-parts\n",
    "    x_score = 0\n",
    "    for matrix_part in [dot_matrix[:10, :10], dot_matrix[:10, 20:], dot_matrix[20:, :10], dot_matrix[20:, 20:]]:\n",
    "        x_score += sum_squares(matrix_part)\n",
    "        \n",
    "    return x_score / dot_score"
   ]
  },
  {
   "cell_type": "code",
   "execution_count": 30,
   "id": "9a8d8d1e-c263-481a-a163-9326834612f4",
   "metadata": {},
   "outputs": [],
   "source": [
    "def dot_score_cross(dot_matrix):\n",
    "    \n",
    "    # central, dot part\n",
    "    dot_score = sum_squares(dot_matrix[10:20, 10:20])\n",
    "    \n",
    "    # cross-parts\n",
    "    cross_score = 0\n",
    "    for matrix_part in [dot_matrix[:10, 10:20], dot_matrix[10:20, :10], dot_matrix[10:20, 20:], dot_matrix[20:, 10:20]]:\n",
    "        cross_score += sum_squares(matrix_part)\n",
    "        \n",
    "    return cross_score / dot_score"
   ]
  },
  {
   "cell_type": "code",
   "execution_count": 31,
   "id": "49de8c5a-9114-4b9f-aa06-1860ec7d2345",
   "metadata": {},
   "outputs": [],
   "source": [
    "dot_alone_all = []\n",
    "dot_x_all = []\n",
    "dot_cross_all = []\n",
    "\n",
    "for seq_index in range(25):\n",
    "    for background_index in range(num_backgrounds):\n",
    "        scd = calculate_SCD(boundaries_matrix[:, :, seq_index, background_index], reference_map_matrix=ref_map_matrix[:, :, background_index])\n",
    "        scd_scores_all.append(scd)\n",
    "        \n",
    "\n",
    "for seq_index in range(25):\n",
    "    for background_index in range(num_backgrounds):\n",
    "        dot = dot_matrix[row_line-halfsize: row_line+halfsize, col_line-halfsize:col_line+halfsize, seq_index, background_index]\n",
    "        dot_alone_all.append(dot_score_cross(dot))\n",
    "        dot_x_all.append(dot_score_x(dot))\n",
    "        dot_cross_all.append(dot_score_cross(dot))\n",
    "        "
   ]
  },
  {
   "cell_type": "code",
   "execution_count": 32,
   "id": "6d3ed35a-bebe-41a0-9199-72e395ef28e7",
   "metadata": {},
   "outputs": [],
   "source": [
    "df[\"dot\"] = dot_alone_all\n",
    "df[\"dot_x\"] = dot_x_all\n",
    "df[\"dot_cross\"] = dot_cross_all"
   ]
  },
  {
   "cell_type": "code",
   "execution_count": 33,
   "id": "d096dd10-bbdb-4990-9218-8c328fde91c5",
   "metadata": {},
   "outputs": [
    {
     "data": {
      "text/plain": [
       "<AxesSubplot:xlabel='SCD', ylabel='dot_cross'>"
      ]
     },
     "execution_count": 33,
     "metadata": {},
     "output_type": "execute_result"
    },
    {
     "data": {
      "image/png": "[encoded data removed]",
      "text/plain": [
       "<Figure size 640x480 with 1 Axes>"
      ]
     },
     "metadata": {},
     "output_type": "display_data"
    }
   ],
   "source": [
    "sns.scatterplot(data=df, x=\"SCD\", y=\"dot_cross\", hue=\"background_index\", palette=\"tab20\")"
   ]
  },
  {
   "cell_type": "code",
   "execution_count": 34,
   "id": "5c317742-4a39-41d8-9780-7e616c88ab83",
   "metadata": {},
   "outputs": [
    {
     "data": {
      "text/plain": [
       "<AxesSubplot:xlabel='SCD', ylabel='dot'>"
      ]
     },
     "execution_count": 34,
     "metadata": {},
     "output_type": "execute_result"
    },
    {
     "data": {
      "image/png": "[encoded data removed]",
      "text/plain": [
       "<Figure size 640x480 with 1 Axes>"
      ]
     },
     "metadata": {},
     "output_type": "display_data"
    }
   ],
   "source": [
    "sns.scatterplot(data=df, x=\"SCD\", y=\"dot\", hue=\"background_index\", palette=\"tab20\")"
   ]
  },
  {
   "cell_type": "code",
   "execution_count": 35,
   "id": "19352e13-2ac0-467a-90c6-8a7929b4a7db",
   "metadata": {},
   "outputs": [
    {
     "data": {
      "text/plain": [
       "<AxesSubplot:xlabel='SCD', ylabel='dot_x'>"
      ]
     },
     "execution_count": 35,
     "metadata": {},
     "output_type": "execute_result"
    },
    {
     "data": {
      "image/png": "[encoded data removed]",
      "text/plain": [
       "<Figure size 640x480 with 1 Axes>"
      ]
     },
     "metadata": {},
     "output_type": "display_data"
    }
   ],
   "source": [
    "sns.scatterplot(data=df, x=\"SCD\", y=\"dot_x\", hue=\"background_index\", palette=\"tab20\")"
   ]
  },
  {
   "cell_type": "code",
   "execution_count": 36,
   "id": "06bb3455-5875-47f3-8bed-f2b827a2ebdb",
   "metadata": {},
   "outputs": [
    {
     "data": {
      "text/html": [
       "<div>\n",
       "<style scoped>\n",
       "    .dataframe tbody tr th:only-of-type {\n",
       "        vertical-align: middle;\n",
       "    }\n",
       "\n",
       "    .dataframe tbody tr th {\n",
       "        vertical-align: top;\n",
       "    }\n",
       "\n",
       "    .dataframe thead th {\n",
       "        text-align: right;\n",
       "    }\n",
       "</style>\n",
       "<table border=\"1\" class=\"dataframe\">\n",
       "  <thead>\n",
       "    <tr style=\"text-align: right;\">\n",
       "      <th></th>\n",
       "      <th>background_index</th>\n",
       "      <th>chrom</th>\n",
       "      <th>diffSCD_h1_m0_t0</th>\n",
       "      <th>diffSCD_h1_m0_t1</th>\n",
       "      <th>diffSCD_h1_m0_t2</th>\n",
       "      <th>diffSCD_h1_m0_t3</th>\n",
       "      <th>diffSCD_h1_m0_t4</th>\n",
       "      <th>diffSCD_h1_m0_t5</th>\n",
       "      <th>flank_bp</th>\n",
       "      <th>genomic_SCD</th>\n",
       "      <th>orientation</th>\n",
       "      <th>spacer_bp</th>\n",
       "      <th>start</th>\n",
       "      <th>strand</th>\n",
       "      <th>SCD</th>\n",
       "      <th>dot</th>\n",
       "      <th>dot_x</th>\n",
       "      <th>dot_cross</th>\n",
       "    </tr>\n",
       "  </thead>\n",
       "  <tbody>\n",
       "    <tr>\n",
       "      <th>0</th>\n",
       "      <td>0</td>\n",
       "      <td>chr12</td>\n",
       "      <td>0.0</td>\n",
       "      <td>0.0</td>\n",
       "      <td>0.0</td>\n",
       "      <td>0.0</td>\n",
       "      <td>0.0</td>\n",
       "      <td>0.0</td>\n",
       "      <td>20</td>\n",
       "      <td>53.78</td>\n",
       "      <td>&lt;&gt;</td>\n",
       "      <td>99980</td>\n",
       "      <td>35192361</td>\n",
       "      <td>+</td>\n",
       "      <td>46.491874</td>\n",
       "      <td>3.815678</td>\n",
       "      <td>3.550468</td>\n",
       "      <td>3.815678</td>\n",
       "    </tr>\n",
       "    <tr>\n",
       "      <th>1</th>\n",
       "      <td>0</td>\n",
       "      <td>chr2</td>\n",
       "      <td>0.0</td>\n",
       "      <td>0.0</td>\n",
       "      <td>0.0</td>\n",
       "      <td>0.0</td>\n",
       "      <td>0.0</td>\n",
       "      <td>0.0</td>\n",
       "      <td>20</td>\n",
       "      <td>53.70</td>\n",
       "      <td>&lt;&gt;</td>\n",
       "      <td>99980</td>\n",
       "      <td>48886252</td>\n",
       "      <td>-</td>\n",
       "      <td>39.235490</td>\n",
       "      <td>3.743507</td>\n",
       "      <td>3.359366</td>\n",
       "      <td>3.743507</td>\n",
       "    </tr>\n",
       "    <tr>\n",
       "      <th>2</th>\n",
       "      <td>0</td>\n",
       "      <td>chr12</td>\n",
       "      <td>0.0</td>\n",
       "      <td>0.0</td>\n",
       "      <td>0.0</td>\n",
       "      <td>0.0</td>\n",
       "      <td>0.0</td>\n",
       "      <td>0.0</td>\n",
       "      <td>20</td>\n",
       "      <td>53.66</td>\n",
       "      <td>&lt;&gt;</td>\n",
       "      <td>99980</td>\n",
       "      <td>35192359</td>\n",
       "      <td>-</td>\n",
       "      <td>46.692337</td>\n",
       "      <td>3.819003</td>\n",
       "      <td>3.381116</td>\n",
       "      <td>3.819003</td>\n",
       "    </tr>\n",
       "    <tr>\n",
       "      <th>3</th>\n",
       "      <td>0</td>\n",
       "      <td>chr8</td>\n",
       "      <td>0.0</td>\n",
       "      <td>0.0</td>\n",
       "      <td>0.0</td>\n",
       "      <td>0.0</td>\n",
       "      <td>0.0</td>\n",
       "      <td>0.0</td>\n",
       "      <td>20</td>\n",
       "      <td>53.50</td>\n",
       "      <td>&lt;&gt;</td>\n",
       "      <td>99980</td>\n",
       "      <td>102781112</td>\n",
       "      <td>-</td>\n",
       "      <td>37.217518</td>\n",
       "      <td>3.751744</td>\n",
       "      <td>3.395751</td>\n",
       "      <td>3.751744</td>\n",
       "    </tr>\n",
       "    <tr>\n",
       "      <th>4</th>\n",
       "      <td>0</td>\n",
       "      <td>chr5</td>\n",
       "      <td>0.0</td>\n",
       "      <td>0.0</td>\n",
       "      <td>0.0</td>\n",
       "      <td>0.0</td>\n",
       "      <td>0.0</td>\n",
       "      <td>0.0</td>\n",
       "      <td>20</td>\n",
       "      <td>53.30</td>\n",
       "      <td>&lt;&gt;</td>\n",
       "      <td>99980</td>\n",
       "      <td>49961991</td>\n",
       "      <td>-</td>\n",
       "      <td>45.513270</td>\n",
       "      <td>3.832849</td>\n",
       "      <td>3.466252</td>\n",
       "      <td>3.832849</td>\n",
       "    </tr>\n",
       "    <tr>\n",
       "      <th>...</th>\n",
       "      <td>...</td>\n",
       "      <td>...</td>\n",
       "      <td>...</td>\n",
       "      <td>...</td>\n",
       "      <td>...</td>\n",
       "      <td>...</td>\n",
       "      <td>...</td>\n",
       "      <td>...</td>\n",
       "      <td>...</td>\n",
       "      <td>...</td>\n",
       "      <td>...</td>\n",
       "      <td>...</td>\n",
       "      <td>...</td>\n",
       "      <td>...</td>\n",
       "      <td>...</td>\n",
       "      <td>...</td>\n",
       "      <td>...</td>\n",
       "      <td>...</td>\n",
       "    </tr>\n",
       "    <tr>\n",
       "      <th>245</th>\n",
       "      <td>9</td>\n",
       "      <td>chr12</td>\n",
       "      <td>0.0</td>\n",
       "      <td>0.0</td>\n",
       "      <td>0.0</td>\n",
       "      <td>0.0</td>\n",
       "      <td>0.0</td>\n",
       "      <td>0.0</td>\n",
       "      <td>20</td>\n",
       "      <td>51.06</td>\n",
       "      <td>&lt;&gt;</td>\n",
       "      <td>99980</td>\n",
       "      <td>57825931</td>\n",
       "      <td>+</td>\n",
       "      <td>71.816655</td>\n",
       "      <td>1.273657</td>\n",
       "      <td>0.713192</td>\n",
       "      <td>1.273657</td>\n",
       "    </tr>\n",
       "    <tr>\n",
       "      <th>246</th>\n",
       "      <td>9</td>\n",
       "      <td>chr3</td>\n",
       "      <td>0.0</td>\n",
       "      <td>0.0</td>\n",
       "      <td>0.0</td>\n",
       "      <td>0.0</td>\n",
       "      <td>0.0</td>\n",
       "      <td>0.0</td>\n",
       "      <td>20</td>\n",
       "      <td>50.94</td>\n",
       "      <td>&lt;&gt;</td>\n",
       "      <td>99980</td>\n",
       "      <td>57843966</td>\n",
       "      <td>+</td>\n",
       "      <td>57.788335</td>\n",
       "      <td>1.116186</td>\n",
       "      <td>0.600422</td>\n",
       "      <td>1.116186</td>\n",
       "    </tr>\n",
       "    <tr>\n",
       "      <th>247</th>\n",
       "      <td>9</td>\n",
       "      <td>chr16</td>\n",
       "      <td>0.0</td>\n",
       "      <td>0.0</td>\n",
       "      <td>0.0</td>\n",
       "      <td>0.0</td>\n",
       "      <td>0.0</td>\n",
       "      <td>0.0</td>\n",
       "      <td>20</td>\n",
       "      <td>50.80</td>\n",
       "      <td>&lt;&gt;</td>\n",
       "      <td>99980</td>\n",
       "      <td>22564764</td>\n",
       "      <td>+</td>\n",
       "      <td>89.402852</td>\n",
       "      <td>1.480375</td>\n",
       "      <td>0.591854</td>\n",
       "      <td>1.480375</td>\n",
       "    </tr>\n",
       "    <tr>\n",
       "      <th>248</th>\n",
       "      <td>9</td>\n",
       "      <td>chr7</td>\n",
       "      <td>0.0</td>\n",
       "      <td>0.0</td>\n",
       "      <td>0.0</td>\n",
       "      <td>0.0</td>\n",
       "      <td>0.0</td>\n",
       "      <td>0.0</td>\n",
       "      <td>20</td>\n",
       "      <td>50.60</td>\n",
       "      <td>&lt;&gt;</td>\n",
       "      <td>99980</td>\n",
       "      <td>132213675</td>\n",
       "      <td>-</td>\n",
       "      <td>76.600355</td>\n",
       "      <td>0.987962</td>\n",
       "      <td>0.743458</td>\n",
       "      <td>0.987962</td>\n",
       "    </tr>\n",
       "    <tr>\n",
       "      <th>249</th>\n",
       "      <td>9</td>\n",
       "      <td>chr16</td>\n",
       "      <td>0.0</td>\n",
       "      <td>0.0</td>\n",
       "      <td>0.0</td>\n",
       "      <td>0.0</td>\n",
       "      <td>0.0</td>\n",
       "      <td>0.0</td>\n",
       "      <td>20</td>\n",
       "      <td>50.38</td>\n",
       "      <td>&lt;&gt;</td>\n",
       "      <td>99980</td>\n",
       "      <td>72215914</td>\n",
       "      <td>-</td>\n",
       "      <td>71.191830</td>\n",
       "      <td>1.316717</td>\n",
       "      <td>0.569072</td>\n",
       "      <td>1.316717</td>\n",
       "    </tr>\n",
       "  </tbody>\n",
       "</table>\n",
       "<p>250 rows × 18 columns</p>\n",
       "</div>"
      ],
      "text/plain": [
       "     background_index  chrom  diffSCD_h1_m0_t0  diffSCD_h1_m0_t1  \\\n",
       "0                   0  chr12               0.0               0.0   \n",
       "1                   0   chr2               0.0               0.0   \n",
       "2                   0  chr12               0.0               0.0   \n",
       "3                   0   chr8               0.0               0.0   \n",
       "4                   0   chr5               0.0               0.0   \n",
       "..                ...    ...               ...               ...   \n",
       "245                 9  chr12               0.0               0.0   \n",
       "246                 9   chr3               0.0               0.0   \n",
       "247                 9  chr16               0.0               0.0   \n",
       "248                 9   chr7               0.0               0.0   \n",
       "249                 9  chr16               0.0               0.0   \n",
       "\n",
       "     diffSCD_h1_m0_t2  diffSCD_h1_m0_t3  diffSCD_h1_m0_t4  diffSCD_h1_m0_t5  \\\n",
       "0                 0.0               0.0               0.0               0.0   \n",
       "1                 0.0               0.0               0.0               0.0   \n",
       "2                 0.0               0.0               0.0               0.0   \n",
       "3                 0.0               0.0               0.0               0.0   \n",
       "4                 0.0               0.0               0.0               0.0   \n",
       "..                ...               ...               ...               ...   \n",
       "245               0.0               0.0               0.0               0.0   \n",
       "246               0.0               0.0               0.0               0.0   \n",
       "247               0.0               0.0               0.0               0.0   \n",
       "248               0.0               0.0               0.0               0.0   \n",
       "249               0.0               0.0               0.0               0.0   \n",
       "\n",
       "     flank_bp  genomic_SCD orientation  spacer_bp      start strand  \\\n",
       "0          20        53.78          <>      99980   35192361      +   \n",
       "1          20        53.70          <>      99980   48886252      -   \n",
       "2          20        53.66          <>      99980   35192359      -   \n",
       "3          20        53.50          <>      99980  102781112      -   \n",
       "4          20        53.30          <>      99980   49961991      -   \n",
       "..        ...          ...         ...        ...        ...    ...   \n",
       "245        20        51.06          <>      99980   57825931      +   \n",
       "246        20        50.94          <>      99980   57843966      +   \n",
       "247        20        50.80          <>      99980   22564764      +   \n",
       "248        20        50.60          <>      99980  132213675      -   \n",
       "249        20        50.38          <>      99980   72215914      -   \n",
       "\n",
       "           SCD       dot     dot_x  dot_cross  \n",
       "0    46.491874  3.815678  3.550468   3.815678  \n",
       "1    39.235490  3.743507  3.359366   3.743507  \n",
       "2    46.692337  3.819003  3.381116   3.819003  \n",
       "3    37.217518  3.751744  3.395751   3.751744  \n",
       "4    45.513270  3.832849  3.466252   3.832849  \n",
       "..         ...       ...       ...        ...  \n",
       "245  71.816655  1.273657  0.713192   1.273657  \n",
       "246  57.788335  1.116186  0.600422   1.116186  \n",
       "247  89.402852  1.480375  0.591854   1.480375  \n",
       "248  76.600355  0.987962  0.743458   0.987962  \n",
       "249  71.191830  1.316717  0.569072   1.316717  \n",
       "\n",
       "[250 rows x 18 columns]"
      ]
     },
     "execution_count": 36,
     "metadata": {},
     "output_type": "execute_result"
    }
   ],
   "source": [
    "df"
   ]
  },
  {
   "cell_type": "code",
   "execution_count": null,
   "id": "66319317-b242-4383-98ac-dd486113a7f8",
   "metadata": {},
   "outputs": [],
   "source": []
  }
 ],
 "metadata": {
  "kernelspec": {
   "display_name": "Basenji kernel",
   "language": "python",
   "name": "basenji_kernel"
  },
  "language_info": {
   "codemirror_mode": {
    "name": "ipython",
    "version": 3
   },
   "file_extension": ".py",
   "mimetype": "text/x-python",
   "name": "python",
   "nbconvert_exporter": "python",
   "pygments_lexer": "ipython3",
   "version": "3.8.12"
  }
 },
 "nbformat": 4,
 "nbformat_minor": 5
}
