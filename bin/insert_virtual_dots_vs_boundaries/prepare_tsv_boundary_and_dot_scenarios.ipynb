{
 "cells": [
  {
   "cell_type": "code",
   "execution_count": 1,
   "id": "c83db69d-4443-4db1-b0c1-306978ca4a47",
   "metadata": {},
   "outputs": [],
   "source": [
    "import h5py\n",
    "import pandas as pd\n",
    "import numpy as np\n",
    "from scipy import stats\n",
    "\n",
    "import matplotlib.pyplot as plt\n",
    "import seaborn as sns\n",
    "\n",
    "from akita_utils.tsv_gen_utils import add_orientation, add_const_flank_and_diff_spacer, add_background"
   ]
  },
  {
   "cell_type": "markdown",
   "id": "d196c5ee-c760-407c-a04b-ba34302e36f4",
   "metadata": {},
   "source": [
    "### read tsv with all filetered mouse ctcfs"
   ]
  },
  {
   "cell_type": "code",
   "execution_count": 2,
   "id": "357748d2-a0d6-491d-b805-77d791575dff",
   "metadata": {},
   "outputs": [],
   "source": [
    "all_ctcf_path = \"./ctcf_tsv/filtered_base_mouse_ctcf.tsv\"\n",
    "df = pd.read_csv(all_ctcf_path, sep=\"\\t\")"
   ]
  },
  {
   "cell_type": "code",
   "execution_count": 4,
   "id": "ddb403fe-526b-4e0e-bfab-137a369d7be0",
   "metadata": {},
   "outputs": [],
   "source": [
    "# we want to perform insertion experiment using all 10 backgrounds for a model\n",
    "nr_sites = len(df)\n",
    "nr_backgrounds = 10"
   ]
  },
  {
   "cell_type": "markdown",
   "id": "254c4bdf-f3b3-469e-af55-11f950f0e0a7",
   "metadata": {},
   "source": [
    "### adding bg_index and experiment ID"
   ]
  },
  {
   "cell_type": "code",
   "execution_count": 5,
   "id": "3c717bd9-2523-4bc3-b239-2bf0189d8c16",
   "metadata": {},
   "outputs": [],
   "source": [
    "df = add_background(\n",
    "        df, [bg_index for bg_index in range(nr_backgrounds)] \n",
    "    )"
   ]
  },
  {
   "cell_type": "code",
   "execution_count": 6,
   "id": "b5bd7ff1-491d-4f55-b5be-639ddf693732",
   "metadata": {},
   "outputs": [],
   "source": [
    "exp_id = [i for i in range(nr_sites * nr_backgrounds)]\n",
    "df[\"exp_id\"] = exp_id"
   ]
  },
  {
   "cell_type": "markdown",
   "id": "241e5442-e33e-4c14-be0c-17a37c0dd80e",
   "metadata": {},
   "source": [
    "### preparing tsv for the boundary scenario"
   ]
  },
  {
   "cell_type": "code",
   "execution_count": 8,
   "id": "c1e2a491-8c79-4809-ba0e-d0d75d6a8d8f",
   "metadata": {},
   "outputs": [],
   "source": [
    "# boundary scenaro parameters\n",
    "orientation = [\"<>\"]\n",
    "flank = 20\n",
    "spacing_list = [70]"
   ]
  },
  {
   "cell_type": "code",
   "execution_count": 9,
   "id": "f5bd56cf-c3d5-47c3-abf3-a0a1301c9578",
   "metadata": {},
   "outputs": [],
   "source": [
    "boundary_df = add_orientation(df, orientation_strings=orientation, all_permutations=False)\n",
    "boundary_df = add_const_flank_and_diff_spacer(boundary_df, flank, spacing_list)\n",
    "boundary_df.to_csv(\"./ctcf_tsv/filtered_base_mouse_ctcf_boundary.tsv\", sep = \"\\t\", index=False)"
   ]
  },
  {
   "cell_type": "markdown",
   "id": "667bb55e-cd67-4d94-ad5d-e4889ca59a2a",
   "metadata": {},
   "source": [
    "### preparing tsv for the dot scenario"
   ]
  },
  {
   "cell_type": "code",
   "execution_count": 11,
   "id": "2170b377-f2d3-4cc1-ab3e-ea60a6fd4bb2",
   "metadata": {},
   "outputs": [],
   "source": [
    "# dot scenaro parameters\n",
    "orientation = [\"><\"]\n",
    "flank = 20\n",
    "spacing_list = [199980]"
   ]
  },
  {
   "cell_type": "code",
   "execution_count": 12,
   "id": "1828e9fc-c1bd-47ac-886d-2cd01b88e1ce",
   "metadata": {},
   "outputs": [],
   "source": [
    "dot_df = add_orientation(df, orientation_strings=orientation, all_permutations=False)\n",
    "dot_df = add_const_flank_and_diff_spacer(dot_df, flank, spacing_list)\n",
    "dot_df.to_csv(\"./ctcf_tsv/filtered_base_mouse_ctcf_dot.tsv\", sep = \"\\t\", index=False)"
   ]
  },
  {
   "cell_type": "code",
   "execution_count": null,
   "id": "9604c16f-e739-4fd9-b35f-89866eb214e4",
   "metadata": {},
   "outputs": [],
   "source": []
  }
 ],
 "metadata": {
  "kernelspec": {
   "display_name": "Basenji kernel",
   "language": "python",
   "name": "basenji_kernel"
  },
  "language_info": {
   "codemirror_mode": {
    "name": "ipython",
    "version": 3
   },
   "file_extension": ".py",
   "mimetype": "text/x-python",
   "name": "python",
   "nbconvert_exporter": "python",
   "pygments_lexer": "ipython3",
   "version": "3.8.12"
  }
 },
 "nbformat": 4,
 "nbformat_minor": 5
}
