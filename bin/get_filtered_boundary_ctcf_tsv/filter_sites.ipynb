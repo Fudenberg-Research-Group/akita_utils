{
 "cells": [
  {
   "cell_type": "code",
   "execution_count": 1,
   "id": "b329399c-54f7-4b5d-ac38-e5fb5321790d",
   "metadata": {},
   "outputs": [],
   "source": [
    "import pandas as pd\n",
    "import pysam\n",
    "import numpy as np\n",
    "import akita_utils\n",
    "import seaborn as sns\n",
    "import bioframe as bf"
   ]
  },
  {
   "cell_type": "code",
   "execution_count": 2,
   "id": "81944b29-c165-4129-8cab-b5e96f82125a",
   "metadata": {},
   "outputs": [
    {
     "name": "stderr",
     "output_type": "stream",
     "text": [
      "2023-10-13 10:50:22.125445: W tensorflow/stream_executor/platform/default/dso_loader.cc:64] Could not load dynamic library 'libcudart.so.11.0'; dlerror: libcudart.so.11.0: cannot open shared object file: No such file or directory; LD_LIBRARY_PATH: :/home1/smaruj/software/GSL/lib:/home1/smaruj/software/HTSLIB/lib\n",
      "2023-10-13 10:50:22.125493: I tensorflow/stream_executor/cuda/cudart_stub.cc:29] Ignore above cudart dlerror if you do not have a GPU set up on your machine.\n"
     ]
    }
   ],
   "source": [
    "from akita_utils.dna_utils import scan_motif, dna_1hot\n",
    "from akita_utils.format_io import read_jaspar_to_numpy, read_rmsk\n",
    "from akita_utils.tsv_gen_utils import filter_by_overlap_num"
   ]
  },
  {
   "cell_type": "markdown",
   "id": "61b3a05d-20f1-429c-8c89-3b903b71e649",
   "metadata": {},
   "source": [
    "# reading tsv with all mouse ctcf motifs overlapping genomic boundaries"
   ]
  },
  {
   "cell_type": "code",
   "execution_count": 3,
   "id": "af021dac-deaf-43e6-809c-6faf8063df81",
   "metadata": {},
   "outputs": [],
   "source": [
    "all_ctcf_path = \"/project/fudenber_735/tensorflow_models/akita/v2/analysis/to_insert_boundaries.motifs.ctcf.mm10.tsv\"\n",
    "df = pd.read_csv(all_ctcf_path, sep=\"\\t\")"
   ]
  },
  {
   "cell_type": "markdown",
   "id": "c9c7bec7-d332-4422-b1f9-39c743420842",
   "metadata": {},
   "source": [
    "Since the set of motifs is the same for all backgrounds, we can focus on a subset of the table corresponding to one background (e.g. the 0th background)"
   ]
  },
  {
   "cell_type": "code",
   "execution_count": 4,
   "id": "22c9ed06-64f5-4d7f-9ccf-51f57ec073e0",
   "metadata": {},
   "outputs": [],
   "source": [
    "df = df[df[\"background_index\"] == 0]\n",
    "\n",
    "# removing some not necessary columns from the table for clarity\n",
    "columns_to_keep = [\"boundary_index\", \"chrom\", \"boundary_end\", \"index\", \"num_ctcf\", \"span\", \"boundary_start\", \"strand\", \"start\", \"end\"]\n",
    "df = df[columns_to_keep]"
   ]
  },
  {
   "cell_type": "markdown",
   "id": "593b2e56-0aea-4048-b88e-42152a69ab4e",
   "metadata": {},
   "source": [
    "# filtering"
   ]
  },
  {
   "cell_type": "markdown",
   "id": "6cb02217-fa1a-4346-a3f8-68f1c34954ea",
   "metadata": {},
   "source": [
    "## 1. by ctcf"
   ]
  },
  {
   "cell_type": "code",
   "execution_count": 5,
   "id": "2ffc775d-84be-49d6-8f05-89350e6259dc",
   "metadata": {},
   "outputs": [],
   "source": [
    "# jaspar tsv\n",
    "jaspar_file = \"/project/fudenber_735/motifs/mm10/jaspar/MA0139.1.tsv.gz\"\n",
    "jaspar_df = bf.read_table(jaspar_file, schema=\"jaspar\")\n",
    "\n",
    "# filtering\n",
    "filtered_df = filter_by_overlap_num(df,\n",
    "                    filter_df=jaspar_df,\n",
    "                     max_overlap_num=1)"
   ]
  },
  {
   "cell_type": "code",
   "execution_count": 6,
   "id": "3b2f4fa6-ace9-47e6-83a0-e6a9467562c9",
   "metadata": {},
   "outputs": [
    {
     "data": {
      "text/plain": [
       "2351"
      ]
     },
     "execution_count": 6,
     "metadata": {},
     "output_type": "execute_result"
    }
   ],
   "source": [
    "len(df) - len(filtered_df)"
   ]
  },
  {
   "cell_type": "markdown",
   "id": "b4e270a2-3d6e-4dd5-9eb3-a13bb52acb98",
   "metadata": {},
   "source": [
    "2351 sites have been excluded from the analysis since they overlap another ctcf sites"
   ]
  },
  {
   "cell_type": "markdown",
   "id": "dce62bdd-1a7b-435b-b666-3554df3b1d65",
   "metadata": {},
   "source": [
    "## 2. by rmsk (a table with repeatable elements e.g. SINE, LINE, ect.)"
   ]
  },
  {
   "cell_type": "code",
   "execution_count": 7,
   "id": "b4068ddb-c4c4-4fd1-b9a6-f6fc75a670f4",
   "metadata": {},
   "outputs": [],
   "source": [
    "rmsk_file = \"/project/fudenber_735/genomes/mm10/database/rmsk.txt.gz\"\n",
    "rmsk_df = read_rmsk(rmsk_file)"
   ]
  },
  {
   "cell_type": "code",
   "execution_count": 8,
   "id": "abf9fc42-b7c3-4f20-a848-840f9dad09c5",
   "metadata": {},
   "outputs": [],
   "source": [
    "filtered_df = filter_by_overlap_num(filtered_df,\n",
    "                        rmsk_df,\n",
    "                        expand_window=20,\n",
    "                        working_df_cols = [\"chrom\",\"start\",\"end\"])"
   ]
  },
  {
   "cell_type": "code",
   "execution_count": 9,
   "id": "74fa008b-a460-481a-ae4b-53de1fd0c9a2",
   "metadata": {},
   "outputs": [
    {
     "data": {
      "text/plain": [
       "7560"
      ]
     },
     "execution_count": 9,
     "metadata": {},
     "output_type": "execute_result"
    }
   ],
   "source": [
    "len(filtered_df)"
   ]
  },
  {
   "cell_type": "markdown",
   "id": "a1749569-e340-4082-984c-a02566bb931d",
   "metadata": {},
   "source": [
    "More than half of the sites have been filtered out.    \n",
    "It's okay since we prefer to work with smaller, but high-quality sites (meaning that the effect of their insertion  disruption is not affected by overlapping ctct sites or repeatable genomic elements)."
   ]
  },
  {
   "cell_type": "markdown",
   "id": "365eea70-cf90-4e78-bf19-33f197b8fe7d",
   "metadata": {},
   "source": [
    "# adding seq_id"
   ]
  },
  {
   "cell_type": "code",
   "execution_count": 10,
   "id": "e3749a6e-adf1-4e0b-94dd-c93f85c2b915",
   "metadata": {},
   "outputs": [],
   "source": [
    "# so we can identify the same ctcf sites between experiments\n",
    "\n",
    "seq_id = [seq_index for seq_index in range(len(filtered_df))]\n",
    "filtered_df[\"seq_id\"] = seq_id"
   ]
  },
  {
   "cell_type": "markdown",
   "id": "34b3d908-093c-4699-8fd0-6d380561d734",
   "metadata": {},
   "source": [
    "# tsv saving"
   ]
  },
  {
   "cell_type": "code",
   "execution_count": 12,
   "id": "7269458a-fc14-4d0d-99f3-86572a470582",
   "metadata": {},
   "outputs": [],
   "source": [
    "filtered_df.to_csv(\"./filtered_base_mouse_ctcf.tsv\", sep = \"\\t\", index=False)"
   ]
  },
  {
   "cell_type": "markdown",
   "id": "512bafd4-3f71-4c37-9ab6-6ddd3405f213",
   "metadata": {},
   "source": [
    "# ATTENTION   \n",
    "## All the code below should be removed at some point in the future.   \n",
    "## It has been a part of the development process."
   ]
  },
  {
   "cell_type": "markdown",
   "id": "a5865b16-9c51-4a9c-a387-f728f838d1e6",
   "metadata": {},
   "source": [
    "# ctcf motifs scanning"
   ]
  },
  {
   "cell_type": "code",
   "execution_count": null,
   "id": "db3ddd94-1307-4a93-a70d-001f04059ee4",
   "metadata": {},
   "outputs": [],
   "source": [
    "# Sites' strand annotation is based on original sites' annotation from the jaspar database.\n",
    "# Since we want to study potentially orientation-dependent phenomenon, let's double check that our (local) method that scans ctcf gives the same strand as jaspar's method."
   ]
  },
  {
   "cell_type": "code",
   "execution_count": 13,
   "id": "25b90681-70b5-45e3-a254-0118018ca43f",
   "metadata": {},
   "outputs": [],
   "source": [
    "genome_file = \"/project/fudenber_735/genomes/mm10/mm10.fa\"\n",
    "\n",
    "# reading CTCF motif from the jaspar file\n",
    "motif_matrix = read_jaspar_to_numpy()"
   ]
  },
  {
   "cell_type": "code",
   "execution_count": 14,
   "id": "80b44ba4-28c3-4082-9c91-e9187716862e",
   "metadata": {},
   "outputs": [],
   "source": [
    "def get_forward_score(s, flank_bp=20):\n",
    "    \n",
    "    motif_matrix = read_jaspar_to_numpy()\n",
    "    dna = dna_1hot(genome_open.fetch(s.chrom, s.start - flank_bp, s.end + flank_bp).upper())\n",
    "    \n",
    "    max_forward_score = scan_motif(dna, motif_matrix, strand=\"forward\").max()\n",
    "    \n",
    "    return max_forward_score\n",
    "\n",
    "\n",
    "def get_reverse_score(s, flank_bp=20):\n",
    "    \n",
    "    motif_matrix = read_jaspar_to_numpy()\n",
    "    dna = dna_1hot(genome_open.fetch(s.chrom, s.start - flank_bp, s.end + flank_bp).upper())\n",
    "    \n",
    "    max_reverse_score = scan_motif(dna, motif_matrix, strand=\"reverse\").max()\n",
    "    \n",
    "    return max_reverse_score\n",
    "\n",
    "\n",
    "def get_scan_strand(s):\n",
    "    \n",
    "    if s.forward_scan >= s.reverse_scan:\n",
    "        return \"+\"\n",
    "    else:\n",
    "        return \"-\"\n",
    "\n",
    "\n",
    "def check_mismatch(s):\n",
    "    if s.strand != s.scan_strand:\n",
    "        return 1\n",
    "    else:\n",
    "        return 0\n",
    "\n",
    "\n",
    "def get_rf_diff(s):\n",
    "    diff = s.forward_scan - s.reverse_scan\n",
    "    if diff >= 0:\n",
    "        return diff\n",
    "    else:\n",
    "        return -1 * diff"
   ]
  },
  {
   "cell_type": "code",
   "execution_count": 15,
   "id": "55d6a281-deb9-4655-a4a6-4dde78593b86",
   "metadata": {},
   "outputs": [
    {
     "name": "stderr",
     "output_type": "stream",
     "text": [
      "2023-10-13 10:52:52.966495: W tensorflow/stream_executor/platform/default/dso_loader.cc:64] Could not load dynamic library 'libcuda.so.1'; dlerror: libcuda.so.1: cannot open shared object file: No such file or directory; LD_LIBRARY_PATH: :/home1/smaruj/software/GSL/lib:/home1/smaruj/software/HTSLIB/lib\n",
      "2023-10-13 10:52:52.966540: W tensorflow/stream_executor/cuda/cuda_driver.cc:269] failed call to cuInit: UNKNOWN ERROR (303)\n",
      "2023-10-13 10:52:52.966588: I tensorflow/stream_executor/cuda/cuda_diagnostics.cc:156] kernel driver does not appear to be running on this host (b02-07.hpc.usc.edu): /proc/driver/nvidia/version does not exist\n",
      "2023-10-13 10:52:52.966933: I tensorflow/core/platform/cpu_feature_guard.cc:193] This TensorFlow binary is optimized with oneAPI Deep Neural Network Library (oneDNN) to use the following CPU instructions in performance-critical operations:  AVX2 FMA\n",
      "To enable them in other operations, rebuild TensorFlow with the appropriate compiler flags.\n"
     ]
    }
   ],
   "source": [
    "genome_open = pysam.Fastafile(genome_file)\n",
    "\n",
    "filtered_df.loc[:, (\"forward_scan\")] = filtered_df.apply(get_forward_score, axis=1)\n",
    "filtered_df.loc[:, (\"reverse_scan\")] = filtered_df.apply(get_reverse_score, axis=1)\n",
    "filtered_df.loc[:, (\"scan_strand\")] = filtered_df.apply(get_scan_strand, axis=1)\n",
    "filtered_df.loc[:, (\"mismatch\")] = filtered_df.apply(check_mismatch, axis=1)\n",
    "filtered_df.loc[:, (\"rf_diff\")] = filtered_df.apply(get_rf_diff, axis=1)\n",
    "\n",
    "genome_open.close()"
   ]
  },
  {
   "cell_type": "markdown",
   "id": "aab65ef1-2539-4788-8118-88d54f416332",
   "metadata": {},
   "source": [
    "## Do we have any sites with mismatches?"
   ]
  },
  {
   "cell_type": "code",
   "execution_count": 16,
   "id": "6a6db394-cdbe-4a48-94c9-0b887cbea3e1",
   "metadata": {},
   "outputs": [],
   "source": [
    "mismatch_df = filtered_df[filtered_df[\"mismatch\"] == 1]"
   ]
  },
  {
   "cell_type": "code",
   "execution_count": 17,
   "id": "eba4b39a-e8f0-41a8-9925-66acf87e5734",
   "metadata": {},
   "outputs": [],
   "source": [
    "mismatched_ids = list(mismatch_df.seq_id)"
   ]
  },
  {
   "cell_type": "code",
   "execution_count": 18,
   "id": "e0319a68-7402-46bf-b85c-c57e1a0dc247",
   "metadata": {},
   "outputs": [
    {
     "data": {
      "text/plain": [
       "54"
      ]
     },
     "execution_count": 18,
     "metadata": {},
     "output_type": "execute_result"
    }
   ],
   "source": [
    "len(mismatched_ids)"
   ]
  },
  {
   "cell_type": "code",
   "execution_count": 19,
   "id": "c5cb0276-2e88-4a54-9d78-3670a266e9ea",
   "metadata": {},
   "outputs": [],
   "source": [
    "with open(\"/home1/smaruj/akita_utils/bin/insert_virtual_dots_vs_boundaries/analysis/mismatched_ids.txt\", \"w\") as outfile:\n",
    "    for id in mismatched_ids:\n",
    "        outfile.write(str(id))\n",
    "        outfile.write(\"\\n\")"
   ]
  },
  {
   "cell_type": "code",
   "execution_count": null,
   "id": "32088c83-c4ca-4802-a0cc-df4fb5fe05e2",
   "metadata": {},
   "outputs": [],
   "source": []
  }
 ],
 "metadata": {
  "kernelspec": {
   "display_name": "Basenji kernel",
   "language": "python",
   "name": "basenji_kernel"
  },
  "language_info": {
   "codemirror_mode": {
    "name": "ipython",
    "version": 3
   },
   "file_extension": ".py",
   "mimetype": "text/x-python",
   "name": "python",
   "nbconvert_exporter": "python",
   "pygments_lexer": "ipython3",
   "version": "3.8.12"
  }
 },
 "nbformat": 4,
 "nbformat_minor": 5
}
