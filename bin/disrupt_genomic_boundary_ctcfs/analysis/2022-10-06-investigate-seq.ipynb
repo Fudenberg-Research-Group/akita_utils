{
 "cells": [
  {
   "cell_type": "markdown",
   "id": "5e87b1ba-6daf-42bc-9931-17981340685a",
   "metadata": {},
   "source": [
    "This notebook compares the results of genome-wide boundary CTCF perturbations with DNA sequence.\n",
    "\n",
    "First, results are loaded from h5 and filtered based on whether a given boundary was responsive to CTCF motif mutagenesis.\n",
    "\n",
    "Sites are further filtered by jaspar CTCF score.\n",
    "\n",
    "Sequences around each site are loaded and visualized.\n",
    "\n",
    "The TGCAxTTC motif is visible by eye in strong sequences, but only appears in ~1/4 of sequences."
   ]
  },
  {
   "cell_type": "code",
   "execution_count": 1,
   "id": "881fe14f-e758-4108-bc95-c0cb75361b7f",
   "metadata": {},
   "outputs": [],
   "source": [
    "import matplotlib.pyplot as plt\n",
    "import bioframe \n",
    "import pandas as pd\n",
    "import numpy as np \n",
    "import h5py\n",
    "import os\n",
    "from scipy.stats import spearmanr, pearsonr\n",
    "import scipy.cluster\n",
    "import pysam\n",
    "\n",
    "from matplotlib import colors\n",
    "cmap_purple_green_GC = colors.ListedColormap([ \n",
    "    'mistyrose', #a \n",
    "    'darkseagreen', #c\n",
    "    'plum', #g\n",
    "    'beige' #t\n",
    "])\n",
    "cmap_rhee = colors.ListedColormap([\n",
    "    'red', #a red\n",
    "    'blue', #c blue\n",
    "    'yellow', #g yllow\n",
    "    'green' #t green\n",
    "])\n",
    "\n",
    "cmaps = [cmap_purple_green_GC, cmap_rhee]\n"
   ]
  },
  {
   "cell_type": "code",
   "execution_count": 2,
   "id": "4ca6e2cc-f836-49c8-a657-bd41f79bfb3e",
   "metadata": {},
   "outputs": [
    {
     "ename": "ImportError",
     "evalue": "cannot import name 'h5_to_df' from 'akita_utils.utils' (/home1/kamulege/akita_utils/akita_utils/utils.py)",
     "output_type": "error",
     "traceback": [
      "\u001b[0;31m---------------------------------------------------------------------------\u001b[0m",
      "\u001b[0;31mImportError\u001b[0m                               Traceback (most recent call last)",
      "Input \u001b[0;32mIn [2]\u001b[0m, in \u001b[0;36m<cell line: 2>\u001b[0;34m()\u001b[0m\n\u001b[1;32m      1\u001b[0m \u001b[38;5;28;01mimport\u001b[39;00m \u001b[38;5;21;01makita_utils\u001b[39;00m\n\u001b[0;32m----> 2\u001b[0m \u001b[38;5;28;01mfrom\u001b[39;00m \u001b[38;5;21;01makita_utils\u001b[39;00m\u001b[38;5;21;01m.\u001b[39;00m\u001b[38;5;21;01mutils\u001b[39;00m \u001b[38;5;28;01mimport\u001b[39;00m h5_to_df, filter_by_chrmlen, dna_1hot, dna_1hot_index, dna_1hot_GC, dna_rc\n",
      "\u001b[0;31mImportError\u001b[0m: cannot import name 'h5_to_df' from 'akita_utils.utils' (/home1/kamulege/akita_utils/akita_utils/utils.py)"
     ]
    }
   ],
   "source": [
    "import akita_utils\n",
    "from akita_utils.utils import h5_to_df, filter_by_chrmlen, dna_1hot, dna_1hot_index, dna_1hot_GC, dna_rc"
   ]
  },
  {
   "cell_type": "markdown",
   "id": "565b5d1b-c41d-461e-80e2-22c45206a9c2",
   "metadata": {},
   "source": [
    "### Load & filter genomic deletion SCD for boundary CTCFs"
   ]
  },
  {
   "cell_type": "code",
   "execution_count": null,
   "id": "7a3627a0-3dd2-4346-b729-d15685c6eef3",
   "metadata": {},
   "outputs": [],
   "source": []
  },
  {
   "cell_type": "code",
   "execution_count": null,
   "id": "eb542ef5-2ac3-4b1e-9745-92d7a4eeab5f",
   "metadata": {},
   "outputs": [],
   "source": [
    "df = akita_utils.filter_boundary_ctcfs_from_h5(\n",
    "    h5_dirs=\"/project/fudenber_735/tensorflow_models/akita/v2/analysis/permute_boundaries_motifs_ctcf_mm10_model*/scd.h5\",\n",
    "    score_key=\"SCD\",\n",
    "    threshold_all_ctcf=5,\n",
    ")"
   ]
  },
  {
   "cell_type": "code",
   "execution_count": null,
   "id": "393bb3de-b830-42b9-ad75-7c23b8661ab2",
   "metadata": {},
   "outputs": [],
   "source": [
    "plt.figure(figsize=(10,4))\n",
    "\n",
    "plt.subplot(121)\n",
    "plt.scatter(df['score_10k'],df['score_all_ctcf'], 5, alpha=0.2)\n",
    "plt.loglog()\n",
    "plt.xlabel('score mut 10k')\n",
    "plt.ylabel('score all CTCF')\n",
    "\n",
    "plt.subplot(122)\n",
    "plt.scatter(df['score_10k'],df['SCD'], 5, alpha=0.2)\n",
    "plt.loglog()\n",
    "plt.xlabel('score mut 10k')\n",
    "plt.ylabel('SCD individual CTCF')\n",
    "plt.tight_layout()"
   ]
  },
  {
   "cell_type": "code",
   "execution_count": null,
   "id": "f2d5e034-7ae9-46b1-833d-dc390281ad29",
   "metadata": {},
   "outputs": [],
   "source": [
    "# filter by rmsk\n",
    "sites = akita_utils.filter_by_rmsk(df) \n",
    "\n",
    "## add scores for jaspar core motif to table of sites\n",
    "ctcf_motifs = bioframe.read_table('/project/fudenber_735/motifs/mm10/jaspar/MA0139.1.tsv.gz',\n",
    "                                  schema=\"jaspar\", skiprows=1)\n",
    "sites = sites.merge(ctcf_motifs, how='left', \n",
    "                    left_on= ['chrom','start_2','end_2'], right_on=['chrom','start','end'])\n",
    "\n",
    "sites_unfiltered = sites.copy()"
   ]
  },
  {
   "cell_type": "code",
   "execution_count": null,
   "id": "4a7fb1cd-cb63-43fb-b0fc-3018afd13f82",
   "metadata": {},
   "outputs": [],
   "source": [
    "plt.figure(figsize=(8,4))\n",
    "plt.subplot(121)\n",
    "plt.scatter( sites['score'], sites['SCD'], 10, alpha=0.5)\n",
    "plt.semilogy()\n",
    "plt.xlabel('core motif jaspar score')\n",
    "plt.ylabel('genomic deletion SCD')\n",
    "\n",
    "plt.subplot(122)\n",
    "plt.scatter( sites['score'], sites['INS-64'], 10, alpha=0.5)\n",
    "plt.xlabel('core motif jaspar score')\n",
    "plt.ylabel('ins-64 deletion score')\n",
    "\n",
    "plt.tight_layout()"
   ]
  },
  {
   "cell_type": "code",
   "execution_count": null,
   "id": "d52eb687-4311-4a59-8aaa-c9e0bedd6699",
   "metadata": {},
   "outputs": [],
   "source": [
    "## get sites with similar core motif strengths \n",
    "#sites = sites.query('(score > 800) and (score < 850)')\n",
    "\n",
    "sites = sites_unfiltered.query('(score > 825) and (score < 875)').copy()\n",
    "sites.reset_index(drop=True, inplace=True)"
   ]
  },
  {
   "cell_type": "code",
   "execution_count": null,
   "id": "3a198c4f-5b1b-46b2-b40a-b0397bf72096",
   "metadata": {},
   "outputs": [],
   "source": [
    "## split sites by strong vs weak, here using insulation score (ins-64)\n",
    "sites_weak = sites['INS-64'].values > -.01\n",
    "sites_strong = sites['INS-64'].values < -.03\n",
    "\n",
    "sites_weak = np.where(sites_weak)[0]\n",
    "sites_strong = np.where(sites_strong)[0]\n",
    "print('num weak',len(sites_weak), ', num strong',len(sites_strong))\n",
    "\n",
    "num_sites = 200\n",
    "sites_weak = sites_weak[np.sort(\n",
    "    np.random.choice(len(sites_weak),num_sites,replace=False)\n",
    ")]\n",
    "sites_strong = sites_strong[np.sort(\n",
    "    np.random.choice(len(sites_strong),num_sites,replace=False)\n",
    ")]\n",
    "sites_strong = sites.loc[sites_strong].reset_index(drop=True)\n",
    "sites_weak = sites.loc[sites_weak].reset_index(drop=True)\n"
   ]
  },
  {
   "cell_type": "code",
   "execution_count": null,
   "id": "c22a32d5-65e5-4fee-aa2b-bff2088cf5d7",
   "metadata": {},
   "outputs": [],
   "source": [
    "def get_seqs(sites, genome_file='/project/fudenber_735/genomes/mm10/mm10.fa', extent_bp=100, verbose=False):\n",
    "    \"\"\"\n",
    "    Get and orient DNA sequence around motifs, and return arrays with various transformation:\n",
    "    into 1hot, index, and binary (GC). \n",
    "    \"\"\"\n",
    "    genome_open = pysam.Fastafile(genome_file)\n",
    "\n",
    "    seqs=[]\n",
    "    seqs_1hot = []\n",
    "    seqs_index=[]\n",
    "    seqs_GC =[]\n",
    "    for i in range(len(sites)):\n",
    "        if verbose: \n",
    "            if np.mod(i, 50)==0: print(i)\n",
    "        chrm, start, end, strand = sites.loc[i][['chrom','start_2','end_2','strand_2']]\n",
    "        start = start-extent_bp\n",
    "        end = end+extent_bp\n",
    "        seq =  genome_open.fetch(chrm, start, end).upper()\n",
    "        if strand == '-':\n",
    "            seq = dna_rc(seq)\n",
    "        seqs.append(seq)\n",
    "        seqs_1hot.append(dna_1hot(seq))\n",
    "        seqs_index.append( dna_1hot_index(seq))\n",
    "        seqs_GC.append( dna_1hot_GC(seq))\n",
    "    seqs_index = np.array(seqs_index)\n",
    "    seqs_GC = np.array(seqs_GC)\n",
    "    seqs_1hot  = np.array(seqs_1hot)\n",
    "    return seqs, seqs_1hot, seqs_index, seqs_GC\n"
   ]
  },
  {
   "cell_type": "code",
   "execution_count": null,
   "id": "b72f4604-eb72-4e36-8463-0359570abf6e",
   "metadata": {},
   "outputs": [],
   "source": [
    "seqs_weak, seqs_1hot_weak, seqs_index_weak, seqs_GC_weak = get_seqs(sites_weak, genome_file='/project/fudenber_735/genomes/mm10/mm10.fa', extent_bp=100)\n",
    "seqs_strong, seqs_1hot_strong, seqs_index_strong, seqs_GC_strong = get_seqs(sites_strong, genome_file='/project/fudenber_735/genomes/mm10/mm10.fa', extent_bp=100)"
   ]
  },
  {
   "cell_type": "code",
   "execution_count": null,
   "id": "463a2ac4-1d89-4e95-a652-32fc02c544c7",
   "metadata": {},
   "outputs": [],
   "source": [
    "def reorder_by_hamming( seqs_index, sub_index= (80,100), verbose=False):\n",
    "    \"\"\"\n",
    "    Reorders a set of index-encoded (A=0,C=1,G=2,T=3) DNA sequences by their similarity.\n",
    "    Similarity is computedb by hamming distance for all nucleotides between \n",
    "    sub_index[0]:sub_index[1].\n",
    "    \n",
    "    Returns\n",
    "    --------\n",
    "    reordering : np.array\n",
    "        Array specifying reordering for sites.\n",
    "        \n",
    "    \"\"\"\n",
    "    \n",
    "    if not (np.unique(seqs_index) == np.arange(4).astype(int)).all():\n",
    "        raise ValueError('must input a 1-hot encoded DNA sequence')\n",
    "    \n",
    "    if sub_index is None:\n",
    "        sub_index = (0, seqs_index.shape[1])\n",
    "\n",
    "    seq_dist = np.zeros((seqs_index.shape[0], seqs_index.shape[0]))\n",
    "    for i in range(len(seqs_index)):\n",
    "        if verbose:\n",
    "            if np.mod(i,100)==0: print(i)\n",
    "        seq_i = seqs_index[i][sub_index[0]:sub_index[1]]\n",
    "        for j in range(len(seqs_index)):\n",
    "            if i<j:\n",
    "                seq_j = seqs_index[j][sub_index[0]:sub_index[1]]\n",
    "                seq_dist[i,j] = 1 - scipy.spatial.distance.hamming(seq_i, seq_j)\n",
    "    seq_dist = seq_dist  + seq_dist.T        \n",
    "    reordering = scipy.cluster.hierarchy.leaves_list(\n",
    "                    scipy.cluster.hierarchy.linkage( seq_dist)\n",
    "    )\n",
    "    return reordering"
   ]
  },
  {
   "cell_type": "code",
   "execution_count": null,
   "id": "dcd462c2-a2be-4857-ad9f-7f5264cfccf4",
   "metadata": {},
   "outputs": [],
   "source": [
    "#reorder_bp = (120,140) # when extend_bp above is 100 this corresponds to organizing by sequence after the motif\n",
    "reorder_bp = (80, 100) #this corresponds to reordering based on sequence just before the motif\n",
    "reordering = 'hamming'\n",
    "if reordering == 'hamming':\n",
    "    strong_reordering = reorder_by_hamming( seqs_index_strong, sub_index= reorder_bp)\n",
    "    weak_reordering   = reorder_by_hamming( seqs_index_weak, sub_index= reorder_bp)\n",
    "elif reordering == 'GC':\n",
    "    strong_reordering = np.argsort(\n",
    "                        np.sum(seqs_GC_strong[:,reorder_bp[0]:reorder_bp[1]],axis=1))\n",
    "    weak_reordering= np.argsort(\n",
    "                        np.sum(seqs_GC_weak[:,reorder_bp[0]:reorder_bp[1]],axis=1))    \n",
    "else:\n",
    "    raise ValueError('must specifying a reordering')\n"
   ]
  },
  {
   "cell_type": "code",
   "execution_count": null,
   "id": "d412fd85-1dd3-4c4a-a191-c91f2f571012",
   "metadata": {},
   "outputs": [],
   "source": [
    "#bp_start,bp_stop = 80,100\n",
    "#bp_start,bp_stop = 120,140#,100\n",
    "\n",
    "extend_bp = 20\n",
    "bp_start,bp_stop = 100-extend_bp,119+extend_bp\n",
    "cmap = cmaps[1]\n",
    "\n",
    "plt_width=4\n",
    "f, axs = plt.subplots(\n",
    "    figsize=( plt_width+plt_width+2, plt_width+plt_width+1),\n",
    "    ncols=4,\n",
    "    nrows=2,\n",
    "    gridspec_kw={\n",
    "        'height_ratios':[10,1],\n",
    "         \"wspace\":0.01,\n",
    "        'width_ratios':[1, .05, 1, .05]},\n",
    "    constrained_layout=True\n",
    ")\n",
    "\n",
    "ax = axs[0,0]\n",
    "im = ax.matshow(\n",
    "    seqs_index_weak[:,bp_start:bp_stop][weak_reordering],  \n",
    "    cmap=cmap,\n",
    "   )\n",
    "ax.set_title('weak DNA')\n",
    "ax.set_aspect('auto')\n",
    "\n",
    "ax = axs[0,2]\n",
    "im = ax.matshow(\n",
    "    seqs_index_strong[:,bp_start:bp_stop][strong_reordering],  \n",
    "    cmap=cmap,\n",
    "   )\n",
    "ax.set_title('strong DNA')\n",
    "ax.set_aspect('auto')\n",
    "\n",
    "cax = axs[0,3]\n",
    "cbar = plt.colorbar(im, cax=cax, label='DNA label', ticks= np.arange(4))\n",
    "cbar.ax.set_yticklabels(['A','C','G','T']);\n",
    "\n",
    "ax = axs[1,0]\n",
    "ax.plot(np.mean(seqs_GC_weak[:,bp_start:bp_stop],axis=0))\n",
    "ax.set_ylim([-.1,1.1])\n",
    "ax.grid(True)\n",
    "ax.set_xlim([0, bp_stop-bp_start])\n",
    "ax.set_ylabel('avg GC content')\n",
    "\n",
    "ax = axs[1,2]\n",
    "ax.plot(np.mean(seqs_GC_weak[:,bp_start:bp_stop],axis=0), label='weak')\n",
    "ax.plot(np.mean(seqs_GC_strong[:,bp_start:bp_stop],axis=0),label='strong')\n",
    "ax.set_ylim([-.1,1.1])\n",
    "ax.grid(True)\n",
    "ax.set_xlim([0, bp_stop-bp_start])\n",
    "ax.legend(loc='upper center', bbox_to_anchor=(0.15, -0.35))\n",
    "        \n",
    "ax = axs[1,1]\n",
    "ax.set_visible(False)\n",
    "ax = axs[0,1]\n",
    "ax.set_visible(False)\n",
    "ax = axs[1,3]\n",
    "ax.set_visible(False)\n",
    "\n",
    "plt.show()\n"
   ]
  },
  {
   "cell_type": "code",
   "execution_count": null,
   "id": "8d4468a6-0f05-4bc8-a4f1-0ddede87b1fa",
   "metadata": {},
   "outputs": [],
   "source": []
  },
  {
   "cell_type": "code",
   "execution_count": null,
   "id": "bdb57db5-2023-4624-9108-2c10fd647d2d",
   "metadata": {},
   "outputs": [],
   "source": []
  },
  {
   "cell_type": "code",
   "execution_count": null,
   "id": "dbfd47f6-a986-4758-821b-68c4f6d423b2",
   "metadata": {},
   "outputs": [],
   "source": []
  },
  {
   "cell_type": "code",
   "execution_count": null,
   "id": "15a10ee0-d043-4249-bfef-6274b5ec5a2a",
   "metadata": {},
   "outputs": [],
   "source": []
  },
  {
   "cell_type": "code",
   "execution_count": null,
   "id": "cad14b13-1982-4263-ab58-fe0b09e70d41",
   "metadata": {},
   "outputs": [],
   "source": [
    "import pandas as pd\n",
    "\n",
    "tsv_file=\"/scratch1/kamulege/boundaries.motifs.ctcf.mm10.tsv\"\n",
    "\n",
    "dataframe = pd.read_csv(tsv_file, sep=\"\\t\")\n",
    "\n",
    "new_dataframe = dataframe[:10] \n",
    "new_dataframe.to_csv(\"/scratch1/kamulege/_10_boundaries.motifs.ctcf.mm10.tsv\", sep=\"\\t\", index=False)"
   ]
  },
  {
   "cell_type": "code",
   "execution_count": null,
   "id": "4f2f6dbe-2a6f-4fbd-8640-e87616dd1c67",
   "metadata": {},
   "outputs": [],
   "source": [
    "display(new_dataframe) "
   ]
  },
  {
   "cell_type": "code",
   "execution_count": 3,
   "id": "1233bf52-659d-469d-ab30-94478bf0ca19",
   "metadata": {},
   "outputs": [
    {
     "ename": "UnicodeDecodeError",
     "evalue": "'utf-8' codec can't decode byte 0x89 in position 0: invalid start byte",
     "output_type": "error",
     "traceback": [
      "\u001b[0;31m---------------------------------------------------------------------------\u001b[0m",
      "\u001b[0;31mUnicodeDecodeError\u001b[0m                        Traceback (most recent call last)",
      "Input \u001b[0;32mIn [3]\u001b[0m, in \u001b[0;36m<cell line: 3>\u001b[0;34m()\u001b[0m\n\u001b[1;32m      1\u001b[0m \u001b[38;5;28;01mimport\u001b[39;00m \u001b[38;5;21;01makita_utils\u001b[39;00m\n\u001b[1;32m      2\u001b[0m df_path \u001b[38;5;241m=\u001b[39m \u001b[38;5;124m\"\u001b[39m\u001b[38;5;124m/scratch1/kamulege/test_disruption_scd_10/job0/scd.h5\u001b[39m\u001b[38;5;124m\"\u001b[39m\n\u001b[0;32m----> 3\u001b[0m akita_utils\u001b[38;5;241m.\u001b[39mtsv_gen_utils\u001b[38;5;241m.\u001b[39mgenerate_locus_specification_list(dataframe\u001b[38;5;241m=\u001b[39m\u001b[43mpd\u001b[49m\u001b[38;5;241;43m.\u001b[39;49m\u001b[43mread_csv\u001b[49m\u001b[43m(\u001b[49m\u001b[43mdf_path\u001b[49m\u001b[43m)\u001b[49m)\n",
      "File \u001b[0;32m~/.conda/envs/basenji-gpu/lib/python3.8/site-packages/pandas/util/_decorators.py:311\u001b[0m, in \u001b[0;36mdeprecate_nonkeyword_arguments.<locals>.decorate.<locals>.wrapper\u001b[0;34m(*args, **kwargs)\u001b[0m\n\u001b[1;32m    305\u001b[0m \u001b[38;5;28;01mif\u001b[39;00m \u001b[38;5;28mlen\u001b[39m(args) \u001b[38;5;241m>\u001b[39m num_allow_args:\n\u001b[1;32m    306\u001b[0m     warnings\u001b[38;5;241m.\u001b[39mwarn(\n\u001b[1;32m    307\u001b[0m         msg\u001b[38;5;241m.\u001b[39mformat(arguments\u001b[38;5;241m=\u001b[39marguments),\n\u001b[1;32m    308\u001b[0m         \u001b[38;5;167;01mFutureWarning\u001b[39;00m,\n\u001b[1;32m    309\u001b[0m         stacklevel\u001b[38;5;241m=\u001b[39mstacklevel,\n\u001b[1;32m    310\u001b[0m     )\n\u001b[0;32m--> 311\u001b[0m \u001b[38;5;28;01mreturn\u001b[39;00m \u001b[43mfunc\u001b[49m\u001b[43m(\u001b[49m\u001b[38;5;241;43m*\u001b[39;49m\u001b[43margs\u001b[49m\u001b[43m,\u001b[49m\u001b[43m \u001b[49m\u001b[38;5;241;43m*\u001b[39;49m\u001b[38;5;241;43m*\u001b[39;49m\u001b[43mkwargs\u001b[49m\u001b[43m)\u001b[49m\n",
      "File \u001b[0;32m~/.conda/envs/basenji-gpu/lib/python3.8/site-packages/pandas/io/parsers/readers.py:680\u001b[0m, in \u001b[0;36mread_csv\u001b[0;34m(filepath_or_buffer, sep, delimiter, header, names, index_col, usecols, squeeze, prefix, mangle_dupe_cols, dtype, engine, converters, true_values, false_values, skipinitialspace, skiprows, skipfooter, nrows, na_values, keep_default_na, na_filter, verbose, skip_blank_lines, parse_dates, infer_datetime_format, keep_date_col, date_parser, dayfirst, cache_dates, iterator, chunksize, compression, thousands, decimal, lineterminator, quotechar, quoting, doublequote, escapechar, comment, encoding, encoding_errors, dialect, error_bad_lines, warn_bad_lines, on_bad_lines, delim_whitespace, low_memory, memory_map, float_precision, storage_options)\u001b[0m\n\u001b[1;32m    665\u001b[0m kwds_defaults \u001b[38;5;241m=\u001b[39m _refine_defaults_read(\n\u001b[1;32m    666\u001b[0m     dialect,\n\u001b[1;32m    667\u001b[0m     delimiter,\n\u001b[0;32m   (...)\u001b[0m\n\u001b[1;32m    676\u001b[0m     defaults\u001b[38;5;241m=\u001b[39m{\u001b[38;5;124m\"\u001b[39m\u001b[38;5;124mdelimiter\u001b[39m\u001b[38;5;124m\"\u001b[39m: \u001b[38;5;124m\"\u001b[39m\u001b[38;5;124m,\u001b[39m\u001b[38;5;124m\"\u001b[39m},\n\u001b[1;32m    677\u001b[0m )\n\u001b[1;32m    678\u001b[0m kwds\u001b[38;5;241m.\u001b[39mupdate(kwds_defaults)\n\u001b[0;32m--> 680\u001b[0m \u001b[38;5;28;01mreturn\u001b[39;00m \u001b[43m_read\u001b[49m\u001b[43m(\u001b[49m\u001b[43mfilepath_or_buffer\u001b[49m\u001b[43m,\u001b[49m\u001b[43m \u001b[49m\u001b[43mkwds\u001b[49m\u001b[43m)\u001b[49m\n",
      "File \u001b[0;32m~/.conda/envs/basenji-gpu/lib/python3.8/site-packages/pandas/io/parsers/readers.py:575\u001b[0m, in \u001b[0;36m_read\u001b[0;34m(filepath_or_buffer, kwds)\u001b[0m\n\u001b[1;32m    572\u001b[0m _validate_names(kwds\u001b[38;5;241m.\u001b[39mget(\u001b[38;5;124m\"\u001b[39m\u001b[38;5;124mnames\u001b[39m\u001b[38;5;124m\"\u001b[39m, \u001b[38;5;28;01mNone\u001b[39;00m))\n\u001b[1;32m    574\u001b[0m \u001b[38;5;66;03m# Create the parser.\u001b[39;00m\n\u001b[0;32m--> 575\u001b[0m parser \u001b[38;5;241m=\u001b[39m \u001b[43mTextFileReader\u001b[49m\u001b[43m(\u001b[49m\u001b[43mfilepath_or_buffer\u001b[49m\u001b[43m,\u001b[49m\u001b[43m \u001b[49m\u001b[38;5;241;43m*\u001b[39;49m\u001b[38;5;241;43m*\u001b[39;49m\u001b[43mkwds\u001b[49m\u001b[43m)\u001b[49m\n\u001b[1;32m    577\u001b[0m \u001b[38;5;28;01mif\u001b[39;00m chunksize \u001b[38;5;129;01mor\u001b[39;00m iterator:\n\u001b[1;32m    578\u001b[0m     \u001b[38;5;28;01mreturn\u001b[39;00m parser\n",
      "File \u001b[0;32m~/.conda/envs/basenji-gpu/lib/python3.8/site-packages/pandas/io/parsers/readers.py:933\u001b[0m, in \u001b[0;36mTextFileReader.__init__\u001b[0;34m(self, f, engine, **kwds)\u001b[0m\n\u001b[1;32m    930\u001b[0m     \u001b[38;5;28mself\u001b[39m\u001b[38;5;241m.\u001b[39moptions[\u001b[38;5;124m\"\u001b[39m\u001b[38;5;124mhas_index_names\u001b[39m\u001b[38;5;124m\"\u001b[39m] \u001b[38;5;241m=\u001b[39m kwds[\u001b[38;5;124m\"\u001b[39m\u001b[38;5;124mhas_index_names\u001b[39m\u001b[38;5;124m\"\u001b[39m]\n\u001b[1;32m    932\u001b[0m \u001b[38;5;28mself\u001b[39m\u001b[38;5;241m.\u001b[39mhandles: IOHandles \u001b[38;5;241m|\u001b[39m \u001b[38;5;28;01mNone\u001b[39;00m \u001b[38;5;241m=\u001b[39m \u001b[38;5;28;01mNone\u001b[39;00m\n\u001b[0;32m--> 933\u001b[0m \u001b[38;5;28mself\u001b[39m\u001b[38;5;241m.\u001b[39m_engine \u001b[38;5;241m=\u001b[39m \u001b[38;5;28;43mself\u001b[39;49m\u001b[38;5;241;43m.\u001b[39;49m\u001b[43m_make_engine\u001b[49m\u001b[43m(\u001b[49m\u001b[43mf\u001b[49m\u001b[43m,\u001b[49m\u001b[43m \u001b[49m\u001b[38;5;28;43mself\u001b[39;49m\u001b[38;5;241;43m.\u001b[39;49m\u001b[43mengine\u001b[49m\u001b[43m)\u001b[49m\n",
      "File \u001b[0;32m~/.conda/envs/basenji-gpu/lib/python3.8/site-packages/pandas/io/parsers/readers.py:1235\u001b[0m, in \u001b[0;36mTextFileReader._make_engine\u001b[0;34m(self, f, engine)\u001b[0m\n\u001b[1;32m   1232\u001b[0m     \u001b[38;5;28;01mraise\u001b[39;00m \u001b[38;5;167;01mValueError\u001b[39;00m(msg)\n\u001b[1;32m   1234\u001b[0m \u001b[38;5;28;01mtry\u001b[39;00m:\n\u001b[0;32m-> 1235\u001b[0m     \u001b[38;5;28;01mreturn\u001b[39;00m \u001b[43mmapping\u001b[49m\u001b[43m[\u001b[49m\u001b[43mengine\u001b[49m\u001b[43m]\u001b[49m\u001b[43m(\u001b[49m\u001b[43mf\u001b[49m\u001b[43m,\u001b[49m\u001b[43m \u001b[49m\u001b[38;5;241;43m*\u001b[39;49m\u001b[38;5;241;43m*\u001b[39;49m\u001b[38;5;28;43mself\u001b[39;49m\u001b[38;5;241;43m.\u001b[39;49m\u001b[43moptions\u001b[49m\u001b[43m)\u001b[49m\n\u001b[1;32m   1236\u001b[0m \u001b[38;5;28;01mexcept\u001b[39;00m \u001b[38;5;167;01mException\u001b[39;00m:\n\u001b[1;32m   1237\u001b[0m     \u001b[38;5;28;01mif\u001b[39;00m \u001b[38;5;28mself\u001b[39m\u001b[38;5;241m.\u001b[39mhandles \u001b[38;5;129;01mis\u001b[39;00m \u001b[38;5;129;01mnot\u001b[39;00m \u001b[38;5;28;01mNone\u001b[39;00m:\n",
      "File \u001b[0;32m~/.conda/envs/basenji-gpu/lib/python3.8/site-packages/pandas/io/parsers/c_parser_wrapper.py:75\u001b[0m, in \u001b[0;36mCParserWrapper.__init__\u001b[0;34m(self, src, **kwds)\u001b[0m\n\u001b[1;32m     72\u001b[0m     kwds\u001b[38;5;241m.\u001b[39mpop(key, \u001b[38;5;28;01mNone\u001b[39;00m)\n\u001b[1;32m     74\u001b[0m kwds[\u001b[38;5;124m\"\u001b[39m\u001b[38;5;124mdtype\u001b[39m\u001b[38;5;124m\"\u001b[39m] \u001b[38;5;241m=\u001b[39m ensure_dtype_objs(kwds\u001b[38;5;241m.\u001b[39mget(\u001b[38;5;124m\"\u001b[39m\u001b[38;5;124mdtype\u001b[39m\u001b[38;5;124m\"\u001b[39m, \u001b[38;5;28;01mNone\u001b[39;00m))\n\u001b[0;32m---> 75\u001b[0m \u001b[38;5;28mself\u001b[39m\u001b[38;5;241m.\u001b[39m_reader \u001b[38;5;241m=\u001b[39m \u001b[43mparsers\u001b[49m\u001b[38;5;241;43m.\u001b[39;49m\u001b[43mTextReader\u001b[49m\u001b[43m(\u001b[49m\u001b[43msrc\u001b[49m\u001b[43m,\u001b[49m\u001b[43m \u001b[49m\u001b[38;5;241;43m*\u001b[39;49m\u001b[38;5;241;43m*\u001b[39;49m\u001b[43mkwds\u001b[49m\u001b[43m)\u001b[49m\n\u001b[1;32m     77\u001b[0m \u001b[38;5;28mself\u001b[39m\u001b[38;5;241m.\u001b[39munnamed_cols \u001b[38;5;241m=\u001b[39m \u001b[38;5;28mself\u001b[39m\u001b[38;5;241m.\u001b[39m_reader\u001b[38;5;241m.\u001b[39munnamed_cols\n\u001b[1;32m     79\u001b[0m \u001b[38;5;66;03m# error: Cannot determine type of 'names'\u001b[39;00m\n",
      "File \u001b[0;32m~/.conda/envs/basenji-gpu/lib/python3.8/site-packages/pandas/_libs/parsers.pyx:544\u001b[0m, in \u001b[0;36mpandas._libs.parsers.TextReader.__cinit__\u001b[0;34m()\u001b[0m\n",
      "File \u001b[0;32m~/.conda/envs/basenji-gpu/lib/python3.8/site-packages/pandas/_libs/parsers.pyx:633\u001b[0m, in \u001b[0;36mpandas._libs.parsers.TextReader._get_header\u001b[0;34m()\u001b[0m\n",
      "File \u001b[0;32m~/.conda/envs/basenji-gpu/lib/python3.8/site-packages/pandas/_libs/parsers.pyx:847\u001b[0m, in \u001b[0;36mpandas._libs.parsers.TextReader._tokenize_rows\u001b[0;34m()\u001b[0m\n",
      "File \u001b[0;32m~/.conda/envs/basenji-gpu/lib/python3.8/site-packages/pandas/_libs/parsers.pyx:1952\u001b[0m, in \u001b[0;36mpandas._libs.parsers.raise_parser_error\u001b[0;34m()\u001b[0m\n",
      "\u001b[0;31mUnicodeDecodeError\u001b[0m: 'utf-8' codec can't decode byte 0x89 in position 0: invalid start byte"
     ]
    }
   ],
   "source": [
    "import akita_utils\n",
    "df_path = \"/scratch1/kamulege/test_disruption_scd_10/job0/scd.h5\"\n",
    "akita_utils.tsv_gen_utils.generate_locus_specification_list(dataframe=pd.read_csv(df_path))"
   ]
  },
  {
   "cell_type": "code",
   "execution_count": null,
   "id": "8b007919-e8c2-4930-abe7-82cf0331a396",
   "metadata": {},
   "outputs": [],
   "source": []
  }
 ],
 "metadata": {
  "kernelspec": {
   "display_name": "basenji-gpu",
   "language": "python",
   "name": "basenji-gpu"
  },
  "language_info": {
   "codemirror_mode": {
    "name": "ipython",
    "version": 3
   },
   "file_extension": ".py",
   "mimetype": "text/x-python",
   "name": "python",
   "nbconvert_exporter": "python",
   "pygments_lexer": "ipython3",
   "version": "3.8.0"
  }
 },
 "nbformat": 4,
 "nbformat_minor": 5
}
