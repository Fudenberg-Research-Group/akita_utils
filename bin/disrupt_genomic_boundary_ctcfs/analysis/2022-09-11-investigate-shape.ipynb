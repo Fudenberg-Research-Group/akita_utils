{
 "cells": [
  {
   "cell_type": "markdown",
   "id": "5e87b1ba-6daf-42bc-9931-17981340685a",
   "metadata": {},
   "source": [
    "This notebook compares the results of genome-wide boundary CTCF perturbations with DNA shape.\n",
    "\n",
    "First, in silico perturbation results are loaded from h5 and filtered based on whether a given boundary was responsive to CTCF motif permutation.\n",
    "\n",
    "Sites are further filtered to have similar jaspar CTCF scores for the core motif.\n",
    "\n",
    "Sequences around each site are loaded and converted to DNA shape.\n",
    "\n",
    "The propeller twist (proT) is somewhat different between motifs that have strong & weak effects on SCD/insulation, but not as dramatically as when no restriction is placed on the core motif Jaspar score. However, this likely just reflects different GC content ~10bp upstream of strong motifs.\n"
   ]
  },
  {
   "cell_type": "code",
   "execution_count": 1,
   "id": "881fe14f-e758-4108-bc95-c0cb75361b7f",
   "metadata": {},
   "outputs": [
    {
     "ename": "ImportError",
     "evalue": "cannot import name 'insul_diamonds_scores' from 'akita_utils.stats_utils' (/home1/kamulege/akita_utils/akita_utils/stats_utils.py)",
     "output_type": "error",
     "traceback": [
      "\u001b[0;31m---------------------------------------------------------------------------\u001b[0m",
      "\u001b[0;31mImportError\u001b[0m                               Traceback (most recent call last)",
      "Input \u001b[0;32mIn [1]\u001b[0m, in \u001b[0;36m<cell line: 10>\u001b[0;34m()\u001b[0m\n\u001b[1;32m      8\u001b[0m \u001b[38;5;28;01mfrom\u001b[39;00m \u001b[38;5;21;01mio\u001b[39;00m \u001b[38;5;28;01mimport\u001b[39;00m StringIO\n\u001b[1;32m      9\u001b[0m \u001b[38;5;28;01mimport\u001b[39;00m \u001b[38;5;21;01mpysam\u001b[39;00m\n\u001b[0;32m---> 10\u001b[0m \u001b[38;5;28;01mimport\u001b[39;00m \u001b[38;5;21;01makita_utils\u001b[39;00m\u001b[38;5;21;01m.\u001b[39;00m\u001b[38;5;21;01mh5_utils\u001b[39;00m\n\u001b[1;32m     11\u001b[0m \u001b[38;5;28;01mimport\u001b[39;00m \u001b[38;5;21;01mglob\u001b[39;00m\n\u001b[1;32m     14\u001b[0m \u001b[38;5;28;01mfrom\u001b[39;00m \u001b[38;5;21;01mmatplotlib\u001b[39;00m \u001b[38;5;28;01mimport\u001b[39;00m colors\n",
      "File \u001b[0;32m~/akita_utils/akita_utils/h5_utils.py:7\u001b[0m, in \u001b[0;36m<module>\u001b[0;34m\u001b[0m\n\u001b[1;32m      4\u001b[0m \u001b[38;5;28;01mimport\u001b[39;00m \u001b[38;5;21;01mseaborn\u001b[39;00m \u001b[38;5;28;01mas\u001b[39;00m \u001b[38;5;21;01msns\u001b[39;00m\n\u001b[1;32m      6\u001b[0m \u001b[38;5;28;01mfrom\u001b[39;00m \u001b[38;5;21;01makita_utils\u001b[39;00m\u001b[38;5;21;01m.\u001b[39;00m\u001b[38;5;21;01mutils\u001b[39;00m \u001b[38;5;28;01mimport\u001b[39;00m ut_dense\n\u001b[0;32m----> 7\u001b[0m \u001b[38;5;28;01mfrom\u001b[39;00m \u001b[38;5;21;01makita_utils\u001b[39;00m\u001b[38;5;21;01m.\u001b[39;00m\u001b[38;5;21;01mstats_utils\u001b[39;00m \u001b[38;5;28;01mimport\u001b[39;00m insul_diamonds_scores, calculate_scores\n\u001b[1;32m      8\u001b[0m \u001b[38;5;28;01mimport\u001b[39;00m \u001b[38;5;21;01mlogging\u001b[39;00m\n\u001b[1;32m     10\u001b[0m logging\u001b[38;5;241m.\u001b[39mbasicConfig(\n\u001b[1;32m     11\u001b[0m     level\u001b[38;5;241m=\u001b[39mlogging\u001b[38;5;241m.\u001b[39mINFO, \u001b[38;5;28mformat\u001b[39m\u001b[38;5;241m=\u001b[39m\u001b[38;5;124m\"\u001b[39m\u001b[38;5;132;01m%(asctime)s\u001b[39;00m\u001b[38;5;124m - \u001b[39m\u001b[38;5;132;01m%(levelname)s\u001b[39;00m\u001b[38;5;124m - \u001b[39m\u001b[38;5;132;01m%(message)s\u001b[39;00m\u001b[38;5;124m\"\u001b[39m\n\u001b[1;32m     12\u001b[0m )\n",
      "\u001b[0;31mImportError\u001b[0m: cannot import name 'insul_diamonds_scores' from 'akita_utils.stats_utils' (/home1/kamulege/akita_utils/akita_utils/stats_utils.py)"
     ]
    }
   ],
   "source": [
    "import matplotlib.pyplot as plt\n",
    "import bioframe\n",
    "import pandas as pd\n",
    "import numpy as np\n",
    "import h5py\n",
    "import os\n",
    "from scipy.stats import spearmanr, pearsonr\n",
    "from io import StringIO\n",
    "import pysam\n",
    "import akita_utils.h5_utils\n",
    "import glob\n",
    "\n",
    "\n",
    "from matplotlib import colors\n",
    "\n",
    "cmap_purple_green_GC = colors.ListedColormap(\n",
    "    [\"mistyrose\", \"darkseagreen\", \"plum\", \"beige\"]  # a  # c  # g  # t\n",
    ")\n",
    "cmap_rhee = colors.ListedColormap(\n",
    "    [\"red\", \"blue\", \"yellow\", \"green\"]  # a red  # c blue  # g yllow  # t green\n",
    ")\n",
    "\n",
    "cmaps = [cmap_purple_green_GC, cmap_rhee]"
   ]
  },
  {
   "cell_type": "code",
   "execution_count": null,
   "id": "4ca6e2cc-f836-49c8-a657-bd41f79bfb3e",
   "metadata": {},
   "outputs": [],
   "source": [
    "from akita_utils.format_io import h5_to_df\n",
    "from akita_utils.tsv_gen_utils import filter_by_chrmlen, filter_boundary_ctcfs_from_h5, filter_by_overlap_num\n",
    "from akita_utils.dna_utils import (\n",
    "    dna_1hot,\n",
    "    dna_1hot_index,\n",
    "    dna_1hot_GC,\n",
    "    dna_rc,\n",
    ")"
   ]
  },
  {
   "cell_type": "markdown",
   "id": "565b5d1b-c41d-461e-80e2-22c45206a9c2",
   "metadata": {},
   "source": [
    "### Load & filter genomic deletion SCD for boundary CTCFs"
   ]
  },
  {
   "cell_type": "code",
   "execution_count": null,
   "id": "3a25a0f5-7090-434f-acb9-5fab603206a6",
   "metadata": {},
   "outputs": [],
   "source": [
    "def h5_to_dfs_dict(h5_dirs, stats, models=[0,1,2,3,4,5,6,7], head=1): # TODO: check repeated model numbers\n",
    "    models_dict = {} \n",
    "    for h5_num, h5_file in enumerate(glob.glob(h5_dirs)):\n",
    "        for model in models:\n",
    "            if f\"model{model}_head{head}\" in h5_file:\n",
    "                df = akita_utils.format_io.h5_to_df(h5_file, drop_duplicates_key=None)\n",
    "                if f\"h{head}_m{model}\" in models_dict.keys():\n",
    "                    models_dict[f\"h{head}_m{model}\"] = pd.concat([model_dfs[f\"h{head}_m{model}\"], df])\n",
    "                else:\n",
    "                    models_dict[f\"h{head}_m{model}\"] = df \n",
    "    return models_dict\n",
    "    \n",
    "\n",
    "def calculate_mean_stats_across_models(models_dict, stats):\n",
    "    dfs = []\n",
    "    df = pd.DataFrame()\n",
    "    for model in models_dict.values():\n",
    "        dfs.append(model)\n",
    "    \n",
    "    for stat in stats:\n",
    "        df[stat] = np.mean([df[stat] for df in dfs], axis=0)\n",
    "    return df\n",
    "        "
   ]
  },
  {
   "cell_type": "code",
   "execution_count": null,
   "id": "7dc08852-e9f2-495a-9db8-00dde32cb061",
   "metadata": {},
   "outputs": [],
   "source": [
    "h5_dirs = (\"/scratch1/kamulege/disruption_genomic_scds_v2/*/scd.h5\")\n",
    "# h5_dirs = (\"/scratch1/kamulege/disruption_genomic_scds/*/scd.h5\")\n",
    "df_dict = h5_to_dfs_dict(h5_dirs, stats=[\"SCD\", \"SSD\"], models=[4])\n",
    "\n",
    "merged_df = calculate_mean_stats_across_models(df_dict, stats=[\"SCD\", \"SSD\"])\n",
    "    \n",
    "merged_df[-10:]"
   ]
  },
  {
   "cell_type": "code",
   "execution_count": null,
   "id": "eb542ef5-2ac3-4b1e-9745-92d7a4eeab5f",
   "metadata": {},
   "outputs": [],
   "source": [
    "df = filter_boundary_ctcfs_from_h5(\n",
    "    h5_dirs=\"/project/fudenber_735/tensorflow_models/akita/v2/analysis/permute_boundaries_motifs_ctcf_mm10_model*/scd.h5\",\n",
    "    # h5_dirs=\"/scratch1/kamulege/disruption_genomic_scds_v2/motif_expt_model*_head1/scd.h5\",\n",
    "    score_key=\"SCD\",\n",
    "    threshold_all_ctcf=5,\n",
    ")"
   ]
  },
  {
   "cell_type": "code",
   "execution_count": null,
   "id": "d7187514-4911-4a2c-b941-7bbab1bd69de",
   "metadata": {},
   "outputs": [],
   "source": [
    "df.shape"
   ]
  },
  {
   "cell_type": "code",
   "execution_count": null,
   "id": "977935e4-3318-4f4f-b654-9525bde04d34",
   "metadata": {},
   "outputs": [],
   "source": [
    "import akita_utils\n",
    "akita_utils.h5_utils.collect_h5(\"scd.h5\", \"/scratch1/kamulege/disruption_genomic_scds_v2/motif_expt_model4_head1\", 100)"
   ]
  },
  {
   "cell_type": "code",
   "execution_count": null,
   "id": "393bb3de-b830-42b9-ad75-7c23b8661ab2",
   "metadata": {},
   "outputs": [],
   "source": [
    "plt.figure(figsize=(10, 4))\n",
    "\n",
    "plt.subplot(121)\n",
    "plt.scatter(df[\"score_10k\"], df[\"score_all_ctcf\"], 5, alpha=0.2)\n",
    "plt.loglog()\n",
    "plt.xlabel(\"score mut 10k\")\n",
    "plt.ylabel(\"score all CTCF\")\n",
    "\n",
    "plt.subplot(122)\n",
    "plt.scatter(df[\"score_10k\"], df[\"SCD\"], 5, alpha=0.2)\n",
    "plt.loglog()\n",
    "plt.xlabel(\"score mut 10k\")\n",
    "plt.ylabel(\"SCD individual CTCF\")\n",
    "plt.tight_layout()"
   ]
  },
  {
   "cell_type": "code",
   "execution_count": null,
   "id": "f2d5e034-7ae9-46b1-833d-dc390281ad29",
   "metadata": {},
   "outputs": [],
   "source": [
    "\n",
    "rmsk = akita_utils.format_io.read_rmsk(\"/project/fudenber_735/genomes/mm10/database/rmsk.txt.gz\")\n",
    "sites = filter_by_overlap_num(df, rmsk, working_df_cols=[\"chrom\", \"start_2\", \"end_2\"])\n",
    "\n",
    "# sites.head"
   ]
  },
  {
   "cell_type": "code",
   "execution_count": null,
   "id": "6d3b1bfb-ca31-4745-bc5d-ebcc8059e2b8",
   "metadata": {},
   "outputs": [],
   "source": [
    "# df.columns"
   ]
  },
  {
   "cell_type": "code",
   "execution_count": null,
   "id": "7947b6be-1467-42c6-831d-52f67210e992",
   "metadata": {},
   "outputs": [],
   "source": [
    "## add scores for jaspar core motif to table of sites\n",
    "ctcf_motifs = bioframe.read_table(\n",
    "    \"/project/fudenber_735/motifs/mm10/jaspar/MA0139.1.tsv.gz\",\n",
    "    schema=\"jaspar\",\n",
    "    skiprows=1,\n",
    ")\n",
    "sites = sites.merge(\n",
    "    ctcf_motifs,\n",
    "    how=\"left\",\n",
    "    left_on=[\"chrom\", \"start_2\", \"end_2\"],\n",
    "    right_on=[\"chrom\", \"start\", \"end\"],\n",
    ")\n",
    "\n",
    "sites_unfiltered = sites.copy()"
   ]
  },
  {
   "cell_type": "code",
   "execution_count": null,
   "id": "4a7fb1cd-cb63-43fb-b0fc-3018afd13f82",
   "metadata": {},
   "outputs": [],
   "source": [
    "plt.figure(figsize=(8, 4))\n",
    "plt.subplot(121)\n",
    "plt.scatter(sites[\"score\"], sites[\"SCD\"], 10, alpha=0.5)\n",
    "plt.semilogy()\n",
    "plt.xlabel(\"core motif jaspar score\")\n",
    "plt.ylabel(\"SCD deletion score\")\n",
    "\n",
    "plt.subplot(122)\n",
    "plt.scatter(sites[\"score\"], sites[\"INS-64\"], 10, alpha=0.5)\n",
    "plt.xlabel(\"core motif jaspar score\")\n",
    "plt.ylabel(\"ins-64 deletion score\")\n",
    "\n",
    "plt.tight_layout()"
   ]
  },
  {
   "cell_type": "code",
   "execution_count": null,
   "id": "d52eb687-4311-4a59-8aaa-c9e0bedd6699",
   "metadata": {},
   "outputs": [],
   "source": [
    "## get sites with similar core motif strengths\n",
    "# sites = sites.query('(score > 800) and (score < 850)')\n",
    "\n",
    "sites = sites_unfiltered.query(\"(score > 850) and (score < 875)\").copy()\n",
    "sites.reset_index(drop=True, inplace=True)"
   ]
  },
  {
   "cell_type": "code",
   "execution_count": null,
   "id": "3a198c4f-5b1b-46b2-b40a-b0397bf72096",
   "metadata": {},
   "outputs": [],
   "source": [
    "## split sites by strong vs weak, here using insulation score (ins-64)\n",
    "num_sites = 100\n",
    "sites_weak = sites[\"INS-64\"].values < 0.001\n",
    "sites_strong = sites[\"INS-64\"].values > 0.05\n",
    "\n",
    "sites_weak = np.where(sites_weak)[0]\n",
    "sites_strong = np.where(sites_strong)[0]\n",
    "print(\"num weak\", len(sites_weak), \", num strong\", len(sites_strong))\n",
    "\n",
    "sites_weak = sites_weak[\n",
    "    np.sort(np.random.choice(len(sites_weak), num_sites, replace=False))\n",
    "]\n",
    "sites_strong = sites_strong[\n",
    "    np.sort(np.random.choice(len(sites_strong), num_sites, replace=False))\n",
    "]\n",
    "sites_strong = sites.loc[sites_strong].reset_index(drop=True)\n",
    "sites_weak = sites.loc[sites_weak].reset_index(drop=True)"
   ]
  },
  {
   "cell_type": "code",
   "execution_count": null,
   "id": "c22a32d5-65e5-4fee-aa2b-bff2088cf5d7",
   "metadata": {},
   "outputs": [],
   "source": [
    "def get_seqs(\n",
    "    sites,\n",
    "    genome_file=\"/project/fudenber_735/genomes/mm10/mm10.fa\",\n",
    "    extent_bp=100,\n",
    "    verbose=False,\n",
    "):\n",
    "    \"\"\"\n",
    "    Get and orient DNA sequence around motifs, and return arrays with various transformation:\n",
    "    into 1hot, index, and binary (GC).\n",
    "    \"\"\"\n",
    "    genome_open = pysam.Fastafile(genome_file)\n",
    "\n",
    "    seqs = []\n",
    "    seqs_1hot = []\n",
    "    seqs_index = []\n",
    "    seqs_GC = []\n",
    "    for i in range(len(sites)):\n",
    "        if verbose:\n",
    "            if np.mod(i, 50) == 0:\n",
    "                print(i)\n",
    "        chrm, start, end, strand = sites.loc[i][\n",
    "            [\"chrom\", \"start_2\", \"end_2\", \"strand_2\"]\n",
    "        ]\n",
    "        start = start - extent_bp\n",
    "        end = end + extent_bp\n",
    "        seq = genome_open.fetch(chrm, start, end).upper()\n",
    "        if strand == \"-\":\n",
    "            seq = dna_rc(seq)\n",
    "        seqs.append(seq)\n",
    "        seqs_1hot.append(dna_1hot(seq))\n",
    "        seqs_index.append(dna_1hot_index(seq))\n",
    "        seqs_GC.append(dna_1hot_GC(seq))\n",
    "    seqs_index = np.array(seqs_index)\n",
    "    seqs_GC = np.array(seqs_GC)\n",
    "    seqs_1hot = np.array(seqs_1hot)\n",
    "    return seqs, seqs_1hot, seqs_index, seqs_GC"
   ]
  },
  {
   "cell_type": "code",
   "execution_count": null,
   "id": "b72f4604-eb72-4e36-8463-0359570abf6e",
   "metadata": {},
   "outputs": [],
   "source": [
    "seqs_weak, seqs_1hot_weak, seqs_index_weak, seqs_GC_weak = get_seqs(\n",
    "    sites_weak, genome_file=\"/project/fudenber_735/genomes/mm10/mm10.fa\", extent_bp=100\n",
    ")\n",
    "seqs_strong, seqs_1hot_strong, seqs_index_strong, seqs_GC_strong = get_seqs(\n",
    "    sites_strong,\n",
    "    genome_file=\"/project/fudenber_735/genomes/mm10/mm10.fa\",\n",
    "    extent_bp=100,\n",
    ")"
   ]
  },
  {
   "cell_type": "code",
   "execution_count": null,
   "id": "714f0b2a-8532-4d15-aee6-83e424909b37",
   "metadata": {},
   "outputs": [],
   "source": [
    "#### load in Rohs lab DNA shape table\n",
    "dnashape = pd.read_excel(\n",
    "    \"/project/fudenber_735/motifs/DNA shape query table.xlsx\", skipfooter=4\n",
    ")\n",
    "dnashape_dict = dnashape.set_index(\"Pentamer\")  # .loc['AAAAAA']\n",
    "dnashape_rc = dnashape.copy()\n",
    "for i in range(len(dnashape)):\n",
    "    dnashape_rc.loc[i, \"Pentamer\"] = dna_rc(dnashape_rc.loc[i, \"Pentamer\"])\n",
    "dnashape_dict = pd.concat([dnashape, dnashape_rc])\n",
    "dnashape_dict = dnashape_dict.set_index(\"Pentamer\")"
   ]
  },
  {
   "cell_type": "code",
   "execution_count": null,
   "id": "508a9866-ee1d-4ca5-91a7-eff4a31a2928",
   "metadata": {},
   "outputs": [],
   "source": [
    "PENTAMER_LEN = 5\n",
    "\n",
    "\n",
    "def shape_converter(seq, shape_key=\"MGW\"):\n",
    "    shape_vec = []\n",
    "    for i in range(len(seq) - PENTAMER_LEN):\n",
    "        subseq = seq[i : i + PENTAMER_LEN]\n",
    "        if \"N\" in subseq:\n",
    "            shape_vec.append(np.nan)\n",
    "        else:\n",
    "            shape_vec.append(dnashape_dict[shape_key].loc[subseq])\n",
    "    return np.array(shape_vec)\n",
    "\n",
    "\n",
    "def shape_converter_multi(seq_list, shape_key=\"MGW\"):\n",
    "    shape_mat = []\n",
    "    for seq in seq_list:\n",
    "        shape_mat.append(shape_converter(seq, shape_key))\n",
    "    return np.array(shape_mat)"
   ]
  },
  {
   "cell_type": "code",
   "execution_count": null,
   "id": "fa3c7434-42a4-4d59-a057-e967e7f71d01",
   "metadata": {},
   "outputs": [],
   "source": [
    "shape_val_dict = {}\n",
    "for shape_key in dnashape.keys()[1:]:\n",
    "    shape_weak = shape_converter_multi(seqs_weak, shape_key=shape_key)\n",
    "    shape_strong = shape_converter_multi(seqs_strong, shape_key=shape_key)\n",
    "    shape_val_dict[shape_key] = [shape_weak, shape_strong]"
   ]
  },
  {
   "cell_type": "code",
   "execution_count": null,
   "id": "390748b7-3202-4bd5-a55d-ddd1de4f7f3f",
   "metadata": {},
   "outputs": [],
   "source": [
    "shape_corrs = {}\n",
    "bp_start, bp_stop = 80, 139\n",
    "inds_no_center = np.hstack((np.arange(20), np.arange(39, bp_stop - bp_start)))\n",
    "\n",
    "for shape_key in dnashape.keys()[1:]:\n",
    "    weak_shape, strong_shape = shape_val_dict[shape_key]\n",
    "\n",
    "    shape_corrs[shape_key] = [\n",
    "        np.round(\n",
    "            spearmanr(\n",
    "                np.nanmean(weak_shape[:, bp_start:bp_stop], axis=0)[inds_no_center],\n",
    "                np.nanmean(strong_shape[:, bp_start:bp_stop], axis=0)[inds_no_center],\n",
    "            )[0],\n",
    "            2,\n",
    "        ),\n",
    "        np.round(\n",
    "            np.sum(\n",
    "                np.abs(\n",
    "                    np.nanmean(weak_shape[:, bp_start:bp_stop], axis=0)[inds_no_center]\n",
    "                    - np.nanmean(strong_shape[:, bp_start:bp_stop], axis=0)[\n",
    "                        inds_no_center\n",
    "                    ]\n",
    "                )\n",
    "            ),\n",
    "            2,\n",
    "        ),\n",
    "    ]"
   ]
  },
  {
   "cell_type": "code",
   "execution_count": null,
   "id": "a870df97-7e8e-400f-960a-0bc6cb9374b6",
   "metadata": {},
   "outputs": [],
   "source": [
    "plt.figure(figsize=(5, 5))\n",
    "for k, v in shape_corrs.items():\n",
    "    plt.plot(v[0], v[1], \"o\")\n",
    "    plt.text(v[0], v[1], k)\n",
    "plt.grid()\n",
    "plt.xlabel(\"corr\")\n",
    "plt.ylabel(\"total diff\")"
   ]
  },
  {
   "cell_type": "code",
   "execution_count": null,
   "id": "24d2e03d-e922-45ab-ac4c-46f2880ff8c7",
   "metadata": {},
   "outputs": [],
   "source": [
    "for shape_key in dnashape.keys()[1:]:\n",
    "    weak_shape, strong_shape = shape_val_dict[shape_key]\n",
    "\n",
    "    min_val, max_val = np.nanpercentile(\n",
    "        # [weak_shape , strong_shape ],[5,95])\n",
    "        [weak_shape, strong_shape],\n",
    "        [10, 90],\n",
    "    )\n",
    "    print(shape_key, min_val, max_val)\n",
    "\n",
    "    bp_start, bp_stop = (80, 139)\n",
    "\n",
    "    plt.figure(figsize=(10, 6))\n",
    "    plt.subplot(121)\n",
    "    im = plt.matshow(\n",
    "        weak_shape[:, bp_start:bp_stop],\n",
    "        vmin=min_val,\n",
    "        vmax=max_val,\n",
    "        cmap=\"jet\",\n",
    "        fignum=False,\n",
    "    )\n",
    "    plt.colorbar(im, fraction=0.046, pad=0.04)\n",
    "    plt.title(\"weak \" + str(shape_key))\n",
    "    ax = plt.gca()\n",
    "    ax.set_aspect(\"auto\")\n",
    "\n",
    "    plt.subplot(122)\n",
    "    im = plt.matshow(\n",
    "        strong_shape[:, bp_start:bp_stop],\n",
    "        vmin=min_val,\n",
    "        vmax=max_val,\n",
    "        cmap=\"jet\",\n",
    "        fignum=False,\n",
    "    )\n",
    "    plt.colorbar(im, fraction=0.046, pad=0.04)\n",
    "    plt.title(\"strong \" + str(shape_key))\n",
    "    # plt.tight_layout()\n",
    "    ax.set_aspect(\"auto\")\n",
    "    ax = plt.gca()\n",
    "    ax.set_aspect(\"auto\")\n",
    "    plt.show()\n",
    "\n",
    "    plt.figure(figsize=(9.5, 1))\n",
    "    plt.subplot(121)\n",
    "    plt.plot(np.mean(weak_shape[:, bp_start:bp_stop], axis=0))\n",
    "    plt.grid()\n",
    "    plt.ylim([min_val, max_val])\n",
    "    plt.subplot(122)\n",
    "    plt.plot(np.mean(weak_shape[:, bp_start:bp_stop], axis=0))\n",
    "\n",
    "    plt.plot(np.mean(strong_shape[:, bp_start:bp_stop], axis=0), label=\"strong\")\n",
    "    plt.grid()\n",
    "    plt.ylim([min_val, max_val])\n",
    "    plt.show()"
   ]
  },
  {
   "cell_type": "code",
   "execution_count": null,
   "id": "9144ccdb-031d-4afe-96ca-397ec0454738",
   "metadata": {},
   "outputs": [],
   "source": []
  },
  {
   "cell_type": "code",
   "execution_count": null,
   "id": "fe1bf1e6-9fc3-41dd-a8eb-e76f03060e36",
   "metadata": {},
   "outputs": [],
   "source": [
    "\n"
   ]
  },
  {
   "cell_type": "code",
   "execution_count": null,
   "id": "1c26a110-91a8-45a7-ba7d-7a2766cfd45c",
   "metadata": {},
   "outputs": [],
   "source": []
  },
  {
   "cell_type": "code",
   "execution_count": null,
   "id": "2c3ad5df-2ab6-4109-8526-ad1605330cca",
   "metadata": {},
   "outputs": [],
   "source": []
  },
  {
   "cell_type": "code",
   "execution_count": null,
   "id": "b4f0b1b4-57ef-4b48-b219-ed4b32eb59cb",
   "metadata": {},
   "outputs": [],
   "source": []
  },
  {
   "cell_type": "code",
   "execution_count": null,
   "id": "2ad259ca-41d4-4efd-a0aa-17622a2634ac",
   "metadata": {},
   "outputs": [],
   "source": []
  },
  {
   "cell_type": "code",
   "execution_count": null,
   "id": "fc044299-e5f5-4f22-a0a2-78f5dc80eb56",
   "metadata": {},
   "outputs": [],
   "source": []
  },
  {
   "cell_type": "code",
   "execution_count": null,
   "id": "8c24d5cb-24a7-4bee-a1c6-55e1adb9548b",
   "metadata": {},
   "outputs": [],
   "source": []
  },
  {
   "cell_type": "code",
   "execution_count": null,
   "id": "029c9295-1619-44a7-9145-3429581b8284",
   "metadata": {},
   "outputs": [],
   "source": []
  }
 ],
 "metadata": {
  "kernelspec": {
   "display_name": "basenji-gpu",
   "language": "python",
   "name": "basenji-gpu"
  },
  "language_info": {
   "codemirror_mode": {
    "name": "ipython",
    "version": 3
   },
   "file_extension": ".py",
   "mimetype": "text/x-python",
   "name": "python",
   "nbconvert_exporter": "python",
   "pygments_lexer": "ipython3",
   "version": "3.8.0"
  }
 },
 "nbformat": 4,
 "nbformat_minor": 5
}
