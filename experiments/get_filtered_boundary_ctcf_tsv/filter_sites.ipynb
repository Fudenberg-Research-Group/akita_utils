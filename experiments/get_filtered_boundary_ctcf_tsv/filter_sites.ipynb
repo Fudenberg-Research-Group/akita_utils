{
 "cells": [
  {
   "cell_type": "code",
   "execution_count": 1,
   "id": "b329399c-54f7-4b5d-ac38-e5fb5321790d",
   "metadata": {},
   "outputs": [],
   "source": [
    "import pandas as pd\n",
    "import pysam\n",
    "import numpy as np\n",
    "import akita_utils\n",
    "import seaborn as sns\n",
    "import bioframe as bf"
   ]
  },
  {
   "cell_type": "code",
   "execution_count": 2,
   "id": "81944b29-c165-4129-8cab-b5e96f82125a",
   "metadata": {},
   "outputs": [
    {
     "name": "stderr",
     "output_type": "stream",
     "text": [
      "2023-10-13 10:50:22.125445: W tensorflow/stream_executor/platform/default/dso_loader.cc:64] Could not load dynamic library 'libcudart.so.11.0'; dlerror: libcudart.so.11.0: cannot open shared object file: No such file or directory; LD_LIBRARY_PATH: :/home1/smaruj/software/GSL/lib:/home1/smaruj/software/HTSLIB/lib\n",
      "2023-10-13 10:50:22.125493: I tensorflow/stream_executor/cuda/cudart_stub.cc:29] Ignore above cudart dlerror if you do not have a GPU set up on your machine.\n"
     ]
    }
   ],
   "source": [
    "from akita_utils.dna_utils import scan_motif, dna_1hot\n",
    "from akita_utils.format_io import read_jaspar_to_numpy, read_rmsk\n",
    "from akita_utils.tsv_gen_utils import filter_by_overlap_num"
   ]
  },
  {
   "cell_type": "markdown",
   "id": "61b3a05d-20f1-429c-8c89-3b903b71e649",
   "metadata": {},
   "source": [
    "# reading tsv with all mouse ctcf motifs overlapping genomic boundaries"
   ]
  },
  {
   "cell_type": "code",
   "execution_count": 3,
   "id": "af021dac-deaf-43e6-809c-6faf8063df81",
   "metadata": {},
   "outputs": [],
   "source": [
    "all_ctcf_path = \"/project/fudenber_735/tensorflow_models/akita/v2/analysis/to_insert_boundaries.motifs.ctcf.mm10.tsv\"\n",
    "df = pd.read_csv(all_ctcf_path, sep=\"\\t\")"
   ]
  },
  {
   "cell_type": "markdown",
   "id": "c9c7bec7-d332-4422-b1f9-39c743420842",
   "metadata": {},
   "source": [
    "Since the set of motifs is the same for all backgrounds, we can focus on a subset of the table corresponding to one background (e.g. the 0th background)"
   ]
  },
  {
   "cell_type": "code",
   "execution_count": 4,
   "id": "22c9ed06-64f5-4d7f-9ccf-51f57ec073e0",
   "metadata": {},
   "outputs": [],
   "source": [
    "df = df[df[\"background_index\"] == 0]\n",
    "\n",
    "# removing some not necessary columns from the table for clarity\n",
    "columns_to_keep = [\"boundary_index\", \"chrom\", \"boundary_end\", \"index\", \"num_ctcf\", \"span\", \"boundary_start\", \"strand\", \"start\", \"end\"]\n",
    "df = df[columns_to_keep]"
   ]
  },
  {
   "cell_type": "markdown",
   "id": "593b2e56-0aea-4048-b88e-42152a69ab4e",
   "metadata": {},
   "source": [
    "# filtering"
   ]
  },
  {
   "cell_type": "markdown",
   "id": "6cb02217-fa1a-4346-a3f8-68f1c34954ea",
   "metadata": {},
   "source": [
    "## 1. by ctcf"
   ]
  },
  {
   "cell_type": "code",
   "execution_count": 5,
   "id": "2ffc775d-84be-49d6-8f05-89350e6259dc",
   "metadata": {},
   "outputs": [],
   "source": [
    "# jaspar tsv\n",
    "jaspar_file = \"/project/fudenber_735/motifs/mm10/jaspar/MA0139.1.tsv.gz\"\n",
    "jaspar_df = bf.read_table(jaspar_file, schema=\"jaspar\")\n",
    "\n",
    "# filtering\n",
    "filtered_df = filter_by_overlap_num(df,\n",
    "                    filter_df=jaspar_df,\n",
    "                     max_overlap_num=1)"
   ]
  },
  {
   "cell_type": "code",
   "execution_count": 6,
   "id": "3b2f4fa6-ace9-47e6-83a0-e6a9467562c9",
   "metadata": {},
   "outputs": [
    {
     "data": {
      "text/plain": [
       "2351"
      ]
     },
     "execution_count": 6,
     "metadata": {},
     "output_type": "execute_result"
    }
   ],
   "source": [
    "len(df) - len(filtered_df)"
   ]
  },
  {
   "cell_type": "markdown",
   "id": "b4e270a2-3d6e-4dd5-9eb3-a13bb52acb98",
   "metadata": {},
   "source": [
    "2351 sites have been excluded from the analysis since they overlap another ctcf sites"
   ]
  },
  {
   "cell_type": "markdown",
   "id": "dce62bdd-1a7b-435b-b666-3554df3b1d65",
   "metadata": {},
   "source": [
    "## 2. by rmsk (a table with repeatable elements e.g. SINE, LINE, ect.)"
   ]
  },
  {
   "cell_type": "code",
   "execution_count": 7,
   "id": "b4068ddb-c4c4-4fd1-b9a6-f6fc75a670f4",
   "metadata": {},
   "outputs": [],
   "source": [
    "rmsk_file = \"/project/fudenber_735/genomes/mm10/database/rmsk.txt.gz\"\n",
    "rmsk_df = read_rmsk(rmsk_file)"
   ]
  },
  {
   "cell_type": "code",
   "execution_count": 8,
   "id": "abf9fc42-b7c3-4f20-a848-840f9dad09c5",
   "metadata": {},
   "outputs": [],
   "source": [
    "filtered_df = filter_by_overlap_num(filtered_df,\n",
    "                        rmsk_df,\n",
    "                        expand_window=20,\n",
    "                        working_df_cols = [\"chrom\",\"start\",\"end\"])"
   ]
  },
  {
   "cell_type": "code",
   "execution_count": 9,
   "id": "74fa008b-a460-481a-ae4b-53de1fd0c9a2",
   "metadata": {},
   "outputs": [
    {
     "data": {
      "text/plain": [
       "7560"
      ]
     },
     "execution_count": 9,
     "metadata": {},
     "output_type": "execute_result"
    }
   ],
   "source": [
    "len(filtered_df)"
   ]
  },
  {
   "cell_type": "markdown",
   "id": "a1749569-e340-4082-984c-a02566bb931d",
   "metadata": {},
   "source": [
    "More than half of the sites have been filtered out.    \n",
    "It's okay since we prefer to work with smaller, but high-quality sites (meaning that the effect of their insertion  disruption is not affected by overlapping ctct sites or repeatable genomic elements)."
   ]
  },
  {
   "cell_type": "markdown",
   "id": "365eea70-cf90-4e78-bf19-33f197b8fe7d",
   "metadata": {},
   "source": [
    "# adding seq_id"
   ]
  },
  {
   "cell_type": "code",
   "execution_count": 10,
   "id": "e3749a6e-adf1-4e0b-94dd-c93f85c2b915",
   "metadata": {},
   "outputs": [],
   "source": [
    "# so we can identify the same ctcf sites between experiments\n",
    "\n",
    "seq_id = [seq_index for seq_index in range(len(filtered_df))]\n",
    "filtered_df[\"seq_id\"] = seq_id"
   ]
  },
  {
   "cell_type": "markdown",
   "id": "34b3d908-093c-4699-8fd0-6d380561d734",
   "metadata": {},
   "source": [
    "# tsv saving"
   ]
  },
  {
   "cell_type": "code",
   "execution_count": 12,
   "id": "7269458a-fc14-4d0d-99f3-86572a470582",
   "metadata": {},
   "outputs": [],
   "source": [
    "filtered_df.to_csv(\"./../../data_filtered_ctcf_table/filtered_base_mouse_ctcf.tsv\", sep = \"\\t\", index=False)"
   ]
  },
  {
   "cell_type": "code",
   "execution_count": null,
   "id": "53623175-a87f-4d9a-81fe-67ea96e8abc7",
   "metadata": {},
   "outputs": [],
   "source": []
  }
 ],
 "metadata": {
  "kernelspec": {
   "display_name": "Basenji kernel",
   "language": "python",
   "name": "basenji_kernel"
  },
  "language_info": {
   "codemirror_mode": {
    "name": "ipython",
    "version": 3
   },
   "file_extension": ".py",
   "mimetype": "text/x-python",
   "name": "python",
   "nbconvert_exporter": "python",
   "pygments_lexer": "ipython3",
   "version": "3.8.12"
  }
 },
 "nbformat": 4,
 "nbformat_minor": 5
}
