{
 "cells": [
  {
   "cell_type": "code",
   "execution_count": 1,
   "id": "233e464e-d687-4b85-b7e0-87405d279224",
   "metadata": {},
   "outputs": [],
   "source": [
    "import pandas as pd\n",
    "import pysam\n",
    "import numpy as np\n",
    "import akita_utils\n",
    "import h5py\n",
    "from scipy import stats\n",
    "\n",
    "from akita_utils.utils import ut_dense\n",
    "\n",
    "import matplotlib.pyplot as plt\n",
    "import seaborn as sns"
   ]
  },
  {
   "cell_type": "code",
   "execution_count": 2,
   "id": "f3871656-8958-45ee-a4c4-19e1d36fc3a9",
   "metadata": {},
   "outputs": [
    {
     "ename": "FileNotFoundError",
     "evalue": "[Errno 2] No such file or directory: '/home1/smaruj/akita_utils/bin/insert_virtual_dots_vs_boundaries/ctcf_tsv/filtered_base_mouse_ctcf_scored_and_averaged.tsv'",
     "output_type": "error",
     "traceback": [
      "\u001b[0;31m---------------------------------------------------------------------------\u001b[0m",
      "\u001b[0;31mFileNotFoundError\u001b[0m                         Traceback (most recent call last)",
      "Input \u001b[0;32mIn [2]\u001b[0m, in \u001b[0;36m<cell line: 3>\u001b[0;34m()\u001b[0m\n\u001b[1;32m      1\u001b[0m \u001b[38;5;66;03m# reading the summary tsv\u001b[39;00m\n\u001b[1;32m      2\u001b[0m input_tsv \u001b[38;5;241m=\u001b[39m \u001b[38;5;124m\"\u001b[39m\u001b[38;5;124m/home1/smaruj/akita_utils/bin/insert_virtual_dots_vs_boundaries/ctcf_tsv/filtered_base_mouse_ctcf_scored_and_averaged.tsv\u001b[39m\u001b[38;5;124m\"\u001b[39m\n\u001b[0;32m----> 3\u001b[0m df \u001b[38;5;241m=\u001b[39m \u001b[43mpd\u001b[49m\u001b[38;5;241;43m.\u001b[39;49m\u001b[43mread_table\u001b[49m\u001b[43m(\u001b[49m\u001b[43minput_tsv\u001b[49m\u001b[43m,\u001b[49m\u001b[43m \u001b[49m\u001b[43msep\u001b[49m\u001b[38;5;241;43m=\u001b[39;49m\u001b[38;5;124;43m\"\u001b[39;49m\u001b[38;5;130;43;01m\\t\u001b[39;49;00m\u001b[38;5;124;43m\"\u001b[39;49m\u001b[43m)\u001b[49m\n",
      "File \u001b[0;32m~/miniconda3/envs/basenji/lib/python3.8/site-packages/pandas/util/_decorators.py:311\u001b[0m, in \u001b[0;36mdeprecate_nonkeyword_arguments.<locals>.decorate.<locals>.wrapper\u001b[0;34m(*args, **kwargs)\u001b[0m\n\u001b[1;32m    305\u001b[0m \u001b[38;5;28;01mif\u001b[39;00m \u001b[38;5;28mlen\u001b[39m(args) \u001b[38;5;241m>\u001b[39m num_allow_args:\n\u001b[1;32m    306\u001b[0m     warnings\u001b[38;5;241m.\u001b[39mwarn(\n\u001b[1;32m    307\u001b[0m         msg\u001b[38;5;241m.\u001b[39mformat(arguments\u001b[38;5;241m=\u001b[39marguments),\n\u001b[1;32m    308\u001b[0m         \u001b[38;5;167;01mFutureWarning\u001b[39;00m,\n\u001b[1;32m    309\u001b[0m         stacklevel\u001b[38;5;241m=\u001b[39mstacklevel,\n\u001b[1;32m    310\u001b[0m     )\n\u001b[0;32m--> 311\u001b[0m \u001b[38;5;28;01mreturn\u001b[39;00m \u001b[43mfunc\u001b[49m\u001b[43m(\u001b[49m\u001b[38;5;241;43m*\u001b[39;49m\u001b[43margs\u001b[49m\u001b[43m,\u001b[49m\u001b[43m \u001b[49m\u001b[38;5;241;43m*\u001b[39;49m\u001b[38;5;241;43m*\u001b[39;49m\u001b[43mkwargs\u001b[49m\u001b[43m)\u001b[49m\n",
      "File \u001b[0;32m~/miniconda3/envs/basenji/lib/python3.8/site-packages/pandas/io/parsers/readers.py:779\u001b[0m, in \u001b[0;36mread_table\u001b[0;34m(filepath_or_buffer, sep, delimiter, header, names, index_col, usecols, squeeze, prefix, mangle_dupe_cols, dtype, engine, converters, true_values, false_values, skipinitialspace, skiprows, skipfooter, nrows, na_values, keep_default_na, na_filter, verbose, skip_blank_lines, parse_dates, infer_datetime_format, keep_date_col, date_parser, dayfirst, cache_dates, iterator, chunksize, compression, thousands, decimal, lineterminator, quotechar, quoting, doublequote, escapechar, comment, encoding, encoding_errors, dialect, error_bad_lines, warn_bad_lines, on_bad_lines, delim_whitespace, low_memory, memory_map, float_precision, storage_options)\u001b[0m\n\u001b[1;32m    764\u001b[0m kwds_defaults \u001b[38;5;241m=\u001b[39m _refine_defaults_read(\n\u001b[1;32m    765\u001b[0m     dialect,\n\u001b[1;32m    766\u001b[0m     delimiter,\n\u001b[0;32m   (...)\u001b[0m\n\u001b[1;32m    775\u001b[0m     defaults\u001b[38;5;241m=\u001b[39m{\u001b[38;5;124m\"\u001b[39m\u001b[38;5;124mdelimiter\u001b[39m\u001b[38;5;124m\"\u001b[39m: \u001b[38;5;124m\"\u001b[39m\u001b[38;5;130;01m\\t\u001b[39;00m\u001b[38;5;124m\"\u001b[39m},\n\u001b[1;32m    776\u001b[0m )\n\u001b[1;32m    777\u001b[0m kwds\u001b[38;5;241m.\u001b[39mupdate(kwds_defaults)\n\u001b[0;32m--> 779\u001b[0m \u001b[38;5;28;01mreturn\u001b[39;00m \u001b[43m_read\u001b[49m\u001b[43m(\u001b[49m\u001b[43mfilepath_or_buffer\u001b[49m\u001b[43m,\u001b[49m\u001b[43m \u001b[49m\u001b[43mkwds\u001b[49m\u001b[43m)\u001b[49m\n",
      "File \u001b[0;32m~/miniconda3/envs/basenji/lib/python3.8/site-packages/pandas/io/parsers/readers.py:575\u001b[0m, in \u001b[0;36m_read\u001b[0;34m(filepath_or_buffer, kwds)\u001b[0m\n\u001b[1;32m    572\u001b[0m _validate_names(kwds\u001b[38;5;241m.\u001b[39mget(\u001b[38;5;124m\"\u001b[39m\u001b[38;5;124mnames\u001b[39m\u001b[38;5;124m\"\u001b[39m, \u001b[38;5;28;01mNone\u001b[39;00m))\n\u001b[1;32m    574\u001b[0m \u001b[38;5;66;03m# Create the parser.\u001b[39;00m\n\u001b[0;32m--> 575\u001b[0m parser \u001b[38;5;241m=\u001b[39m \u001b[43mTextFileReader\u001b[49m\u001b[43m(\u001b[49m\u001b[43mfilepath_or_buffer\u001b[49m\u001b[43m,\u001b[49m\u001b[43m \u001b[49m\u001b[38;5;241;43m*\u001b[39;49m\u001b[38;5;241;43m*\u001b[39;49m\u001b[43mkwds\u001b[49m\u001b[43m)\u001b[49m\n\u001b[1;32m    577\u001b[0m \u001b[38;5;28;01mif\u001b[39;00m chunksize \u001b[38;5;129;01mor\u001b[39;00m iterator:\n\u001b[1;32m    578\u001b[0m     \u001b[38;5;28;01mreturn\u001b[39;00m parser\n",
      "File \u001b[0;32m~/miniconda3/envs/basenji/lib/python3.8/site-packages/pandas/io/parsers/readers.py:933\u001b[0m, in \u001b[0;36mTextFileReader.__init__\u001b[0;34m(self, f, engine, **kwds)\u001b[0m\n\u001b[1;32m    930\u001b[0m     \u001b[38;5;28mself\u001b[39m\u001b[38;5;241m.\u001b[39moptions[\u001b[38;5;124m\"\u001b[39m\u001b[38;5;124mhas_index_names\u001b[39m\u001b[38;5;124m\"\u001b[39m] \u001b[38;5;241m=\u001b[39m kwds[\u001b[38;5;124m\"\u001b[39m\u001b[38;5;124mhas_index_names\u001b[39m\u001b[38;5;124m\"\u001b[39m]\n\u001b[1;32m    932\u001b[0m \u001b[38;5;28mself\u001b[39m\u001b[38;5;241m.\u001b[39mhandles: IOHandles \u001b[38;5;241m|\u001b[39m \u001b[38;5;28;01mNone\u001b[39;00m \u001b[38;5;241m=\u001b[39m \u001b[38;5;28;01mNone\u001b[39;00m\n\u001b[0;32m--> 933\u001b[0m \u001b[38;5;28mself\u001b[39m\u001b[38;5;241m.\u001b[39m_engine \u001b[38;5;241m=\u001b[39m \u001b[38;5;28;43mself\u001b[39;49m\u001b[38;5;241;43m.\u001b[39;49m\u001b[43m_make_engine\u001b[49m\u001b[43m(\u001b[49m\u001b[43mf\u001b[49m\u001b[43m,\u001b[49m\u001b[43m \u001b[49m\u001b[38;5;28;43mself\u001b[39;49m\u001b[38;5;241;43m.\u001b[39;49m\u001b[43mengine\u001b[49m\u001b[43m)\u001b[49m\n",
      "File \u001b[0;32m~/miniconda3/envs/basenji/lib/python3.8/site-packages/pandas/io/parsers/readers.py:1217\u001b[0m, in \u001b[0;36mTextFileReader._make_engine\u001b[0;34m(self, f, engine)\u001b[0m\n\u001b[1;32m   1213\u001b[0m     mode \u001b[38;5;241m=\u001b[39m \u001b[38;5;124m\"\u001b[39m\u001b[38;5;124mrb\u001b[39m\u001b[38;5;124m\"\u001b[39m\n\u001b[1;32m   1214\u001b[0m \u001b[38;5;66;03m# error: No overload variant of \"get_handle\" matches argument types\u001b[39;00m\n\u001b[1;32m   1215\u001b[0m \u001b[38;5;66;03m# \"Union[str, PathLike[str], ReadCsvBuffer[bytes], ReadCsvBuffer[str]]\"\u001b[39;00m\n\u001b[1;32m   1216\u001b[0m \u001b[38;5;66;03m# , \"str\", \"bool\", \"Any\", \"Any\", \"Any\", \"Any\", \"Any\"\u001b[39;00m\n\u001b[0;32m-> 1217\u001b[0m \u001b[38;5;28mself\u001b[39m\u001b[38;5;241m.\u001b[39mhandles \u001b[38;5;241m=\u001b[39m \u001b[43mget_handle\u001b[49m\u001b[43m(\u001b[49m\u001b[43m  \u001b[49m\u001b[38;5;66;43;03m# type: ignore[call-overload]\u001b[39;49;00m\n\u001b[1;32m   1218\u001b[0m \u001b[43m    \u001b[49m\u001b[43mf\u001b[49m\u001b[43m,\u001b[49m\n\u001b[1;32m   1219\u001b[0m \u001b[43m    \u001b[49m\u001b[43mmode\u001b[49m\u001b[43m,\u001b[49m\n\u001b[1;32m   1220\u001b[0m \u001b[43m    \u001b[49m\u001b[43mencoding\u001b[49m\u001b[38;5;241;43m=\u001b[39;49m\u001b[38;5;28;43mself\u001b[39;49m\u001b[38;5;241;43m.\u001b[39;49m\u001b[43moptions\u001b[49m\u001b[38;5;241;43m.\u001b[39;49m\u001b[43mget\u001b[49m\u001b[43m(\u001b[49m\u001b[38;5;124;43m\"\u001b[39;49m\u001b[38;5;124;43mencoding\u001b[39;49m\u001b[38;5;124;43m\"\u001b[39;49m\u001b[43m,\u001b[49m\u001b[43m \u001b[49m\u001b[38;5;28;43;01mNone\u001b[39;49;00m\u001b[43m)\u001b[49m\u001b[43m,\u001b[49m\n\u001b[1;32m   1221\u001b[0m \u001b[43m    \u001b[49m\u001b[43mcompression\u001b[49m\u001b[38;5;241;43m=\u001b[39;49m\u001b[38;5;28;43mself\u001b[39;49m\u001b[38;5;241;43m.\u001b[39;49m\u001b[43moptions\u001b[49m\u001b[38;5;241;43m.\u001b[39;49m\u001b[43mget\u001b[49m\u001b[43m(\u001b[49m\u001b[38;5;124;43m\"\u001b[39;49m\u001b[38;5;124;43mcompression\u001b[39;49m\u001b[38;5;124;43m\"\u001b[39;49m\u001b[43m,\u001b[49m\u001b[43m \u001b[49m\u001b[38;5;28;43;01mNone\u001b[39;49;00m\u001b[43m)\u001b[49m\u001b[43m,\u001b[49m\n\u001b[1;32m   1222\u001b[0m \u001b[43m    \u001b[49m\u001b[43mmemory_map\u001b[49m\u001b[38;5;241;43m=\u001b[39;49m\u001b[38;5;28;43mself\u001b[39;49m\u001b[38;5;241;43m.\u001b[39;49m\u001b[43moptions\u001b[49m\u001b[38;5;241;43m.\u001b[39;49m\u001b[43mget\u001b[49m\u001b[43m(\u001b[49m\u001b[38;5;124;43m\"\u001b[39;49m\u001b[38;5;124;43mmemory_map\u001b[39;49m\u001b[38;5;124;43m\"\u001b[39;49m\u001b[43m,\u001b[49m\u001b[43m \u001b[49m\u001b[38;5;28;43;01mFalse\u001b[39;49;00m\u001b[43m)\u001b[49m\u001b[43m,\u001b[49m\n\u001b[1;32m   1223\u001b[0m \u001b[43m    \u001b[49m\u001b[43mis_text\u001b[49m\u001b[38;5;241;43m=\u001b[39;49m\u001b[43mis_text\u001b[49m\u001b[43m,\u001b[49m\n\u001b[1;32m   1224\u001b[0m \u001b[43m    \u001b[49m\u001b[43merrors\u001b[49m\u001b[38;5;241;43m=\u001b[39;49m\u001b[38;5;28;43mself\u001b[39;49m\u001b[38;5;241;43m.\u001b[39;49m\u001b[43moptions\u001b[49m\u001b[38;5;241;43m.\u001b[39;49m\u001b[43mget\u001b[49m\u001b[43m(\u001b[49m\u001b[38;5;124;43m\"\u001b[39;49m\u001b[38;5;124;43mencoding_errors\u001b[39;49m\u001b[38;5;124;43m\"\u001b[39;49m\u001b[43m,\u001b[49m\u001b[43m \u001b[49m\u001b[38;5;124;43m\"\u001b[39;49m\u001b[38;5;124;43mstrict\u001b[39;49m\u001b[38;5;124;43m\"\u001b[39;49m\u001b[43m)\u001b[49m\u001b[43m,\u001b[49m\n\u001b[1;32m   1225\u001b[0m \u001b[43m    \u001b[49m\u001b[43mstorage_options\u001b[49m\u001b[38;5;241;43m=\u001b[39;49m\u001b[38;5;28;43mself\u001b[39;49m\u001b[38;5;241;43m.\u001b[39;49m\u001b[43moptions\u001b[49m\u001b[38;5;241;43m.\u001b[39;49m\u001b[43mget\u001b[49m\u001b[43m(\u001b[49m\u001b[38;5;124;43m\"\u001b[39;49m\u001b[38;5;124;43mstorage_options\u001b[39;49m\u001b[38;5;124;43m\"\u001b[39;49m\u001b[43m,\u001b[49m\u001b[43m \u001b[49m\u001b[38;5;28;43;01mNone\u001b[39;49;00m\u001b[43m)\u001b[49m\u001b[43m,\u001b[49m\n\u001b[1;32m   1226\u001b[0m \u001b[43m\u001b[49m\u001b[43m)\u001b[49m\n\u001b[1;32m   1227\u001b[0m \u001b[38;5;28;01massert\u001b[39;00m \u001b[38;5;28mself\u001b[39m\u001b[38;5;241m.\u001b[39mhandles \u001b[38;5;129;01mis\u001b[39;00m \u001b[38;5;129;01mnot\u001b[39;00m \u001b[38;5;28;01mNone\u001b[39;00m\n\u001b[1;32m   1228\u001b[0m f \u001b[38;5;241m=\u001b[39m \u001b[38;5;28mself\u001b[39m\u001b[38;5;241m.\u001b[39mhandles\u001b[38;5;241m.\u001b[39mhandle\n",
      "File \u001b[0;32m~/miniconda3/envs/basenji/lib/python3.8/site-packages/pandas/io/common.py:789\u001b[0m, in \u001b[0;36mget_handle\u001b[0;34m(path_or_buf, mode, encoding, compression, memory_map, is_text, errors, storage_options)\u001b[0m\n\u001b[1;32m    784\u001b[0m \u001b[38;5;28;01melif\u001b[39;00m \u001b[38;5;28misinstance\u001b[39m(handle, \u001b[38;5;28mstr\u001b[39m):\n\u001b[1;32m    785\u001b[0m     \u001b[38;5;66;03m# Check whether the filename is to be opened in binary mode.\u001b[39;00m\n\u001b[1;32m    786\u001b[0m     \u001b[38;5;66;03m# Binary mode does not support 'encoding' and 'newline'.\u001b[39;00m\n\u001b[1;32m    787\u001b[0m     \u001b[38;5;28;01mif\u001b[39;00m ioargs\u001b[38;5;241m.\u001b[39mencoding \u001b[38;5;129;01mand\u001b[39;00m \u001b[38;5;124m\"\u001b[39m\u001b[38;5;124mb\u001b[39m\u001b[38;5;124m\"\u001b[39m \u001b[38;5;129;01mnot\u001b[39;00m \u001b[38;5;129;01min\u001b[39;00m ioargs\u001b[38;5;241m.\u001b[39mmode:\n\u001b[1;32m    788\u001b[0m         \u001b[38;5;66;03m# Encoding\u001b[39;00m\n\u001b[0;32m--> 789\u001b[0m         handle \u001b[38;5;241m=\u001b[39m \u001b[38;5;28;43mopen\u001b[39;49m\u001b[43m(\u001b[49m\n\u001b[1;32m    790\u001b[0m \u001b[43m            \u001b[49m\u001b[43mhandle\u001b[49m\u001b[43m,\u001b[49m\n\u001b[1;32m    791\u001b[0m \u001b[43m            \u001b[49m\u001b[43mioargs\u001b[49m\u001b[38;5;241;43m.\u001b[39;49m\u001b[43mmode\u001b[49m\u001b[43m,\u001b[49m\n\u001b[1;32m    792\u001b[0m \u001b[43m            \u001b[49m\u001b[43mencoding\u001b[49m\u001b[38;5;241;43m=\u001b[39;49m\u001b[43mioargs\u001b[49m\u001b[38;5;241;43m.\u001b[39;49m\u001b[43mencoding\u001b[49m\u001b[43m,\u001b[49m\n\u001b[1;32m    793\u001b[0m \u001b[43m            \u001b[49m\u001b[43merrors\u001b[49m\u001b[38;5;241;43m=\u001b[39;49m\u001b[43merrors\u001b[49m\u001b[43m,\u001b[49m\n\u001b[1;32m    794\u001b[0m \u001b[43m            \u001b[49m\u001b[43mnewline\u001b[49m\u001b[38;5;241;43m=\u001b[39;49m\u001b[38;5;124;43m\"\u001b[39;49m\u001b[38;5;124;43m\"\u001b[39;49m\u001b[43m,\u001b[49m\n\u001b[1;32m    795\u001b[0m \u001b[43m        \u001b[49m\u001b[43m)\u001b[49m\n\u001b[1;32m    796\u001b[0m     \u001b[38;5;28;01melse\u001b[39;00m:\n\u001b[1;32m    797\u001b[0m         \u001b[38;5;66;03m# Binary mode\u001b[39;00m\n\u001b[1;32m    798\u001b[0m         handle \u001b[38;5;241m=\u001b[39m \u001b[38;5;28mopen\u001b[39m(handle, ioargs\u001b[38;5;241m.\u001b[39mmode)\n",
      "\u001b[0;31mFileNotFoundError\u001b[0m: [Errno 2] No such file or directory: '/home1/smaruj/akita_utils/bin/insert_virtual_dots_vs_boundaries/ctcf_tsv/filtered_base_mouse_ctcf_scored_and_averaged.tsv'"
     ]
    }
   ],
   "source": [
    "# reading the summary tsv\n",
    "input_tsv = \"/home1/smaruj/akita_utils/bin/insert_virtual_dots_vs_boundaries/ctcf_tsv/filtered_base_mouse_ctcf_scored_and_averaged.tsv\"\n",
    "df = pd.read_table(input_tsv, sep=\"\\t\")"
   ]
  },
  {
   "cell_type": "code",
   "execution_count": null,
   "id": "609eb90a-c2a6-4ce5-8ad1-1201d4229c68",
   "metadata": {},
   "outputs": [],
   "source": [
    "df.columns"
   ]
  },
  {
   "cell_type": "markdown",
   "id": "170f1049-cc82-440c-b8ab-d91789257b10",
   "metadata": {},
   "source": [
    "# Averaging over models"
   ]
  },
  {
   "cell_type": "code",
   "execution_count": null,
   "id": "88700ea9-01c2-4490-8b34-dddc1f71a110",
   "metadata": {},
   "outputs": [],
   "source": [
    "model_indices = [1, 2]\n",
    "col_names = [\"boSCD\", \"dotSCD\", \"dot-score\", \"cross-score\", \"x-score\"]"
   ]
  },
  {
   "cell_type": "code",
   "execution_count": null,
   "id": "78963750-2023-4bd1-87ad-3d71683a0025",
   "metadata": {},
   "outputs": [],
   "source": [
    "for score in col_names:\n",
    "    ave_column_name = f\"{score}_avg\"\n",
    "    columns_to_ave = [f\"{score}_m{model_index}\" for model_index in model_indices]\n",
    "    df[ave_column_name] = df[columns_to_ave].mean(axis=1)"
   ]
  },
  {
   "cell_type": "code",
   "execution_count": null,
   "id": "bf0df4f1-3598-48f6-98e0-1373b23dfd45",
   "metadata": {},
   "outputs": [],
   "source": [
    "# df"
   ]
  },
  {
   "cell_type": "markdown",
   "id": "650f4195-cf70-42ef-8b27-e0cd94ea2941",
   "metadata": {},
   "source": [
    "# Plots (scores are averaged over targets, models, and backgrounds)"
   ]
  },
  {
   "cell_type": "markdown",
   "id": "e929d227-7eb0-4364-a3c4-6d509b865edb",
   "metadata": {},
   "source": [
    "## A) Correlation between boundary SCD and dot SCD"
   ]
  },
  {
   "cell_type": "code",
   "execution_count": null,
   "id": "43375558-c6cc-4c13-b334-3cac6c295c1c",
   "metadata": {},
   "outputs": [],
   "source": [
    "fig, ax = plt.subplots(figsize=(12, 10))\n",
    "\n",
    "# Axes.scatter(x, y,...)\n",
    "scatter = ax.scatter(df[\"boSCD_avg\"], df[\"dotSCD_avg\"], alpha=0.7)\n",
    "\n",
    "pearson_corr = stats.pearsonr(df[\"boSCD_avg\"], df[\"dotSCD_avg\"]).statistic\n",
    "rounded_pearson_corr = round(pearson_corr, 3)\n",
    "\n",
    "ax.set_xlabel(\"boundary SCD\")\n",
    "ax.set_ylabel(\"dot SCD\")\n",
    "\n",
    "ax.set_title(f\"Correlation between boundary SCD and dot SCD; Pearson Correlation = {rounded_pearson_corr}\")\n",
    "\n",
    "plt.savefig(\"./plots/boundarySCD_vs_dotSCD.png\", bbox_inches=\"tight\")\n",
    "\n",
    "plt.show()"
   ]
  },
  {
   "cell_type": "markdown",
   "id": "5fb3ea6d-2fb2-498d-a038-0ede40118120",
   "metadata": {},
   "source": [
    "## B) Boundary-SCD vs. cross-score"
   ]
  },
  {
   "cell_type": "code",
   "execution_count": null,
   "id": "0383c95d-b9a8-4575-b834-ce665defa81c",
   "metadata": {},
   "outputs": [],
   "source": [
    "fig, ax = plt.subplots(figsize=(12, 10))\n",
    "\n",
    "# Axes.scatter(x, y,...)\n",
    "scatter = ax.scatter(df[\"boSCD_avg\"], df[\"cross-score_avg\"], alpha=0.7)\n",
    "\n",
    "ax.set_xlabel(\"boundary SCD\")\n",
    "ax.set_ylabel(\"cross dot score\")\n",
    "\n",
    "ax.set_title(\"Boundary-SCD vs. cross-score\")\n",
    "\n",
    "plt.savefig(\"./plots/boundarySCD_vs_cross-score.png\", bbox_inches=\"tight\")\n",
    "\n",
    "plt.show()"
   ]
  },
  {
   "cell_type": "markdown",
   "id": "71edff60-9f21-4d75-bd1b-c491b185138d",
   "metadata": {},
   "source": [
    "## C) Boundary-SCD vs. dot-score"
   ]
  },
  {
   "cell_type": "code",
   "execution_count": null,
   "id": "aef62c0b-b954-4f60-9ec3-5b003e9187e4",
   "metadata": {},
   "outputs": [],
   "source": [
    "fig, ax = plt.subplots(figsize=(12, 10))\n",
    "\n",
    "# Axes.scatter(x, y,...)\n",
    "scatter = ax.scatter(df[\"boSCD_avg\"], df[\"dot-score_avg\"], alpha=0.7)\n",
    "\n",
    "ax.set_xlabel(\"boundary SCD\")\n",
    "ax.set_ylabel(\"dot score\")\n",
    "\n",
    "ax.set_title(\"Boundary-SCD vs. dot-score\")\n",
    "\n",
    "plt.savefig(\"./plots/boundarySCD_vs_dot-score.png\", bbox_inches=\"tight\")\n",
    "\n",
    "plt.show()"
   ]
  },
  {
   "cell_type": "markdown",
   "id": "ca6aca8f-c68d-471b-818f-46918fea3365",
   "metadata": {},
   "source": [
    "## D) Boundary-SCD vs. x-score"
   ]
  },
  {
   "cell_type": "code",
   "execution_count": null,
   "id": "62b25821-eeea-45ff-a6d8-d960bcc9bda8",
   "metadata": {},
   "outputs": [],
   "source": [
    "fig, ax = plt.subplots(figsize=(12, 10))\n",
    "\n",
    "# Axes.scatter(x, y,...)\n",
    "scatter = ax.scatter(df[\"boSCD_avg\"], df[\"x-score_avg\"], alpha=0.7)\n",
    "\n",
    "ax.set_xlabel(\"boundary SCD\")\n",
    "ax.set_ylabel(\"x dot score\")\n",
    "\n",
    "ax.set_title(\"Boundary-SCD vs. x-score\")\n",
    "\n",
    "plt.savefig(\"./plots/boundarySCD_vs_x-score.png\", bbox_inches=\"tight\")\n",
    "\n",
    "plt.show()"
   ]
  },
  {
   "cell_type": "markdown",
   "id": "b471bc99-63cc-4dd2-88c0-91df0c492b1e",
   "metadata": {},
   "source": [
    "# Scatterplot with histograms on the margins"
   ]
  },
  {
   "cell_type": "code",
   "execution_count": null,
   "id": "048ef168-6f8b-432f-aba4-d0a46044a25a",
   "metadata": {},
   "outputs": [],
   "source": [
    "sns.jointplot(\n",
    "    x=df[\"boSCD_avg\"], y=df[\"cross-score_avg\"], marginal_kws=dict(bins=30, fill=True),\n",
    ")"
   ]
  },
  {
   "cell_type": "markdown",
   "id": "145e7bf0-28d6-489e-9afe-2db1379155b0",
   "metadata": {},
   "source": [
    "### Let's plot histograms separately"
   ]
  },
  {
   "cell_type": "code",
   "execution_count": null,
   "id": "990a6b0b-9995-4352-b367-44f5bb24496a",
   "metadata": {},
   "outputs": [],
   "source": [
    "sns.histplot(x=df[\"cross-score_avg\"], bins=30)"
   ]
  },
  {
   "cell_type": "code",
   "execution_count": null,
   "id": "06cc11d6-ec61-4101-871f-5946f45c430c",
   "metadata": {},
   "outputs": [],
   "source": [
    "sns.histplot(x=df[\"boSCD_avg\"], bins=30)"
   ]
  },
  {
   "cell_type": "markdown",
   "id": "f5333bae-fc87-468d-b19d-272e40e6779b",
   "metadata": {},
   "source": [
    "# Correlations between models for all scores"
   ]
  },
  {
   "cell_type": "markdown",
   "id": "b1b3f847-b3f4-4294-80a7-891e0f3739ec",
   "metadata": {},
   "source": [
    "## Cross-score"
   ]
  },
  {
   "cell_type": "code",
   "execution_count": null,
   "id": "133e4875-7e6e-4e0b-bf5d-94798ed09428",
   "metadata": {},
   "outputs": [],
   "source": [
    "fig, ax = plt.subplots(figsize=(12, 10))\n",
    "\n",
    "# Axes.scatter(x, y,...)\n",
    "scatter = ax.scatter(df[\"cross-score_m1\"], df[\"cross-score_m2\"], alpha=0.7)\n",
    "\n",
    "pearson_corr = stats.pearsonr(df[\"cross-score_m1\"], df[\"cross-score_m2\"]).statistic\n",
    "rounded_pearson_corr = round(pearson_corr, 3)\n",
    "\n",
    "ax.set_xlabel(\"cross-score model 1\")\n",
    "ax.set_ylabel(\"cross-score model 2\")\n",
    "\n",
    "ax.set_title(f\"Correlation of cross-scores between model 1 and 2; Pearson Correlation = {rounded_pearson_corr}\")\n",
    "\n",
    "plt.savefig(\"./plots/cross_score_corr_between_models.png\", bbox_inches=\"tight\")\n",
    "\n",
    "plt.show()"
   ]
  },
  {
   "cell_type": "markdown",
   "id": "9a2164fd-36ca-4bf5-a27a-47acb64cfa85",
   "metadata": {},
   "source": [
    "## Dot-score"
   ]
  },
  {
   "cell_type": "code",
   "execution_count": null,
   "id": "2b34eb33-41b7-4202-b5ca-bf5f4ebd19b6",
   "metadata": {},
   "outputs": [],
   "source": [
    "fig, ax = plt.subplots(figsize=(12, 10))\n",
    "\n",
    "# Axes.scatter(x, y,...)\n",
    "scatter = ax.scatter(df[\"dot-score_m1\"], df[\"dot-score_m2\"], alpha=0.7)\n",
    "\n",
    "pearson_corr = stats.pearsonr(df[\"dot-score_m1\"], df[\"dot-score_m2\"]).statistic\n",
    "rounded_pearson_corr = round(pearson_corr, 3)\n",
    "\n",
    "ax.set_xlabel(\"dot-score model 1\")\n",
    "ax.set_ylabel(\"dot-score model 2\")\n",
    "\n",
    "ax.set_title(f\"Correlation of dot-scores between model 1 and 2; Pearson Correlation = {rounded_pearson_corr}\")\n",
    "\n",
    "plt.show()"
   ]
  },
  {
   "cell_type": "markdown",
   "id": "466db8d1-962b-4e8b-a0a1-a1825c9b0fe9",
   "metadata": {},
   "source": [
    "## x-score"
   ]
  },
  {
   "cell_type": "code",
   "execution_count": null,
   "id": "51583cab-222f-49ac-9a8b-50da75ddaff5",
   "metadata": {},
   "outputs": [],
   "source": [
    "fig, ax = plt.subplots(figsize=(12, 10))\n",
    "\n",
    "# Axes.scatter(x, y,...)\n",
    "scatter = ax.scatter(df[\"x-score_m1\"], df[\"x-score_m2\"], alpha=0.7)\n",
    "\n",
    "pearson_corr = stats.pearsonr(df[\"x-score_m1\"], df[\"x-score_m2\"]).statistic\n",
    "rounded_pearson_corr = round(pearson_corr, 3)\n",
    "\n",
    "ax.set_xlabel(\"x-score model 1\")\n",
    "ax.set_ylabel(\"x-score model 2\")\n",
    "\n",
    "ax.set_title(f\"Correlation of x-scores between model 1 and 2; Pearson Correlation = {rounded_pearson_corr}\")\n",
    "\n",
    "plt.show()"
   ]
  },
  {
   "cell_type": "markdown",
   "id": "573f7115-5ec9-450a-934a-88a7c107b494",
   "metadata": {},
   "source": [
    "# Correlations between scores"
   ]
  },
  {
   "cell_type": "code",
   "execution_count": null,
   "id": "8ecd6320-4d7b-49d4-bbdd-78eab0e19321",
   "metadata": {},
   "outputs": [],
   "source": [
    "col_names_avg = [col_name + \"_avg\" for col_name in col_names]"
   ]
  },
  {
   "cell_type": "code",
   "execution_count": null,
   "id": "61cdbf01-c346-42c2-8415-e1d567c53641",
   "metadata": {},
   "outputs": [],
   "source": [
    "nr_scores = len(col_names)\n",
    "core_corr_array = np.zeros((nr_scores, nr_scores))\n",
    "\n",
    "fig, axs = plt.subplots(nr_scores, nr_scores, figsize=(15, 15), layout=\"constrained\")\n",
    "\n",
    "for score_index_x in range(nr_scores):\n",
    "    for score_index_y in range(nr_scores):\n",
    "        if score_index_y >= score_index_x:\n",
    "            \n",
    "            x = df[col_names_avg[score_index_x]]\n",
    "            y = df[col_names_avg[score_index_y]]\n",
    "            \n",
    "            pearson_corr = stats.pearsonr(x, y).statistic\n",
    "            rounded_pearson_corr = round(pearson_corr, 3)\n",
    "            \n",
    "            axs[score_index_x, score_index_y].scatter(x, y)\n",
    "            core_corr_array[score_index_x, score_index_y] += rounded_pearson_corr\n",
    "\n",
    "cols = rows = [score for score in col_names]\n",
    "\n",
    "for ax, col in zip(axs[0], cols):\n",
    "    ax.set_title(col, size=11)\n",
    "\n",
    "for ax, row in zip(axs[:, 0],rows,):\n",
    "    ax.set_ylabel(row, rotation=90, fontsize=11, labelpad=10)"
   ]
  },
  {
   "cell_type": "code",
   "execution_count": null,
   "id": "b018e9b9-14aa-400b-aa98-14dd4e4969a4",
   "metadata": {},
   "outputs": [],
   "source": [
    "core_corr_array"
   ]
  },
  {
   "cell_type": "markdown",
   "id": "9f552f44-f14c-4c92-ba25-0292fcac7cf7",
   "metadata": {},
   "source": [
    "# Plotting mismatch-strand sites"
   ]
  },
  {
   "cell_type": "code",
   "execution_count": null,
   "id": "8cd86a65-766b-4d00-bdce-12aafb47457e",
   "metadata": {},
   "outputs": [],
   "source": [
    "mismatch_ids = []\n",
    "\n",
    "with open(\"./mismatched_ids.txt\", \"r\") as input:\n",
    "    for line in input:\n",
    "        mismatch_ids.append(int(line.strip()))"
   ]
  },
  {
   "cell_type": "code",
   "execution_count": null,
   "id": "b1556f1a-e015-49c2-872d-9e6612a562e9",
   "metadata": {},
   "outputs": [],
   "source": [
    "fig, ax = plt.subplots(figsize=(12, 10))\n",
    "\n",
    "# Axes.scatter(x, y,...)\n",
    "scatter = ax.scatter(df[\"boSCD_avg\"], df[\"cross-score_avg\"], c = \"gray\", alpha=0.3)\n",
    "scatter = ax.scatter(df[\"boSCD_avg\"].iloc[mismatch_ids], df[\"cross-score_avg\"].iloc[mismatch_ids], c=\"red\")\n",
    "\n",
    "ax.set_xlabel(\"boundary SCD\")\n",
    "ax.set_ylabel(\"cross dot score\")\n",
    "\n",
    "ax.set_title(\"Boundary-SCD vs. cross-score\")\n",
    "\n",
    "plt.show()"
   ]
  },
  {
   "cell_type": "markdown",
   "id": "191747fa-13ae-4274-8b08-a582f5d29e98",
   "metadata": {},
   "source": [
    "# Picking a random set of points to plot them"
   ]
  },
  {
   "cell_type": "code",
   "execution_count": null,
   "id": "4ef08896-15d7-4ce2-b119-81398b19d09f",
   "metadata": {},
   "outputs": [],
   "source": [
    "sample = [480, 1060, 3885, 7070, 210, 1260, 5110, 7175, 5313, 7546, 2956, 1189, 2006]"
   ]
  },
  {
   "cell_type": "code",
   "execution_count": null,
   "id": "ca27ac7c-d686-4be2-9cbd-11a797bb8455",
   "metadata": {},
   "outputs": [],
   "source": [
    "df.columns"
   ]
  },
  {
   "cell_type": "code",
   "execution_count": null,
   "id": "ea3727d4-4423-49d0-a821-b77c13047bbc",
   "metadata": {},
   "outputs": [],
   "source": [
    "fig, ax = plt.subplots(figsize=(12, 10))\n",
    "\n",
    "# Axes.scatter(x, y,...)\n",
    "scatter = ax.scatter(df[\"boSCD_avg\"], df[\"cross-score_avg\"], c = \"gray\", alpha=0.3)\n",
    "scatter = ax.scatter(df[\"boSCD_avg\"].iloc[sample], df[\"cross-score_avg\"].iloc[sample], c=\"red\")\n",
    "\n",
    "for sample_id in sample:\n",
    "    plt.text(df[\"boSCD_avg\"].iloc[sample_id]+0.35, df[\"cross-score_avg\"].iloc[sample_id]-0.01, df.seq_id.iloc[sample_id], horizontalalignment='left', color='black')\n",
    "\n",
    "ax.set_xlabel(\"boundary SCD\")\n",
    "ax.set_ylabel(\"cross dot score\")\n",
    "\n",
    "ax.set_title(\"Boundary-SCD vs. cross-score\")\n",
    "\n",
    "plt.show()"
   ]
  },
  {
   "cell_type": "code",
   "execution_count": null,
   "id": "cc7da175-1714-48ca-a508-c32f8d39598f",
   "metadata": {},
   "outputs": [],
   "source": []
  }
 ],
 "metadata": {
  "kernelspec": {
   "display_name": "Basenji kernel",
   "language": "python",
   "name": "basenji_kernel"
  },
  "language_info": {
   "codemirror_mode": {
    "name": "ipython",
    "version": 3
   },
   "file_extension": ".py",
   "mimetype": "text/x-python",
   "name": "python",
   "nbconvert_exporter": "python",
   "pygments_lexer": "ipython3",
   "version": "3.8.12"
  }
 },
 "nbformat": 4,
 "nbformat_minor": 5
}
