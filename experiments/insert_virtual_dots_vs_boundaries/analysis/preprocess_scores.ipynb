{
 "cells": [
  {
   "cell_type": "code",
   "execution_count": 1,
   "id": "953c0016-8faf-429d-ada0-350d1e6e40f5",
   "metadata": {},
   "outputs": [],
   "source": [
    "import pandas as pd\n",
    "import pysam\n",
    "import numpy as np\n",
    "import akita_utils\n",
    "import h5py\n",
    "from scipy import stats\n",
    "\n",
    "from akita_utils.utils import ut_dense\n",
    "from akita_utils.format_io import h5_to_df\n",
    "\n",
    "import matplotlib.pyplot as plt\n",
    "import seaborn as sns"
   ]
  },
  {
   "cell_type": "markdown",
   "id": "90e3cd99-22eb-485a-91c2-99b3e7d51ce0",
   "metadata": {},
   "source": [
    "## Getting all the scores in one place"
   ]
  },
  {
   "cell_type": "code",
   "execution_count": 2,
   "id": "f8f4416d-53ae-4960-a46b-4a5c75d60531",
   "metadata": {},
   "outputs": [],
   "source": [
    "def add_scores(stats, h5_path, df_to_extend=None, model_index=None):\n",
    "\n",
    "    \"\"\"\n",
    "    Extracts specified statistics from an HDF5 file and adds them to a DataFrame for analysis.\n",
    "\n",
    "    This function reads statistics from the specified HDF5 file and maps them to specific column names\n",
    "    based on the provided model index and the type of experiment (boundary or dot). The extracted statistics\n",
    "    are added to the input DataFrame (if provided) or a new DataFrame is created. The column names for the\n",
    "    added statistics are generated using the model index and the provided statistics.\n",
    "\n",
    "    Parameters:\n",
    "    - stats (list of str): Names of statistics to be extracted from the HDF5 file.\n",
    "    - h5_path (str): Path to the HDF5 file containing the statistics data.\n",
    "    - df_to_extend (pd.DataFrame, optional): DataFrame to which the extracted statistics will be added.\n",
    "      If None, a new DataFrame will be created. Default is None.\n",
    "    - model_index (int, optional): Index of the model used for the experiment. If None, the function extracts\n",
    "      the model index from the path to the HDF5 file. Default is None.\n",
    "\n",
    "    Returns:\n",
    "    pd.DataFrame: DataFrame containing the extracted statistics mapped to specific column names.\n",
    "    \"\"\"\n",
    "    \n",
    "    if model_index == None:\n",
    "        # Extract model index from the directory name in the path\n",
    "        # it is assumed that the name of directory ends with \"_m{model_index}\"\n",
    "        model_index = int(h5_path.split(\"/\")[-2].split(\"_\")[-1][-1])\n",
    "        \n",
    "    # Creating column names based on experiment type and model index\n",
    "    if len(stats) == 1 and stats[0] == \"SCD\":\n",
    "        # it's boundary experiment\n",
    "        column_names = [f\"boSCD_m{model_index}\"]\n",
    "    else:\n",
    "        # it's dot experiment\n",
    "        column_names = []\n",
    "        for dot_stat in dot_stats:\n",
    "            if dot_stat == \"SCD\":\n",
    "                column_names.append(f\"dotSCD_m{model_index}\")\n",
    "            else:\n",
    "                column_names.append(f\"{dot_stat}_m{model_index}\")\n",
    "\n",
    "    # Mapping statistics to column names\n",
    "    column_mapper = dict(zip(stats, column_names))\n",
    "\n",
    "    # Extract statistics from the HDF5 file and rename columns\n",
    "    df = h5_to_df(h5_path, stats) \n",
    "    df = df.rename(columns=column_mapper)\n",
    "\n",
    "    # Add extracted statistics to the input DataFrame or create a new DataFrame\n",
    "    if type(df_to_extend) == pd.core.frame.DataFrame:\n",
    "        for column_name in column_names:\n",
    "            df_to_extend[column_name] = df[column_name]\n",
    "        return df_to_extend\n",
    "    else:\n",
    "        return df"
   ]
  },
  {
   "cell_type": "code",
   "execution_count": 3,
   "id": "836ad231-2cc6-4650-83fe-41d37c17a59b",
   "metadata": {},
   "outputs": [],
   "source": [
    "summary_dict = {\"1\" : {\"dot_path\" : \"/scratch2/smaruj/all_dots_vs_boundaries/dots_all_motifs_m1/STATS_OUT.h5\",\n",
    "                       \"boundary_path\" : \"/scratch2/smaruj/all_dots_vs_boundaries/boundaries_all_motifs_m1/STATS_OUT.h5\"},\n",
    "                \"2\" : {\"dot_path\" : \"/scratch2/smaruj/all_dots_vs_boundaries/dots_all_motifs_m2/STATS_OUT.h5\",\n",
    "                       \"boundary_path\" : \"/scratch2/smaruj/all_dots_vs_boundaries/boundaries_all_motifs_m2/STATS_OUT.h5\"}}"
   ]
  },
  {
   "cell_type": "code",
   "execution_count": 4,
   "id": "3f70984a-4a7d-4ad5-ba64-f4dfb6095c47",
   "metadata": {},
   "outputs": [],
   "source": [
    "dot_stats = [\"SCD\", \"dot-score\", \"cross-score\", \"x-score\"]\n",
    "boundary_stats =[\"SCD\"] "
   ]
  },
  {
   "cell_type": "code",
   "execution_count": 5,
   "id": "b9318abb-9ae4-478e-9119-fc2909b453f4",
   "metadata": {},
   "outputs": [],
   "source": [
    "df = add_scores(dot_stats, summary_dict[\"1\"][\"dot_path\"])\n",
    "df = add_scores(boundary_stats, summary_dict[\"1\"][\"boundary_path\"], df_to_extend=df)\n",
    "df = add_scores(dot_stats, summary_dict[\"2\"][\"dot_path\"], df_to_extend=df)\n",
    "df = add_scores(boundary_stats, summary_dict[\"2\"][\"boundary_path\"], df_to_extend=df)"
   ]
  },
  {
   "cell_type": "code",
   "execution_count": null,
   "id": "024300ed-54ba-4b5f-bff9-84528ccbe0c4",
   "metadata": {},
   "outputs": [],
   "source": [
    "# df.to_csv(\"./ctcf_tsv/filtered_base_mouse_ctcf_scored.tsv\", sep = \"\\t\", index=False)"
   ]
  },
  {
   "cell_type": "markdown",
   "id": "351c675b-2b79-402c-991e-cd3a1f44b150",
   "metadata": {},
   "source": [
    "## Averaging over background sequences"
   ]
  },
  {
   "cell_type": "code",
   "execution_count": 6,
   "id": "69c45e8f-a5f6-4085-82db-d9777c24d4f9",
   "metadata": {},
   "outputs": [],
   "source": [
    "summary_df = pd.read_table(\"./../ctcf_tsv/filtered_base_mouse_ctcf.tsv\", sep=\"\\t\")\n",
    "nr_sites = len(summary_df)\n",
    "background_indices = list(df.background_index.unique())\n",
    "col_names = [\"boSCD\", \"dotSCD\", \"dot-score\", \"cross-score\", \"x-score\"]"
   ]
  },
  {
   "cell_type": "code",
   "execution_count": 7,
   "id": "04ed8e77-2fac-4f2f-bff3-acec15f6c286",
   "metadata": {},
   "outputs": [
    {
     "name": "stdout",
     "output_type": "stream",
     "text": [
      "Averaging over backgrounds for model 1\n",
      "\t- boSCD_m1\n",
      "\t- dotSCD_m1\n",
      "\t- dot-score_m1\n",
      "\t- cross-score_m1\n",
      "\t- x-score_m1\n",
      "Averaging over backgrounds for model 2\n",
      "\t- boSCD_m2\n",
      "\t- dotSCD_m2\n",
      "\t- dot-score_m2\n",
      "\t- cross-score_m2\n",
      "\t- x-score_m2\n"
     ]
    }
   ],
   "source": [
    "for model in summary_dict:\n",
    "    print(\"Averaging over backgrounds for model\", model)\n",
    "    \n",
    "    for score in col_names:\n",
    "        summary_score_array = np.zeros((nr_sites, ))\n",
    "        score_column = f\"{score}_m{model}\"\n",
    "        print(\"\\t-\", score_column)\n",
    "\n",
    "        for background_i in background_indices:\n",
    "            summary_score_array += np.array(df[df[\"background_index\"] == background_i][score_column])\n",
    "    \n",
    "        summary_df[score_column] = summary_score_array / len(background_indices)"
   ]
  },
  {
   "cell_type": "code",
   "execution_count": 9,
   "id": "50d3ac54-1b8e-4991-b0bc-559f052202ad",
   "metadata": {},
   "outputs": [],
   "source": [
    "# summary_df"
   ]
  },
  {
   "cell_type": "code",
   "execution_count": null,
   "id": "7210a73f-4529-4d83-aefe-b495879baed0",
   "metadata": {},
   "outputs": [],
   "source": [
    "# summary_df.to_csv(\"./../ctcf_tsv/filtered_base_mouse_ctcf_scored_and_averaged.tsv\", sep = \"\\t\", index=False)"
   ]
  },
  {
   "cell_type": "code",
   "execution_count": null,
   "id": "f25d1bfb-f534-4de5-9129-46badb004c09",
   "metadata": {},
   "outputs": [],
   "source": []
  }
 ],
 "metadata": {
  "kernelspec": {
   "display_name": "Basenji kernel",
   "language": "python",
   "name": "basenji_kernel"
  },
  "language_info": {
   "codemirror_mode": {
    "name": "ipython",
    "version": 3
   },
   "file_extension": ".py",
   "mimetype": "text/x-python",
   "name": "python",
   "nbconvert_exporter": "python",
   "pygments_lexer": "ipython3",
   "version": "3.8.12"
  }
 },
 "nbformat": 4,
 "nbformat_minor": 5
}
