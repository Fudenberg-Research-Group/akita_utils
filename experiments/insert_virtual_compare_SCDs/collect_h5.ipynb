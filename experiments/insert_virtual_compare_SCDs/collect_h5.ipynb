{
 "cells": [
  {
   "cell_type": "code",
   "execution_count": 1,
   "id": "3e5784dc-21dc-4c81-b8df-9b8cbb6dd650",
   "metadata": {},
   "outputs": [],
   "source": [
    "import h5py\n",
    "import numpy as np\n",
    "import pandas as pd\n",
    "\n",
    "import matplotlib.pyplot as plt\n",
    "import seaborn as sns\n",
    "\n",
    "from akita_utils.utils import ut_dense"
   ]
  },
  {
   "cell_type": "code",
   "execution_count": 2,
   "id": "ecaa3495-e115-4eaf-8e53-88c1afc6b5c2",
   "metadata": {},
   "outputs": [],
   "source": [
    "def get_map(predicted_vector, diagonal_offset=2):\n",
    "\n",
    "    \"\"\"\n",
    "    Created a 512x512 map representating changes in the DNA contacts.\n",
    "\n",
    "    Parameters\n",
    "    ------------\n",
    "    predicted_vector : numpy vector\n",
    "        Akita's output.\n",
    "    diagonal_offset : int\n",
    "        Model's parameter.\n",
    "\n",
    "    Returns\n",
    "    ---------\n",
    "    matrix : numpy matrix\n",
    "        512x512 map\n",
    "    \"\"\"\n",
    "\n",
    "    matrix = ut_dense(np.expand_dims(predicted_vector, 1), diagonal_offset)\n",
    "    matrix = np.squeeze(matrix, axis=2)\n",
    "\n",
    "    return matrix"
   ]
  },
  {
   "cell_type": "code",
   "execution_count": 3,
   "id": "0bf0dc2b-26df-48d1-9ed0-61771b8234f0",
   "metadata": {},
   "outputs": [],
   "source": [
    "def plot_map(matrix, vmin=-0.6, vmax=0.6, width=5, height=5, palette=\"RdBu_r\"):\n",
    "\n",
    "    \"\"\"\n",
    "    Plots a 512x512 map representating changes in the DNA contacts.\n",
    "\n",
    "    Parameters\n",
    "    ------------\n",
    "    matrix : numpy array\n",
    "        Changes in DNA contacts.\n",
    "    vmin : float\n",
    "    vmax : float\n",
    "        Minimum and maximum in the colormap scale.\n",
    "    width : int\n",
    "    height : int\n",
    "        Width and height of a plotted map.\n",
    "    \"\"\"\n",
    "\n",
    "    fig = plt.figure(figsize=(width, height))\n",
    "\n",
    "    sns.heatmap(\n",
    "        matrix,\n",
    "        vmin=vmin,\n",
    "        vmax=vmax,\n",
    "        cbar=False,\n",
    "        cmap=palette,\n",
    "        square=True,\n",
    "        xticklabels=False,\n",
    "        yticklabels=False,\n",
    "    )\n",
    "    plt.show()"
   ]
  },
  {
   "cell_type": "code",
   "execution_count": 4,
   "id": "d228bd3b-3d42-43f6-9a62-f621f7aca875",
   "metadata": {},
   "outputs": [],
   "source": [
    "out_dir = \"TEST\"\n",
    "stat_file_name = \"STATS_OUT.h5\"\n",
    "maps_file_name = \"MAPS_OUT.h5\"\n",
    "num_procs = 2"
   ]
  },
  {
   "cell_type": "code",
   "execution_count": null,
   "id": "45a27e1b-d811-49b4-a665-98e087624695",
   "metadata": {},
   "outputs": [],
   "source": [
    "hf = h5py.File(f\"{out_dir}/job0/{stat_file_name}\", \"r\")\n",
    "\n",
    "for key in hf:\n",
    "    print(key, hf[key].shape)"
   ]
  },
  {
   "cell_type": "code",
   "execution_count": null,
   "id": "f97e3c91-4ffe-4591-8b1e-a16bcba57387",
   "metadata": {},
   "outputs": [],
   "source": [
    "hf[\"SCD_h1_m0_t3\"][9]"
   ]
  },
  {
   "cell_type": "code",
   "execution_count": null,
   "id": "f1b3f9c3-2e13-476e-b3bd-c49a3d33f5e3",
   "metadata": {},
   "outputs": [],
   "source": [
    "get_map(hf[\"SCD_h1_m0_t3\"][0,:,0])"
   ]
  },
  {
   "cell_type": "code",
   "execution_count": null,
   "id": "c605f175-aad9-4cdc-9c48-c469802d16ab",
   "metadata": {},
   "outputs": [],
   "source": [
    "hf = h5py.File(\"TEST/job0/OUT.h5\", \"r\")\n",
    "\n",
    "for key in hf:\n",
    "    print(key, hf[key].shape)\n"
   ]
  },
  {
   "cell_type": "code",
   "execution_count": null,
   "id": "7866f1a0-bb99-4131-bdf0-0c67995fd1db",
   "metadata": {},
   "outputs": [],
   "source": [
    "for key in hf.attrs.keys():\n",
    "    print(key, hf.attrs[key])"
   ]
  },
  {
   "cell_type": "code",
   "execution_count": null,
   "id": "53dccf54-1004-4eeb-820c-2fb52c624ebf",
   "metadata": {},
   "outputs": [],
   "source": [
    "for i in range(6):\n",
    "    print(f\"background {i}\")\n",
    "    plot_map(hf[\"refmap_h1_m0\"][0,:,:,i])"
   ]
  },
  {
   "cell_type": "code",
   "execution_count": null,
   "id": "77d0ec66-1ae9-4891-94e2-eb268dc94f44",
   "metadata": {},
   "outputs": [],
   "source": [
    "hf[\"map_h1_m0\"][0,:,:,0]"
   ]
  },
  {
   "cell_type": "code",
   "execution_count": 5,
   "id": "97932aae-476a-4e89-9b58-4ecf622c7b4a",
   "metadata": {},
   "outputs": [],
   "source": [
    "def collect_h5(file_name, out_dir, num_procs):\n",
    "    \n",
    "    # count variants\n",
    "    num_variants = 0\n",
    "    for pi in range(num_procs):\n",
    "        # open job\n",
    "        job_h5_file = \"%s/job%d/%s\" % (out_dir, pi, file_name)\n",
    "        job_h5_open = h5py.File(job_h5_file, \"r\")\n",
    "        num_variants += len(job_h5_open[\"chrom\"])\n",
    "        job_h5_open.close()\n",
    "    \n",
    "    print(\"num_variants: \", num_variants)\n",
    "    \n",
    "    # initialize final h5\n",
    "    final_h5_file = \"%s/%s\" % (out_dir, file_name)\n",
    "    final_h5_open = h5py.File(final_h5_file, \"w\")\n",
    "\n",
    "    job0_h5_file = \"%s/job0/%s\" % (out_dir, file_name)\n",
    "    job0_h5_open = h5py.File(job0_h5_file, \"r\")\n",
    "    for key in job0_h5_open.keys():\n",
    "        \n",
    "        if job0_h5_open[key].ndim == 1:\n",
    "            final_h5_open.create_dataset(\n",
    "                key, shape=(num_variants,), dtype=job0_h5_open[key].dtype\n",
    "            )\n",
    "            \n",
    "        elif job0_h5_open[key].ndim == 3:\n",
    "            \n",
    "            if key.split(\"_\")[0] == \"map\":\n",
    "                _, prediction_vector_length, num_targets = job0_h5_open[key].shape\n",
    "\n",
    "                final_h5_open.create_dataset(\n",
    "                    key, shape=(num_variants, prediction_vector_length, num_targets), dtype=job0_h5_open[key].dtype\n",
    "                )\n",
    "            else:\n",
    "                num_backgrounds, prediction_vector_length, num_targets = job0_h5_open[key].shape\n",
    "\n",
    "                final_h5_open.create_dataset(\n",
    "                    key, shape=(num_backgrounds, prediction_vector_length, num_targets), dtype=job0_h5_open[key].dtype\n",
    "                )\n",
    "\n",
    "    job0_h5_open.close()\n",
    "\n",
    "    # set values\n",
    "    vi = 0\n",
    "    for pi in range(num_procs):\n",
    "        print(\"collecting job\", pi)\n",
    "        # open job\n",
    "        job_h5_file = \"%s/job%d/%s\" % (out_dir, pi, file_name)\n",
    "        job_h5_open = h5py.File(job_h5_file, \"r\")\n",
    "\n",
    "        # append to final\n",
    "        for key in job_h5_open.keys():\n",
    "\n",
    "            job_variants = job_h5_open[key].shape[0]\n",
    "            \n",
    "            if job_h5_open[key].ndim == 1:\n",
    "                final_h5_open[key][vi : vi + job_variants] = job_h5_open[key]\n",
    "\n",
    "            elif job_h5_open[key].ndim == 3:\n",
    "            \n",
    "                if key.split(\"_\")[0] == \"map\":\n",
    "                    final_h5_open[key][vi : vi + job_variants, :, :] = job_h5_open[key]\n",
    "\n",
    "                else:\n",
    "                    num_backgrounds, _, _ = job_h5_open[key].shape\n",
    "                    final_h5_open[key][:num_backgrounds, :, :] = job_h5_open[key]\n",
    "            \n",
    "        vi += job_variants\n",
    "        job_h5_open.close()\n",
    "            \n",
    "    final_h5_open.close()"
   ]
  },
  {
   "cell_type": "code",
   "execution_count": 6,
   "id": "7c4e7a06-3bd2-4c49-a976-90c9bd11db8d",
   "metadata": {},
   "outputs": [
    {
     "name": "stdout",
     "output_type": "stream",
     "text": [
      "num_variants:  20\n",
      "collecting job 0\n",
      "collecting job 1\n"
     ]
    }
   ],
   "source": [
    "collect_h5(stat_file_name, out_dir, num_procs)"
   ]
  },
  {
   "cell_type": "code",
   "execution_count": 7,
   "id": "ae5411e3-8fdc-4c2c-9677-54a454cbc324",
   "metadata": {},
   "outputs": [
    {
     "name": "stdout",
     "output_type": "stream",
     "text": [
      "num_variants:  20\n",
      "collecting job 0\n",
      "collecting job 1\n"
     ]
    }
   ],
   "source": [
    "collect_h5(maps_file_name, out_dir, num_procs)"
   ]
  },
  {
   "cell_type": "code",
   "execution_count": null,
   "id": "109b608c-f87b-46cd-8fb8-da4729470abb",
   "metadata": {},
   "outputs": [],
   "source": []
  },
  {
   "cell_type": "code",
   "execution_count": null,
   "id": "1daa75a6-03ad-401a-9951-eab4872d61c7",
   "metadata": {},
   "outputs": [],
   "source": []
  },
  {
   "cell_type": "code",
   "execution_count": null,
   "id": "1a06af3a-03a3-4272-8b58-d07430e1e304",
   "metadata": {},
   "outputs": [],
   "source": []
  },
  {
   "cell_type": "code",
   "execution_count": null,
   "id": "5457312a-914e-433d-8d88-30ac5e30e2fd",
   "metadata": {},
   "outputs": [],
   "source": []
  },
  {
   "cell_type": "code",
   "execution_count": null,
   "id": "4e263dd5-cd51-487e-bdc0-ec545bee6545",
   "metadata": {},
   "outputs": [],
   "source": []
  },
  {
   "cell_type": "code",
   "execution_count": null,
   "id": "6aa3ed65-1404-4db5-8a11-da4f92275f79",
   "metadata": {},
   "outputs": [],
   "source": []
  },
  {
   "cell_type": "code",
   "execution_count": null,
   "id": "3462250f-dae3-4ba6-9d28-146bda37f9ad",
   "metadata": {},
   "outputs": [],
   "source": [
    "final_h5_file = \"%s/%s\" % (out_dir, file_name)\n",
    "print(final_h5_file)"
   ]
  },
  {
   "cell_type": "code",
   "execution_count": 8,
   "id": "270f5e71-f638-4fc7-9d06-6f2f8c7f08d0",
   "metadata": {},
   "outputs": [
    {
     "name": "stdout",
     "output_type": "stream",
     "text": [
      "SCD_h1_m0_t0 (20,) 40.75 21.64\n",
      "SCD_h1_m0_t1 (20,) 48.7 17.66\n",
      "SCD_h1_m0_t2 (20,) 52.94 50.84\n",
      "SCD_h1_m0_t3 (20,) 51.16 53.38\n",
      "SCD_h1_m0_t4 (20,) 52.4 42.34\n",
      "SCD_h1_m0_t5 (20,) 46.94 41.38\n",
      "background_index (20,) 0 0\n",
      "chrom (20,) b'chr2' b'chr13'\n",
      "diffSCD_h1_m0_t0 (20,) 32.56 0.217\n",
      "diffSCD_h1_m0_t1 (20,) 40.66 0.1921\n",
      "diffSCD_h1_m0_t2 (20,) 22.83 0.1729\n",
      "diffSCD_h1_m0_t3 (20,) 21.83 0.1624\n",
      "diffSCD_h1_m0_t4 (20,) 27.55 0.1615\n",
      "diffSCD_h1_m0_t5 (20,) 21.39 0.1456\n",
      "end (20,) 48886271 109771775\n",
      "experiment_id (20,) 0 19\n",
      "flank_bp (20,) 0 0\n",
      "genomic_SCD (20,) 53.7 0.063\n",
      "orientation (20,) b'<<' b'<<'\n",
      "spacer_bp (20,) 90 90\n",
      "start (20,) 48886252 109771756\n",
      "strand (20,) b'-' b'+'\n"
     ]
    }
   ],
   "source": [
    "hf_collected = h5py.File(\"TEST/STATS_OUT.h5\", \"r\")\n",
    "\n",
    "for key in hf_collected:\n",
    "    # print(key, hf_collected[key].shape)\n",
    "    print(key, hf_collected[key].shape, hf_collected[key][0], hf_collected[key][-1])"
   ]
  },
  {
   "cell_type": "code",
   "execution_count": 9,
   "id": "3eda113c-e0d0-4575-ad88-8a5101f55132",
   "metadata": {},
   "outputs": [
    {
     "name": "stdout",
     "output_type": "stream",
     "text": [
      "background_index (20,)\n",
      "chrom (20,)\n",
      "end (20,)\n",
      "experiment_id (20,)\n",
      "flank_bp (20,)\n",
      "genomic_SCD (20,)\n",
      "map_h1_m0 (20, 130305, 6)\n",
      "orientation (20,)\n",
      "refmap_h1_m0 (1, 130305, 6)\n",
      "spacer_bp (20,)\n",
      "start (20,)\n",
      "strand (20,)\n"
     ]
    }
   ],
   "source": [
    "hf_collected = h5py.File(\"TEST/MAPS_OUT.h5\", \"r\")\n",
    "\n",
    "for key in hf_collected:\n",
    "    print(key, hf_collected[key].shape)\n",
    "    # print(key, hf_collected[key].shape, hf_collected[key][0], hf_collected[key][-1])"
   ]
  },
  {
   "cell_type": "code",
   "execution_count": 13,
   "id": "cf9177ed-d11f-4067-8194-9576b6d31353",
   "metadata": {},
   "outputs": [],
   "source": [
    "# plot_map(get_map(hf_collected[\"map_h1_m0\"][0,:,0]))"
   ]
  },
  {
   "cell_type": "code",
   "execution_count": null,
   "id": "dc7f7707-c311-4ceb-8894-14e9f491ecde",
   "metadata": {},
   "outputs": [],
   "source": []
  },
  {
   "cell_type": "code",
   "execution_count": null,
   "id": "08901690-0894-469c-9ac2-71b9d94ca381",
   "metadata": {},
   "outputs": [],
   "source": []
  },
  {
   "cell_type": "code",
   "execution_count": null,
   "id": "3f70d2eb-f82c-41ed-9a69-054cb7e7d437",
   "metadata": {},
   "outputs": [],
   "source": [
    "def plot_map(matrix, vmin=-0.6, vmax=0.6, width=5, height=5, palette=\"RdBu_r\"):\n",
    "\n",
    "    \"\"\"\n",
    "    Plots a 512x512 map representating changes in the DNA contacts.\n",
    "\n",
    "    Parameters\n",
    "    ------------\n",
    "    matrix : numpy array\n",
    "        Changes in DNA contacts.\n",
    "    vmin : float\n",
    "    vmax : float\n",
    "        Minimum and maximum in the colormap scale.\n",
    "    width : int\n",
    "    height : int\n",
    "        Width and height of a plotted map.\n",
    "    \"\"\"\n",
    "\n",
    "    fig = plt.figure(figsize=(width, height))\n",
    "\n",
    "    sns.heatmap(\n",
    "        matrix,\n",
    "        vmin=vmin,\n",
    "        vmax=vmax,\n",
    "        cbar=False,\n",
    "        cmap=palette,\n",
    "        square=True,\n",
    "        xticklabels=False,\n",
    "        yticklabels=False,\n",
    "    )\n",
    "    plt.show()"
   ]
  },
  {
   "cell_type": "code",
   "execution_count": null,
   "id": "562dc31a-0ee5-4c61-8032-f1df58c24712",
   "metadata": {},
   "outputs": [],
   "source": [
    "for i in range(5):\n",
    "    mapa = hf_collected[\"refmap_h1_m0\"][0,:,:,i]\n",
    "    print(i)\n",
    "    plot_map(mapa)"
   ]
  },
  {
   "cell_type": "code",
   "execution_count": null,
   "id": "a951997c-4445-4dc6-9716-3f04e04ff8ed",
   "metadata": {},
   "outputs": [],
   "source": [
    "plot_map(hf_collected[\"map_h1_m0\"][10,:,:,3])"
   ]
  },
  {
   "cell_type": "code",
   "execution_count": null,
   "id": "abc760b0-68e4-4b4a-9c54-7e7cfa90e496",
   "metadata": {},
   "outputs": [],
   "source": []
  }
 ],
 "metadata": {
  "kernelspec": {
   "display_name": "Basenji kernel",
   "language": "python",
   "name": "basenji_kernel"
  },
  "language_info": {
   "codemirror_mode": {
    "name": "ipython",
    "version": 3
   },
   "file_extension": ".py",
   "mimetype": "text/x-python",
   "name": "python",
   "nbconvert_exporter": "python",
   "pygments_lexer": "ipython3",
   "version": "3.8.12"
  }
 },
 "nbformat": 4,
 "nbformat_minor": 5
}
